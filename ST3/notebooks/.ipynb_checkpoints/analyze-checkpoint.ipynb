{
 "cells": [
  {
   "cell_type": "code",
   "execution_count": 105,
   "metadata": {},
   "outputs": [],
   "source": [
    "import os\n",
    "import json\n",
    "import random\n",
    "from itertools import combinations as comb\n",
    "from transformers import AutoTokenizer\n",
    "import torch"
   ]
  },
  {
   "cell_type": "code",
   "execution_count": 49,
   "metadata": {},
   "outputs": [],
   "source": [
    "DATAPATH = \"../data/subtask3-coreference/en-train.json\"\n",
    "TRAINPATH= \"../data/subtask3-coreference/train.json\"\n",
    "TESTPATH = \"../data/subtask3-coreference/test.json\""
   ]
  },
  {
   "cell_type": "code",
   "execution_count": 50,
   "metadata": {},
   "outputs": [],
   "source": [
    "with open(DATAPATH,\"r\") as file:\n",
    "    docs = [json.loads(line) for line in file]"
   ]
  },
  {
   "cell_type": "code",
   "execution_count": 51,
   "metadata": {},
   "outputs": [
    {
     "name": "stdout",
     "output_type": "stream",
     "text": [
      "2.155765340525961\n",
      "2.234256926952141\n"
     ]
    }
   ],
   "source": [
    "!rm ../data/subtask3-coreference/train.json\n",
    "!rm ../data/subtask3-coreference/test.json\n",
    "\n",
    "random.seed(44)\n",
    "test_idx = random.sample(range(569),119)\n",
    "train_idx= [i for i in range(569) if i not in test_idx]\n",
    "\n",
    "with open(\"../data/subtask3-coreference/train.json\",\"a\") as file:\n",
    "    for line in list(map(docs.__getitem__,train_idx)):\n",
    "        json.dump(line,file)\n",
    "        file.write(\"\\n\")\n",
    "    file.close()\n",
    "    \n",
    "with open(\"../data/subtask3-coreference/test.json\",\"a\") as file:\n",
    "    for line in list(map(docs.__getitem__,test_idx)):\n",
    "        json.dump(line,file)\n",
    "        file.write(\"\\n\")\n",
    "    file.close()\n",
    "    \n",
    "for p in [TRAINPATH,TESTPATH]:\n",
    "    data,sents = parsedata(p)\n",
    "    codes,sents= createpairs(data,sents)\n",
    "    data = pd.DataFrame(codes,columns=[1,2,3,\"label\"])\n",
    "    print(dict(data.label.value_counts())[1]/dict(data.label.value_counts())[0])"
   ]
  },
  {
   "cell_type": "code",
   "execution_count": 52,
   "metadata": {},
   "outputs": [],
   "source": [
    "def parsedata(path):\n",
    "    data = {}\n",
    "    sents= {}\n",
    "    with open(path,\"r\") as file:\n",
    "        for line in file:\n",
    "            doc = json.loads(line) \n",
    "            doc_id    = str(doc[\"id\"])\n",
    "            doc_events= [[doc_id+\"_\"+str(__) for __ in _] for _ in doc[\"event_clusters\"]]\n",
    "            doc_sentno= [doc_id+\"_\"+str(_) for _ in doc[\"sentence_no\"]]\n",
    "            for sentno,sent in zip(doc_sentno,doc[\"sentences\"]):\n",
    "                 sents[sentno]=sent\n",
    "            data[doc_id]={\"events\":doc_events,\"sents\":doc_sentno}\n",
    "    return data,sents"
   ]
  },
  {
   "cell_type": "code",
   "execution_count": 53,
   "metadata": {},
   "outputs": [],
   "source": [
    "random.seed(44)\n",
    "def createpairs(data,sents,cross=False,ratio=None):\n",
    "    allpairs_code = []\n",
    "    positive = []\n",
    "    pair_idx = {}\n",
    "    for doc in data:\n",
    "        allpairs_code+=list(map(list,comb(sorted(data[doc][\"sents\"]),2)))\n",
    "        positive+=sum([list(map(list,list(comb(sorted(_),2)))) for _ in data[doc][\"events\"]],[])\n",
    "    for idx,p in enumerate(allpairs_code):\n",
    "        pair_idx['_'.join(p)]=idx\n",
    "        allpairs_code[idx] = [idx]+p+[0.0]\n",
    "        \n",
    "    for p in positive:\n",
    "        index = pair_idx['_'.join(p)]\n",
    "        allpairs_code[index][-1] = 1.0\n",
    "        \n",
    "    if cross:\n",
    "        allpairs_code_ = [i[1:-1] for i in allpairs_code] \n",
    "        total_num = int(len(positive)/ratio)\n",
    "        missing_num = total_num-len(allpairs_code)+1\n",
    "        all_ = sorted(list(set([j for i in allpairs_code for j in i[1:-1]])))\n",
    "        all_p= list(map(list,(random.sample(list(comb(all_,2)),missing_num*2))))\n",
    "        counter = len(allpairs_code)\n",
    "        for i in all_p:\n",
    "            if i not in positive and i not in allpairs_code_:\n",
    "                allpairs_code.append([counter]+i+[0])\n",
    "                counter+=1\n",
    "            \n",
    "            if counter == total_num:\n",
    "                break\n",
    "                \n",
    "    allpairs_code = [[idx]+s[1:] for idx,s in enumerate(list(random.sample(allpairs_code,len(allpairs_code))))]\n",
    "    allpairs_sent = [[sents[i] for i in s[1:-1]]+s[-1:] for s in allpairs_code]\n",
    "    \n",
    "    \n",
    "    return allpairs_code,allpairs_sent"
   ]
  },
  {
   "cell_type": "code",
   "execution_count": 56,
   "metadata": {},
   "outputs": [],
   "source": [
    "random.seed(44)\n",
    "train_codes,train_sents=createpairs(*parsedata(TRAINPATH),True ,0.25)\n",
    "test_codes ,test_sents =createpairs(*parsedata(TESTPATH ),False,0.25)"
   ]
  },
  {
   "cell_type": "code",
   "execution_count": 57,
   "metadata": {
    "collapsed": true
   },
   "outputs": [
    {
     "data": {
      "text/html": [
       "<div>\n",
       "<style scoped>\n",
       "    .dataframe tbody tr th:only-of-type {\n",
       "        vertical-align: middle;\n",
       "    }\n",
       "\n",
       "    .dataframe tbody tr th {\n",
       "        vertical-align: top;\n",
       "    }\n",
       "\n",
       "    .dataframe thead th {\n",
       "        text-align: right;\n",
       "    }\n",
       "</style>\n",
       "<table border=\"1\" class=\"dataframe\">\n",
       "  <thead>\n",
       "    <tr style=\"text-align: right;\">\n",
       "      <th></th>\n",
       "      <th>index</th>\n",
       "      <th>sent1</th>\n",
       "      <th>sent2</th>\n",
       "      <th>label</th>\n",
       "    </tr>\n",
       "  </thead>\n",
       "  <tbody>\n",
       "    <tr>\n",
       "      <th>0</th>\n",
       "      <td>0</td>\n",
       "      <td>55474_1</td>\n",
       "      <td>55474_6</td>\n",
       "      <td>0.0</td>\n",
       "    </tr>\n",
       "    <tr>\n",
       "      <th>1</th>\n",
       "      <td>1</td>\n",
       "      <td>55165_1</td>\n",
       "      <td>55165_14</td>\n",
       "      <td>1.0</td>\n",
       "    </tr>\n",
       "    <tr>\n",
       "      <th>2</th>\n",
       "      <td>2</td>\n",
       "      <td>55349_3</td>\n",
       "      <td>55400_3</td>\n",
       "      <td>0.0</td>\n",
       "    </tr>\n",
       "    <tr>\n",
       "      <th>3</th>\n",
       "      <td>3</td>\n",
       "      <td>55057_1</td>\n",
       "      <td>55608_1</td>\n",
       "      <td>0.0</td>\n",
       "    </tr>\n",
       "    <tr>\n",
       "      <th>4</th>\n",
       "      <td>4</td>\n",
       "      <td>55225_11</td>\n",
       "      <td>55225_7</td>\n",
       "      <td>1.0</td>\n",
       "    </tr>\n",
       "    <tr>\n",
       "      <th>...</th>\n",
       "      <td>...</td>\n",
       "      <td>...</td>\n",
       "      <td>...</td>\n",
       "      <td>...</td>\n",
       "    </tr>\n",
       "    <tr>\n",
       "      <th>12783</th>\n",
       "      <td>12783</td>\n",
       "      <td>55044_17</td>\n",
       "      <td>55093_13</td>\n",
       "      <td>0.0</td>\n",
       "    </tr>\n",
       "    <tr>\n",
       "      <th>12784</th>\n",
       "      <td>12784</td>\n",
       "      <td>55169_11</td>\n",
       "      <td>55169_21</td>\n",
       "      <td>1.0</td>\n",
       "    </tr>\n",
       "    <tr>\n",
       "      <th>12785</th>\n",
       "      <td>12785</td>\n",
       "      <td>55328_2</td>\n",
       "      <td>55690_1</td>\n",
       "      <td>0.0</td>\n",
       "    </tr>\n",
       "    <tr>\n",
       "      <th>12786</th>\n",
       "      <td>12786</td>\n",
       "      <td>55034_5</td>\n",
       "      <td>55540_22</td>\n",
       "      <td>0.0</td>\n",
       "    </tr>\n",
       "    <tr>\n",
       "      <th>12787</th>\n",
       "      <td>12787</td>\n",
       "      <td>55072_2</td>\n",
       "      <td>55531_3</td>\n",
       "      <td>0.0</td>\n",
       "    </tr>\n",
       "  </tbody>\n",
       "</table>\n",
       "<p>12788 rows × 4 columns</p>\n",
       "</div>"
      ],
      "text/plain": [
       "       index     sent1     sent2  label\n",
       "0          0   55474_1   55474_6    0.0\n",
       "1          1   55165_1  55165_14    1.0\n",
       "2          2   55349_3   55400_3    0.0\n",
       "3          3   55057_1   55608_1    0.0\n",
       "4          4  55225_11   55225_7    1.0\n",
       "...      ...       ...       ...    ...\n",
       "12783  12783  55044_17  55093_13    0.0\n",
       "12784  12784  55169_11  55169_21    1.0\n",
       "12785  12785   55328_2   55690_1    0.0\n",
       "12786  12786   55034_5  55540_22    0.0\n",
       "12787  12787   55072_2   55531_3    0.0\n",
       "\n",
       "[12788 rows x 4 columns]"
      ]
     },
     "execution_count": 57,
     "metadata": {},
     "output_type": "execute_result"
    }
   ],
   "source": [
    "train_df = pd.DataFrame(train_codes,columns=[\"index\",\"sent1\",\"sent2\",\"label\"])\n",
    "train_df"
   ]
  },
  {
   "cell_type": "code",
   "execution_count": 58,
   "metadata": {
    "collapsed": true
   },
   "outputs": [
    {
     "data": {
      "text/plain": [
       "0.0    9591\n",
       "1.0    3197\n",
       "Name: label, dtype: int64"
      ]
     },
     "execution_count": 58,
     "metadata": {},
     "output_type": "execute_result"
    }
   ],
   "source": [
    "train_df.label.value_counts()"
   ]
  },
  {
   "cell_type": "code",
   "execution_count": 59,
   "metadata": {
    "collapsed": true
   },
   "outputs": [
    {
     "data": {
      "text/html": [
       "<div>\n",
       "<style scoped>\n",
       "    .dataframe tbody tr th:only-of-type {\n",
       "        vertical-align: middle;\n",
       "    }\n",
       "\n",
       "    .dataframe tbody tr th {\n",
       "        vertical-align: top;\n",
       "    }\n",
       "\n",
       "    .dataframe thead th {\n",
       "        text-align: right;\n",
       "    }\n",
       "</style>\n",
       "<table border=\"1\" class=\"dataframe\">\n",
       "  <thead>\n",
       "    <tr style=\"text-align: right;\">\n",
       "      <th></th>\n",
       "      <th>index</th>\n",
       "      <th>sent1</th>\n",
       "      <th>sent2</th>\n",
       "      <th>label</th>\n",
       "    </tr>\n",
       "  </thead>\n",
       "  <tbody>\n",
       "    <tr>\n",
       "      <th>0</th>\n",
       "      <td>0</td>\n",
       "      <td>55617_1</td>\n",
       "      <td>55617_5</td>\n",
       "      <td>1.0</td>\n",
       "    </tr>\n",
       "    <tr>\n",
       "      <th>1</th>\n",
       "      <td>1</td>\n",
       "      <td>55498_4</td>\n",
       "      <td>55498_8</td>\n",
       "      <td>1.0</td>\n",
       "    </tr>\n",
       "    <tr>\n",
       "      <th>2</th>\n",
       "      <td>2</td>\n",
       "      <td>55542_17</td>\n",
       "      <td>55542_9</td>\n",
       "      <td>0.0</td>\n",
       "    </tr>\n",
       "    <tr>\n",
       "      <th>3</th>\n",
       "      <td>3</td>\n",
       "      <td>55172_11</td>\n",
       "      <td>55172_2</td>\n",
       "      <td>1.0</td>\n",
       "    </tr>\n",
       "    <tr>\n",
       "      <th>4</th>\n",
       "      <td>4</td>\n",
       "      <td>55279_1</td>\n",
       "      <td>55279_9</td>\n",
       "      <td>0.0</td>\n",
       "    </tr>\n",
       "    <tr>\n",
       "      <th>...</th>\n",
       "      <td>...</td>\n",
       "      <td>...</td>\n",
       "      <td>...</td>\n",
       "      <td>...</td>\n",
       "    </tr>\n",
       "    <tr>\n",
       "      <th>1279</th>\n",
       "      <td>1279</td>\n",
       "      <td>55097_4</td>\n",
       "      <td>55097_7</td>\n",
       "      <td>0.0</td>\n",
       "    </tr>\n",
       "    <tr>\n",
       "      <th>1280</th>\n",
       "      <td>1280</td>\n",
       "      <td>55154_16</td>\n",
       "      <td>55154_2</td>\n",
       "      <td>1.0</td>\n",
       "    </tr>\n",
       "    <tr>\n",
       "      <th>1281</th>\n",
       "      <td>1281</td>\n",
       "      <td>55533_1</td>\n",
       "      <td>55533_14</td>\n",
       "      <td>1.0</td>\n",
       "    </tr>\n",
       "    <tr>\n",
       "      <th>1282</th>\n",
       "      <td>1282</td>\n",
       "      <td>55381_15</td>\n",
       "      <td>55381_16</td>\n",
       "      <td>0.0</td>\n",
       "    </tr>\n",
       "    <tr>\n",
       "      <th>1283</th>\n",
       "      <td>1283</td>\n",
       "      <td>55082_2</td>\n",
       "      <td>55082_3</td>\n",
       "      <td>1.0</td>\n",
       "    </tr>\n",
       "  </tbody>\n",
       "</table>\n",
       "<p>1284 rows × 4 columns</p>\n",
       "</div>"
      ],
      "text/plain": [
       "      index     sent1     sent2  label\n",
       "0         0   55617_1   55617_5    1.0\n",
       "1         1   55498_4   55498_8    1.0\n",
       "2         2  55542_17   55542_9    0.0\n",
       "3         3  55172_11   55172_2    1.0\n",
       "4         4   55279_1   55279_9    0.0\n",
       "...     ...       ...       ...    ...\n",
       "1279   1279   55097_4   55097_7    0.0\n",
       "1280   1280  55154_16   55154_2    1.0\n",
       "1281   1281   55533_1  55533_14    1.0\n",
       "1282   1282  55381_15  55381_16    0.0\n",
       "1283   1283   55082_2   55082_3    1.0\n",
       "\n",
       "[1284 rows x 4 columns]"
      ]
     },
     "execution_count": 59,
     "metadata": {},
     "output_type": "execute_result"
    }
   ],
   "source": [
    "test_df = pd.DataFrame(test_codes,columns=[\"index\",\"sent1\",\"sent2\",\"label\"])\n",
    "test_df"
   ]
  },
  {
   "cell_type": "code",
   "execution_count": 60,
   "metadata": {
    "collapsed": true
   },
   "outputs": [
    {
     "data": {
      "text/plain": [
       "1.0    887\n",
       "0.0    397\n",
       "Name: label, dtype: int64"
      ]
     },
     "execution_count": 60,
     "metadata": {},
     "output_type": "execute_result"
    }
   ],
   "source": [
    "test_df.label.value_counts()"
   ]
  },
  {
   "cell_type": "markdown",
   "metadata": {},
   "source": [
    "## Create Embeddings"
   ]
  },
  {
   "cell_type": "code",
   "execution_count": 96,
   "metadata": {},
   "outputs": [],
   "source": [
    "tokenizer = AutoTokenizer.from_pretrained('roberta-base')"
   ]
  },
  {
   "cell_type": "code",
   "execution_count": 103,
   "metadata": {},
   "outputs": [],
   "source": [
    "def gimme_tensors(sents,tokenizer):\n",
    "    II, AM, LABEL= [],[],[]\n",
    "    for i,_ in enumerate(sents):\n",
    "        label = sents[i][-1]\n",
    "        text = \"</s>\".join(sents[i][1:-1])\n",
    "        encoded = tokenizer.encode_plus(text,                     \n",
    "                                        add_special_tokens = False,\n",
    "                                        truncation=True,\n",
    "                                        max_length=256,\n",
    "                                        padding=\"max_length\",\n",
    "                                        return_tensors = 'pt')\n",
    "\n",
    "        input_id = encoded['input_ids']\n",
    "        attention_mask = encoded['attention_mask']\n",
    "\n",
    "        II.append(input_id)\n",
    "        AM.append(attention_mask)\n",
    "        LABEL.append(label)\n",
    "    II = torch.stack(II).squeeze(1)\n",
    "    AM = torch.stack(AM).squeeze(1)\n",
    "    LABEL =  torch.tensor(LABEL).view(-1,1).to(torch.float32)\n",
    "    \n",
    "    return II,AM,LABEL"
   ]
  },
  {
   "cell_type": "code",
   "execution_count": 106,
   "metadata": {},
   "outputs": [],
   "source": [
    "II,AM,LABEL = gimme_tensors(test_sents,tokenizer)"
   ]
  },
  {
   "cell_type": "code",
   "execution_count": null,
   "metadata": {},
   "outputs": [],
   "source": []
  },
  {
   "cell_type": "code",
   "execution_count": null,
   "metadata": {},
   "outputs": [],
   "source": []
  },
  {
   "cell_type": "code",
   "execution_count": null,
   "metadata": {},
   "outputs": [],
   "source": []
  },
  {
   "cell_type": "code",
   "execution_count": null,
   "metadata": {},
   "outputs": [],
   "source": []
  },
  {
   "cell_type": "code",
   "execution_count": null,
   "metadata": {},
   "outputs": [],
   "source": []
  }
 ],
 "metadata": {
  "kernelspec": {
   "display_name": "Python 3",
   "language": "python",
   "name": "python3"
  },
  "language_info": {
   "codemirror_mode": {
    "name": "ipython",
    "version": 3
   },
   "file_extension": ".py",
   "mimetype": "text/x-python",
   "name": "python",
   "nbconvert_exporter": "python",
   "pygments_lexer": "ipython3",
   "version": "3.8.5"
  }
 },
 "nbformat": 4,
 "nbformat_minor": 4
}
