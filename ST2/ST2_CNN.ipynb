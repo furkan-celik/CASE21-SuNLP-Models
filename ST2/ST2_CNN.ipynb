{
  "nbformat": 4,
  "nbformat_minor": 0,
  "metadata": {
    "colab": {
      "name": "ST2 CNN.ipynb",
      "provenance": [],
      "collapsed_sections": [],
      "toc_visible": true
    },
    "kernelspec": {
      "name": "python3",
      "display_name": "Python 3"
    },
    "accelerator": "GPU"
  },
  "cells": [
    {
      "cell_type": "markdown",
      "metadata": {
        "id": "4SaLcrXxACDU"
      },
      "source": [
        "## NEPTUNE"
      ]
    },
    {
      "cell_type": "code",
      "metadata": {
        "colab": {
          "base_uri": "https://localhost:8080/"
        },
        "id": "JykERcAj_nKU",
        "outputId": "7df08f06-7b5b-439b-fd99-6d8fc540be35"
      },
      "source": [
        "!pip install neptune-client==0.9.1\n",
        "!pip install neptune-tensorflow-keras==0.9.1"
      ],
      "execution_count": null,
      "outputs": [
        {
          "output_type": "stream",
          "text": [
            "Collecting neptune-client==0.9.1\n",
            "\u001b[?25l  Downloading https://files.pythonhosted.org/packages/b6/25/757d8828a31dba3e684ac2bbc29b5fee54ec1d5961333c5ba18fb5dcf67f/neptune-client-0.9.1.tar.gz (209kB)\n",
            "\u001b[K     |████████████████████████████████| 215kB 26.4MB/s \n",
            "\u001b[?25hCollecting bravado\n",
            "  Downloading https://files.pythonhosted.org/packages/21/ed/03b0c36b5bcafbe2938ed222f9a164a6c0367ce99a9d2d502e462853571d/bravado-11.0.3-py2.py3-none-any.whl\n",
            "Requirement already satisfied: click>=7.0 in /usr/local/lib/python3.7/dist-packages (from neptune-client==0.9.1) (8.0.0)\n",
            "Collecting future>=0.17.1\n",
            "\u001b[?25l  Downloading https://files.pythonhosted.org/packages/45/0b/38b06fd9b92dc2b68d58b75f900e97884c45bedd2ff83203d933cf5851c9/future-0.18.2.tar.gz (829kB)\n",
            "\u001b[K     |████████████████████████████████| 829kB 46.2MB/s \n",
            "\u001b[?25hRequirement already satisfied: oauthlib>=2.1.0 in /usr/local/lib/python3.7/dist-packages (from neptune-client==0.9.1) (3.1.0)\n",
            "Requirement already satisfied: pandas in /usr/local/lib/python3.7/dist-packages (from neptune-client==0.9.1) (1.1.5)\n",
            "Requirement already satisfied: Pillow>=1.1.6 in /usr/local/lib/python3.7/dist-packages (from neptune-client==0.9.1) (7.1.2)\n",
            "Collecting PyJWT\n",
            "  Downloading https://files.pythonhosted.org/packages/3f/32/d5d3cab27fee7f6b22d7cd7507547ae45d52e26030fa77d1f83d0526c6e5/PyJWT-2.1.0-py3-none-any.whl\n",
            "Requirement already satisfied: requests>=2.20.0 in /usr/local/lib/python3.7/dist-packages (from neptune-client==0.9.1) (2.23.0)\n",
            "Requirement already satisfied: requests-oauthlib>=1.0.0 in /usr/local/lib/python3.7/dist-packages (from neptune-client==0.9.1) (1.3.0)\n",
            "Requirement already satisfied: six>=1.12.0 in /usr/local/lib/python3.7/dist-packages (from neptune-client==0.9.1) (1.15.0)\n",
            "Collecting websocket-client>=0.35.0\n",
            "\u001b[?25l  Downloading https://files.pythonhosted.org/packages/ba/d1/501076b54481412df1bc4cdd1fe479f66e17857c63ec5981bedcdc2ca793/websocket_client-1.0.0-py2.py3-none-any.whl (68kB)\n",
            "\u001b[K     |████████████████████████████████| 71kB 10.2MB/s \n",
            "\u001b[?25hCollecting GitPython>=2.0.8\n",
            "\u001b[?25l  Downloading https://files.pythonhosted.org/packages/27/da/6f6224fdfc47dab57881fe20c0d1bc3122be290198ba0bf26a953a045d92/GitPython-3.1.17-py3-none-any.whl (166kB)\n",
            "\u001b[K     |████████████████████████████████| 174kB 45.0MB/s \n",
            "\u001b[?25hRequirement already satisfied: packaging in /usr/local/lib/python3.7/dist-packages (from neptune-client==0.9.1) (20.9)\n",
            "Requirement already satisfied: urllib3 in /usr/local/lib/python3.7/dist-packages (from neptune-client==0.9.1) (1.24.3)\n",
            "Requirement already satisfied: typing-extensions in /usr/local/lib/python3.7/dist-packages (from bravado->neptune-client==0.9.1) (3.7.4.3)\n",
            "Collecting simplejson\n",
            "\u001b[?25l  Downloading https://files.pythonhosted.org/packages/a8/04/377418ac1e530ce2a196b54c6552c018fdf1fe776718053efb1f216bffcd/simplejson-3.17.2-cp37-cp37m-manylinux2010_x86_64.whl (128kB)\n",
            "\u001b[K     |████████████████████████████████| 133kB 57.3MB/s \n",
            "\u001b[?25hCollecting monotonic\n",
            "  Downloading https://files.pythonhosted.org/packages/9a/67/7e8406a29b6c45be7af7740456f7f37025f0506ae2e05fb9009a53946860/monotonic-1.6-py2.py3-none-any.whl\n",
            "Collecting bravado-core>=5.16.1\n",
            "\u001b[?25l  Downloading https://files.pythonhosted.org/packages/76/11/18e9d28a156c33f2d5f15a5e155dc7130250acb0a569255a2b6b307b596d/bravado_core-5.17.0-py2.py3-none-any.whl (67kB)\n",
            "\u001b[K     |████████████████████████████████| 71kB 9.6MB/s \n",
            "\u001b[?25hRequirement already satisfied: msgpack in /usr/local/lib/python3.7/dist-packages (from bravado->neptune-client==0.9.1) (1.0.2)\n",
            "Requirement already satisfied: python-dateutil in /usr/local/lib/python3.7/dist-packages (from bravado->neptune-client==0.9.1) (2.8.1)\n",
            "Requirement already satisfied: pyyaml in /usr/local/lib/python3.7/dist-packages (from bravado->neptune-client==0.9.1) (3.13)\n",
            "Requirement already satisfied: pytz>=2017.2 in /usr/local/lib/python3.7/dist-packages (from pandas->neptune-client==0.9.1) (2018.9)\n",
            "Requirement already satisfied: numpy>=1.15.4 in /usr/local/lib/python3.7/dist-packages (from pandas->neptune-client==0.9.1) (1.19.5)\n",
            "Requirement already satisfied: certifi>=2017.4.17 in /usr/local/lib/python3.7/dist-packages (from requests>=2.20.0->neptune-client==0.9.1) (2020.12.5)\n",
            "Requirement already satisfied: idna<3,>=2.5 in /usr/local/lib/python3.7/dist-packages (from requests>=2.20.0->neptune-client==0.9.1) (2.10)\n",
            "Requirement already satisfied: chardet<4,>=3.0.2 in /usr/local/lib/python3.7/dist-packages (from requests>=2.20.0->neptune-client==0.9.1) (3.0.4)\n",
            "Collecting gitdb<5,>=4.0.1\n",
            "\u001b[?25l  Downloading https://files.pythonhosted.org/packages/ea/e8/f414d1a4f0bbc668ed441f74f44c116d9816833a48bf81d22b697090dba8/gitdb-4.0.7-py3-none-any.whl (63kB)\n",
            "\u001b[K     |████████████████████████████████| 71kB 11.2MB/s \n",
            "\u001b[?25hRequirement already satisfied: pyparsing>=2.0.2 in /usr/local/lib/python3.7/dist-packages (from packaging->neptune-client==0.9.1) (2.4.7)\n",
            "Collecting jsonref\n",
            "  Downloading https://files.pythonhosted.org/packages/07/92/f8e4ac824b14af77e613984e480fa818397c72d4141fc466decb26752749/jsonref-0.2-py3-none-any.whl\n",
            "Collecting swagger-spec-validator>=2.0.1\n",
            "  Downloading https://files.pythonhosted.org/packages/09/de/e78cefbf5838b434b63a789264b79821cb2267f1498fbed23ef8590133e4/swagger_spec_validator-2.7.3-py2.py3-none-any.whl\n",
            "Requirement already satisfied: jsonschema[format]>=2.5.1 in /usr/local/lib/python3.7/dist-packages (from bravado-core>=5.16.1->bravado->neptune-client==0.9.1) (2.6.0)\n",
            "Collecting smmap<5,>=3.0.1\n",
            "  Downloading https://files.pythonhosted.org/packages/68/ee/d540eb5e5996eb81c26ceffac6ee49041d473bc5125f2aa995cf51ec1cf1/smmap-4.0.0-py2.py3-none-any.whl\n",
            "Collecting rfc3987; extra == \"format\"\n",
            "  Downloading https://files.pythonhosted.org/packages/65/d4/f7407c3d15d5ac779c3dd34fbbc6ea2090f77bd7dd12f207ccf881551208/rfc3987-1.3.8-py2.py3-none-any.whl\n",
            "Collecting strict-rfc3339; extra == \"format\"\n",
            "  Downloading https://files.pythonhosted.org/packages/56/e4/879ef1dbd6ddea1c77c0078cd59b503368b0456bcca7d063a870ca2119d3/strict-rfc3339-0.7.tar.gz\n",
            "Collecting webcolors; extra == \"format\"\n",
            "  Downloading https://files.pythonhosted.org/packages/12/05/3350559de9714b202e443a9e6312937341bd5f79f4e4f625744295e7dd17/webcolors-1.11.1-py3-none-any.whl\n",
            "Building wheels for collected packages: neptune-client, future, strict-rfc3339\n",
            "  Building wheel for neptune-client (setup.py) ... \u001b[?25l\u001b[?25hdone\n",
            "  Created wheel for neptune-client: filename=neptune_client-0.9.1-py2.py3-none-any.whl size=371716 sha256=5eb1c0e4618d981b097822249cddcbeb3f279c3448ac9e7278eed1451b0632a8\n",
            "  Stored in directory: /root/.cache/pip/wheels/6e/d4/60/21005f18273566da0463587bed8c69cce7f300a404edf26df8\n",
            "  Building wheel for future (setup.py) ... \u001b[?25l\u001b[?25hdone\n",
            "  Created wheel for future: filename=future-0.18.2-cp37-none-any.whl size=491058 sha256=cfa7dcb4769b5ce5f0fa5251f19cd63d6ce514d96af04c8551ad159cfb49cc4d\n",
            "  Stored in directory: /root/.cache/pip/wheels/8b/99/a0/81daf51dcd359a9377b110a8a886b3895921802d2fc1b2397e\n",
            "  Building wheel for strict-rfc3339 (setup.py) ... \u001b[?25l\u001b[?25hdone\n",
            "  Created wheel for strict-rfc3339: filename=strict_rfc3339-0.7-cp37-none-any.whl size=18121 sha256=72f433e4d7d1429f942a79d87b95b421fef6e5ab822ad35c9cf8102a28ce2d02\n",
            "  Stored in directory: /root/.cache/pip/wheels/bb/af/c9/b6e9fb5f9b2470e4ed2a7241c9ab3a8cdd3bc8555ae02ca2e6\n",
            "Successfully built neptune-client future strict-rfc3339\n",
            "Installing collected packages: simplejson, monotonic, jsonref, swagger-spec-validator, bravado-core, bravado, future, PyJWT, websocket-client, smmap, gitdb, GitPython, neptune-client, rfc3987, strict-rfc3339, webcolors\n",
            "  Found existing installation: future 0.16.0\n",
            "    Uninstalling future-0.16.0:\n",
            "      Successfully uninstalled future-0.16.0\n",
            "Successfully installed GitPython-3.1.17 PyJWT-2.1.0 bravado-11.0.3 bravado-core-5.17.0 future-0.18.2 gitdb-4.0.7 jsonref-0.2 monotonic-1.6 neptune-client-0.9.1 rfc3987-1.3.8 simplejson-3.17.2 smmap-4.0.0 strict-rfc3339-0.7 swagger-spec-validator-2.7.3 webcolors-1.11.1 websocket-client-1.0.0\n",
            "Collecting neptune-tensorflow-keras==0.9.1\n",
            "  Downloading https://files.pythonhosted.org/packages/05/df/933e00d1c5092d81e399d7becfce119fafabae2f255f071fcfd325048862/neptune-tensorflow-keras-0.9.1.tar.gz\n",
            "Requirement already satisfied: neptune-client>=0.5.1 in /usr/local/lib/python3.7/dist-packages (from neptune-tensorflow-keras==0.9.1) (0.9.1)\n",
            "Requirement already satisfied: tensorflow in /usr/local/lib/python3.7/dist-packages (from neptune-tensorflow-keras==0.9.1) (2.4.1)\n",
            "Requirement already satisfied: click>=7.0 in /usr/local/lib/python3.7/dist-packages (from neptune-client>=0.5.1->neptune-tensorflow-keras==0.9.1) (8.0.0)\n",
            "Requirement already satisfied: packaging in /usr/local/lib/python3.7/dist-packages (from neptune-client>=0.5.1->neptune-tensorflow-keras==0.9.1) (20.9)\n",
            "Requirement already satisfied: requests>=2.20.0 in /usr/local/lib/python3.7/dist-packages (from neptune-client>=0.5.1->neptune-tensorflow-keras==0.9.1) (2.23.0)\n",
            "Requirement already satisfied: pandas in /usr/local/lib/python3.7/dist-packages (from neptune-client>=0.5.1->neptune-tensorflow-keras==0.9.1) (1.1.5)\n",
            "Requirement already satisfied: six>=1.12.0 in /usr/local/lib/python3.7/dist-packages (from neptune-client>=0.5.1->neptune-tensorflow-keras==0.9.1) (1.15.0)\n",
            "Requirement already satisfied: oauthlib>=2.1.0 in /usr/local/lib/python3.7/dist-packages (from neptune-client>=0.5.1->neptune-tensorflow-keras==0.9.1) (3.1.0)\n",
            "Requirement already satisfied: Pillow>=1.1.6 in /usr/local/lib/python3.7/dist-packages (from neptune-client>=0.5.1->neptune-tensorflow-keras==0.9.1) (7.1.2)\n",
            "Requirement already satisfied: urllib3 in /usr/local/lib/python3.7/dist-packages (from neptune-client>=0.5.1->neptune-tensorflow-keras==0.9.1) (1.24.3)\n",
            "Requirement already satisfied: websocket-client>=0.35.0 in /usr/local/lib/python3.7/dist-packages (from neptune-client>=0.5.1->neptune-tensorflow-keras==0.9.1) (1.0.0)\n",
            "Requirement already satisfied: future>=0.17.1 in /usr/local/lib/python3.7/dist-packages (from neptune-client>=0.5.1->neptune-tensorflow-keras==0.9.1) (0.18.2)\n",
            "Requirement already satisfied: requests-oauthlib>=1.0.0 in /usr/local/lib/python3.7/dist-packages (from neptune-client>=0.5.1->neptune-tensorflow-keras==0.9.1) (1.3.0)\n",
            "Requirement already satisfied: GitPython>=2.0.8 in /usr/local/lib/python3.7/dist-packages (from neptune-client>=0.5.1->neptune-tensorflow-keras==0.9.1) (3.1.17)\n",
            "Requirement already satisfied: bravado in /usr/local/lib/python3.7/dist-packages (from neptune-client>=0.5.1->neptune-tensorflow-keras==0.9.1) (11.0.3)\n",
            "Requirement already satisfied: PyJWT in /usr/local/lib/python3.7/dist-packages (from neptune-client>=0.5.1->neptune-tensorflow-keras==0.9.1) (2.1.0)\n",
            "Requirement already satisfied: typing-extensions~=3.7.4 in /usr/local/lib/python3.7/dist-packages (from tensorflow->neptune-tensorflow-keras==0.9.1) (3.7.4.3)\n",
            "Requirement already satisfied: h5py~=2.10.0 in /usr/local/lib/python3.7/dist-packages (from tensorflow->neptune-tensorflow-keras==0.9.1) (2.10.0)\n",
            "Requirement already satisfied: protobuf>=3.9.2 in /usr/local/lib/python3.7/dist-packages (from tensorflow->neptune-tensorflow-keras==0.9.1) (3.12.4)\n",
            "Requirement already satisfied: astunparse~=1.6.3 in /usr/local/lib/python3.7/dist-packages (from tensorflow->neptune-tensorflow-keras==0.9.1) (1.6.3)\n",
            "Requirement already satisfied: numpy~=1.19.2 in /usr/local/lib/python3.7/dist-packages (from tensorflow->neptune-tensorflow-keras==0.9.1) (1.19.5)\n",
            "Requirement already satisfied: opt-einsum~=3.3.0 in /usr/local/lib/python3.7/dist-packages (from tensorflow->neptune-tensorflow-keras==0.9.1) (3.3.0)\n",
            "Requirement already satisfied: wrapt~=1.12.1 in /usr/local/lib/python3.7/dist-packages (from tensorflow->neptune-tensorflow-keras==0.9.1) (1.12.1)\n",
            "Requirement already satisfied: flatbuffers~=1.12.0 in /usr/local/lib/python3.7/dist-packages (from tensorflow->neptune-tensorflow-keras==0.9.1) (1.12)\n",
            "Requirement already satisfied: gast==0.3.3 in /usr/local/lib/python3.7/dist-packages (from tensorflow->neptune-tensorflow-keras==0.9.1) (0.3.3)\n",
            "Requirement already satisfied: keras-preprocessing~=1.1.2 in /usr/local/lib/python3.7/dist-packages (from tensorflow->neptune-tensorflow-keras==0.9.1) (1.1.2)\n",
            "Requirement already satisfied: termcolor~=1.1.0 in /usr/local/lib/python3.7/dist-packages (from tensorflow->neptune-tensorflow-keras==0.9.1) (1.1.0)\n",
            "Requirement already satisfied: tensorboard~=2.4 in /usr/local/lib/python3.7/dist-packages (from tensorflow->neptune-tensorflow-keras==0.9.1) (2.4.1)\n",
            "Requirement already satisfied: wheel~=0.35 in /usr/local/lib/python3.7/dist-packages (from tensorflow->neptune-tensorflow-keras==0.9.1) (0.36.2)\n",
            "Requirement already satisfied: grpcio~=1.32.0 in /usr/local/lib/python3.7/dist-packages (from tensorflow->neptune-tensorflow-keras==0.9.1) (1.32.0)\n",
            "Requirement already satisfied: tensorflow-estimator<2.5.0,>=2.4.0 in /usr/local/lib/python3.7/dist-packages (from tensorflow->neptune-tensorflow-keras==0.9.1) (2.4.0)\n",
            "Requirement already satisfied: google-pasta~=0.2 in /usr/local/lib/python3.7/dist-packages (from tensorflow->neptune-tensorflow-keras==0.9.1) (0.2.0)\n",
            "Requirement already satisfied: absl-py~=0.10 in /usr/local/lib/python3.7/dist-packages (from tensorflow->neptune-tensorflow-keras==0.9.1) (0.12.0)\n",
            "Requirement already satisfied: pyparsing>=2.0.2 in /usr/local/lib/python3.7/dist-packages (from packaging->neptune-client>=0.5.1->neptune-tensorflow-keras==0.9.1) (2.4.7)\n",
            "Requirement already satisfied: certifi>=2017.4.17 in /usr/local/lib/python3.7/dist-packages (from requests>=2.20.0->neptune-client>=0.5.1->neptune-tensorflow-keras==0.9.1) (2020.12.5)\n",
            "Requirement already satisfied: idna<3,>=2.5 in /usr/local/lib/python3.7/dist-packages (from requests>=2.20.0->neptune-client>=0.5.1->neptune-tensorflow-keras==0.9.1) (2.10)\n",
            "Requirement already satisfied: chardet<4,>=3.0.2 in /usr/local/lib/python3.7/dist-packages (from requests>=2.20.0->neptune-client>=0.5.1->neptune-tensorflow-keras==0.9.1) (3.0.4)\n",
            "Requirement already satisfied: python-dateutil>=2.7.3 in /usr/local/lib/python3.7/dist-packages (from pandas->neptune-client>=0.5.1->neptune-tensorflow-keras==0.9.1) (2.8.1)\n",
            "Requirement already satisfied: pytz>=2017.2 in /usr/local/lib/python3.7/dist-packages (from pandas->neptune-client>=0.5.1->neptune-tensorflow-keras==0.9.1) (2018.9)\n",
            "Requirement already satisfied: gitdb<5,>=4.0.1 in /usr/local/lib/python3.7/dist-packages (from GitPython>=2.0.8->neptune-client>=0.5.1->neptune-tensorflow-keras==0.9.1) (4.0.7)\n",
            "Requirement already satisfied: bravado-core>=5.16.1 in /usr/local/lib/python3.7/dist-packages (from bravado->neptune-client>=0.5.1->neptune-tensorflow-keras==0.9.1) (5.17.0)\n",
            "Requirement already satisfied: monotonic in /usr/local/lib/python3.7/dist-packages (from bravado->neptune-client>=0.5.1->neptune-tensorflow-keras==0.9.1) (1.6)\n",
            "Requirement already satisfied: pyyaml in /usr/local/lib/python3.7/dist-packages (from bravado->neptune-client>=0.5.1->neptune-tensorflow-keras==0.9.1) (3.13)\n",
            "Requirement already satisfied: simplejson in /usr/local/lib/python3.7/dist-packages (from bravado->neptune-client>=0.5.1->neptune-tensorflow-keras==0.9.1) (3.17.2)\n",
            "Requirement already satisfied: msgpack in /usr/local/lib/python3.7/dist-packages (from bravado->neptune-client>=0.5.1->neptune-tensorflow-keras==0.9.1) (1.0.2)\n",
            "Requirement already satisfied: setuptools in /usr/local/lib/python3.7/dist-packages (from protobuf>=3.9.2->tensorflow->neptune-tensorflow-keras==0.9.1) (56.1.0)\n",
            "Requirement already satisfied: markdown>=2.6.8 in /usr/local/lib/python3.7/dist-packages (from tensorboard~=2.4->tensorflow->neptune-tensorflow-keras==0.9.1) (3.3.4)\n",
            "Requirement already satisfied: tensorboard-plugin-wit>=1.6.0 in /usr/local/lib/python3.7/dist-packages (from tensorboard~=2.4->tensorflow->neptune-tensorflow-keras==0.9.1) (1.8.0)\n",
            "Requirement already satisfied: google-auth<2,>=1.6.3 in /usr/local/lib/python3.7/dist-packages (from tensorboard~=2.4->tensorflow->neptune-tensorflow-keras==0.9.1) (1.30.0)\n",
            "Requirement already satisfied: werkzeug>=0.11.15 in /usr/local/lib/python3.7/dist-packages (from tensorboard~=2.4->tensorflow->neptune-tensorflow-keras==0.9.1) (2.0.0)\n",
            "Requirement already satisfied: google-auth-oauthlib<0.5,>=0.4.1 in /usr/local/lib/python3.7/dist-packages (from tensorboard~=2.4->tensorflow->neptune-tensorflow-keras==0.9.1) (0.4.4)\n",
            "Requirement already satisfied: smmap<5,>=3.0.1 in /usr/local/lib/python3.7/dist-packages (from gitdb<5,>=4.0.1->GitPython>=2.0.8->neptune-client>=0.5.1->neptune-tensorflow-keras==0.9.1) (4.0.0)\n",
            "Requirement already satisfied: jsonschema[format]>=2.5.1 in /usr/local/lib/python3.7/dist-packages (from bravado-core>=5.16.1->bravado->neptune-client>=0.5.1->neptune-tensorflow-keras==0.9.1) (2.6.0)\n",
            "Requirement already satisfied: swagger-spec-validator>=2.0.1 in /usr/local/lib/python3.7/dist-packages (from bravado-core>=5.16.1->bravado->neptune-client>=0.5.1->neptune-tensorflow-keras==0.9.1) (2.7.3)\n",
            "Requirement already satisfied: jsonref in /usr/local/lib/python3.7/dist-packages (from bravado-core>=5.16.1->bravado->neptune-client>=0.5.1->neptune-tensorflow-keras==0.9.1) (0.2)\n",
            "Requirement already satisfied: importlib-metadata; python_version < \"3.8\" in /usr/local/lib/python3.7/dist-packages (from markdown>=2.6.8->tensorboard~=2.4->tensorflow->neptune-tensorflow-keras==0.9.1) (4.0.1)\n",
            "Requirement already satisfied: pyasn1-modules>=0.2.1 in /usr/local/lib/python3.7/dist-packages (from google-auth<2,>=1.6.3->tensorboard~=2.4->tensorflow->neptune-tensorflow-keras==0.9.1) (0.2.8)\n",
            "Requirement already satisfied: cachetools<5.0,>=2.0.0 in /usr/local/lib/python3.7/dist-packages (from google-auth<2,>=1.6.3->tensorboard~=2.4->tensorflow->neptune-tensorflow-keras==0.9.1) (4.2.2)\n",
            "Requirement already satisfied: rsa<5,>=3.1.4; python_version >= \"3.6\" in /usr/local/lib/python3.7/dist-packages (from google-auth<2,>=1.6.3->tensorboard~=2.4->tensorflow->neptune-tensorflow-keras==0.9.1) (4.7.2)\n",
            "Requirement already satisfied: rfc3987; extra == \"format\" in /usr/local/lib/python3.7/dist-packages (from jsonschema[format]>=2.5.1->bravado-core>=5.16.1->bravado->neptune-client>=0.5.1->neptune-tensorflow-keras==0.9.1) (1.3.8)\n",
            "Requirement already satisfied: strict-rfc3339; extra == \"format\" in /usr/local/lib/python3.7/dist-packages (from jsonschema[format]>=2.5.1->bravado-core>=5.16.1->bravado->neptune-client>=0.5.1->neptune-tensorflow-keras==0.9.1) (0.7)\n",
            "Requirement already satisfied: webcolors; extra == \"format\" in /usr/local/lib/python3.7/dist-packages (from jsonschema[format]>=2.5.1->bravado-core>=5.16.1->bravado->neptune-client>=0.5.1->neptune-tensorflow-keras==0.9.1) (1.11.1)\n",
            "Requirement already satisfied: zipp>=0.5 in /usr/local/lib/python3.7/dist-packages (from importlib-metadata; python_version < \"3.8\"->markdown>=2.6.8->tensorboard~=2.4->tensorflow->neptune-tensorflow-keras==0.9.1) (3.4.1)\n",
            "Requirement already satisfied: pyasn1<0.5.0,>=0.4.6 in /usr/local/lib/python3.7/dist-packages (from pyasn1-modules>=0.2.1->google-auth<2,>=1.6.3->tensorboard~=2.4->tensorflow->neptune-tensorflow-keras==0.9.1) (0.4.8)\n",
            "Building wheels for collected packages: neptune-tensorflow-keras\n",
            "  Building wheel for neptune-tensorflow-keras (setup.py) ... \u001b[?25l\u001b[?25hdone\n",
            "  Created wheel for neptune-tensorflow-keras: filename=neptune_tensorflow_keras-0.9.1-cp37-none-any.whl size=9270 sha256=2bf2189d133071b34ebfcd3f2ba8c53011a6c762621ab120afe61037e7855353\n",
            "  Stored in directory: /root/.cache/pip/wheels/9c/02/15/b441a43f5c53d0d66baf16cb2c94ead4890c4f8e62d3b22193\n",
            "Successfully built neptune-tensorflow-keras\n",
            "Installing collected packages: neptune-tensorflow-keras\n",
            "Successfully installed neptune-tensorflow-keras-0.9.1\n"
          ],
          "name": "stdout"
        }
      ]
    },
    {
      "cell_type": "code",
      "metadata": {
        "colab": {
          "base_uri": "https://localhost:8080/"
        },
        "id": "rWcngegk__Q7",
        "outputId": "28db1d29-ee08-4855-a8b9-b2d2379af1a6"
      },
      "source": [
        "import neptune.new as neptune\n",
        "\n",
        "run = neptune.init(project='', api_token='')"
      ],
      "execution_count": null,
      "outputs": [
        {
          "output_type": "stream",
          "text": [
            "https://app.neptune.ai/despdair/Subtask-2/e/SUB2-115\n"
          ],
          "name": "stdout"
        }
      ]
    },
    {
      "cell_type": "code",
      "metadata": {
        "id": "5ZXL94hj__l2"
      },
      "source": [
        "from neptune.new.integrations.tensorflow_keras import NeptuneCallback\n",
        "\n",
        "neptune_cbk = NeptuneCallback(run=run, base_namespace='metrics')"
      ],
      "execution_count": null,
      "outputs": []
    },
    {
      "cell_type": "markdown",
      "metadata": {
        "id": "QSSuGyigAFwd"
      },
      "source": [
        "## DATA PROCESSING"
      ]
    },
    {
      "cell_type": "code",
      "metadata": {
        "colab": {
          "base_uri": "https://localhost:8080/"
        },
        "id": "6rYxzeeBJ28r",
        "outputId": "26ab8539-50e0-46c6-e5d7-7e6d564846bc"
      },
      "source": [
        "from google.colab import drive\n",
        "drive.mount('/content/drive')"
      ],
      "execution_count": null,
      "outputs": [
        {
          "output_type": "stream",
          "text": [
            "Mounted at /content/drive\n"
          ],
          "name": "stdout"
        }
      ]
    },
    {
      "cell_type": "code",
      "metadata": {
        "colab": {
          "base_uri": "https://localhost:8080/"
        },
        "id": "BjrHKtwEH-NO",
        "outputId": "d997ebcc-0776-4b2f-de00-4c6b3d83aed7"
      },
      "source": [
        "!pip install tensorflow_addons"
      ],
      "execution_count": null,
      "outputs": [
        {
          "output_type": "stream",
          "text": [
            "Collecting tensorflow_addons\n",
            "\u001b[?25l  Downloading https://files.pythonhosted.org/packages/66/4b/e893d194e626c24b3df2253066aa418f46a432fdb68250cde14bf9bb0700/tensorflow_addons-0.13.0-cp37-cp37m-manylinux2010_x86_64.whl (679kB)\n",
            "\r\u001b[K     |▌                               | 10kB 21.4MB/s eta 0:00:01\r\u001b[K     |█                               | 20kB 27.6MB/s eta 0:00:01\r\u001b[K     |█▌                              | 30kB 22.8MB/s eta 0:00:01\r\u001b[K     |██                              | 40kB 25.5MB/s eta 0:00:01\r\u001b[K     |██▍                             | 51kB 27.1MB/s eta 0:00:01\r\u001b[K     |███                             | 61kB 29.8MB/s eta 0:00:01\r\u001b[K     |███▍                            | 71kB 25.6MB/s eta 0:00:01\r\u001b[K     |███▉                            | 81kB 26.8MB/s eta 0:00:01\r\u001b[K     |████▍                           | 92kB 24.8MB/s eta 0:00:01\r\u001b[K     |████▉                           | 102kB 26.1MB/s eta 0:00:01\r\u001b[K     |█████▎                          | 112kB 26.1MB/s eta 0:00:01\r\u001b[K     |█████▉                          | 122kB 26.1MB/s eta 0:00:01\r\u001b[K     |██████▎                         | 133kB 26.1MB/s eta 0:00:01\r\u001b[K     |██████▊                         | 143kB 26.1MB/s eta 0:00:01\r\u001b[K     |███████▎                        | 153kB 26.1MB/s eta 0:00:01\r\u001b[K     |███████▊                        | 163kB 26.1MB/s eta 0:00:01\r\u001b[K     |████████▏                       | 174kB 26.1MB/s eta 0:00:01\r\u001b[K     |████████▊                       | 184kB 26.1MB/s eta 0:00:01\r\u001b[K     |█████████▏                      | 194kB 26.1MB/s eta 0:00:01\r\u001b[K     |█████████▋                      | 204kB 26.1MB/s eta 0:00:01\r\u001b[K     |██████████▏                     | 215kB 26.1MB/s eta 0:00:01\r\u001b[K     |██████████▋                     | 225kB 26.1MB/s eta 0:00:01\r\u001b[K     |███████████                     | 235kB 26.1MB/s eta 0:00:01\r\u001b[K     |███████████▋                    | 245kB 26.1MB/s eta 0:00:01\r\u001b[K     |████████████                    | 256kB 26.1MB/s eta 0:00:01\r\u001b[K     |████████████▌                   | 266kB 26.1MB/s eta 0:00:01\r\u001b[K     |█████████████                   | 276kB 26.1MB/s eta 0:00:01\r\u001b[K     |█████████████▌                  | 286kB 26.1MB/s eta 0:00:01\r\u001b[K     |██████████████                  | 296kB 26.1MB/s eta 0:00:01\r\u001b[K     |██████████████▌                 | 307kB 26.1MB/s eta 0:00:01\r\u001b[K     |███████████████                 | 317kB 26.1MB/s eta 0:00:01\r\u001b[K     |███████████████▍                | 327kB 26.1MB/s eta 0:00:01\r\u001b[K     |████████████████                | 337kB 26.1MB/s eta 0:00:01\r\u001b[K     |████████████████▍               | 348kB 26.1MB/s eta 0:00:01\r\u001b[K     |████████████████▉               | 358kB 26.1MB/s eta 0:00:01\r\u001b[K     |█████████████████▍              | 368kB 26.1MB/s eta 0:00:01\r\u001b[K     |█████████████████▉              | 378kB 26.1MB/s eta 0:00:01\r\u001b[K     |██████████████████▎             | 389kB 26.1MB/s eta 0:00:01\r\u001b[K     |██████████████████▉             | 399kB 26.1MB/s eta 0:00:01\r\u001b[K     |███████████████████▎            | 409kB 26.1MB/s eta 0:00:01\r\u001b[K     |███████████████████▊            | 419kB 26.1MB/s eta 0:00:01\r\u001b[K     |████████████████████▎           | 430kB 26.1MB/s eta 0:00:01\r\u001b[K     |████████████████████▊           | 440kB 26.1MB/s eta 0:00:01\r\u001b[K     |█████████████████████▏          | 450kB 26.1MB/s eta 0:00:01\r\u001b[K     |█████████████████████▊          | 460kB 26.1MB/s eta 0:00:01\r\u001b[K     |██████████████████████▏         | 471kB 26.1MB/s eta 0:00:01\r\u001b[K     |██████████████████████▋         | 481kB 26.1MB/s eta 0:00:01\r\u001b[K     |███████████████████████▏        | 491kB 26.1MB/s eta 0:00:01\r\u001b[K     |███████████████████████▋        | 501kB 26.1MB/s eta 0:00:01\r\u001b[K     |████████████████████████        | 512kB 26.1MB/s eta 0:00:01\r\u001b[K     |████████████████████████▋       | 522kB 26.1MB/s eta 0:00:01\r\u001b[K     |█████████████████████████       | 532kB 26.1MB/s eta 0:00:01\r\u001b[K     |█████████████████████████▌      | 542kB 26.1MB/s eta 0:00:01\r\u001b[K     |██████████████████████████      | 552kB 26.1MB/s eta 0:00:01\r\u001b[K     |██████████████████████████▌     | 563kB 26.1MB/s eta 0:00:01\r\u001b[K     |███████████████████████████     | 573kB 26.1MB/s eta 0:00:01\r\u001b[K     |███████████████████████████▌    | 583kB 26.1MB/s eta 0:00:01\r\u001b[K     |████████████████████████████    | 593kB 26.1MB/s eta 0:00:01\r\u001b[K     |████████████████████████████▍   | 604kB 26.1MB/s eta 0:00:01\r\u001b[K     |█████████████████████████████   | 614kB 26.1MB/s eta 0:00:01\r\u001b[K     |█████████████████████████████▍  | 624kB 26.1MB/s eta 0:00:01\r\u001b[K     |█████████████████████████████▉  | 634kB 26.1MB/s eta 0:00:01\r\u001b[K     |██████████████████████████████▍ | 645kB 26.1MB/s eta 0:00:01\r\u001b[K     |██████████████████████████████▉ | 655kB 26.1MB/s eta 0:00:01\r\u001b[K     |███████████████████████████████▎| 665kB 26.1MB/s eta 0:00:01\r\u001b[K     |███████████████████████████████▉| 675kB 26.1MB/s eta 0:00:01\r\u001b[K     |████████████████████████████████| 686kB 26.1MB/s \n",
            "\u001b[?25hRequirement already satisfied: typeguard>=2.7 in /usr/local/lib/python3.7/dist-packages (from tensorflow_addons) (2.7.1)\n",
            "Installing collected packages: tensorflow-addons\n",
            "Successfully installed tensorflow-addons-0.13.0\n"
          ],
          "name": "stdout"
        }
      ]
    },
    {
      "cell_type": "code",
      "metadata": {
        "id": "uFPEFCJ_GJFf"
      },
      "source": [
        "import pandas as pd\n",
        "import matplotlib.pyplot as plt\n",
        "import tensorflow as tf\n",
        "import numpy as np\n",
        "import tensorflow_addons as tfa\n",
        "import tensorflow_hub as hub"
      ],
      "execution_count": null,
      "outputs": []
    },
    {
      "cell_type": "code",
      "metadata": {
        "id": "tpA49CZlGXyN",
        "colab": {
          "base_uri": "https://localhost:8080/",
          "height": 204
        },
        "outputId": "6c06f759-9ae6-4633-b81e-678e3e16ad9a"
      },
      "source": [
        "trainDfEng = pd.read_json(\"./en-train.json\", lines = True)\n",
        "trainDfEng.head()"
      ],
      "execution_count": null,
      "outputs": [
        {
          "output_type": "execute_result",
          "data": {
            "text/html": [
              "<div>\n",
              "<style scoped>\n",
              "    .dataframe tbody tr th:only-of-type {\n",
              "        vertical-align: middle;\n",
              "    }\n",
              "\n",
              "    .dataframe tbody tr th {\n",
              "        vertical-align: top;\n",
              "    }\n",
              "\n",
              "    .dataframe thead th {\n",
              "        text-align: right;\n",
              "    }\n",
              "</style>\n",
              "<table border=\"1\" class=\"dataframe\">\n",
              "  <thead>\n",
              "    <tr style=\"text-align: right;\">\n",
              "      <th></th>\n",
              "      <th>id</th>\n",
              "      <th>label</th>\n",
              "      <th>sentence</th>\n",
              "    </tr>\n",
              "  </thead>\n",
              "  <tbody>\n",
              "    <tr>\n",
              "      <th>0</th>\n",
              "      <td>66133</td>\n",
              "      <td>0</td>\n",
              "      <td>He had also made headlines for kidnapping his ...</td>\n",
              "    </tr>\n",
              "    <tr>\n",
              "      <th>1</th>\n",
              "      <td>62058</td>\n",
              "      <td>0</td>\n",
              "      <td>___\\n8:15 p.m.</td>\n",
              "    </tr>\n",
              "    <tr>\n",
              "      <th>2</th>\n",
              "      <td>66742</td>\n",
              "      <td>0</td>\n",
              "      <td>Usually, it takes eight to nine months.</td>\n",
              "    </tr>\n",
              "    <tr>\n",
              "      <th>3</th>\n",
              "      <td>71549</td>\n",
              "      <td>0</td>\n",
              "      <td>Terming the situation pathetic, Jairam said he...</td>\n",
              "    </tr>\n",
              "    <tr>\n",
              "      <th>4</th>\n",
              "      <td>83223</td>\n",
              "      <td>0</td>\n",
              "      <td>'The freedom of the press depends on the right...</td>\n",
              "    </tr>\n",
              "  </tbody>\n",
              "</table>\n",
              "</div>"
            ],
            "text/plain": [
              "      id  label                                           sentence\n",
              "0  66133      0  He had also made headlines for kidnapping his ...\n",
              "1  62058      0                                     ___\\n8:15 p.m.\n",
              "2  66742      0            Usually, it takes eight to nine months.\n",
              "3  71549      0  Terming the situation pathetic, Jairam said he...\n",
              "4  83223      0  'The freedom of the press depends on the right..."
            ]
          },
          "metadata": {
            "tags": []
          },
          "execution_count": 7
        }
      ]
    },
    {
      "cell_type": "code",
      "metadata": {
        "id": "wKv-lRt-48_y"
      },
      "source": [
        "trainDfEng.drop_duplicates(subset= \"sentence\",inplace= True)"
      ],
      "execution_count": null,
      "outputs": []
    },
    {
      "cell_type": "code",
      "metadata": {
        "colab": {
          "base_uri": "https://localhost:8080/",
          "height": 333
        },
        "id": "hwrODgbmHFmm",
        "outputId": "39e4eb4f-1b6a-4f19-daa9-99437ee2c3d4"
      },
      "source": [
        "plt.hist(trainDfEng[\"label\"])"
      ],
      "execution_count": null,
      "outputs": [
        {
          "output_type": "execute_result",
          "data": {
            "text/plain": [
              "(array([18372.,     0.,     0.,     0.,     0.,     0.,     0.,     0.,\n",
              "            0.,  4210.]),\n",
              " array([0. , 0.1, 0.2, 0.3, 0.4, 0.5, 0.6, 0.7, 0.8, 0.9, 1. ]),\n",
              " <a list of 10 Patch objects>)"
            ]
          },
          "metadata": {
            "tags": []
          },
          "execution_count": 12
        },
        {
          "output_type": "display_data",
          "data": {
            "image/png": "[encoded data removed]",
            "text/plain": [
              "<Figure size 432x288 with 1 Axes>"
            ]
          },
          "metadata": {
            "tags": [],
            "needs_background": "light"
          }
        }
      ]
    },
    {
      "cell_type": "code",
      "metadata": {
        "colab": {
          "base_uri": "https://localhost:8080/"
        },
        "id": "ECg6Xdp4HJMk",
        "outputId": "fa751055-3e5e-43c1-e410-197d805c6876"
      },
      "source": [
        "import nltk\n",
        "import re\n",
        "from nltk.corpus import stopwords\n",
        "from nltk import word_tokenize\n",
        "\n",
        "nltk.download(\"stopwords\")\n",
        "nltk.download(\"punkt\")\n",
        "nltk.download(\"wordnet\")\n",
        "\n",
        "stop_words = set(stopwords.words('english'))\n",
        "lemmatizer = nltk.stem.wordnet.WordNetLemmatizer()\n",
        "\n",
        "def clean(text, stem = False):\n",
        "    # Lowering letters\n",
        "    text = text.lower()\n",
        "    # Removing html tags\n",
        "    text = re.sub('<[^>]*>', '', text)\n",
        "    # Removing emails\n",
        "    text = re.sub('\\S*@\\S*\\s?', '', text)\n",
        "    # Removing urls\n",
        "    text = re.sub('https?://[A-Za-z0-9]','',text)\n",
        "    # Removing numbers\n",
        "    text = re.sub('[^a-zA-Z\"]',' ',text)\n",
        "    word_tokens = word_tokenize(text)    \n",
        "    filtered_sentence = []\n",
        "    for word_token in word_tokens:\n",
        "      if stem:\n",
        "        if word_token != lemmatizer.lemmatize(word_token, \"v\"):\n",
        "          word_token = lemmatizer.lemmatize(word_token, \"v\")\n",
        "\n",
        "      filtered_sentence.append(word_token)\n",
        "    \n",
        "    # Joining words\n",
        "    text = (' '.join(filtered_sentence))\n",
        "    return text"
      ],
      "execution_count": null,
      "outputs": [
        {
          "output_type": "stream",
          "text": [
            "[nltk_data] Downloading package stopwords to /root/nltk_data...\n",
            "[nltk_data]   Unzipping corpora/stopwords.zip.\n",
            "[nltk_data] Downloading package punkt to /root/nltk_data...\n",
            "[nltk_data]   Unzipping tokenizers/punkt.zip.\n",
            "[nltk_data] Downloading package wordnet to /root/nltk_data...\n",
            "[nltk_data]   Unzipping corpora/wordnet.zip.\n"
          ],
          "name": "stdout"
        }
      ]
    },
    {
      "cell_type": "code",
      "metadata": {
        "colab": {
          "base_uri": "https://localhost:8080/"
        },
        "id": "ZO0qxYHaHSj_",
        "outputId": "6c8653ae-68c2-42b5-8f5f-a1bba67aa69a"
      },
      "source": [
        "all_cleaned_texts = np.array([clean(text) for text in trainDfEng[\"sentence\"]])\n",
        "\n",
        "tokenizer = tf.keras.preprocessing.text.Tokenizer()\n",
        "tokenizer.fit_on_texts(all_cleaned_texts)\n",
        "\n",
        "all_encoded_texts = tokenizer.texts_to_sequences(all_cleaned_texts)\n",
        "all_encoded_texts = np.array(all_encoded_texts)\n",
        "\n",
        "maxlen = max([len(sent) for sent in all_encoded_texts])\n",
        "all_encoded_texts = tf.keras.preprocessing.sequence.pad_sequences(all_encoded_texts, maxlen= maxlen)"
      ],
      "execution_count": null,
      "outputs": [
        {
          "output_type": "stream",
          "text": [
            "/usr/local/lib/python3.7/dist-packages/ipykernel_launcher.py:7: VisibleDeprecationWarning: Creating an ndarray from ragged nested sequences (which is a list-or-tuple of lists-or-tuples-or ndarrays with different lengths or shapes) is deprecated. If you meant to do this, you must specify 'dtype=object' when creating the ndarray\n",
            "  import sys\n"
          ],
          "name": "stderr"
        }
      ]
    },
    {
      "cell_type": "code",
      "metadata": {
        "id": "OkfyW0PxCoDh"
      },
      "source": [
        "!wget http://nlp.stanford.edu/data/glove.6B.zip\n",
        "!unzip -q glove.6B.zip"
      ],
      "execution_count": null,
      "outputs": []
    },
    {
      "cell_type": "code",
      "metadata": {
        "id": "M-u3xHHRHmQ8"
      },
      "source": [
        "def getEmbedding(mode = \"GN300\"):\n",
        "  import multiprocessing\n",
        "  import gensim\n",
        "  import gensim.downloader as api\n",
        "  import os\n",
        "\n",
        "  dim = 300\n",
        "\n",
        "  if mode == \"customTrained\":\n",
        "    modelW2V = gensim.models.Word2Vec(all_cleaned_texts, size= dim, min_count = 2, window = 5, sg=0, iter = 10, workers= multiprocessing.cpu_count() - 1)\n",
        "  elif mode == \"GN300\":\n",
        "    word2vec = api.load(\"word2vec-google-news-300\")\n",
        "    dim = 300\n",
        "  elif mode == \"glove\":\n",
        "    path_to_glove_file = os.path.join(\n",
        "        \"./glove.6B.300d.txt\"\n",
        "    )\n",
        "    dim = 300\n",
        "\n",
        "    word2vec = {}\n",
        "    with open(path_to_glove_file) as f:\n",
        "        for line in f:\n",
        "            word, coefs = line.split(maxsplit=1)\n",
        "            coefs = np.fromstring(coefs, \"f\", sep=\" \")\n",
        "            word2vec[word] = coefs\n",
        "\n",
        "    print(\"Found %s word vectors.\" % len(word2vec))\n",
        "  else:\n",
        "    word2vec = hub.load(\"https://tfhub.dev/google/nnlm-en-dim128/2\")\n",
        "    dim = 128\n",
        "\n",
        "  num_words = len(list(tokenizer.word_index))\n",
        "\n",
        "  embedding_matrix = np.random.uniform(-1, 1, (num_words + 1, dim))\n",
        "  for word, i in tokenizer.word_index.items():\n",
        "      if i < num_words:\n",
        "        try:\n",
        "          embedding_vector = word2vec.get_vector(word)\n",
        "          if embedding_vector is not None:\n",
        "            embedding_matrix[i] = embedding_vector\n",
        "          else:\n",
        "            embedding_matrix[i] = np.zeros((dim,))\n",
        "        except:\n",
        "          pass\n",
        "\n",
        "  embedding_matrix[num_words] = np.zeros((dim,))\n",
        "  return embedding_matrix\n",
        "\n",
        "EMBED_MODE = \"NNLM\"\n",
        "\n",
        "embedding_matrix = getEmbedding(EMBED_MODE)"
      ],
      "execution_count": null,
      "outputs": []
    },
    {
      "cell_type": "code",
      "metadata": {
        "id": "Sxmk-bmlHofo"
      },
      "source": [
        "from sklearn.model_selection import train_test_split\n",
        "\n",
        "X_train, X_test, y_train, y_test = train_test_split(all_encoded_texts, trainDfEng[\"label\"], test_size=0.2, random_state=42)\n",
        "# X_train, y_train = all_encoded_texts, trainDfEng[\"label\"]"
      ],
      "execution_count": null,
      "outputs": []
    },
    {
      "cell_type": "markdown",
      "metadata": {
        "id": "NIHIFD9aAKTT"
      },
      "source": [
        "## MODELS"
      ]
    },
    {
      "cell_type": "code",
      "metadata": {
        "id": "uXCQw9OffFLN"
      },
      "source": [
        "from sklearn.metrics import f1_score\n",
        "\n",
        "class MacroF1Callback(tf.keras.callbacks.Callback):\n",
        "  def on_epoch_end(self, epoch, logs=None):\n",
        "    y_pred = self.model.predict(X_train)\n",
        "\n",
        "    print(\"Train F1 Score: \", f1_score(y_train, y_pred > 0.5, average = \"macro\"))\n",
        "    \n",
        "    y_pred = self.model.predict(X_test)\n",
        "\n",
        "    print(\"Test F1 Score: \", f1_score(y_test, y_pred > 0.5, average = \"macro\"))"
      ],
      "execution_count": null,
      "outputs": []
    },
    {
      "cell_type": "code",
      "metadata": {
        "id": "7yBJyHLhHu12"
      },
      "source": [
        "TRAIN_EMBED = False\n",
        "DROPOUT = 0.5\n",
        "\n",
        "def get_model():\n",
        "  model = tf.keras.models.Sequential([\n",
        "                                      tf.keras.layers.Embedding(input_dim= embedding_matrix.shape[0],\n",
        "                                                                output_dim= embedding_matrix.shape[1],\n",
        "                                                                weights = [embedding_matrix],\n",
        "                                                                input_length= maxlen,\n",
        "                                                              trainable = TRAIN_EMBED),\n",
        "                                      tf.keras.layers.Conv1D(128, 3, activation= \"relu\", padding= \"same\"),\n",
        "                                      tf.keras.layers.GlobalMaxPool1D(),\n",
        "                                      tf.keras.layers.Dropout(DROPOUT),\n",
        "                                      tf.keras.layers.Dense(64, activation= \"relu\", kernel_regularizer= tf.keras.regularizers.l2(1e-4)),\n",
        "                                      tf.keras.layers.Dense(1, activation= \"sigmoid\")\n",
        "                                      ]\n",
        "  )\n",
        "\n",
        "  model.compile(loss='binary_crossentropy', \n",
        "              optimizer='Adam', \n",
        "              metrics=['accuracy', \"AUC\"])\n",
        "  \n",
        "  return model"
      ],
      "execution_count": null,
      "outputs": []
    },
    {
      "cell_type": "code",
      "metadata": {
        "colab": {
          "base_uri": "https://localhost:8080/"
        },
        "id": "hcmGPG-IX3dB",
        "outputId": "2ddf039b-1346-49eb-f0d4-d342fa35358e"
      },
      "source": [
        "model = get_model()\n",
        "\n",
        "PARAMS = {\"train_embed\": TRAIN_EMBED, \"embedding\": EMBED_MODE, \"dropout\": DROPOUT, \"batch_size\": 16, \"weights\": 1}\n",
        "\n",
        "run[\"model_name\"] = \"CNN\"\n",
        "run[\"hyper-parameters\"] = PARAMS\n",
        "\n",
        "model.fit(X_train, y_train, validation_data= (X_test, y_test), batch_size= 16, epochs= 100, callbacks= [\n",
        "    tf.keras.callbacks.EarlyStopping(patience= 3, verbose = 1, monitor = \"val_auc\", mode= \"max\"), \n",
        "    tf.keras.callbacks.ModelCheckpoint(monitor = \"val_loss\", filepath = \"./modelcnn\", save_best_only = True, save_weights_only = True),\n",
        "    neptune_cbk,\n",
        "    MacroF1Callback()\n",
        "])"
      ],
      "execution_count": null,
      "outputs": [
        {
          "output_type": "stream",
          "text": [
            "Epoch 1/100\n",
            "1130/1130 [==============================] - 42s 11ms/step - loss: 0.5209 - accuracy: 0.8057 - auc: 0.5516 - val_loss: 0.4041 - val_accuracy: 0.8271 - val_auc: 0.8061\n",
            "Train F1 Score:  0.5442274586922412\n",
            "Test F1 Score:  0.5260459455490711\n",
            "Epoch 2/100\n",
            "1130/1130 [==============================] - 11s 10ms/step - loss: 0.4242 - accuracy: 0.8284 - auc: 0.7496 - val_loss: 0.4274 - val_accuracy: 0.8559 - val_auc: 0.8478\n",
            "Train F1 Score:  0.7987080119363765\n",
            "Test F1 Score:  0.7569249997830105\n",
            "Epoch 3/100\n",
            "1130/1130 [==============================] - 10s 9ms/step - loss: 0.3767 - accuracy: 0.8504 - auc: 0.8170 - val_loss: 0.3364 - val_accuracy: 0.8689 - val_auc: 0.8639\n",
            "Train F1 Score:  0.758448077822198\n",
            "Test F1 Score:  0.725909070409138\n",
            "Epoch 4/100\n",
            "1130/1130 [==============================] - 10s 9ms/step - loss: 0.3425 - accuracy: 0.8620 - auc: 0.8582 - val_loss: 0.3266 - val_accuracy: 0.8716 - val_auc: 0.8725\n",
            "Train F1 Score:  0.7722952011914611\n",
            "Test F1 Score:  0.734301662833104\n",
            "Epoch 5/100\n",
            "1130/1130 [==============================] - 10s 9ms/step - loss: 0.3164 - accuracy: 0.8740 - auc: 0.8757 - val_loss: 0.3188 - val_accuracy: 0.8747 - val_auc: 0.8758\n",
            "Train F1 Score:  0.8155332949733824\n",
            "Test F1 Score:  0.7529367857590147\n",
            "Epoch 6/100\n",
            "1130/1130 [==============================] - 11s 10ms/step - loss: 0.2973 - accuracy: 0.8826 - auc: 0.8986 - val_loss: 0.3171 - val_accuracy: 0.8793 - val_auc: 0.8806\n",
            "Train F1 Score:  0.8556010674088501\n",
            "Test F1 Score:  0.7729590766244037\n",
            "Epoch 7/100\n",
            "1130/1130 [==============================] - 11s 9ms/step - loss: 0.2829 - accuracy: 0.8868 - auc: 0.9096 - val_loss: 0.3186 - val_accuracy: 0.8851 - val_auc: 0.8874\n",
            "Train F1 Score:  0.8882697674138236\n",
            "Test F1 Score:  0.7931080221813418\n",
            "Epoch 8/100\n",
            "1130/1130 [==============================] - 10s 9ms/step - loss: 0.2686 - accuracy: 0.8915 - auc: 0.9192 - val_loss: 0.3186 - val_accuracy: 0.8743 - val_auc: 0.8899\n",
            "Train F1 Score:  0.9056359239377061\n",
            "Test F1 Score:  0.7890197956556263\n",
            "Epoch 9/100\n",
            "1130/1130 [==============================] - 10s 9ms/step - loss: 0.2564 - accuracy: 0.8952 - auc: 0.9296 - val_loss: 0.3038 - val_accuracy: 0.8816 - val_auc: 0.8903\n",
            "Train F1 Score:  0.9159674445405266\n",
            "Test F1 Score:  0.790278722636311\n",
            "Epoch 10/100\n",
            "1130/1130 [==============================] - 11s 10ms/step - loss: 0.2426 - accuracy: 0.9013 - auc: 0.9378 - val_loss: 0.3073 - val_accuracy: 0.8809 - val_auc: 0.8920\n",
            "Train F1 Score:  0.9270419633181912\n",
            "Test F1 Score:  0.7944777545261229\n",
            "Epoch 11/100\n",
            "1130/1130 [==============================] - 11s 9ms/step - loss: 0.2341 - accuracy: 0.9074 - auc: 0.9426 - val_loss: 0.3112 - val_accuracy: 0.8771 - val_auc: 0.8933\n",
            "Train F1 Score:  0.9362886549721056\n",
            "Test F1 Score:  0.7921754128102683\n",
            "Epoch 12/100\n",
            "1130/1130 [==============================] - 10s 9ms/step - loss: 0.2274 - accuracy: 0.9084 - auc: 0.9445 - val_loss: 0.2987 - val_accuracy: 0.8884 - val_auc: 0.8962\n",
            "Train F1 Score:  0.9406378231455197\n",
            "Test F1 Score:  0.8004636222698559\n",
            "Epoch 13/100\n",
            "1130/1130 [==============================] - 10s 9ms/step - loss: 0.2051 - accuracy: 0.9193 - auc: 0.9560 - val_loss: 0.3000 - val_accuracy: 0.8822 - val_auc: 0.8929\n",
            "Train F1 Score:  0.9492402788874035\n",
            "Test F1 Score:  0.78871113868455\n",
            "Epoch 14/100\n",
            "1130/1130 [==============================] - 11s 10ms/step - loss: 0.2029 - accuracy: 0.9208 - auc: 0.9586 - val_loss: 0.2991 - val_accuracy: 0.8838 - val_auc: 0.8961\n",
            "Train F1 Score:  0.9505222471860875\n",
            "Test F1 Score:  0.7817883431814637\n",
            "Epoch 15/100\n",
            "1130/1130 [==============================] - 10s 9ms/step - loss: 0.2051 - accuracy: 0.9221 - auc: 0.9546 - val_loss: 0.3333 - val_accuracy: 0.8592 - val_auc: 0.8935\n",
            "Train F1 Score:  0.9448480088345674\n",
            "Test F1 Score:  0.7808333424881262\n",
            "Epoch 00015: early stopping\n"
          ],
          "name": "stdout"
        },
        {
          "output_type": "execute_result",
          "data": {
            "text/plain": [
              "<tensorflow.python.keras.callbacks.History at 0x7fc5c45b5910>"
            ]
          },
          "metadata": {
            "tags": []
          },
          "execution_count": 24
        }
      ]
    },
    {
      "cell_type": "code",
      "metadata": {
        "id": "F138JBIcI79l",
        "colab": {
          "base_uri": "https://localhost:8080/"
        },
        "outputId": "7a503261-bfbc-4ddf-bb02-62f6e94aa33f"
      },
      "source": [
        "model.load_weights(\"./modelcnn\")"
      ],
      "execution_count": null,
      "outputs": [
        {
          "output_type": "execute_result",
          "data": {
            "text/plain": [
              "<tensorflow.python.training.tracking.util.CheckpointLoadStatus at 0x7fc5c45bbe50>"
            ]
          },
          "metadata": {
            "tags": []
          },
          "execution_count": 25
        }
      ]
    },
    {
      "cell_type": "code",
      "metadata": {
        "id": "JqseD7eEI8cN",
        "colab": {
          "base_uri": "https://localhost:8080/"
        },
        "outputId": "17b37d8f-d8d4-4bb5-b70a-43bebff1ef8b"
      },
      "source": [
        "from sklearn.metrics import classification_report\n",
        "\n",
        "print(classification_report(y_test, model.predict(X_test) > 0.5, digits= 4))"
      ],
      "execution_count": null,
      "outputs": [
        {
          "output_type": "stream",
          "text": [
            "              precision    recall  f1-score   support\n",
            "\n",
            "           0     0.9135    0.9532    0.9329      3678\n",
            "           1     0.7467    0.6043    0.6680       839\n",
            "\n",
            "    accuracy                         0.8884      4517\n",
            "   macro avg     0.8301    0.7788    0.8005      4517\n",
            "weighted avg     0.8825    0.8884    0.8837      4517\n",
            "\n"
          ],
          "name": "stdout"
        }
      ]
    },
    {
      "cell_type": "code",
      "metadata": {
        "id": "lgcXirxWHgaf"
      },
      "source": [
        "from sklearn import metrics\n",
        "fpr, tpr, thresholds = metrics.roc_curve(y_test, model.predict(X_test))"
      ],
      "execution_count": null,
      "outputs": []
    },
    {
      "cell_type": "code",
      "metadata": {
        "id": "VqH5c_YxKL7n",
        "colab": {
          "base_uri": "https://localhost:8080/"
        },
        "outputId": "79aff5cc-daca-48ee-a3dd-78d10346c60c"
      },
      "source": [
        "from sklearn.metrics import f1_score\n",
        "\n",
        "y_pred = model.predict(X_test)\n",
        "\n",
        "bestT = 0\n",
        "bestF1 = 0\n",
        "for t in thresholds:\n",
        "  f1 = f1_score(y_test, y_pred > t)\n",
        "  if f1 > bestF1:\n",
        "    bestF1 = f1\n",
        "    bestT = t\n",
        "\n",
        "print(\"Best threshold: \", bestT)\n",
        "print(classification_report(y_test, model.predict(X_test) > bestT))"
      ],
      "execution_count": null,
      "outputs": [
        {
          "output_type": "stream",
          "text": [
            "Best threshold:  0.3424719\n",
            "              precision    recall  f1-score   support\n",
            "\n",
            "           0       0.93      0.92      0.92      3678\n",
            "           1       0.65      0.69      0.67       839\n",
            "\n",
            "    accuracy                           0.87      4517\n",
            "   macro avg       0.79      0.80      0.80      4517\n",
            "weighted avg       0.88      0.87      0.88      4517\n",
            "\n"
          ],
          "name": "stdout"
        }
      ]
    },
    {
      "cell_type": "markdown",
      "metadata": {
        "id": "qC6oTSJLXf59"
      },
      "source": [
        "# Test Predictions"
      ]
    },
    {
      "cell_type": "code",
      "metadata": {
        "colab": {
          "base_uri": "https://localhost:8080/",
          "height": 204
        },
        "id": "9DKU58ikbL5k",
        "outputId": "aa6c1135-97e1-47d5-c2c6-bd612c5c3572"
      },
      "source": [
        "dfTest = pd.read_json(\"./test.json\", lines = True)\n",
        "dfTest.head()"
      ],
      "execution_count": null,
      "outputs": [
        {
          "output_type": "execute_result",
          "data": {
            "text/html": [
              "<div>\n",
              "<style scoped>\n",
              "    .dataframe tbody tr th:only-of-type {\n",
              "        vertical-align: middle;\n",
              "    }\n",
              "\n",
              "    .dataframe tbody tr th {\n",
              "        vertical-align: top;\n",
              "    }\n",
              "\n",
              "    .dataframe thead th {\n",
              "        text-align: right;\n",
              "    }\n",
              "</style>\n",
              "<table border=\"1\" class=\"dataframe\">\n",
              "  <thead>\n",
              "    <tr style=\"text-align: right;\">\n",
              "      <th></th>\n",
              "      <th>id</th>\n",
              "      <th>sentence</th>\n",
              "    </tr>\n",
              "  </thead>\n",
              "  <tbody>\n",
              "    <tr>\n",
              "      <th>0</th>\n",
              "      <td>64573</td>\n",
              "      <td>A child ran around in a T-shirt that read: New...</td>\n",
              "    </tr>\n",
              "    <tr>\n",
              "      <th>1</th>\n",
              "      <td>81433</td>\n",
              "      <td>\"BJP is not confident of winning Assembly elec...</td>\n",
              "    </tr>\n",
              "    <tr>\n",
              "      <th>2</th>\n",
              "      <td>74797</td>\n",
              "      <td>Sources agreed that there was a backlog in thi...</td>\n",
              "    </tr>\n",
              "    <tr>\n",
              "      <th>3</th>\n",
              "      <td>75687</td>\n",
              "      <td>As Step II , the Congress appears to have emba...</td>\n",
              "    </tr>\n",
              "    <tr>\n",
              "      <th>4</th>\n",
              "      <td>81126</td>\n",
              "      <td>How Chinese goods became a victim of Pakistani...</td>\n",
              "    </tr>\n",
              "  </tbody>\n",
              "</table>\n",
              "</div>"
            ],
            "text/plain": [
              "      id                                           sentence\n",
              "0  64573  A child ran around in a T-shirt that read: New...\n",
              "1  81433  \"BJP is not confident of winning Assembly elec...\n",
              "2  74797  Sources agreed that there was a backlog in thi...\n",
              "3  75687  As Step II , the Congress appears to have emba...\n",
              "4  81126  How Chinese goods became a victim of Pakistani..."
            ]
          },
          "metadata": {
            "tags": []
          },
          "execution_count": 29
        }
      ]
    },
    {
      "cell_type": "code",
      "metadata": {
        "colab": {
          "base_uri": "https://localhost:8080/"
        },
        "id": "posxHmXDbL50",
        "outputId": "45e40728-a885-43ac-b258-275d2c6109b8"
      },
      "source": [
        "all_cleaned_texts = np.array([clean(text) for text in dfTest[\"sentence\"]])\n",
        "\n",
        "# tokenizer = tf.keras.preprocessing.text.Tokenizer()\n",
        "# tokenizer.fit_on_texts(all_cleaned_texts)\n",
        "\n",
        "all_encoded_texts = tokenizer.texts_to_sequences(all_cleaned_texts)\n",
        "all_encoded_texts = np.array(all_encoded_texts)\n",
        "\n",
        "# maxlen = max([len(sent) for sent in all_encoded_texts])\n",
        "all_encoded_texts = tf.keras.preprocessing.sequence.pad_sequences(all_encoded_texts, maxlen= maxlen)\n",
        "\n",
        "X_test = all_encoded_texts"
      ],
      "execution_count": null,
      "outputs": [
        {
          "output_type": "stream",
          "text": [
            "/usr/local/lib/python3.7/dist-packages/ipykernel_launcher.py:7: VisibleDeprecationWarning: Creating an ndarray from ragged nested sequences (which is a list-or-tuple of lists-or-tuples-or ndarrays with different lengths or shapes) is deprecated. If you meant to do this, you must specify 'dtype=object' when creating the ndarray\n",
            "  import sys\n"
          ],
          "name": "stderr"
        }
      ]
    },
    {
      "cell_type": "code",
      "metadata": {
        "colab": {
          "base_uri": "https://localhost:8080/"
        },
        "id": "dckRlgOuXDcr",
        "outputId": "12916fc1-be38-4ff0-bafe-ad73cfad5332"
      },
      "source": [
        "y_pred = model.predict_proba(X_test)\n",
        "\n",
        "import pickle\n",
        "\n",
        "with open(\"./FinalPredictions/\" + \"CNN-NNLM-TRAINED2\" + \".pkl\", \"wb\") as fout:\n",
        "  pickle.dump(y_pred, fout)"
      ],
      "execution_count": null,
      "outputs": [
        {
          "output_type": "stream",
          "text": [
            "/usr/local/lib/python3.7/dist-packages/tensorflow/python/keras/engine/sequential.py:425: UserWarning: `model.predict_proba()` is deprecated and will be removed after 2021-01-01. Please use `model.predict()` instead.\n",
            "  warnings.warn('`model.predict_proba()` is deprecated and '\n"
          ],
          "name": "stderr"
        }
      ]
    }
  ]
}