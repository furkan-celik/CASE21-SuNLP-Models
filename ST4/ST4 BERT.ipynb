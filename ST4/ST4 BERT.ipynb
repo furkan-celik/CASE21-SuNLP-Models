{
  "nbformat": 4,
  "nbformat_minor": 0,
  "metadata": {
    "accelerator": "GPU",
    "colab": {
      "name": "BERT.ipynb",
      "provenance": [],
      "collapsed_sections": []
    },
    "kernelspec": {
      "display_name": "Python 3",
      "name": "python3"
    },
    "language_info": {
      "name": "python"
    },
    "widgets": {
      "application/vnd.jupyter.widget-state+json": {
        "e15bb8d19b814c7f9cfb14c9f3a8a1bb": {
          "model_module": "@jupyter-widgets/controls",
          "model_name": "HBoxModel",
          "state": {
            "_view_name": "HBoxView",
            "_dom_classes": [],
            "_model_name": "HBoxModel",
            "_view_module": "@jupyter-widgets/controls",
            "_model_module_version": "1.5.0",
            "_view_count": null,
            "_view_module_version": "1.5.0",
            "box_style": "",
            "layout": "IPY_MODEL_22d266dc332f4e078f3aa05ec98d11e3",
            "_model_module": "@jupyter-widgets/controls",
            "children": [
              "IPY_MODEL_e79a2864990e44debc1569ede46d239a",
              "IPY_MODEL_6f33612556b3480987da8cd798bb6cab"
            ]
          }
        },
        "22d266dc332f4e078f3aa05ec98d11e3": {
          "model_module": "@jupyter-widgets/base",
          "model_name": "LayoutModel",
          "state": {
            "_view_name": "LayoutView",
            "grid_template_rows": null,
            "right": null,
            "justify_content": null,
            "_view_module": "@jupyter-widgets/base",
            "overflow": null,
            "_model_module_version": "1.2.0",
            "_view_count": null,
            "flex_flow": null,
            "width": null,
            "min_width": null,
            "border": null,
            "align_items": null,
            "bottom": null,
            "_model_module": "@jupyter-widgets/base",
            "top": null,
            "grid_column": null,
            "overflow_y": null,
            "overflow_x": null,
            "grid_auto_flow": null,
            "grid_area": null,
            "grid_template_columns": null,
            "flex": null,
            "_model_name": "LayoutModel",
            "justify_items": null,
            "grid_row": null,
            "max_height": null,
            "align_content": null,
            "visibility": null,
            "align_self": null,
            "height": null,
            "min_height": null,
            "padding": null,
            "grid_auto_rows": null,
            "grid_gap": null,
            "max_width": null,
            "order": null,
            "_view_module_version": "1.2.0",
            "grid_template_areas": null,
            "object_position": null,
            "object_fit": null,
            "grid_auto_columns": null,
            "margin": null,
            "display": null,
            "left": null
          }
        },
        "e79a2864990e44debc1569ede46d239a": {
          "model_module": "@jupyter-widgets/controls",
          "model_name": "FloatProgressModel",
          "state": {
            "_view_name": "ProgressView",
            "style": "IPY_MODEL_d23dd2dc40d54531b60f7ccafc3b9392",
            "_dom_classes": [],
            "description": "Downloading: 100%",
            "_model_name": "FloatProgressModel",
            "bar_style": "success",
            "max": 481,
            "_view_module": "@jupyter-widgets/controls",
            "_model_module_version": "1.5.0",
            "value": 481,
            "_view_count": null,
            "_view_module_version": "1.5.0",
            "orientation": "horizontal",
            "min": 0,
            "description_tooltip": null,
            "_model_module": "@jupyter-widgets/controls",
            "layout": "IPY_MODEL_e7cbcbc2091c40829c1330d2dcd2ef18"
          }
        },
        "6f33612556b3480987da8cd798bb6cab": {
          "model_module": "@jupyter-widgets/controls",
          "model_name": "HTMLModel",
          "state": {
            "_view_name": "HTMLView",
            "style": "IPY_MODEL_83bc06cb3b3641309914be6358afd200",
            "_dom_classes": [],
            "description": "",
            "_model_name": "HTMLModel",
            "placeholder": "​",
            "_view_module": "@jupyter-widgets/controls",
            "_model_module_version": "1.5.0",
            "value": " 481/481 [00:00&lt;00:00, 2.21kB/s]",
            "_view_count": null,
            "_view_module_version": "1.5.0",
            "description_tooltip": null,
            "_model_module": "@jupyter-widgets/controls",
            "layout": "IPY_MODEL_bcdfad711a434f52b18a4d63fed3c851"
          }
        },
        "d23dd2dc40d54531b60f7ccafc3b9392": {
          "model_module": "@jupyter-widgets/controls",
          "model_name": "ProgressStyleModel",
          "state": {
            "_view_name": "StyleView",
            "_model_name": "ProgressStyleModel",
            "description_width": "initial",
            "_view_module": "@jupyter-widgets/base",
            "_model_module_version": "1.5.0",
            "_view_count": null,
            "_view_module_version": "1.2.0",
            "bar_color": null,
            "_model_module": "@jupyter-widgets/controls"
          }
        },
        "e7cbcbc2091c40829c1330d2dcd2ef18": {
          "model_module": "@jupyter-widgets/base",
          "model_name": "LayoutModel",
          "state": {
            "_view_name": "LayoutView",
            "grid_template_rows": null,
            "right": null,
            "justify_content": null,
            "_view_module": "@jupyter-widgets/base",
            "overflow": null,
            "_model_module_version": "1.2.0",
            "_view_count": null,
            "flex_flow": null,
            "width": null,
            "min_width": null,
            "border": null,
            "align_items": null,
            "bottom": null,
            "_model_module": "@jupyter-widgets/base",
            "top": null,
            "grid_column": null,
            "overflow_y": null,
            "overflow_x": null,
            "grid_auto_flow": null,
            "grid_area": null,
            "grid_template_columns": null,
            "flex": null,
            "_model_name": "LayoutModel",
            "justify_items": null,
            "grid_row": null,
            "max_height": null,
            "align_content": null,
            "visibility": null,
            "align_self": null,
            "height": null,
            "min_height": null,
            "padding": null,
            "grid_auto_rows": null,
            "grid_gap": null,
            "max_width": null,
            "order": null,
            "_view_module_version": "1.2.0",
            "grid_template_areas": null,
            "object_position": null,
            "object_fit": null,
            "grid_auto_columns": null,
            "margin": null,
            "display": null,
            "left": null
          }
        },
        "83bc06cb3b3641309914be6358afd200": {
          "model_module": "@jupyter-widgets/controls",
          "model_name": "DescriptionStyleModel",
          "state": {
            "_view_name": "StyleView",
            "_model_name": "DescriptionStyleModel",
            "description_width": "",
            "_view_module": "@jupyter-widgets/base",
            "_model_module_version": "1.5.0",
            "_view_count": null,
            "_view_module_version": "1.2.0",
            "_model_module": "@jupyter-widgets/controls"
          }
        },
        "bcdfad711a434f52b18a4d63fed3c851": {
          "model_module": "@jupyter-widgets/base",
          "model_name": "LayoutModel",
          "state": {
            "_view_name": "LayoutView",
            "grid_template_rows": null,
            "right": null,
            "justify_content": null,
            "_view_module": "@jupyter-widgets/base",
            "overflow": null,
            "_model_module_version": "1.2.0",
            "_view_count": null,
            "flex_flow": null,
            "width": null,
            "min_width": null,
            "border": null,
            "align_items": null,
            "bottom": null,
            "_model_module": "@jupyter-widgets/base",
            "top": null,
            "grid_column": null,
            "overflow_y": null,
            "overflow_x": null,
            "grid_auto_flow": null,
            "grid_area": null,
            "grid_template_columns": null,
            "flex": null,
            "_model_name": "LayoutModel",
            "justify_items": null,
            "grid_row": null,
            "max_height": null,
            "align_content": null,
            "visibility": null,
            "align_self": null,
            "height": null,
            "min_height": null,
            "padding": null,
            "grid_auto_rows": null,
            "grid_gap": null,
            "max_width": null,
            "order": null,
            "_view_module_version": "1.2.0",
            "grid_template_areas": null,
            "object_position": null,
            "object_fit": null,
            "grid_auto_columns": null,
            "margin": null,
            "display": null,
            "left": null
          }
        },
        "112df239f98c4e9b8135690a110fced9": {
          "model_module": "@jupyter-widgets/controls",
          "model_name": "HBoxModel",
          "state": {
            "_view_name": "HBoxView",
            "_dom_classes": [],
            "_model_name": "HBoxModel",
            "_view_module": "@jupyter-widgets/controls",
            "_model_module_version": "1.5.0",
            "_view_count": null,
            "_view_module_version": "1.5.0",
            "box_style": "",
            "layout": "IPY_MODEL_13ec1520395a443c9867cbe27a8fe5f9",
            "_model_module": "@jupyter-widgets/controls",
            "children": [
              "IPY_MODEL_4d3482aea9bd467c92bd055a233704a0",
              "IPY_MODEL_7814e210eca84d7eaf954f5cdf656607"
            ]
          }
        },
        "13ec1520395a443c9867cbe27a8fe5f9": {
          "model_module": "@jupyter-widgets/base",
          "model_name": "LayoutModel",
          "state": {
            "_view_name": "LayoutView",
            "grid_template_rows": null,
            "right": null,
            "justify_content": null,
            "_view_module": "@jupyter-widgets/base",
            "overflow": null,
            "_model_module_version": "1.2.0",
            "_view_count": null,
            "flex_flow": null,
            "width": null,
            "min_width": null,
            "border": null,
            "align_items": null,
            "bottom": null,
            "_model_module": "@jupyter-widgets/base",
            "top": null,
            "grid_column": null,
            "overflow_y": null,
            "overflow_x": null,
            "grid_auto_flow": null,
            "grid_area": null,
            "grid_template_columns": null,
            "flex": null,
            "_model_name": "LayoutModel",
            "justify_items": null,
            "grid_row": null,
            "max_height": null,
            "align_content": null,
            "visibility": null,
            "align_self": null,
            "height": null,
            "min_height": null,
            "padding": null,
            "grid_auto_rows": null,
            "grid_gap": null,
            "max_width": null,
            "order": null,
            "_view_module_version": "1.2.0",
            "grid_template_areas": null,
            "object_position": null,
            "object_fit": null,
            "grid_auto_columns": null,
            "margin": null,
            "display": null,
            "left": null
          }
        },
        "4d3482aea9bd467c92bd055a233704a0": {
          "model_module": "@jupyter-widgets/controls",
          "model_name": "FloatProgressModel",
          "state": {
            "_view_name": "ProgressView",
            "style": "IPY_MODEL_3aa03a094620452a84ce856d6b324994",
            "_dom_classes": [],
            "description": "Downloading: 100%",
            "_model_name": "FloatProgressModel",
            "bar_style": "success",
            "max": 501200538,
            "_view_module": "@jupyter-widgets/controls",
            "_model_module_version": "1.5.0",
            "value": 501200538,
            "_view_count": null,
            "_view_module_version": "1.5.0",
            "orientation": "horizontal",
            "min": 0,
            "description_tooltip": null,
            "_model_module": "@jupyter-widgets/controls",
            "layout": "IPY_MODEL_e51cc7d2f02e4fab81b38783d324b90a"
          }
        },
        "7814e210eca84d7eaf954f5cdf656607": {
          "model_module": "@jupyter-widgets/controls",
          "model_name": "HTMLModel",
          "state": {
            "_view_name": "HTMLView",
            "style": "IPY_MODEL_d1817e89f8a54c679cbf1d7dd618ebab",
            "_dom_classes": [],
            "description": "",
            "_model_name": "HTMLModel",
            "placeholder": "​",
            "_view_module": "@jupyter-widgets/controls",
            "_model_module_version": "1.5.0",
            "value": " 501M/501M [00:21&lt;00:00, 23.6MB/s]",
            "_view_count": null,
            "_view_module_version": "1.5.0",
            "description_tooltip": null,
            "_model_module": "@jupyter-widgets/controls",
            "layout": "IPY_MODEL_878e674a15624ceeb3c3858eb63dbb77"
          }
        },
        "3aa03a094620452a84ce856d6b324994": {
          "model_module": "@jupyter-widgets/controls",
          "model_name": "ProgressStyleModel",
          "state": {
            "_view_name": "StyleView",
            "_model_name": "ProgressStyleModel",
            "description_width": "initial",
            "_view_module": "@jupyter-widgets/base",
            "_model_module_version": "1.5.0",
            "_view_count": null,
            "_view_module_version": "1.2.0",
            "bar_color": null,
            "_model_module": "@jupyter-widgets/controls"
          }
        },
        "e51cc7d2f02e4fab81b38783d324b90a": {
          "model_module": "@jupyter-widgets/base",
          "model_name": "LayoutModel",
          "state": {
            "_view_name": "LayoutView",
            "grid_template_rows": null,
            "right": null,
            "justify_content": null,
            "_view_module": "@jupyter-widgets/base",
            "overflow": null,
            "_model_module_version": "1.2.0",
            "_view_count": null,
            "flex_flow": null,
            "width": null,
            "min_width": null,
            "border": null,
            "align_items": null,
            "bottom": null,
            "_model_module": "@jupyter-widgets/base",
            "top": null,
            "grid_column": null,
            "overflow_y": null,
            "overflow_x": null,
            "grid_auto_flow": null,
            "grid_area": null,
            "grid_template_columns": null,
            "flex": null,
            "_model_name": "LayoutModel",
            "justify_items": null,
            "grid_row": null,
            "max_height": null,
            "align_content": null,
            "visibility": null,
            "align_self": null,
            "height": null,
            "min_height": null,
            "padding": null,
            "grid_auto_rows": null,
            "grid_gap": null,
            "max_width": null,
            "order": null,
            "_view_module_version": "1.2.0",
            "grid_template_areas": null,
            "object_position": null,
            "object_fit": null,
            "grid_auto_columns": null,
            "margin": null,
            "display": null,
            "left": null
          }
        },
        "d1817e89f8a54c679cbf1d7dd618ebab": {
          "model_module": "@jupyter-widgets/controls",
          "model_name": "DescriptionStyleModel",
          "state": {
            "_view_name": "StyleView",
            "_model_name": "DescriptionStyleModel",
            "description_width": "",
            "_view_module": "@jupyter-widgets/base",
            "_model_module_version": "1.5.0",
            "_view_count": null,
            "_view_module_version": "1.2.0",
            "_model_module": "@jupyter-widgets/controls"
          }
        },
        "878e674a15624ceeb3c3858eb63dbb77": {
          "model_module": "@jupyter-widgets/base",
          "model_name": "LayoutModel",
          "state": {
            "_view_name": "LayoutView",
            "grid_template_rows": null,
            "right": null,
            "justify_content": null,
            "_view_module": "@jupyter-widgets/base",
            "overflow": null,
            "_model_module_version": "1.2.0",
            "_view_count": null,
            "flex_flow": null,
            "width": null,
            "min_width": null,
            "border": null,
            "align_items": null,
            "bottom": null,
            "_model_module": "@jupyter-widgets/base",
            "top": null,
            "grid_column": null,
            "overflow_y": null,
            "overflow_x": null,
            "grid_auto_flow": null,
            "grid_area": null,
            "grid_template_columns": null,
            "flex": null,
            "_model_name": "LayoutModel",
            "justify_items": null,
            "grid_row": null,
            "max_height": null,
            "align_content": null,
            "visibility": null,
            "align_self": null,
            "height": null,
            "min_height": null,
            "padding": null,
            "grid_auto_rows": null,
            "grid_gap": null,
            "max_width": null,
            "order": null,
            "_view_module_version": "1.2.0",
            "grid_template_areas": null,
            "object_position": null,
            "object_fit": null,
            "grid_auto_columns": null,
            "margin": null,
            "display": null,
            "left": null
          }
        },
        "c04e3a1fb5ad484a9946463e37231370": {
          "model_module": "@jupyter-widgets/controls",
          "model_name": "HBoxModel",
          "state": {
            "_view_name": "HBoxView",
            "_dom_classes": [],
            "_model_name": "HBoxModel",
            "_view_module": "@jupyter-widgets/controls",
            "_model_module_version": "1.5.0",
            "_view_count": null,
            "_view_module_version": "1.5.0",
            "box_style": "",
            "layout": "IPY_MODEL_fd63090c4f264aa1930630dcacf9e351",
            "_model_module": "@jupyter-widgets/controls",
            "children": [
              "IPY_MODEL_73c7915601d44db1946b9dd6bfbd2c1b",
              "IPY_MODEL_1c6ba0f79c49413d8c5c5bbbf33d12ae"
            ]
          }
        },
        "fd63090c4f264aa1930630dcacf9e351": {
          "model_module": "@jupyter-widgets/base",
          "model_name": "LayoutModel",
          "state": {
            "_view_name": "LayoutView",
            "grid_template_rows": null,
            "right": null,
            "justify_content": null,
            "_view_module": "@jupyter-widgets/base",
            "overflow": null,
            "_model_module_version": "1.2.0",
            "_view_count": null,
            "flex_flow": null,
            "width": null,
            "min_width": null,
            "border": null,
            "align_items": null,
            "bottom": null,
            "_model_module": "@jupyter-widgets/base",
            "top": null,
            "grid_column": null,
            "overflow_y": null,
            "overflow_x": null,
            "grid_auto_flow": null,
            "grid_area": null,
            "grid_template_columns": null,
            "flex": null,
            "_model_name": "LayoutModel",
            "justify_items": null,
            "grid_row": null,
            "max_height": null,
            "align_content": null,
            "visibility": null,
            "align_self": null,
            "height": null,
            "min_height": null,
            "padding": null,
            "grid_auto_rows": null,
            "grid_gap": null,
            "max_width": null,
            "order": null,
            "_view_module_version": "1.2.0",
            "grid_template_areas": null,
            "object_position": null,
            "object_fit": null,
            "grid_auto_columns": null,
            "margin": null,
            "display": null,
            "left": null
          }
        },
        "73c7915601d44db1946b9dd6bfbd2c1b": {
          "model_module": "@jupyter-widgets/controls",
          "model_name": "FloatProgressModel",
          "state": {
            "_view_name": "ProgressView",
            "style": "IPY_MODEL_cff9da411b054cc58db577041a306702",
            "_dom_classes": [],
            "description": "Downloading: 100%",
            "_model_name": "FloatProgressModel",
            "bar_style": "success",
            "max": 898823,
            "_view_module": "@jupyter-widgets/controls",
            "_model_module_version": "1.5.0",
            "value": 898823,
            "_view_count": null,
            "_view_module_version": "1.5.0",
            "orientation": "horizontal",
            "min": 0,
            "description_tooltip": null,
            "_model_module": "@jupyter-widgets/controls",
            "layout": "IPY_MODEL_da279603118c47bb980ea7e88c32acf0"
          }
        },
        "1c6ba0f79c49413d8c5c5bbbf33d12ae": {
          "model_module": "@jupyter-widgets/controls",
          "model_name": "HTMLModel",
          "state": {
            "_view_name": "HTMLView",
            "style": "IPY_MODEL_cf8d73de97714319b3d2d1b4ff8cf0fb",
            "_dom_classes": [],
            "description": "",
            "_model_name": "HTMLModel",
            "placeholder": "​",
            "_view_module": "@jupyter-widgets/controls",
            "_model_module_version": "1.5.0",
            "value": " 899k/899k [00:00&lt;00:00, 7.30MB/s]",
            "_view_count": null,
            "_view_module_version": "1.5.0",
            "description_tooltip": null,
            "_model_module": "@jupyter-widgets/controls",
            "layout": "IPY_MODEL_9f634a1b95494b9e83d63ce91587de05"
          }
        },
        "cff9da411b054cc58db577041a306702": {
          "model_module": "@jupyter-widgets/controls",
          "model_name": "ProgressStyleModel",
          "state": {
            "_view_name": "StyleView",
            "_model_name": "ProgressStyleModel",
            "description_width": "initial",
            "_view_module": "@jupyter-widgets/base",
            "_model_module_version": "1.5.0",
            "_view_count": null,
            "_view_module_version": "1.2.0",
            "bar_color": null,
            "_model_module": "@jupyter-widgets/controls"
          }
        },
        "da279603118c47bb980ea7e88c32acf0": {
          "model_module": "@jupyter-widgets/base",
          "model_name": "LayoutModel",
          "state": {
            "_view_name": "LayoutView",
            "grid_template_rows": null,
            "right": null,
            "justify_content": null,
            "_view_module": "@jupyter-widgets/base",
            "overflow": null,
            "_model_module_version": "1.2.0",
            "_view_count": null,
            "flex_flow": null,
            "width": null,
            "min_width": null,
            "border": null,
            "align_items": null,
            "bottom": null,
            "_model_module": "@jupyter-widgets/base",
            "top": null,
            "grid_column": null,
            "overflow_y": null,
            "overflow_x": null,
            "grid_auto_flow": null,
            "grid_area": null,
            "grid_template_columns": null,
            "flex": null,
            "_model_name": "LayoutModel",
            "justify_items": null,
            "grid_row": null,
            "max_height": null,
            "align_content": null,
            "visibility": null,
            "align_self": null,
            "height": null,
            "min_height": null,
            "padding": null,
            "grid_auto_rows": null,
            "grid_gap": null,
            "max_width": null,
            "order": null,
            "_view_module_version": "1.2.0",
            "grid_template_areas": null,
            "object_position": null,
            "object_fit": null,
            "grid_auto_columns": null,
            "margin": null,
            "display": null,
            "left": null
          }
        },
        "cf8d73de97714319b3d2d1b4ff8cf0fb": {
          "model_module": "@jupyter-widgets/controls",
          "model_name": "DescriptionStyleModel",
          "state": {
            "_view_name": "StyleView",
            "_model_name": "DescriptionStyleModel",
            "description_width": "",
            "_view_module": "@jupyter-widgets/base",
            "_model_module_version": "1.5.0",
            "_view_count": null,
            "_view_module_version": "1.2.0",
            "_model_module": "@jupyter-widgets/controls"
          }
        },
        "9f634a1b95494b9e83d63ce91587de05": {
          "model_module": "@jupyter-widgets/base",
          "model_name": "LayoutModel",
          "state": {
            "_view_name": "LayoutView",
            "grid_template_rows": null,
            "right": null,
            "justify_content": null,
            "_view_module": "@jupyter-widgets/base",
            "overflow": null,
            "_model_module_version": "1.2.0",
            "_view_count": null,
            "flex_flow": null,
            "width": null,
            "min_width": null,
            "border": null,
            "align_items": null,
            "bottom": null,
            "_model_module": "@jupyter-widgets/base",
            "top": null,
            "grid_column": null,
            "overflow_y": null,
            "overflow_x": null,
            "grid_auto_flow": null,
            "grid_area": null,
            "grid_template_columns": null,
            "flex": null,
            "_model_name": "LayoutModel",
            "justify_items": null,
            "grid_row": null,
            "max_height": null,
            "align_content": null,
            "visibility": null,
            "align_self": null,
            "height": null,
            "min_height": null,
            "padding": null,
            "grid_auto_rows": null,
            "grid_gap": null,
            "max_width": null,
            "order": null,
            "_view_module_version": "1.2.0",
            "grid_template_areas": null,
            "object_position": null,
            "object_fit": null,
            "grid_auto_columns": null,
            "margin": null,
            "display": null,
            "left": null
          }
        },
        "2d907906940e477fb9c0c17dff0c1e9b": {
          "model_module": "@jupyter-widgets/controls",
          "model_name": "HBoxModel",
          "state": {
            "_view_name": "HBoxView",
            "_dom_classes": [],
            "_model_name": "HBoxModel",
            "_view_module": "@jupyter-widgets/controls",
            "_model_module_version": "1.5.0",
            "_view_count": null,
            "_view_module_version": "1.5.0",
            "box_style": "",
            "layout": "IPY_MODEL_dad21c6dd8ad42ebb509554d9378fab9",
            "_model_module": "@jupyter-widgets/controls",
            "children": [
              "IPY_MODEL_13fb6cc7bffe40029efa4395043e99b4",
              "IPY_MODEL_a02e36f8c3904b3d9ee39b0ad84231e0"
            ]
          }
        },
        "dad21c6dd8ad42ebb509554d9378fab9": {
          "model_module": "@jupyter-widgets/base",
          "model_name": "LayoutModel",
          "state": {
            "_view_name": "LayoutView",
            "grid_template_rows": null,
            "right": null,
            "justify_content": null,
            "_view_module": "@jupyter-widgets/base",
            "overflow": null,
            "_model_module_version": "1.2.0",
            "_view_count": null,
            "flex_flow": null,
            "width": null,
            "min_width": null,
            "border": null,
            "align_items": null,
            "bottom": null,
            "_model_module": "@jupyter-widgets/base",
            "top": null,
            "grid_column": null,
            "overflow_y": null,
            "overflow_x": null,
            "grid_auto_flow": null,
            "grid_area": null,
            "grid_template_columns": null,
            "flex": null,
            "_model_name": "LayoutModel",
            "justify_items": null,
            "grid_row": null,
            "max_height": null,
            "align_content": null,
            "visibility": null,
            "align_self": null,
            "height": null,
            "min_height": null,
            "padding": null,
            "grid_auto_rows": null,
            "grid_gap": null,
            "max_width": null,
            "order": null,
            "_view_module_version": "1.2.0",
            "grid_template_areas": null,
            "object_position": null,
            "object_fit": null,
            "grid_auto_columns": null,
            "margin": null,
            "display": null,
            "left": null
          }
        },
        "13fb6cc7bffe40029efa4395043e99b4": {
          "model_module": "@jupyter-widgets/controls",
          "model_name": "FloatProgressModel",
          "state": {
            "_view_name": "ProgressView",
            "style": "IPY_MODEL_2fd94676ca114329b822f189cb3fa876",
            "_dom_classes": [],
            "description": "Downloading: 100%",
            "_model_name": "FloatProgressModel",
            "bar_style": "success",
            "max": 456318,
            "_view_module": "@jupyter-widgets/controls",
            "_model_module_version": "1.5.0",
            "value": 456318,
            "_view_count": null,
            "_view_module_version": "1.5.0",
            "orientation": "horizontal",
            "min": 0,
            "description_tooltip": null,
            "_model_module": "@jupyter-widgets/controls",
            "layout": "IPY_MODEL_4443a9faf25944f3bff329ce955cf231"
          }
        },
        "a02e36f8c3904b3d9ee39b0ad84231e0": {
          "model_module": "@jupyter-widgets/controls",
          "model_name": "HTMLModel",
          "state": {
            "_view_name": "HTMLView",
            "style": "IPY_MODEL_b853e85c41114c45841c4eb73aba7d29",
            "_dom_classes": [],
            "description": "",
            "_model_name": "HTMLModel",
            "placeholder": "​",
            "_view_module": "@jupyter-widgets/controls",
            "_model_module_version": "1.5.0",
            "value": " 456k/456k [00:00&lt;00:00, 3.88MB/s]",
            "_view_count": null,
            "_view_module_version": "1.5.0",
            "description_tooltip": null,
            "_model_module": "@jupyter-widgets/controls",
            "layout": "IPY_MODEL_250e8ca63be64109aa0e8815f3163662"
          }
        },
        "2fd94676ca114329b822f189cb3fa876": {
          "model_module": "@jupyter-widgets/controls",
          "model_name": "ProgressStyleModel",
          "state": {
            "_view_name": "StyleView",
            "_model_name": "ProgressStyleModel",
            "description_width": "initial",
            "_view_module": "@jupyter-widgets/base",
            "_model_module_version": "1.5.0",
            "_view_count": null,
            "_view_module_version": "1.2.0",
            "bar_color": null,
            "_model_module": "@jupyter-widgets/controls"
          }
        },
        "4443a9faf25944f3bff329ce955cf231": {
          "model_module": "@jupyter-widgets/base",
          "model_name": "LayoutModel",
          "state": {
            "_view_name": "LayoutView",
            "grid_template_rows": null,
            "right": null,
            "justify_content": null,
            "_view_module": "@jupyter-widgets/base",
            "overflow": null,
            "_model_module_version": "1.2.0",
            "_view_count": null,
            "flex_flow": null,
            "width": null,
            "min_width": null,
            "border": null,
            "align_items": null,
            "bottom": null,
            "_model_module": "@jupyter-widgets/base",
            "top": null,
            "grid_column": null,
            "overflow_y": null,
            "overflow_x": null,
            "grid_auto_flow": null,
            "grid_area": null,
            "grid_template_columns": null,
            "flex": null,
            "_model_name": "LayoutModel",
            "justify_items": null,
            "grid_row": null,
            "max_height": null,
            "align_content": null,
            "visibility": null,
            "align_self": null,
            "height": null,
            "min_height": null,
            "padding": null,
            "grid_auto_rows": null,
            "grid_gap": null,
            "max_width": null,
            "order": null,
            "_view_module_version": "1.2.0",
            "grid_template_areas": null,
            "object_position": null,
            "object_fit": null,
            "grid_auto_columns": null,
            "margin": null,
            "display": null,
            "left": null
          }
        },
        "b853e85c41114c45841c4eb73aba7d29": {
          "model_module": "@jupyter-widgets/controls",
          "model_name": "DescriptionStyleModel",
          "state": {
            "_view_name": "StyleView",
            "_model_name": "DescriptionStyleModel",
            "description_width": "",
            "_view_module": "@jupyter-widgets/base",
            "_model_module_version": "1.5.0",
            "_view_count": null,
            "_view_module_version": "1.2.0",
            "_model_module": "@jupyter-widgets/controls"
          }
        },
        "250e8ca63be64109aa0e8815f3163662": {
          "model_module": "@jupyter-widgets/base",
          "model_name": "LayoutModel",
          "state": {
            "_view_name": "LayoutView",
            "grid_template_rows": null,
            "right": null,
            "justify_content": null,
            "_view_module": "@jupyter-widgets/base",
            "overflow": null,
            "_model_module_version": "1.2.0",
            "_view_count": null,
            "flex_flow": null,
            "width": null,
            "min_width": null,
            "border": null,
            "align_items": null,
            "bottom": null,
            "_model_module": "@jupyter-widgets/base",
            "top": null,
            "grid_column": null,
            "overflow_y": null,
            "overflow_x": null,
            "grid_auto_flow": null,
            "grid_area": null,
            "grid_template_columns": null,
            "flex": null,
            "_model_name": "LayoutModel",
            "justify_items": null,
            "grid_row": null,
            "max_height": null,
            "align_content": null,
            "visibility": null,
            "align_self": null,
            "height": null,
            "min_height": null,
            "padding": null,
            "grid_auto_rows": null,
            "grid_gap": null,
            "max_width": null,
            "order": null,
            "_view_module_version": "1.2.0",
            "grid_template_areas": null,
            "object_position": null,
            "object_fit": null,
            "grid_auto_columns": null,
            "margin": null,
            "display": null,
            "left": null
          }
        },
        "d9f13223dd0044669047cee5eb08e463": {
          "model_module": "@jupyter-widgets/controls",
          "model_name": "HBoxModel",
          "state": {
            "_view_name": "HBoxView",
            "_dom_classes": [],
            "_model_name": "HBoxModel",
            "_view_module": "@jupyter-widgets/controls",
            "_model_module_version": "1.5.0",
            "_view_count": null,
            "_view_module_version": "1.5.0",
            "box_style": "",
            "layout": "IPY_MODEL_629e4f625530454bb8aea382f361550a",
            "_model_module": "@jupyter-widgets/controls",
            "children": [
              "IPY_MODEL_19762d2ac50344578c53ee3ca049dd26",
              "IPY_MODEL_5c3218202833418f93c72d09e29db1cd"
            ]
          }
        },
        "629e4f625530454bb8aea382f361550a": {
          "model_module": "@jupyter-widgets/base",
          "model_name": "LayoutModel",
          "state": {
            "_view_name": "LayoutView",
            "grid_template_rows": null,
            "right": null,
            "justify_content": null,
            "_view_module": "@jupyter-widgets/base",
            "overflow": null,
            "_model_module_version": "1.2.0",
            "_view_count": null,
            "flex_flow": null,
            "width": null,
            "min_width": null,
            "border": null,
            "align_items": null,
            "bottom": null,
            "_model_module": "@jupyter-widgets/base",
            "top": null,
            "grid_column": null,
            "overflow_y": null,
            "overflow_x": null,
            "grid_auto_flow": null,
            "grid_area": null,
            "grid_template_columns": null,
            "flex": null,
            "_model_name": "LayoutModel",
            "justify_items": null,
            "grid_row": null,
            "max_height": null,
            "align_content": null,
            "visibility": null,
            "align_self": null,
            "height": null,
            "min_height": null,
            "padding": null,
            "grid_auto_rows": null,
            "grid_gap": null,
            "max_width": null,
            "order": null,
            "_view_module_version": "1.2.0",
            "grid_template_areas": null,
            "object_position": null,
            "object_fit": null,
            "grid_auto_columns": null,
            "margin": null,
            "display": null,
            "left": null
          }
        },
        "19762d2ac50344578c53ee3ca049dd26": {
          "model_module": "@jupyter-widgets/controls",
          "model_name": "FloatProgressModel",
          "state": {
            "_view_name": "ProgressView",
            "style": "IPY_MODEL_7a4f7970000143ca943ca35baa91de5e",
            "_dom_classes": [],
            "description": "100%",
            "_model_name": "FloatProgressModel",
            "bar_style": "success",
            "max": 488,
            "_view_module": "@jupyter-widgets/controls",
            "_model_module_version": "1.5.0",
            "value": 488,
            "_view_count": null,
            "_view_module_version": "1.5.0",
            "orientation": "horizontal",
            "min": 0,
            "description_tooltip": null,
            "_model_module": "@jupyter-widgets/controls",
            "layout": "IPY_MODEL_cd335654ec814c609ada739c2269efb4"
          }
        },
        "5c3218202833418f93c72d09e29db1cd": {
          "model_module": "@jupyter-widgets/controls",
          "model_name": "HTMLModel",
          "state": {
            "_view_name": "HTMLView",
            "style": "IPY_MODEL_9a746c07fa3049f0b04aaf08ef4aa97b",
            "_dom_classes": [],
            "description": "",
            "_model_name": "HTMLModel",
            "placeholder": "​",
            "_view_module": "@jupyter-widgets/controls",
            "_model_module_version": "1.5.0",
            "value": " 488/488 [05:25&lt;00:00,  1.50it/s]",
            "_view_count": null,
            "_view_module_version": "1.5.0",
            "description_tooltip": null,
            "_model_module": "@jupyter-widgets/controls",
            "layout": "IPY_MODEL_3ea68053fb294d45a5a3e057a1d44919"
          }
        },
        "7a4f7970000143ca943ca35baa91de5e": {
          "model_module": "@jupyter-widgets/controls",
          "model_name": "ProgressStyleModel",
          "state": {
            "_view_name": "StyleView",
            "_model_name": "ProgressStyleModel",
            "description_width": "initial",
            "_view_module": "@jupyter-widgets/base",
            "_model_module_version": "1.5.0",
            "_view_count": null,
            "_view_module_version": "1.2.0",
            "bar_color": null,
            "_model_module": "@jupyter-widgets/controls"
          }
        },
        "cd335654ec814c609ada739c2269efb4": {
          "model_module": "@jupyter-widgets/base",
          "model_name": "LayoutModel",
          "state": {
            "_view_name": "LayoutView",
            "grid_template_rows": null,
            "right": null,
            "justify_content": null,
            "_view_module": "@jupyter-widgets/base",
            "overflow": null,
            "_model_module_version": "1.2.0",
            "_view_count": null,
            "flex_flow": null,
            "width": null,
            "min_width": null,
            "border": null,
            "align_items": null,
            "bottom": null,
            "_model_module": "@jupyter-widgets/base",
            "top": null,
            "grid_column": null,
            "overflow_y": null,
            "overflow_x": null,
            "grid_auto_flow": null,
            "grid_area": null,
            "grid_template_columns": null,
            "flex": null,
            "_model_name": "LayoutModel",
            "justify_items": null,
            "grid_row": null,
            "max_height": null,
            "align_content": null,
            "visibility": null,
            "align_self": null,
            "height": null,
            "min_height": null,
            "padding": null,
            "grid_auto_rows": null,
            "grid_gap": null,
            "max_width": null,
            "order": null,
            "_view_module_version": "1.2.0",
            "grid_template_areas": null,
            "object_position": null,
            "object_fit": null,
            "grid_auto_columns": null,
            "margin": null,
            "display": null,
            "left": null
          }
        },
        "9a746c07fa3049f0b04aaf08ef4aa97b": {
          "model_module": "@jupyter-widgets/controls",
          "model_name": "DescriptionStyleModel",
          "state": {
            "_view_name": "StyleView",
            "_model_name": "DescriptionStyleModel",
            "description_width": "",
            "_view_module": "@jupyter-widgets/base",
            "_model_module_version": "1.5.0",
            "_view_count": null,
            "_view_module_version": "1.2.0",
            "_model_module": "@jupyter-widgets/controls"
          }
        },
        "3ea68053fb294d45a5a3e057a1d44919": {
          "model_module": "@jupyter-widgets/base",
          "model_name": "LayoutModel",
          "state": {
            "_view_name": "LayoutView",
            "grid_template_rows": null,
            "right": null,
            "justify_content": null,
            "_view_module": "@jupyter-widgets/base",
            "overflow": null,
            "_model_module_version": "1.2.0",
            "_view_count": null,
            "flex_flow": null,
            "width": null,
            "min_width": null,
            "border": null,
            "align_items": null,
            "bottom": null,
            "_model_module": "@jupyter-widgets/base",
            "top": null,
            "grid_column": null,
            "overflow_y": null,
            "overflow_x": null,
            "grid_auto_flow": null,
            "grid_area": null,
            "grid_template_columns": null,
            "flex": null,
            "_model_name": "LayoutModel",
            "justify_items": null,
            "grid_row": null,
            "max_height": null,
            "align_content": null,
            "visibility": null,
            "align_self": null,
            "height": null,
            "min_height": null,
            "padding": null,
            "grid_auto_rows": null,
            "grid_gap": null,
            "max_width": null,
            "order": null,
            "_view_module_version": "1.2.0",
            "grid_template_areas": null,
            "object_position": null,
            "object_fit": null,
            "grid_auto_columns": null,
            "margin": null,
            "display": null,
            "left": null
          }
        },
        "29d504e6c81e4d7eac51f31ea4fca85b": {
          "model_module": "@jupyter-widgets/controls",
          "model_name": "HBoxModel",
          "state": {
            "_view_name": "HBoxView",
            "_dom_classes": [],
            "_model_name": "HBoxModel",
            "_view_module": "@jupyter-widgets/controls",
            "_model_module_version": "1.5.0",
            "_view_count": null,
            "_view_module_version": "1.5.0",
            "box_style": "",
            "layout": "IPY_MODEL_6794f4b1dc354be0b75c60e08888bc89",
            "_model_module": "@jupyter-widgets/controls",
            "children": [
              "IPY_MODEL_3a77209ef49446fb8d1043286ef4e796",
              "IPY_MODEL_4086f7fce95140719ebbb6ab9ac42dc5"
            ]
          }
        },
        "6794f4b1dc354be0b75c60e08888bc89": {
          "model_module": "@jupyter-widgets/base",
          "model_name": "LayoutModel",
          "state": {
            "_view_name": "LayoutView",
            "grid_template_rows": null,
            "right": null,
            "justify_content": null,
            "_view_module": "@jupyter-widgets/base",
            "overflow": null,
            "_model_module_version": "1.2.0",
            "_view_count": null,
            "flex_flow": null,
            "width": null,
            "min_width": null,
            "border": null,
            "align_items": null,
            "bottom": null,
            "_model_module": "@jupyter-widgets/base",
            "top": null,
            "grid_column": null,
            "overflow_y": null,
            "overflow_x": null,
            "grid_auto_flow": null,
            "grid_area": null,
            "grid_template_columns": null,
            "flex": null,
            "_model_name": "LayoutModel",
            "justify_items": null,
            "grid_row": null,
            "max_height": null,
            "align_content": null,
            "visibility": null,
            "align_self": null,
            "height": null,
            "min_height": null,
            "padding": null,
            "grid_auto_rows": null,
            "grid_gap": null,
            "max_width": null,
            "order": null,
            "_view_module_version": "1.2.0",
            "grid_template_areas": null,
            "object_position": null,
            "object_fit": null,
            "grid_auto_columns": null,
            "margin": null,
            "display": null,
            "left": null
          }
        },
        "3a77209ef49446fb8d1043286ef4e796": {
          "model_module": "@jupyter-widgets/controls",
          "model_name": "FloatProgressModel",
          "state": {
            "_view_name": "ProgressView",
            "style": "IPY_MODEL_686bd28012ac40d48e0a3bbc2d8ed31a",
            "_dom_classes": [],
            "description": "100%",
            "_model_name": "FloatProgressModel",
            "bar_style": "success",
            "max": 488,
            "_view_module": "@jupyter-widgets/controls",
            "_model_module_version": "1.5.0",
            "value": 488,
            "_view_count": null,
            "_view_module_version": "1.5.0",
            "orientation": "horizontal",
            "min": 0,
            "description_tooltip": null,
            "_model_module": "@jupyter-widgets/controls",
            "layout": "IPY_MODEL_987fd3aa9f3340d5ad01313ccac3ead3"
          }
        },
        "4086f7fce95140719ebbb6ab9ac42dc5": {
          "model_module": "@jupyter-widgets/controls",
          "model_name": "HTMLModel",
          "state": {
            "_view_name": "HTMLView",
            "style": "IPY_MODEL_97046bde4a80428981dafab5519c10b5",
            "_dom_classes": [],
            "description": "",
            "_model_name": "HTMLModel",
            "placeholder": "​",
            "_view_module": "@jupyter-widgets/controls",
            "_model_module_version": "1.5.0",
            "value": " 488/488 [01:03&lt;00:00,  7.72it/s]",
            "_view_count": null,
            "_view_module_version": "1.5.0",
            "description_tooltip": null,
            "_model_module": "@jupyter-widgets/controls",
            "layout": "IPY_MODEL_f77cd40e98254721939996283904c95e"
          }
        },
        "686bd28012ac40d48e0a3bbc2d8ed31a": {
          "model_module": "@jupyter-widgets/controls",
          "model_name": "ProgressStyleModel",
          "state": {
            "_view_name": "StyleView",
            "_model_name": "ProgressStyleModel",
            "description_width": "initial",
            "_view_module": "@jupyter-widgets/base",
            "_model_module_version": "1.5.0",
            "_view_count": null,
            "_view_module_version": "1.2.0",
            "bar_color": null,
            "_model_module": "@jupyter-widgets/controls"
          }
        },
        "987fd3aa9f3340d5ad01313ccac3ead3": {
          "model_module": "@jupyter-widgets/base",
          "model_name": "LayoutModel",
          "state": {
            "_view_name": "LayoutView",
            "grid_template_rows": null,
            "right": null,
            "justify_content": null,
            "_view_module": "@jupyter-widgets/base",
            "overflow": null,
            "_model_module_version": "1.2.0",
            "_view_count": null,
            "flex_flow": null,
            "width": null,
            "min_width": null,
            "border": null,
            "align_items": null,
            "bottom": null,
            "_model_module": "@jupyter-widgets/base",
            "top": null,
            "grid_column": null,
            "overflow_y": null,
            "overflow_x": null,
            "grid_auto_flow": null,
            "grid_area": null,
            "grid_template_columns": null,
            "flex": null,
            "_model_name": "LayoutModel",
            "justify_items": null,
            "grid_row": null,
            "max_height": null,
            "align_content": null,
            "visibility": null,
            "align_self": null,
            "height": null,
            "min_height": null,
            "padding": null,
            "grid_auto_rows": null,
            "grid_gap": null,
            "max_width": null,
            "order": null,
            "_view_module_version": "1.2.0",
            "grid_template_areas": null,
            "object_position": null,
            "object_fit": null,
            "grid_auto_columns": null,
            "margin": null,
            "display": null,
            "left": null
          }
        },
        "97046bde4a80428981dafab5519c10b5": {
          "model_module": "@jupyter-widgets/controls",
          "model_name": "DescriptionStyleModel",
          "state": {
            "_view_name": "StyleView",
            "_model_name": "DescriptionStyleModel",
            "description_width": "",
            "_view_module": "@jupyter-widgets/base",
            "_model_module_version": "1.5.0",
            "_view_count": null,
            "_view_module_version": "1.2.0",
            "_model_module": "@jupyter-widgets/controls"
          }
        },
        "f77cd40e98254721939996283904c95e": {
          "model_module": "@jupyter-widgets/base",
          "model_name": "LayoutModel",
          "state": {
            "_view_name": "LayoutView",
            "grid_template_rows": null,
            "right": null,
            "justify_content": null,
            "_view_module": "@jupyter-widgets/base",
            "overflow": null,
            "_model_module_version": "1.2.0",
            "_view_count": null,
            "flex_flow": null,
            "width": null,
            "min_width": null,
            "border": null,
            "align_items": null,
            "bottom": null,
            "_model_module": "@jupyter-widgets/base",
            "top": null,
            "grid_column": null,
            "overflow_y": null,
            "overflow_x": null,
            "grid_auto_flow": null,
            "grid_area": null,
            "grid_template_columns": null,
            "flex": null,
            "_model_name": "LayoutModel",
            "justify_items": null,
            "grid_row": null,
            "max_height": null,
            "align_content": null,
            "visibility": null,
            "align_self": null,
            "height": null,
            "min_height": null,
            "padding": null,
            "grid_auto_rows": null,
            "grid_gap": null,
            "max_width": null,
            "order": null,
            "_view_module_version": "1.2.0",
            "grid_template_areas": null,
            "object_position": null,
            "object_fit": null,
            "grid_auto_columns": null,
            "margin": null,
            "display": null,
            "left": null
          }
        }
      }
    }
  },
  "cells": [
    {
      "cell_type": "markdown",
      "metadata": {
        "id": "aXn7i9Cihdil"
      },
      "source": [
        "# Imports"
      ]
    },
    {
      "cell_type": "code",
      "metadata": {
        "colab": {
          "base_uri": "https://localhost:8080/"
        },
        "id": "sqXlJW1_Mqh2",
        "outputId": "98548355-8b79-4109-f16f-5d3befc10a82"
      },
      "source": [
        "!pip install git+https://github.com/furkan-celik/NERDA"
      ],
      "execution_count": null,
      "outputs": [
        {
          "output_type": "stream",
          "text": [
            "Collecting NERDA\n",
            "  Downloading https://files.pythonhosted.org/packages/eb/91/574dbc6aae1958d6be2c63647b4a64caac2196028ca91cc4add870188eca/NERDA-0.8.8-py3-none-any.whl\n",
            "Requirement already satisfied: pandas in /usr/local/lib/python3.7/dist-packages (from NERDA) (1.1.5)\n",
            "Requirement already satisfied: sklearn in /usr/local/lib/python3.7/dist-packages (from NERDA) (0.0)\n",
            "Requirement already satisfied: nltk in /usr/local/lib/python3.7/dist-packages (from NERDA) (3.2.5)\n",
            "Collecting pyconll\n",
            "  Downloading https://files.pythonhosted.org/packages/60/7f/148a5b6f99b8a22373bfbcafd9d6776278fec14810ae95c4fe37965f6619/pyconll-3.0.4-py3-none-any.whl\n",
            "Collecting torch<=1.7.1\n",
            "\u001b[?25l  Downloading https://files.pythonhosted.org/packages/90/5d/095ddddc91c8a769a68c791c019c5793f9c4456a688ddd235d6670924ecb/torch-1.7.1-cp37-cp37m-manylinux1_x86_64.whl (776.8MB)\n",
            "\u001b[K     |████████████████████████████████| 776.8MB 23kB/s \n",
            "\u001b[?25hCollecting progressbar\n",
            "  Downloading https://files.pythonhosted.org/packages/a3/a6/b8e451f6cff1c99b4747a2f7235aa904d2d49e8e1464e0b798272aa84358/progressbar-2.5.tar.gz\n",
            "Collecting transformers<=3.5.1\n",
            "\u001b[?25l  Downloading https://files.pythonhosted.org/packages/3a/83/e74092e7f24a08d751aa59b37a9fc572b2e4af3918cb66f7766c3affb1b4/transformers-3.5.1-py3-none-any.whl (1.3MB)\n",
            "\u001b[K     |████████████████████████████████| 1.3MB 43.3MB/s \n",
            "\u001b[?25hRequirement already satisfied: pytz>=2017.2 in /usr/local/lib/python3.7/dist-packages (from pandas->NERDA) (2018.9)\n",
            "Requirement already satisfied: numpy>=1.15.4 in /usr/local/lib/python3.7/dist-packages (from pandas->NERDA) (1.19.5)\n",
            "Requirement already satisfied: python-dateutil>=2.7.3 in /usr/local/lib/python3.7/dist-packages (from pandas->NERDA) (2.8.1)\n",
            "Requirement already satisfied: scikit-learn in /usr/local/lib/python3.7/dist-packages (from sklearn->NERDA) (0.22.2.post1)\n",
            "Requirement already satisfied: six in /usr/local/lib/python3.7/dist-packages (from nltk->NERDA) (1.15.0)\n",
            "Requirement already satisfied: typing-extensions in /usr/local/lib/python3.7/dist-packages (from torch<=1.7.1->NERDA) (3.7.4.3)\n",
            "Requirement already satisfied: protobuf in /usr/local/lib/python3.7/dist-packages (from transformers<=3.5.1->NERDA) (3.12.4)\n",
            "Requirement already satisfied: requests in /usr/local/lib/python3.7/dist-packages (from transformers<=3.5.1->NERDA) (2.23.0)\n",
            "Requirement already satisfied: regex!=2019.12.17 in /usr/local/lib/python3.7/dist-packages (from transformers<=3.5.1->NERDA) (2019.12.20)\n",
            "Collecting sentencepiece==0.1.91\n",
            "\u001b[?25l  Downloading https://files.pythonhosted.org/packages/f2/e2/813dff3d72df2f49554204e7e5f73a3dc0f0eb1e3958a4cad3ef3fb278b7/sentencepiece-0.1.91-cp37-cp37m-manylinux1_x86_64.whl (1.1MB)\n",
            "\u001b[K     |████████████████████████████████| 1.1MB 29.3MB/s \n",
            "\u001b[?25hRequirement already satisfied: tqdm>=4.27 in /usr/local/lib/python3.7/dist-packages (from transformers<=3.5.1->NERDA) (4.41.1)\n",
            "Requirement already satisfied: packaging in /usr/local/lib/python3.7/dist-packages (from transformers<=3.5.1->NERDA) (20.9)\n",
            "Collecting sacremoses\n",
            "\u001b[?25l  Downloading https://files.pythonhosted.org/packages/75/ee/67241dc87f266093c533a2d4d3d69438e57d7a90abb216fa076e7d475d4a/sacremoses-0.0.45-py3-none-any.whl (895kB)\n",
            "\u001b[K     |████████████████████████████████| 901kB 8.2MB/s \n",
            "\u001b[?25hCollecting tokenizers==0.9.3\n",
            "\u001b[?25l  Downloading https://files.pythonhosted.org/packages/7b/ac/f5ba028f0f097d855e1541301e946d4672eb0f30b6e25cb2369075f916d2/tokenizers-0.9.3-cp37-cp37m-manylinux1_x86_64.whl (2.9MB)\n",
            "\u001b[K     |████████████████████████████████| 2.9MB 48.0MB/s \n",
            "\u001b[?25hRequirement already satisfied: filelock in /usr/local/lib/python3.7/dist-packages (from transformers<=3.5.1->NERDA) (3.0.12)\n",
            "Requirement already satisfied: scipy>=0.17.0 in /usr/local/lib/python3.7/dist-packages (from scikit-learn->sklearn->NERDA) (1.4.1)\n",
            "Requirement already satisfied: joblib>=0.11 in /usr/local/lib/python3.7/dist-packages (from scikit-learn->sklearn->NERDA) (1.0.1)\n",
            "Requirement already satisfied: setuptools in /usr/local/lib/python3.7/dist-packages (from protobuf->transformers<=3.5.1->NERDA) (56.1.0)\n",
            "Requirement already satisfied: idna<3,>=2.5 in /usr/local/lib/python3.7/dist-packages (from requests->transformers<=3.5.1->NERDA) (2.10)\n",
            "Requirement already satisfied: chardet<4,>=3.0.2 in /usr/local/lib/python3.7/dist-packages (from requests->transformers<=3.5.1->NERDA) (3.0.4)\n",
            "Requirement already satisfied: certifi>=2017.4.17 in /usr/local/lib/python3.7/dist-packages (from requests->transformers<=3.5.1->NERDA) (2020.12.5)\n",
            "Requirement already satisfied: urllib3!=1.25.0,!=1.25.1,<1.26,>=1.21.1 in /usr/local/lib/python3.7/dist-packages (from requests->transformers<=3.5.1->NERDA) (1.24.3)\n",
            "Requirement already satisfied: pyparsing>=2.0.2 in /usr/local/lib/python3.7/dist-packages (from packaging->transformers<=3.5.1->NERDA) (2.4.7)\n",
            "Requirement already satisfied: click in /usr/local/lib/python3.7/dist-packages (from sacremoses->transformers<=3.5.1->NERDA) (7.1.2)\n",
            "Building wheels for collected packages: progressbar\n",
            "  Building wheel for progressbar (setup.py) ... \u001b[?25l\u001b[?25hdone\n",
            "  Created wheel for progressbar: filename=progressbar-2.5-cp37-none-any.whl size=12076 sha256=d11b72661da8d3f9d20ac3672e1c8d6fca8758bf92732bb9a851ad5e2640149f\n",
            "  Stored in directory: /root/.cache/pip/wheels/c0/e9/6b/ea01090205e285175842339aa3b491adeb4015206cda272ff0\n",
            "Successfully built progressbar\n",
            "\u001b[31mERROR: torchvision 0.9.1+cu101 has requirement torch==1.8.1, but you'll have torch 1.7.1 which is incompatible.\u001b[0m\n",
            "\u001b[31mERROR: torchtext 0.9.1 has requirement torch==1.8.1, but you'll have torch 1.7.1 which is incompatible.\u001b[0m\n",
            "Installing collected packages: pyconll, torch, progressbar, sentencepiece, sacremoses, tokenizers, transformers, NERDA\n",
            "  Found existing installation: torch 1.8.1+cu101\n",
            "    Uninstalling torch-1.8.1+cu101:\n",
            "      Successfully uninstalled torch-1.8.1+cu101\n",
            "Successfully installed NERDA-0.8.8 progressbar-2.5 pyconll-3.0.4 sacremoses-0.0.45 sentencepiece-0.1.91 tokenizers-0.9.3 torch-1.7.1 transformers-3.5.1\n"
          ],
          "name": "stdout"
        }
      ]
    },
    {
      "cell_type": "code",
      "metadata": {
        "id": "hExK9OhQtF2-"
      },
      "source": [
        "import pandas as pd\n",
        "import numpy as np\n",
        "import torch\n",
        "from sklearn.model_selection import train_test_split\n",
        "import transformers\n",
        "#import pytorch_lightning as pl\n",
        "# import torchmetrics\n",
        "\n",
        "import seaborn as sns\n",
        "from pylab import rcParams\n",
        "import matplotlib.pyplot as plt\n",
        "from matplotlib import rc"
      ],
      "execution_count": null,
      "outputs": []
    },
    {
      "cell_type": "code",
      "metadata": {
        "id": "5h_HE-WvtpWZ",
        "colab": {
          "base_uri": "https://localhost:8080/"
        },
        "outputId": "b8356b46-ab39-46e2-8262-74b309ac26c4"
      },
      "source": [
        "%matplotlib inline\n",
        "%config InlineBackend.figure_format = \"retina\"\n",
        "\n",
        "RANDOM_SEED = 42\n",
        "\n",
        "sns.set(style = \"whitegrid\", palette= \"muted\", font_scale= 1.2)\n",
        "rcParams[\"figure.figsize\"] = 12, 8\n",
        "\n",
        "np.random.seed(RANDOM_SEED)\n",
        "torch.manual_seed(RANDOM_SEED)"
      ],
      "execution_count": null,
      "outputs": [
        {
          "output_type": "execute_result",
          "data": {
            "text/plain": [
              "<torch._C.Generator at 0x7f89654a6690>"
            ]
          },
          "metadata": {
            "tags": []
          },
          "execution_count": 4
        }
      ]
    },
    {
      "cell_type": "code",
      "metadata": {
        "colab": {
          "base_uri": "https://localhost:8080/"
        },
        "id": "QswyFv5X1-I1",
        "outputId": "026f22f2-7ccf-493f-dccf-6801c44813af"
      },
      "source": [
        "from google.colab import drive\n",
        "drive.mount('/content/drive')"
      ],
      "execution_count": null,
      "outputs": [
        {
          "output_type": "stream",
          "text": [
            "Mounted at /content/drive\n"
          ],
          "name": "stdout"
        }
      ]
    },
    {
      "cell_type": "markdown",
      "metadata": {
        "id": "T9q68Y3ZhhCX"
      },
      "source": [
        "# Data Import"
      ]
    },
    {
      "cell_type": "code",
      "metadata": {
        "id": "jx59gVDuT9eZ"
      },
      "source": [
        "import copy\n",
        "\n",
        "sentences = []\n",
        "\n",
        "with open(\"./en-train.txt\", \"r+\") as inFile:\n",
        "  sentence = []\n",
        "  for line in inFile.readlines()[1:]:\n",
        "    if \"[SEP]\" in line:\n",
        "      sentences.append(copy.deepcopy(sentence) + [line])\n",
        "      sentence = []\n",
        "    elif len(line) > 0 and \"\\t\" in line:\n",
        "      sentence.append(line[:-1].split(\"\\t\"))\n",
        "\n",
        "  if sentence != []:\n",
        "    sentences.append(copy.deepcopy(sentence) + [line])"
      ],
      "execution_count": null,
      "outputs": []
    },
    {
      "cell_type": "code",
      "metadata": {
        "id": "KblzVpkK4wIu"
      },
      "source": [
        "from sklearn.model_selection import train_test_split\n",
        "\n",
        "train_sents, test_sents = train_test_split(sentences, test_size = 0.2, random_state = 42)\n",
        "#train_sents, val_sents = train_test_split(train_sents, test_size = 0.1, random_state = 42)"
      ],
      "execution_count": null,
      "outputs": []
    },
    {
      "cell_type": "code",
      "metadata": {
        "id": "B54arZ3l4WPS"
      },
      "source": [
        "import copy\n",
        "\n",
        "sentences = []\n",
        "\n",
        "with open(\"./test.txt\", \"r+\") as inFile:\n",
        "  sentence = []\n",
        "  for line in inFile.readlines()[1:]:\n",
        "    if \"[SEP]\" in line:\n",
        "      sentences.append(copy.deepcopy(sentence))\n",
        "      sentence = []\n",
        "    elif len(line) > 0:\n",
        "      sentence.append(line[:-1].split(\"\\t\"))\n",
        "\n",
        "  if sentence != []:\n",
        "    sentences.append(copy.deepcopy(sentence) + [line])"
      ],
      "execution_count": null,
      "outputs": []
    },
    {
      "cell_type": "code",
      "metadata": {
        "id": "CKt33rTd4ZrW"
      },
      "source": [
        "testing = {\"sentences\": [[w for w in sent] for sent in sentences]}"
      ],
      "execution_count": null,
      "outputs": []
    },
    {
      "cell_type": "code",
      "metadata": {
        "id": "oRHr_z4-O9hP"
      },
      "source": [
        "training = {\"sentences\": [[w for w, l in sent] for sent in train_sents], \"tags\": [[l for w, l in sent] for sent in train_sents]}\n",
        "validation = {\"sentences\": [[w for w, l in sent] for sent in test_sents], \"tags\": [[l for w, l in sent] for sent in test_sents]}"
      ],
      "execution_count": null,
      "outputs": []
    },
    {
      "cell_type": "code",
      "metadata": {
        "id": "rAUeOhawPUW8"
      },
      "source": [
        "tag_scheme = ['B-trigger',\n",
        "              'I-trigger',\n",
        "              'B-participant',\n",
        "              'I-participant',\n",
        "              'B-organizer',\n",
        "              'B-target',\n",
        "              'I-target',\n",
        "              'B-place',\n",
        "              'B-etime',\n",
        "              'I-etime',\n",
        "              'B-fname',\n",
        "              'I-fname',\n",
        "              'I-organizer',\n",
        "              'I-place']"
      ],
      "execution_count": null,
      "outputs": []
    },
    {
      "cell_type": "markdown",
      "metadata": {
        "id": "D1RTkeBNiDE_"
      },
      "source": [
        "Change name of transformer for different models"
      ]
    },
    {
      "cell_type": "code",
      "metadata": {
        "id": "sNs-hTJZPmI8"
      },
      "source": [
        "transformer = \"roberta-base\"  # bert-base-uncased bert-base-cased albert-base-v2  roberta-base"
      ],
      "execution_count": null,
      "outputs": []
    },
    {
      "cell_type": "code",
      "metadata": {
        "id": "1piZ9ngMRpHc"
      },
      "source": [
        "max_len = max([len(sent) for sent in training[\"sentences\"]])"
      ],
      "execution_count": null,
      "outputs": []
    },
    {
      "cell_type": "code",
      "metadata": {
        "colab": {
          "base_uri": "https://localhost:8080/",
          "height": 230,
          "referenced_widgets": [
            "e15bb8d19b814c7f9cfb14c9f3a8a1bb",
            "22d266dc332f4e078f3aa05ec98d11e3",
            "e79a2864990e44debc1569ede46d239a",
            "6f33612556b3480987da8cd798bb6cab",
            "d23dd2dc40d54531b60f7ccafc3b9392",
            "e7cbcbc2091c40829c1330d2dcd2ef18",
            "83bc06cb3b3641309914be6358afd200",
            "bcdfad711a434f52b18a4d63fed3c851",
            "112df239f98c4e9b8135690a110fced9",
            "13ec1520395a443c9867cbe27a8fe5f9",
            "4d3482aea9bd467c92bd055a233704a0",
            "7814e210eca84d7eaf954f5cdf656607",
            "3aa03a094620452a84ce856d6b324994",
            "e51cc7d2f02e4fab81b38783d324b90a",
            "d1817e89f8a54c679cbf1d7dd618ebab",
            "878e674a15624ceeb3c3858eb63dbb77",
            "c04e3a1fb5ad484a9946463e37231370",
            "fd63090c4f264aa1930630dcacf9e351",
            "73c7915601d44db1946b9dd6bfbd2c1b",
            "1c6ba0f79c49413d8c5c5bbbf33d12ae",
            "cff9da411b054cc58db577041a306702",
            "da279603118c47bb980ea7e88c32acf0",
            "cf8d73de97714319b3d2d1b4ff8cf0fb",
            "9f634a1b95494b9e83d63ce91587de05",
            "2d907906940e477fb9c0c17dff0c1e9b",
            "dad21c6dd8ad42ebb509554d9378fab9",
            "13fb6cc7bffe40029efa4395043e99b4",
            "a02e36f8c3904b3d9ee39b0ad84231e0",
            "2fd94676ca114329b822f189cb3fa876",
            "4443a9faf25944f3bff329ce955cf231",
            "b853e85c41114c45841c4eb73aba7d29",
            "250e8ca63be64109aa0e8815f3163662"
          ]
        },
        "id": "zyDKs3AtPqoL",
        "outputId": "c7b140d7-36aa-4655-d822-104386515b93"
      },
      "source": [
        "from NERDA.models import NERDA\n",
        "\n",
        "model = NERDA(\n",
        "    dataset_training = training,\n",
        "    dataset_validation = validation,\n",
        "    tag_scheme = tag_scheme,\n",
        "    tag_outside = \"O\",\n",
        "    transformer = transformer,\n",
        "    max_len = max_len,\n",
        "    dropout = 0.1,\n",
        "    validation_batch_size = 8,\n",
        "    hyperparameters = {\"train_batch_size\": 8}\n",
        ")"
      ],
      "execution_count": null,
      "outputs": [
        {
          "output_type": "stream",
          "text": [
            "Device automatically set to: cuda\n"
          ],
          "name": "stdout"
        },
        {
          "output_type": "display_data",
          "data": {
            "application/vnd.jupyter.widget-view+json": {
              "model_id": "e15bb8d19b814c7f9cfb14c9f3a8a1bb",
              "version_minor": 0,
              "version_major": 2
            },
            "text/plain": [
              "HBox(children=(FloatProgress(value=0.0, description='Downloading', max=481.0, style=ProgressStyle(description_…"
            ]
          },
          "metadata": {
            "tags": []
          }
        },
        {
          "output_type": "stream",
          "text": [
            "\n"
          ],
          "name": "stdout"
        },
        {
          "output_type": "display_data",
          "data": {
            "application/vnd.jupyter.widget-view+json": {
              "model_id": "112df239f98c4e9b8135690a110fced9",
              "version_minor": 0,
              "version_major": 2
            },
            "text/plain": [
              "HBox(children=(FloatProgress(value=0.0, description='Downloading', max=501200538.0, style=ProgressStyle(descri…"
            ]
          },
          "metadata": {
            "tags": []
          }
        },
        {
          "output_type": "stream",
          "text": [
            "\n"
          ],
          "name": "stdout"
        },
        {
          "output_type": "display_data",
          "data": {
            "application/vnd.jupyter.widget-view+json": {
              "model_id": "c04e3a1fb5ad484a9946463e37231370",
              "version_minor": 0,
              "version_major": 2
            },
            "text/plain": [
              "HBox(children=(FloatProgress(value=0.0, description='Downloading', max=898823.0, style=ProgressStyle(descripti…"
            ]
          },
          "metadata": {
            "tags": []
          }
        },
        {
          "output_type": "stream",
          "text": [
            "\n"
          ],
          "name": "stdout"
        },
        {
          "output_type": "display_data",
          "data": {
            "application/vnd.jupyter.widget-view+json": {
              "model_id": "2d907906940e477fb9c0c17dff0c1e9b",
              "version_minor": 0,
              "version_major": 2
            },
            "text/plain": [
              "HBox(children=(FloatProgress(value=0.0, description='Downloading', max=456318.0, style=ProgressStyle(descripti…"
            ]
          },
          "metadata": {
            "tags": []
          }
        },
        {
          "output_type": "stream",
          "text": [
            "\n"
          ],
          "name": "stdout"
        }
      ]
    },
    {
      "cell_type": "code",
      "metadata": {
        "colab": {
          "base_uri": "https://localhost:8080/",
          "height": 1000
        },
        "id": "QGC_Ca0lQx6e",
        "outputId": "bf9beebd-24a0-4121-e109-52f85b7c1f67"
      },
      "source": [
        "model.train()"
      ],
      "execution_count": null,
      "outputs": [
        {
          "output_type": "stream",
          "text": [
            "\r  0%|          | 0/244 [00:00<?, ?it/s]"
          ],
          "name": "stderr"
        },
        {
          "output_type": "stream",
          "text": [
            "\n",
            " Epoch 1 / 5\n"
          ],
          "name": "stdout"
        },
        {
          "output_type": "stream",
          "text": [
            "/usr/local/lib/python3.7/dist-packages/NERDA/preprocessing.py:75: UserWarning: Sentence #5 length 256 exceeds max_len 213 and has been truncated\n",
            "  warnings.warn(msg)\n",
            "  5%|▍         | 11/244 [00:03<01:17,  3.03it/s]/usr/local/lib/python3.7/dist-packages/NERDA/preprocessing.py:75: UserWarning: Sentence #109 length 298 exceeds max_len 213 and has been truncated\n",
            "  warnings.warn(msg)\n",
            " 12%|█▏        | 30/244 [00:09<01:09,  3.07it/s]/usr/local/lib/python3.7/dist-packages/NERDA/preprocessing.py:75: UserWarning: Sentence #262 length 267 exceeds max_len 213 and has been truncated\n",
            "  warnings.warn(msg)\n",
            " 29%|██▊       | 70/244 [00:23<00:58,  2.99it/s]/usr/local/lib/python3.7/dist-packages/NERDA/preprocessing.py:75: UserWarning: Sentence #576 length 220 exceeds max_len 213 and has been truncated\n",
            "  warnings.warn(msg)\n",
            " 32%|███▏      | 79/244 [00:26<00:55,  2.98it/s]/usr/local/lib/python3.7/dist-packages/NERDA/preprocessing.py:75: UserWarning: Sentence #654 length 322 exceeds max_len 213 and has been truncated\n",
            "  warnings.warn(msg)\n",
            "/usr/local/lib/python3.7/dist-packages/NERDA/preprocessing.py:75: UserWarning: Sentence #655 length 313 exceeds max_len 213 and has been truncated\n",
            "  warnings.warn(msg)\n",
            " 33%|███▎      | 80/244 [00:26<00:55,  2.98it/s]/usr/local/lib/python3.7/dist-packages/NERDA/preprocessing.py:75: UserWarning: Sentence #658 length 264 exceeds max_len 213 and has been truncated\n",
            "  warnings.warn(msg)\n",
            " 34%|███▍      | 83/244 [00:27<00:54,  2.97it/s]/usr/local/lib/python3.7/dist-packages/NERDA/preprocessing.py:75: UserWarning: Sentence #681 length 253 exceeds max_len 213 and has been truncated\n",
            "  warnings.warn(msg)\n",
            " 39%|███▉      | 95/244 [00:31<00:50,  2.96it/s]/usr/local/lib/python3.7/dist-packages/NERDA/preprocessing.py:75: UserWarning: Sentence #778 length 303 exceeds max_len 213 and has been truncated\n",
            "  warnings.warn(msg)\n",
            " 39%|███▉      | 96/244 [00:32<00:50,  2.95it/s]/usr/local/lib/python3.7/dist-packages/NERDA/preprocessing.py:75: UserWarning: Sentence #784 length 243 exceeds max_len 213 and has been truncated\n",
            "  warnings.warn(msg)\n",
            " 40%|███▉      | 97/244 [00:32<00:49,  2.96it/s]/usr/local/lib/python3.7/dist-packages/NERDA/preprocessing.py:75: UserWarning: Sentence #792 length 237 exceeds max_len 213 and has been truncated\n",
            "  warnings.warn(msg)\n",
            " 43%|████▎     | 106/244 [00:35<00:46,  2.96it/s]/usr/local/lib/python3.7/dist-packages/NERDA/preprocessing.py:75: UserWarning: Sentence #866 length 291 exceeds max_len 213 and has been truncated\n",
            "  warnings.warn(msg)\n",
            " 46%|████▌     | 112/244 [00:37<00:44,  2.96it/s]/usr/local/lib/python3.7/dist-packages/NERDA/preprocessing.py:75: UserWarning: Sentence #912 length 247 exceeds max_len 213 and has been truncated\n",
            "  warnings.warn(msg)\n",
            " 48%|████▊     | 117/244 [00:39<00:43,  2.94it/s]/usr/local/lib/python3.7/dist-packages/NERDA/preprocessing.py:75: UserWarning: Sentence #952 length 249 exceeds max_len 213 and has been truncated\n",
            "  warnings.warn(msg)\n",
            " 61%|██████    | 148/244 [00:49<00:33,  2.89it/s]/usr/local/lib/python3.7/dist-packages/NERDA/preprocessing.py:75: UserWarning: Sentence #1201 length 258 exceeds max_len 213 and has been truncated\n",
            "  warnings.warn(msg)\n",
            "/usr/local/lib/python3.7/dist-packages/NERDA/preprocessing.py:75: UserWarning: Sentence #1202 length 258 exceeds max_len 213 and has been truncated\n",
            "  warnings.warn(msg)\n",
            " 61%|██████    | 149/244 [00:50<00:32,  2.89it/s]/usr/local/lib/python3.7/dist-packages/NERDA/preprocessing.py:75: UserWarning: Sentence #1214 length 215 exceeds max_len 213 and has been truncated\n",
            "  warnings.warn(msg)\n",
            " 64%|██████▍   | 157/244 [00:52<00:30,  2.90it/s]/usr/local/lib/python3.7/dist-packages/NERDA/preprocessing.py:75: UserWarning: Sentence #1276 length 299 exceeds max_len 213 and has been truncated\n",
            "  warnings.warn(msg)\n",
            " 71%|███████   | 173/244 [00:58<00:24,  2.86it/s]/usr/local/lib/python3.7/dist-packages/NERDA/preprocessing.py:75: UserWarning: Sentence #1400 length 310 exceeds max_len 213 and has been truncated\n",
            "  warnings.warn(msg)\n",
            " 77%|███████▋  | 189/244 [01:03<00:19,  2.87it/s]/usr/local/lib/python3.7/dist-packages/NERDA/preprocessing.py:75: UserWarning: Sentence #1535 length 214 exceeds max_len 213 and has been truncated\n",
            "  warnings.warn(msg)\n",
            " 78%|███████▊  | 191/244 [01:04<00:18,  2.87it/s]/usr/local/lib/python3.7/dist-packages/NERDA/preprocessing.py:75: UserWarning: Sentence #1547 length 289 exceeds max_len 213 and has been truncated\n",
            "  warnings.warn(msg)\n",
            " 80%|███████▉  | 194/244 [01:05<00:17,  2.87it/s]/usr/local/lib/python3.7/dist-packages/NERDA/preprocessing.py:75: UserWarning: Sentence #1574 length 252 exceeds max_len 213 and has been truncated\n",
            "  warnings.warn(msg)\n",
            " 80%|███████▉  | 195/244 [01:06<00:17,  2.87it/s]/usr/local/lib/python3.7/dist-packages/NERDA/preprocessing.py:75: UserWarning: Sentence #1580 length 214 exceeds max_len 213 and has been truncated\n",
            "  warnings.warn(msg)\n",
            " 81%|████████  | 198/244 [01:07<00:16,  2.86it/s]/usr/local/lib/python3.7/dist-packages/NERDA/preprocessing.py:75: UserWarning: Sentence #1602 length 249 exceeds max_len 213 and has been truncated\n",
            "  warnings.warn(msg)\n",
            " 82%|████████▏ | 200/244 [01:07<00:15,  2.84it/s]/usr/local/lib/python3.7/dist-packages/NERDA/preprocessing.py:75: UserWarning: Sentence #1620 length 293 exceeds max_len 213 and has been truncated\n",
            "  warnings.warn(msg)\n",
            " 85%|████████▌ | 208/244 [01:10<00:12,  2.82it/s]/usr/local/lib/python3.7/dist-packages/NERDA/preprocessing.py:75: UserWarning: Sentence #1680 length 309 exceeds max_len 213 and has been truncated\n",
            "  warnings.warn(msg)\n",
            " 91%|█████████ | 221/244 [01:15<00:08,  2.81it/s]/usr/local/lib/python3.7/dist-packages/NERDA/preprocessing.py:75: UserWarning: Sentence #1791 length 259 exceeds max_len 213 and has been truncated\n",
            "  warnings.warn(msg)\n",
            " 92%|█████████▏| 224/244 [01:16<00:07,  2.81it/s]/usr/local/lib/python3.7/dist-packages/NERDA/preprocessing.py:75: UserWarning: Sentence #1808 length 231 exceeds max_len 213 and has been truncated\n",
            "  warnings.warn(msg)\n",
            " 96%|█████████▋| 235/244 [01:20<00:03,  2.80it/s]/usr/local/lib/python3.7/dist-packages/NERDA/preprocessing.py:75: UserWarning: Sentence #1900 length 320 exceeds max_len 213 and has been truncated\n",
            "  warnings.warn(msg)\n",
            "/usr/local/lib/python3.7/dist-packages/NERDA/preprocessing.py:75: UserWarning: Sentence #1902 length 259 exceeds max_len 213 and has been truncated\n",
            "  warnings.warn(msg)\n",
            " 98%|█████████▊| 239/244 [01:21<00:01,  2.77it/s]/usr/local/lib/python3.7/dist-packages/NERDA/preprocessing.py:75: UserWarning: Sentence #1930 length 350 exceeds max_len 213 and has been truncated\n",
            "  warnings.warn(msg)\n",
            "100%|██████████| 244/244 [01:23<00:00,  2.92it/s]\n",
            " 18%|█▊        | 11/61 [00:01<00:05,  8.80it/s]/usr/local/lib/python3.7/dist-packages/NERDA/preprocessing.py:75: UserWarning: Sentence #108 length 218 exceeds max_len 213 and has been truncated\n",
            "  warnings.warn(msg)\n",
            " 25%|██▍       | 15/61 [00:01<00:05,  9.09it/s]/usr/local/lib/python3.7/dist-packages/NERDA/preprocessing.py:75: UserWarning: Sentence #136 length 257 exceeds max_len 213 and has been truncated\n",
            "  warnings.warn(msg)\n",
            " 33%|███▎      | 20/61 [00:02<00:04,  9.10it/s]/usr/local/lib/python3.7/dist-packages/NERDA/preprocessing.py:75: UserWarning: Sentence #182 length 214 exceeds max_len 213 and has been truncated\n",
            "  warnings.warn(msg)\n",
            " 75%|███████▌  | 46/61 [00:05<00:01,  8.98it/s]/usr/local/lib/python3.7/dist-packages/NERDA/preprocessing.py:75: UserWarning: Sentence #391 length 272 exceeds max_len 213 and has been truncated\n",
            "  warnings.warn(msg)\n",
            " 85%|████████▌ | 52/61 [00:05<00:00,  9.10it/s]/usr/local/lib/python3.7/dist-packages/NERDA/preprocessing.py:75: UserWarning: Sentence #438 length 239 exceeds max_len 213 and has been truncated\n",
            "  warnings.warn(msg)\n",
            " 87%|████████▋ | 53/61 [00:05<00:00,  9.11it/s]/usr/local/lib/python3.7/dist-packages/NERDA/preprocessing.py:75: UserWarning: Sentence #444 length 212 exceeds max_len 213 and has been truncated\n",
            "  warnings.warn(msg)\n",
            " 93%|█████████▎| 57/61 [00:06<00:00,  9.09it/s]/usr/local/lib/python3.7/dist-packages/NERDA/preprocessing.py:75: UserWarning: Sentence #478 length 362 exceeds max_len 213 and has been truncated\n",
            "  warnings.warn(msg)\n",
            "100%|██████████| 61/61 [00:06<00:00,  8.87it/s]\n",
            "  0%|          | 0/244 [00:00<?, ?it/s]"
          ],
          "name": "stderr"
        },
        {
          "output_type": "stream",
          "text": [
            "Train Loss = 1.2632320171496907 Valid Loss = 1.2844927350028617\n",
            "\n",
            " Epoch 2 / 5\n"
          ],
          "name": "stdout"
        },
        {
          "output_type": "stream",
          "text": [
            "/usr/local/lib/python3.7/dist-packages/NERDA/preprocessing.py:75: UserWarning: Sentence #5 length 256 exceeds max_len 213 and has been truncated\n",
            "  warnings.warn(msg)\n",
            "  5%|▍         | 11/244 [00:04<01:26,  2.71it/s]/usr/local/lib/python3.7/dist-packages/NERDA/preprocessing.py:75: UserWarning: Sentence #109 length 298 exceeds max_len 213 and has been truncated\n",
            "  warnings.warn(msg)\n",
            " 12%|█▏        | 30/244 [00:11<01:19,  2.70it/s]/usr/local/lib/python3.7/dist-packages/NERDA/preprocessing.py:75: UserWarning: Sentence #262 length 267 exceeds max_len 213 and has been truncated\n",
            "  warnings.warn(msg)\n",
            " 29%|██▊       | 70/244 [00:26<01:04,  2.72it/s]/usr/local/lib/python3.7/dist-packages/NERDA/preprocessing.py:75: UserWarning: Sentence #576 length 220 exceeds max_len 213 and has been truncated\n",
            "  warnings.warn(msg)\n",
            " 32%|███▏      | 79/244 [00:29<01:00,  2.73it/s]/usr/local/lib/python3.7/dist-packages/NERDA/preprocessing.py:75: UserWarning: Sentence #654 length 322 exceeds max_len 213 and has been truncated\n",
            "  warnings.warn(msg)\n",
            "/usr/local/lib/python3.7/dist-packages/NERDA/preprocessing.py:75: UserWarning: Sentence #655 length 313 exceeds max_len 213 and has been truncated\n",
            "  warnings.warn(msg)\n",
            " 33%|███▎      | 80/244 [00:29<00:59,  2.74it/s]/usr/local/lib/python3.7/dist-packages/NERDA/preprocessing.py:75: UserWarning: Sentence #658 length 264 exceeds max_len 213 and has been truncated\n",
            "  warnings.warn(msg)\n",
            " 34%|███▍      | 83/244 [00:30<00:59,  2.73it/s]/usr/local/lib/python3.7/dist-packages/NERDA/preprocessing.py:75: UserWarning: Sentence #681 length 253 exceeds max_len 213 and has been truncated\n",
            "  warnings.warn(msg)\n",
            " 39%|███▉      | 95/244 [00:35<00:54,  2.75it/s]/usr/local/lib/python3.7/dist-packages/NERDA/preprocessing.py:75: UserWarning: Sentence #778 length 303 exceeds max_len 213 and has been truncated\n",
            "  warnings.warn(msg)\n",
            " 39%|███▉      | 96/244 [00:35<00:53,  2.76it/s]/usr/local/lib/python3.7/dist-packages/NERDA/preprocessing.py:75: UserWarning: Sentence #784 length 243 exceeds max_len 213 and has been truncated\n",
            "  warnings.warn(msg)\n",
            " 40%|███▉      | 97/244 [00:35<00:53,  2.75it/s]/usr/local/lib/python3.7/dist-packages/NERDA/preprocessing.py:75: UserWarning: Sentence #792 length 237 exceeds max_len 213 and has been truncated\n",
            "  warnings.warn(msg)\n",
            " 43%|████▎     | 106/244 [00:39<00:49,  2.77it/s]/usr/local/lib/python3.7/dist-packages/NERDA/preprocessing.py:75: UserWarning: Sentence #866 length 291 exceeds max_len 213 and has been truncated\n",
            "  warnings.warn(msg)\n",
            " 46%|████▌     | 112/244 [00:41<00:47,  2.77it/s]/usr/local/lib/python3.7/dist-packages/NERDA/preprocessing.py:75: UserWarning: Sentence #912 length 247 exceeds max_len 213 and has been truncated\n",
            "  warnings.warn(msg)\n",
            " 48%|████▊     | 117/244 [00:43<00:45,  2.76it/s]/usr/local/lib/python3.7/dist-packages/NERDA/preprocessing.py:75: UserWarning: Sentence #952 length 249 exceeds max_len 213 and has been truncated\n",
            "  warnings.warn(msg)\n",
            " 61%|██████    | 148/244 [00:54<00:34,  2.78it/s]/usr/local/lib/python3.7/dist-packages/NERDA/preprocessing.py:75: UserWarning: Sentence #1201 length 258 exceeds max_len 213 and has been truncated\n",
            "  warnings.warn(msg)\n",
            "/usr/local/lib/python3.7/dist-packages/NERDA/preprocessing.py:75: UserWarning: Sentence #1202 length 258 exceeds max_len 213 and has been truncated\n",
            "  warnings.warn(msg)\n",
            " 61%|██████    | 149/244 [00:54<00:34,  2.78it/s]/usr/local/lib/python3.7/dist-packages/NERDA/preprocessing.py:75: UserWarning: Sentence #1214 length 215 exceeds max_len 213 and has been truncated\n",
            "  warnings.warn(msg)\n",
            " 64%|██████▍   | 157/244 [00:57<00:31,  2.78it/s]/usr/local/lib/python3.7/dist-packages/NERDA/preprocessing.py:75: UserWarning: Sentence #1276 length 299 exceeds max_len 213 and has been truncated\n",
            "  warnings.warn(msg)\n",
            " 71%|███████   | 173/244 [01:03<00:25,  2.77it/s]/usr/local/lib/python3.7/dist-packages/NERDA/preprocessing.py:75: UserWarning: Sentence #1400 length 310 exceeds max_len 213 and has been truncated\n",
            "  warnings.warn(msg)\n",
            " 77%|███████▋  | 189/244 [01:09<00:19,  2.77it/s]/usr/local/lib/python3.7/dist-packages/NERDA/preprocessing.py:75: UserWarning: Sentence #1535 length 214 exceeds max_len 213 and has been truncated\n",
            "  warnings.warn(msg)\n",
            " 78%|███████▊  | 191/244 [01:09<00:19,  2.76it/s]/usr/local/lib/python3.7/dist-packages/NERDA/preprocessing.py:75: UserWarning: Sentence #1547 length 289 exceeds max_len 213 and has been truncated\n",
            "  warnings.warn(msg)\n",
            " 80%|███████▉  | 194/244 [01:10<00:18,  2.77it/s]/usr/local/lib/python3.7/dist-packages/NERDA/preprocessing.py:75: UserWarning: Sentence #1574 length 252 exceeds max_len 213 and has been truncated\n",
            "  warnings.warn(msg)\n",
            " 80%|███████▉  | 195/244 [01:11<00:17,  2.76it/s]/usr/local/lib/python3.7/dist-packages/NERDA/preprocessing.py:75: UserWarning: Sentence #1580 length 214 exceeds max_len 213 and has been truncated\n",
            "  warnings.warn(msg)\n",
            " 81%|████████  | 198/244 [01:12<00:16,  2.76it/s]/usr/local/lib/python3.7/dist-packages/NERDA/preprocessing.py:75: UserWarning: Sentence #1602 length 249 exceeds max_len 213 and has been truncated\n",
            "  warnings.warn(msg)\n",
            " 82%|████████▏ | 200/244 [01:13<00:15,  2.76it/s]/usr/local/lib/python3.7/dist-packages/NERDA/preprocessing.py:75: UserWarning: Sentence #1620 length 293 exceeds max_len 213 and has been truncated\n",
            "  warnings.warn(msg)\n",
            " 85%|████████▌ | 208/244 [01:15<00:13,  2.76it/s]/usr/local/lib/python3.7/dist-packages/NERDA/preprocessing.py:75: UserWarning: Sentence #1680 length 309 exceeds max_len 213 and has been truncated\n",
            "  warnings.warn(msg)\n",
            " 91%|█████████ | 221/244 [01:20<00:08,  2.77it/s]/usr/local/lib/python3.7/dist-packages/NERDA/preprocessing.py:75: UserWarning: Sentence #1791 length 259 exceeds max_len 213 and has been truncated\n",
            "  warnings.warn(msg)\n",
            " 92%|█████████▏| 224/244 [01:21<00:07,  2.75it/s]/usr/local/lib/python3.7/dist-packages/NERDA/preprocessing.py:75: UserWarning: Sentence #1808 length 231 exceeds max_len 213 and has been truncated\n",
            "  warnings.warn(msg)\n",
            " 96%|█████████▋| 235/244 [01:25<00:03,  2.74it/s]/usr/local/lib/python3.7/dist-packages/NERDA/preprocessing.py:75: UserWarning: Sentence #1900 length 320 exceeds max_len 213 and has been truncated\n",
            "  warnings.warn(msg)\n",
            "/usr/local/lib/python3.7/dist-packages/NERDA/preprocessing.py:75: UserWarning: Sentence #1902 length 259 exceeds max_len 213 and has been truncated\n",
            "  warnings.warn(msg)\n",
            " 98%|█████████▊| 239/244 [01:27<00:01,  2.72it/s]/usr/local/lib/python3.7/dist-packages/NERDA/preprocessing.py:75: UserWarning: Sentence #1930 length 350 exceeds max_len 213 and has been truncated\n",
            "  warnings.warn(msg)\n",
            "100%|██████████| 244/244 [01:29<00:00,  2.74it/s]\n",
            " 18%|█▊        | 11/61 [00:01<00:05,  8.78it/s]/usr/local/lib/python3.7/dist-packages/NERDA/preprocessing.py:75: UserWarning: Sentence #108 length 218 exceeds max_len 213 and has been truncated\n",
            "  warnings.warn(msg)\n",
            " 25%|██▍       | 15/61 [00:01<00:05,  8.97it/s]/usr/local/lib/python3.7/dist-packages/NERDA/preprocessing.py:75: UserWarning: Sentence #136 length 257 exceeds max_len 213 and has been truncated\n",
            "  warnings.warn(msg)\n",
            " 33%|███▎      | 20/61 [00:02<00:04,  9.02it/s]/usr/local/lib/python3.7/dist-packages/NERDA/preprocessing.py:75: UserWarning: Sentence #182 length 214 exceeds max_len 213 and has been truncated\n",
            "  warnings.warn(msg)\n",
            " 75%|███████▌  | 46/61 [00:05<00:01,  8.97it/s]/usr/local/lib/python3.7/dist-packages/NERDA/preprocessing.py:75: UserWarning: Sentence #391 length 272 exceeds max_len 213 and has been truncated\n",
            "  warnings.warn(msg)\n",
            " 85%|████████▌ | 52/61 [00:05<00:00,  9.01it/s]/usr/local/lib/python3.7/dist-packages/NERDA/preprocessing.py:75: UserWarning: Sentence #438 length 239 exceeds max_len 213 and has been truncated\n",
            "  warnings.warn(msg)\n",
            " 87%|████████▋ | 53/61 [00:05<00:00,  9.08it/s]/usr/local/lib/python3.7/dist-packages/NERDA/preprocessing.py:75: UserWarning: Sentence #444 length 212 exceeds max_len 213 and has been truncated\n",
            "  warnings.warn(msg)\n",
            " 93%|█████████▎| 57/61 [00:06<00:00,  8.92it/s]/usr/local/lib/python3.7/dist-packages/NERDA/preprocessing.py:75: UserWarning: Sentence #478 length 362 exceeds max_len 213 and has been truncated\n",
            "  warnings.warn(msg)\n",
            "100%|██████████| 61/61 [00:06<00:00,  8.82it/s]\n",
            "  0%|          | 0/244 [00:00<?, ?it/s]"
          ],
          "name": "stderr"
        },
        {
          "output_type": "stream",
          "text": [
            "Train Loss = 1.1741507011847419 Valid Loss = 0.915901493830759\n",
            "\n",
            " Epoch 3 / 5\n"
          ],
          "name": "stdout"
        },
        {
          "output_type": "stream",
          "text": [
            "/usr/local/lib/python3.7/dist-packages/NERDA/preprocessing.py:75: UserWarning: Sentence #5 length 256 exceeds max_len 213 and has been truncated\n",
            "  warnings.warn(msg)\n",
            "  5%|▍         | 11/244 [00:04<01:25,  2.74it/s]/usr/local/lib/python3.7/dist-packages/NERDA/preprocessing.py:75: UserWarning: Sentence #109 length 298 exceeds max_len 213 and has been truncated\n",
            "  warnings.warn(msg)\n",
            " 12%|█▏        | 30/244 [00:11<01:18,  2.72it/s]/usr/local/lib/python3.7/dist-packages/NERDA/preprocessing.py:75: UserWarning: Sentence #262 length 267 exceeds max_len 213 and has been truncated\n",
            "  warnings.warn(msg)\n",
            " 29%|██▊       | 70/244 [00:25<01:03,  2.75it/s]/usr/local/lib/python3.7/dist-packages/NERDA/preprocessing.py:75: UserWarning: Sentence #576 length 220 exceeds max_len 213 and has been truncated\n",
            "  warnings.warn(msg)\n",
            " 32%|███▏      | 79/244 [00:28<01:00,  2.74it/s]/usr/local/lib/python3.7/dist-packages/NERDA/preprocessing.py:75: UserWarning: Sentence #654 length 322 exceeds max_len 213 and has been truncated\n",
            "  warnings.warn(msg)\n",
            "/usr/local/lib/python3.7/dist-packages/NERDA/preprocessing.py:75: UserWarning: Sentence #655 length 313 exceeds max_len 213 and has been truncated\n",
            "  warnings.warn(msg)\n",
            " 33%|███▎      | 80/244 [00:29<01:00,  2.73it/s]/usr/local/lib/python3.7/dist-packages/NERDA/preprocessing.py:75: UserWarning: Sentence #658 length 264 exceeds max_len 213 and has been truncated\n",
            "  warnings.warn(msg)\n",
            " 34%|███▍      | 83/244 [00:30<00:59,  2.73it/s]/usr/local/lib/python3.7/dist-packages/NERDA/preprocessing.py:75: UserWarning: Sentence #681 length 253 exceeds max_len 213 and has been truncated\n",
            "  warnings.warn(msg)\n",
            " 39%|███▉      | 95/244 [00:34<00:54,  2.75it/s]/usr/local/lib/python3.7/dist-packages/NERDA/preprocessing.py:75: UserWarning: Sentence #778 length 303 exceeds max_len 213 and has been truncated\n",
            "  warnings.warn(msg)\n",
            " 39%|███▉      | 96/244 [00:35<00:54,  2.73it/s]/usr/local/lib/python3.7/dist-packages/NERDA/preprocessing.py:75: UserWarning: Sentence #784 length 243 exceeds max_len 213 and has been truncated\n",
            "  warnings.warn(msg)\n",
            " 40%|███▉      | 97/244 [00:35<00:53,  2.73it/s]/usr/local/lib/python3.7/dist-packages/NERDA/preprocessing.py:75: UserWarning: Sentence #792 length 237 exceeds max_len 213 and has been truncated\n",
            "  warnings.warn(msg)\n",
            " 43%|████▎     | 106/244 [00:38<00:50,  2.74it/s]/usr/local/lib/python3.7/dist-packages/NERDA/preprocessing.py:75: UserWarning: Sentence #866 length 291 exceeds max_len 213 and has been truncated\n",
            "  warnings.warn(msg)\n",
            " 46%|████▌     | 112/244 [00:41<00:48,  2.72it/s]/usr/local/lib/python3.7/dist-packages/NERDA/preprocessing.py:75: UserWarning: Sentence #912 length 247 exceeds max_len 213 and has been truncated\n",
            "  warnings.warn(msg)\n",
            " 48%|████▊     | 117/244 [00:42<00:45,  2.76it/s]/usr/local/lib/python3.7/dist-packages/NERDA/preprocessing.py:75: UserWarning: Sentence #952 length 249 exceeds max_len 213 and has been truncated\n",
            "  warnings.warn(msg)\n",
            " 61%|██████    | 148/244 [00:54<00:35,  2.74it/s]/usr/local/lib/python3.7/dist-packages/NERDA/preprocessing.py:75: UserWarning: Sentence #1201 length 258 exceeds max_len 213 and has been truncated\n",
            "  warnings.warn(msg)\n",
            "/usr/local/lib/python3.7/dist-packages/NERDA/preprocessing.py:75: UserWarning: Sentence #1202 length 258 exceeds max_len 213 and has been truncated\n",
            "  warnings.warn(msg)\n",
            " 61%|██████    | 149/244 [00:54<00:34,  2.74it/s]/usr/local/lib/python3.7/dist-packages/NERDA/preprocessing.py:75: UserWarning: Sentence #1214 length 215 exceeds max_len 213 and has been truncated\n",
            "  warnings.warn(msg)\n",
            " 64%|██████▍   | 157/244 [00:57<00:31,  2.76it/s]/usr/local/lib/python3.7/dist-packages/NERDA/preprocessing.py:75: UserWarning: Sentence #1276 length 299 exceeds max_len 213 and has been truncated\n",
            "  warnings.warn(msg)\n",
            " 71%|███████   | 173/244 [01:03<00:25,  2.74it/s]/usr/local/lib/python3.7/dist-packages/NERDA/preprocessing.py:75: UserWarning: Sentence #1400 length 310 exceeds max_len 213 and has been truncated\n",
            "  warnings.warn(msg)\n",
            " 77%|███████▋  | 189/244 [01:09<00:19,  2.76it/s]/usr/local/lib/python3.7/dist-packages/NERDA/preprocessing.py:75: UserWarning: Sentence #1535 length 214 exceeds max_len 213 and has been truncated\n",
            "  warnings.warn(msg)\n",
            " 78%|███████▊  | 191/244 [01:09<00:19,  2.75it/s]/usr/local/lib/python3.7/dist-packages/NERDA/preprocessing.py:75: UserWarning: Sentence #1547 length 289 exceeds max_len 213 and has been truncated\n",
            "  warnings.warn(msg)\n",
            " 80%|███████▉  | 194/244 [01:10<00:18,  2.75it/s]/usr/local/lib/python3.7/dist-packages/NERDA/preprocessing.py:75: UserWarning: Sentence #1574 length 252 exceeds max_len 213 and has been truncated\n",
            "  warnings.warn(msg)\n",
            " 80%|███████▉  | 195/244 [01:11<00:17,  2.74it/s]/usr/local/lib/python3.7/dist-packages/NERDA/preprocessing.py:75: UserWarning: Sentence #1580 length 214 exceeds max_len 213 and has been truncated\n",
            "  warnings.warn(msg)\n",
            " 81%|████████  | 198/244 [01:12<00:16,  2.75it/s]/usr/local/lib/python3.7/dist-packages/NERDA/preprocessing.py:75: UserWarning: Sentence #1602 length 249 exceeds max_len 213 and has been truncated\n",
            "  warnings.warn(msg)\n",
            " 82%|████████▏ | 200/244 [01:13<00:15,  2.76it/s]/usr/local/lib/python3.7/dist-packages/NERDA/preprocessing.py:75: UserWarning: Sentence #1620 length 293 exceeds max_len 213 and has been truncated\n",
            "  warnings.warn(msg)\n",
            " 85%|████████▌ | 208/244 [01:16<00:13,  2.73it/s]/usr/local/lib/python3.7/dist-packages/NERDA/preprocessing.py:75: UserWarning: Sentence #1680 length 309 exceeds max_len 213 and has been truncated\n",
            "  warnings.warn(msg)\n",
            " 91%|█████████ | 221/244 [01:20<00:08,  2.76it/s]/usr/local/lib/python3.7/dist-packages/NERDA/preprocessing.py:75: UserWarning: Sentence #1791 length 259 exceeds max_len 213 and has been truncated\n",
            "  warnings.warn(msg)\n",
            " 92%|█████████▏| 224/244 [01:21<00:07,  2.77it/s]/usr/local/lib/python3.7/dist-packages/NERDA/preprocessing.py:75: UserWarning: Sentence #1808 length 231 exceeds max_len 213 and has been truncated\n",
            "  warnings.warn(msg)\n",
            " 96%|█████████▋| 235/244 [01:25<00:03,  2.74it/s]/usr/local/lib/python3.7/dist-packages/NERDA/preprocessing.py:75: UserWarning: Sentence #1900 length 320 exceeds max_len 213 and has been truncated\n",
            "  warnings.warn(msg)\n",
            "/usr/local/lib/python3.7/dist-packages/NERDA/preprocessing.py:75: UserWarning: Sentence #1902 length 259 exceeds max_len 213 and has been truncated\n",
            "  warnings.warn(msg)\n",
            " 98%|█████████▊| 239/244 [01:27<00:01,  2.74it/s]/usr/local/lib/python3.7/dist-packages/NERDA/preprocessing.py:75: UserWarning: Sentence #1930 length 350 exceeds max_len 213 and has been truncated\n",
            "  warnings.warn(msg)\n",
            "100%|██████████| 244/244 [01:29<00:00,  2.74it/s]\n",
            " 18%|█▊        | 11/61 [00:01<00:05,  8.89it/s]/usr/local/lib/python3.7/dist-packages/NERDA/preprocessing.py:75: UserWarning: Sentence #108 length 218 exceeds max_len 213 and has been truncated\n",
            "  warnings.warn(msg)\n",
            " 25%|██▍       | 15/61 [00:01<00:05,  8.97it/s]/usr/local/lib/python3.7/dist-packages/NERDA/preprocessing.py:75: UserWarning: Sentence #136 length 257 exceeds max_len 213 and has been truncated\n",
            "  warnings.warn(msg)\n",
            " 33%|███▎      | 20/61 [00:02<00:04,  8.98it/s]/usr/local/lib/python3.7/dist-packages/NERDA/preprocessing.py:75: UserWarning: Sentence #182 length 214 exceeds max_len 213 and has been truncated\n",
            "  warnings.warn(msg)\n",
            " 75%|███████▌  | 46/61 [00:05<00:01,  8.92it/s]/usr/local/lib/python3.7/dist-packages/NERDA/preprocessing.py:75: UserWarning: Sentence #391 length 272 exceeds max_len 213 and has been truncated\n",
            "  warnings.warn(msg)\n",
            " 85%|████████▌ | 52/61 [00:05<00:01,  8.93it/s]/usr/local/lib/python3.7/dist-packages/NERDA/preprocessing.py:75: UserWarning: Sentence #438 length 239 exceeds max_len 213 and has been truncated\n",
            "  warnings.warn(msg)\n",
            " 87%|████████▋ | 53/61 [00:05<00:00,  9.06it/s]/usr/local/lib/python3.7/dist-packages/NERDA/preprocessing.py:75: UserWarning: Sentence #444 length 212 exceeds max_len 213 and has been truncated\n",
            "  warnings.warn(msg)\n",
            " 93%|█████████▎| 57/61 [00:06<00:00,  9.00it/s]/usr/local/lib/python3.7/dist-packages/NERDA/preprocessing.py:75: UserWarning: Sentence #478 length 362 exceeds max_len 213 and has been truncated\n",
            "  warnings.warn(msg)\n",
            "100%|██████████| 61/61 [00:06<00:00,  8.81it/s]\n",
            "  0%|          | 0/244 [00:00<?, ?it/s]"
          ],
          "name": "stderr"
        },
        {
          "output_type": "stream",
          "text": [
            "Train Loss = 0.5644820999415194 Valid Loss = 0.4191334577368908\n",
            "\n",
            " Epoch 4 / 5\n"
          ],
          "name": "stdout"
        },
        {
          "output_type": "stream",
          "text": [
            "/usr/local/lib/python3.7/dist-packages/NERDA/preprocessing.py:75: UserWarning: Sentence #5 length 256 exceeds max_len 213 and has been truncated\n",
            "  warnings.warn(msg)\n",
            "  5%|▍         | 11/244 [00:04<01:25,  2.73it/s]/usr/local/lib/python3.7/dist-packages/NERDA/preprocessing.py:75: UserWarning: Sentence #109 length 298 exceeds max_len 213 and has been truncated\n",
            "  warnings.warn(msg)\n",
            " 12%|█▏        | 30/244 [00:11<01:17,  2.76it/s]/usr/local/lib/python3.7/dist-packages/NERDA/preprocessing.py:75: UserWarning: Sentence #262 length 267 exceeds max_len 213 and has been truncated\n",
            "  warnings.warn(msg)\n",
            " 29%|██▊       | 70/244 [00:25<01:03,  2.75it/s]/usr/local/lib/python3.7/dist-packages/NERDA/preprocessing.py:75: UserWarning: Sentence #576 length 220 exceeds max_len 213 and has been truncated\n",
            "  warnings.warn(msg)\n",
            " 32%|███▏      | 79/244 [00:28<01:00,  2.73it/s]/usr/local/lib/python3.7/dist-packages/NERDA/preprocessing.py:75: UserWarning: Sentence #654 length 322 exceeds max_len 213 and has been truncated\n",
            "  warnings.warn(msg)\n",
            "/usr/local/lib/python3.7/dist-packages/NERDA/preprocessing.py:75: UserWarning: Sentence #655 length 313 exceeds max_len 213 and has been truncated\n",
            "  warnings.warn(msg)\n",
            " 33%|███▎      | 80/244 [00:29<00:59,  2.74it/s]/usr/local/lib/python3.7/dist-packages/NERDA/preprocessing.py:75: UserWarning: Sentence #658 length 264 exceeds max_len 213 and has been truncated\n",
            "  warnings.warn(msg)\n",
            " 34%|███▍      | 83/244 [00:30<00:58,  2.74it/s]/usr/local/lib/python3.7/dist-packages/NERDA/preprocessing.py:75: UserWarning: Sentence #681 length 253 exceeds max_len 213 and has been truncated\n",
            "  warnings.warn(msg)\n",
            " 39%|███▉      | 95/244 [00:34<00:54,  2.73it/s]/usr/local/lib/python3.7/dist-packages/NERDA/preprocessing.py:75: UserWarning: Sentence #778 length 303 exceeds max_len 213 and has been truncated\n",
            "  warnings.warn(msg)\n",
            " 39%|███▉      | 96/244 [00:35<00:54,  2.73it/s]/usr/local/lib/python3.7/dist-packages/NERDA/preprocessing.py:75: UserWarning: Sentence #784 length 243 exceeds max_len 213 and has been truncated\n",
            "  warnings.warn(msg)\n",
            " 40%|███▉      | 97/244 [00:35<00:53,  2.74it/s]/usr/local/lib/python3.7/dist-packages/NERDA/preprocessing.py:75: UserWarning: Sentence #792 length 237 exceeds max_len 213 and has been truncated\n",
            "  warnings.warn(msg)\n",
            " 43%|████▎     | 106/244 [00:38<00:50,  2.73it/s]/usr/local/lib/python3.7/dist-packages/NERDA/preprocessing.py:75: UserWarning: Sentence #866 length 291 exceeds max_len 213 and has been truncated\n",
            "  warnings.warn(msg)\n",
            " 46%|████▌     | 112/244 [00:40<00:48,  2.72it/s]/usr/local/lib/python3.7/dist-packages/NERDA/preprocessing.py:75: UserWarning: Sentence #912 length 247 exceeds max_len 213 and has been truncated\n",
            "  warnings.warn(msg)\n",
            " 48%|████▊     | 117/244 [00:42<00:46,  2.73it/s]/usr/local/lib/python3.7/dist-packages/NERDA/preprocessing.py:75: UserWarning: Sentence #952 length 249 exceeds max_len 213 and has been truncated\n",
            "  warnings.warn(msg)\n",
            " 61%|██████    | 148/244 [00:54<00:34,  2.76it/s]/usr/local/lib/python3.7/dist-packages/NERDA/preprocessing.py:75: UserWarning: Sentence #1201 length 258 exceeds max_len 213 and has been truncated\n",
            "  warnings.warn(msg)\n",
            "/usr/local/lib/python3.7/dist-packages/NERDA/preprocessing.py:75: UserWarning: Sentence #1202 length 258 exceeds max_len 213 and has been truncated\n",
            "  warnings.warn(msg)\n",
            " 61%|██████    | 149/244 [00:54<00:34,  2.77it/s]/usr/local/lib/python3.7/dist-packages/NERDA/preprocessing.py:75: UserWarning: Sentence #1214 length 215 exceeds max_len 213 and has been truncated\n",
            "  warnings.warn(msg)\n",
            " 64%|██████▍   | 157/244 [00:57<00:31,  2.75it/s]/usr/local/lib/python3.7/dist-packages/NERDA/preprocessing.py:75: UserWarning: Sentence #1276 length 299 exceeds max_len 213 and has been truncated\n",
            "  warnings.warn(msg)\n",
            " 71%|███████   | 173/244 [01:03<00:25,  2.75it/s]/usr/local/lib/python3.7/dist-packages/NERDA/preprocessing.py:75: UserWarning: Sentence #1400 length 310 exceeds max_len 213 and has been truncated\n",
            "  warnings.warn(msg)\n",
            " 77%|███████▋  | 189/244 [01:08<00:20,  2.73it/s]/usr/local/lib/python3.7/dist-packages/NERDA/preprocessing.py:75: UserWarning: Sentence #1535 length 214 exceeds max_len 213 and has been truncated\n",
            "  warnings.warn(msg)\n",
            " 78%|███████▊  | 191/244 [01:09<00:19,  2.76it/s]/usr/local/lib/python3.7/dist-packages/NERDA/preprocessing.py:75: UserWarning: Sentence #1547 length 289 exceeds max_len 213 and has been truncated\n",
            "  warnings.warn(msg)\n",
            " 80%|███████▉  | 194/244 [01:10<00:18,  2.73it/s]/usr/local/lib/python3.7/dist-packages/NERDA/preprocessing.py:75: UserWarning: Sentence #1574 length 252 exceeds max_len 213 and has been truncated\n",
            "  warnings.warn(msg)\n",
            " 80%|███████▉  | 195/244 [01:11<00:17,  2.72it/s]/usr/local/lib/python3.7/dist-packages/NERDA/preprocessing.py:75: UserWarning: Sentence #1580 length 214 exceeds max_len 213 and has been truncated\n",
            "  warnings.warn(msg)\n",
            " 81%|████████  | 198/244 [01:12<00:16,  2.75it/s]/usr/local/lib/python3.7/dist-packages/NERDA/preprocessing.py:75: UserWarning: Sentence #1602 length 249 exceeds max_len 213 and has been truncated\n",
            "  warnings.warn(msg)\n",
            " 82%|████████▏ | 200/244 [01:12<00:15,  2.76it/s]/usr/local/lib/python3.7/dist-packages/NERDA/preprocessing.py:75: UserWarning: Sentence #1620 length 293 exceeds max_len 213 and has been truncated\n",
            "  warnings.warn(msg)\n",
            " 85%|████████▌ | 208/244 [01:15<00:13,  2.74it/s]/usr/local/lib/python3.7/dist-packages/NERDA/preprocessing.py:75: UserWarning: Sentence #1680 length 309 exceeds max_len 213 and has been truncated\n",
            "  warnings.warn(msg)\n",
            " 91%|█████████ | 221/244 [01:20<00:08,  2.72it/s]/usr/local/lib/python3.7/dist-packages/NERDA/preprocessing.py:75: UserWarning: Sentence #1791 length 259 exceeds max_len 213 and has been truncated\n",
            "  warnings.warn(msg)\n",
            " 92%|█████████▏| 224/244 [01:21<00:07,  2.74it/s]/usr/local/lib/python3.7/dist-packages/NERDA/preprocessing.py:75: UserWarning: Sentence #1808 length 231 exceeds max_len 213 and has been truncated\n",
            "  warnings.warn(msg)\n",
            " 96%|█████████▋| 235/244 [01:25<00:03,  2.74it/s]/usr/local/lib/python3.7/dist-packages/NERDA/preprocessing.py:75: UserWarning: Sentence #1900 length 320 exceeds max_len 213 and has been truncated\n",
            "  warnings.warn(msg)\n",
            "/usr/local/lib/python3.7/dist-packages/NERDA/preprocessing.py:75: UserWarning: Sentence #1902 length 259 exceeds max_len 213 and has been truncated\n",
            "  warnings.warn(msg)\n",
            " 98%|█████████▊| 239/244 [01:27<00:01,  2.71it/s]/usr/local/lib/python3.7/dist-packages/NERDA/preprocessing.py:75: UserWarning: Sentence #1930 length 350 exceeds max_len 213 and has been truncated\n",
            "  warnings.warn(msg)\n",
            "100%|██████████| 244/244 [01:29<00:00,  2.74it/s]\n",
            " 18%|█▊        | 11/61 [00:01<00:05,  8.74it/s]/usr/local/lib/python3.7/dist-packages/NERDA/preprocessing.py:75: UserWarning: Sentence #108 length 218 exceeds max_len 213 and has been truncated\n",
            "  warnings.warn(msg)\n",
            " 25%|██▍       | 15/61 [00:01<00:05,  9.03it/s]/usr/local/lib/python3.7/dist-packages/NERDA/preprocessing.py:75: UserWarning: Sentence #136 length 257 exceeds max_len 213 and has been truncated\n",
            "  warnings.warn(msg)\n",
            " 33%|███▎      | 20/61 [00:02<00:04,  9.04it/s]/usr/local/lib/python3.7/dist-packages/NERDA/preprocessing.py:75: UserWarning: Sentence #182 length 214 exceeds max_len 213 and has been truncated\n",
            "  warnings.warn(msg)\n",
            " 75%|███████▌  | 46/61 [00:05<00:01,  9.03it/s]/usr/local/lib/python3.7/dist-packages/NERDA/preprocessing.py:75: UserWarning: Sentence #391 length 272 exceeds max_len 213 and has been truncated\n",
            "  warnings.warn(msg)\n",
            " 85%|████████▌ | 52/61 [00:05<00:00,  9.07it/s]/usr/local/lib/python3.7/dist-packages/NERDA/preprocessing.py:75: UserWarning: Sentence #438 length 239 exceeds max_len 213 and has been truncated\n",
            "  warnings.warn(msg)\n",
            " 87%|████████▋ | 53/61 [00:05<00:00,  9.09it/s]/usr/local/lib/python3.7/dist-packages/NERDA/preprocessing.py:75: UserWarning: Sentence #444 length 212 exceeds max_len 213 and has been truncated\n",
            "  warnings.warn(msg)\n",
            " 93%|█████████▎| 57/61 [00:06<00:00,  8.94it/s]/usr/local/lib/python3.7/dist-packages/NERDA/preprocessing.py:75: UserWarning: Sentence #478 length 362 exceeds max_len 213 and has been truncated\n",
            "  warnings.warn(msg)\n",
            "100%|██████████| 61/61 [00:06<00:00,  8.81it/s]\n",
            "  0%|          | 0/244 [00:00<?, ?it/s]"
          ],
          "name": "stderr"
        },
        {
          "output_type": "stream",
          "text": [
            "Train Loss = 0.3208619445623433 Valid Loss = 0.3605948061239524\n",
            "\n",
            " Epoch 5 / 5\n"
          ],
          "name": "stdout"
        },
        {
          "output_type": "stream",
          "text": [
            "/usr/local/lib/python3.7/dist-packages/NERDA/preprocessing.py:75: UserWarning: Sentence #5 length 256 exceeds max_len 213 and has been truncated\n",
            "  warnings.warn(msg)\n",
            "  5%|▍         | 11/244 [00:04<01:25,  2.73it/s]/usr/local/lib/python3.7/dist-packages/NERDA/preprocessing.py:75: UserWarning: Sentence #109 length 298 exceeds max_len 213 and has been truncated\n",
            "  warnings.warn(msg)\n",
            " 12%|█▏        | 30/244 [00:11<01:17,  2.74it/s]/usr/local/lib/python3.7/dist-packages/NERDA/preprocessing.py:75: UserWarning: Sentence #262 length 267 exceeds max_len 213 and has been truncated\n",
            "  warnings.warn(msg)\n",
            " 29%|██▊       | 70/244 [00:25<01:03,  2.73it/s]/usr/local/lib/python3.7/dist-packages/NERDA/preprocessing.py:75: UserWarning: Sentence #576 length 220 exceeds max_len 213 and has been truncated\n",
            "  warnings.warn(msg)\n",
            " 32%|███▏      | 79/244 [00:28<01:00,  2.74it/s]/usr/local/lib/python3.7/dist-packages/NERDA/preprocessing.py:75: UserWarning: Sentence #654 length 322 exceeds max_len 213 and has been truncated\n",
            "  warnings.warn(msg)\n",
            "/usr/local/lib/python3.7/dist-packages/NERDA/preprocessing.py:75: UserWarning: Sentence #655 length 313 exceeds max_len 213 and has been truncated\n",
            "  warnings.warn(msg)\n",
            " 33%|███▎      | 80/244 [00:29<00:59,  2.74it/s]/usr/local/lib/python3.7/dist-packages/NERDA/preprocessing.py:75: UserWarning: Sentence #658 length 264 exceeds max_len 213 and has been truncated\n",
            "  warnings.warn(msg)\n",
            " 34%|███▍      | 83/244 [00:30<00:58,  2.73it/s]/usr/local/lib/python3.7/dist-packages/NERDA/preprocessing.py:75: UserWarning: Sentence #681 length 253 exceeds max_len 213 and has been truncated\n",
            "  warnings.warn(msg)\n",
            " 39%|███▉      | 95/244 [00:34<00:54,  2.73it/s]/usr/local/lib/python3.7/dist-packages/NERDA/preprocessing.py:75: UserWarning: Sentence #778 length 303 exceeds max_len 213 and has been truncated\n",
            "  warnings.warn(msg)\n",
            " 39%|███▉      | 96/244 [00:35<00:54,  2.74it/s]/usr/local/lib/python3.7/dist-packages/NERDA/preprocessing.py:75: UserWarning: Sentence #784 length 243 exceeds max_len 213 and has been truncated\n",
            "  warnings.warn(msg)\n",
            " 40%|███▉      | 97/244 [00:35<00:53,  2.75it/s]/usr/local/lib/python3.7/dist-packages/NERDA/preprocessing.py:75: UserWarning: Sentence #792 length 237 exceeds max_len 213 and has been truncated\n",
            "  warnings.warn(msg)\n",
            " 43%|████▎     | 106/244 [00:38<00:50,  2.74it/s]/usr/local/lib/python3.7/dist-packages/NERDA/preprocessing.py:75: UserWarning: Sentence #866 length 291 exceeds max_len 213 and has been truncated\n",
            "  warnings.warn(msg)\n",
            " 46%|████▌     | 112/244 [00:40<00:48,  2.74it/s]/usr/local/lib/python3.7/dist-packages/NERDA/preprocessing.py:75: UserWarning: Sentence #912 length 247 exceeds max_len 213 and has been truncated\n",
            "  warnings.warn(msg)\n",
            " 48%|████▊     | 117/244 [00:42<00:46,  2.75it/s]/usr/local/lib/python3.7/dist-packages/NERDA/preprocessing.py:75: UserWarning: Sentence #952 length 249 exceeds max_len 213 and has been truncated\n",
            "  warnings.warn(msg)\n",
            " 61%|██████    | 148/244 [00:53<00:34,  2.76it/s]/usr/local/lib/python3.7/dist-packages/NERDA/preprocessing.py:75: UserWarning: Sentence #1201 length 258 exceeds max_len 213 and has been truncated\n",
            "  warnings.warn(msg)\n",
            "/usr/local/lib/python3.7/dist-packages/NERDA/preprocessing.py:75: UserWarning: Sentence #1202 length 258 exceeds max_len 213 and has been truncated\n",
            "  warnings.warn(msg)\n",
            " 61%|██████    | 149/244 [00:54<00:34,  2.77it/s]/usr/local/lib/python3.7/dist-packages/NERDA/preprocessing.py:75: UserWarning: Sentence #1214 length 215 exceeds max_len 213 and has been truncated\n",
            "  warnings.warn(msg)\n",
            " 64%|██████▍   | 157/244 [00:57<00:31,  2.75it/s]/usr/local/lib/python3.7/dist-packages/NERDA/preprocessing.py:75: UserWarning: Sentence #1276 length 299 exceeds max_len 213 and has been truncated\n",
            "  warnings.warn(msg)\n",
            " 71%|███████   | 173/244 [01:03<00:25,  2.76it/s]/usr/local/lib/python3.7/dist-packages/NERDA/preprocessing.py:75: UserWarning: Sentence #1400 length 310 exceeds max_len 213 and has been truncated\n",
            "  warnings.warn(msg)\n",
            " 77%|███████▋  | 189/244 [01:08<00:20,  2.74it/s]/usr/local/lib/python3.7/dist-packages/NERDA/preprocessing.py:75: UserWarning: Sentence #1535 length 214 exceeds max_len 213 and has been truncated\n",
            "  warnings.warn(msg)\n",
            " 78%|███████▊  | 191/244 [01:09<00:19,  2.76it/s]/usr/local/lib/python3.7/dist-packages/NERDA/preprocessing.py:75: UserWarning: Sentence #1547 length 289 exceeds max_len 213 and has been truncated\n",
            "  warnings.warn(msg)\n",
            " 80%|███████▉  | 194/244 [01:10<00:18,  2.76it/s]/usr/local/lib/python3.7/dist-packages/NERDA/preprocessing.py:75: UserWarning: Sentence #1574 length 252 exceeds max_len 213 and has been truncated\n",
            "  warnings.warn(msg)\n",
            " 80%|███████▉  | 195/244 [01:11<00:17,  2.75it/s]/usr/local/lib/python3.7/dist-packages/NERDA/preprocessing.py:75: UserWarning: Sentence #1580 length 214 exceeds max_len 213 and has been truncated\n",
            "  warnings.warn(msg)\n",
            " 81%|████████  | 198/244 [01:12<00:16,  2.74it/s]/usr/local/lib/python3.7/dist-packages/NERDA/preprocessing.py:75: UserWarning: Sentence #1602 length 249 exceeds max_len 213 and has been truncated\n",
            "  warnings.warn(msg)\n",
            " 82%|████████▏ | 200/244 [01:12<00:16,  2.75it/s]/usr/local/lib/python3.7/dist-packages/NERDA/preprocessing.py:75: UserWarning: Sentence #1620 length 293 exceeds max_len 213 and has been truncated\n",
            "  warnings.warn(msg)\n",
            " 85%|████████▌ | 208/244 [01:15<00:13,  2.74it/s]/usr/local/lib/python3.7/dist-packages/NERDA/preprocessing.py:75: UserWarning: Sentence #1680 length 309 exceeds max_len 213 and has been truncated\n",
            "  warnings.warn(msg)\n",
            " 91%|█████████ | 221/244 [01:20<00:08,  2.75it/s]/usr/local/lib/python3.7/dist-packages/NERDA/preprocessing.py:75: UserWarning: Sentence #1791 length 259 exceeds max_len 213 and has been truncated\n",
            "  warnings.warn(msg)\n",
            " 92%|█████████▏| 224/244 [01:21<00:07,  2.75it/s]/usr/local/lib/python3.7/dist-packages/NERDA/preprocessing.py:75: UserWarning: Sentence #1808 length 231 exceeds max_len 213 and has been truncated\n",
            "  warnings.warn(msg)\n",
            " 96%|█████████▋| 235/244 [01:25<00:03,  2.76it/s]/usr/local/lib/python3.7/dist-packages/NERDA/preprocessing.py:75: UserWarning: Sentence #1900 length 320 exceeds max_len 213 and has been truncated\n",
            "  warnings.warn(msg)\n",
            "/usr/local/lib/python3.7/dist-packages/NERDA/preprocessing.py:75: UserWarning: Sentence #1902 length 259 exceeds max_len 213 and has been truncated\n",
            "  warnings.warn(msg)\n",
            " 98%|█████████▊| 239/244 [01:27<00:01,  2.74it/s]/usr/local/lib/python3.7/dist-packages/NERDA/preprocessing.py:75: UserWarning: Sentence #1930 length 350 exceeds max_len 213 and has been truncated\n",
            "  warnings.warn(msg)\n",
            "100%|██████████| 244/244 [01:28<00:00,  2.74it/s]\n",
            " 18%|█▊        | 11/61 [00:01<00:05,  8.89it/s]/usr/local/lib/python3.7/dist-packages/NERDA/preprocessing.py:75: UserWarning: Sentence #108 length 218 exceeds max_len 213 and has been truncated\n",
            "  warnings.warn(msg)\n",
            " 25%|██▍       | 15/61 [00:01<00:05,  9.10it/s]/usr/local/lib/python3.7/dist-packages/NERDA/preprocessing.py:75: UserWarning: Sentence #136 length 257 exceeds max_len 213 and has been truncated\n",
            "  warnings.warn(msg)\n",
            " 33%|███▎      | 20/61 [00:02<00:04,  9.04it/s]/usr/local/lib/python3.7/dist-packages/NERDA/preprocessing.py:75: UserWarning: Sentence #182 length 214 exceeds max_len 213 and has been truncated\n",
            "  warnings.warn(msg)\n",
            " 75%|███████▌  | 46/61 [00:05<00:01,  9.09it/s]/usr/local/lib/python3.7/dist-packages/NERDA/preprocessing.py:75: UserWarning: Sentence #391 length 272 exceeds max_len 213 and has been truncated\n",
            "  warnings.warn(msg)\n",
            " 85%|████████▌ | 52/61 [00:05<00:00,  9.18it/s]/usr/local/lib/python3.7/dist-packages/NERDA/preprocessing.py:75: UserWarning: Sentence #438 length 239 exceeds max_len 213 and has been truncated\n",
            "  warnings.warn(msg)\n",
            " 87%|████████▋ | 53/61 [00:05<00:00,  9.15it/s]/usr/local/lib/python3.7/dist-packages/NERDA/preprocessing.py:75: UserWarning: Sentence #444 length 212 exceeds max_len 213 and has been truncated\n",
            "  warnings.warn(msg)\n",
            " 93%|█████████▎| 57/61 [00:06<00:00,  9.05it/s]/usr/local/lib/python3.7/dist-packages/NERDA/preprocessing.py:75: UserWarning: Sentence #478 length 362 exceeds max_len 213 and has been truncated\n",
            "  warnings.warn(msg)\n",
            "100%|██████████| 61/61 [00:06<00:00,  8.89it/s]"
          ],
          "name": "stderr"
        },
        {
          "output_type": "stream",
          "text": [
            "Train Loss = 0.22984632223722387 Valid Loss = 0.35213864362630687\n"
          ],
          "name": "stdout"
        },
        {
          "output_type": "stream",
          "text": [
            "\n"
          ],
          "name": "stderr"
        },
        {
          "output_type": "execute_result",
          "data": {
            "application/vnd.google.colaboratory.intrinsic+json": {
              "type": "string"
            },
            "text/plain": [
              "'Model trained successfully'"
            ]
          },
          "metadata": {
            "tags": []
          },
          "execution_count": 15
        }
      ]
    },
    {
      "cell_type": "code",
      "metadata": {
        "id": "yv0QeISfihJq",
        "colab": {
          "base_uri": "https://localhost:8080/",
          "height": 837
        },
        "outputId": "1aea269a-8a3d-437b-d630-ec54fb0ac276"
      },
      "source": [
        "model.evaluate_performance(validation, batch_size = 1)"
      ],
      "execution_count": null,
      "outputs": [
        {
          "output_type": "stream",
          "text": [
            "/usr/local/lib/python3.7/dist-packages/NERDA/preprocessing.py:75: UserWarning: Sentence #108 length 218 exceeds max_len 213 and has been truncated\n",
            "  warnings.warn(msg)\n",
            "/usr/local/lib/python3.7/dist-packages/NERDA/preprocessing.py:75: UserWarning: Sentence #136 length 257 exceeds max_len 213 and has been truncated\n",
            "  warnings.warn(msg)\n",
            "/usr/local/lib/python3.7/dist-packages/NERDA/preprocessing.py:75: UserWarning: Sentence #182 length 214 exceeds max_len 213 and has been truncated\n",
            "  warnings.warn(msg)\n",
            "/usr/local/lib/python3.7/dist-packages/NERDA/preprocessing.py:75: UserWarning: Sentence #391 length 272 exceeds max_len 213 and has been truncated\n",
            "  warnings.warn(msg)\n",
            "/usr/local/lib/python3.7/dist-packages/NERDA/preprocessing.py:75: UserWarning: Sentence #438 length 239 exceeds max_len 213 and has been truncated\n",
            "  warnings.warn(msg)\n",
            "/usr/local/lib/python3.7/dist-packages/NERDA/preprocessing.py:75: UserWarning: Sentence #444 length 212 exceeds max_len 213 and has been truncated\n",
            "  warnings.warn(msg)\n",
            "/usr/local/lib/python3.7/dist-packages/NERDA/preprocessing.py:75: UserWarning: Sentence #478 length 362 exceeds max_len 213 and has been truncated\n",
            "  warnings.warn(msg)\n",
            "/usr/local/lib/python3.7/dist-packages/NERDA/performance.py:39: UserWarning: length of observed values exceeded lengths of predicted values in 7 cases and were truncated. _Consider_ increasing max_len parameter for your model.\n",
            "  warnings.warn(f'length of observed values exceeded lengths of predicted values in {n_exceeds} cases and were truncated. _Consider_ increasing max_len parameter for your model.')\n"
          ],
          "name": "stderr"
        },
        {
          "output_type": "execute_result",
          "data": {
            "text/html": [
              "<div>\n",
              "<style scoped>\n",
              "    .dataframe tbody tr th:only-of-type {\n",
              "        vertical-align: middle;\n",
              "    }\n",
              "\n",
              "    .dataframe tbody tr th {\n",
              "        vertical-align: top;\n",
              "    }\n",
              "\n",
              "    .dataframe thead th {\n",
              "        text-align: right;\n",
              "    }\n",
              "</style>\n",
              "<table border=\"1\" class=\"dataframe\">\n",
              "  <thead>\n",
              "    <tr style=\"text-align: right;\">\n",
              "      <th></th>\n",
              "      <th>Level</th>\n",
              "      <th>F1-Score</th>\n",
              "    </tr>\n",
              "  </thead>\n",
              "  <tbody>\n",
              "    <tr>\n",
              "      <th>0</th>\n",
              "      <td>B-trigger</td>\n",
              "      <td>0.876149</td>\n",
              "    </tr>\n",
              "    <tr>\n",
              "      <th>1</th>\n",
              "      <td>I-trigger</td>\n",
              "      <td>0.610039</td>\n",
              "    </tr>\n",
              "    <tr>\n",
              "      <th>2</th>\n",
              "      <td>B-participant</td>\n",
              "      <td>0.759517</td>\n",
              "    </tr>\n",
              "    <tr>\n",
              "      <th>3</th>\n",
              "      <td>I-participant</td>\n",
              "      <td>0.507463</td>\n",
              "    </tr>\n",
              "    <tr>\n",
              "      <th>4</th>\n",
              "      <td>B-organizer</td>\n",
              "      <td>0.715789</td>\n",
              "    </tr>\n",
              "    <tr>\n",
              "      <th>5</th>\n",
              "      <td>B-target</td>\n",
              "      <td>0.611399</td>\n",
              "    </tr>\n",
              "    <tr>\n",
              "      <th>6</th>\n",
              "      <td>I-target</td>\n",
              "      <td>0.715517</td>\n",
              "    </tr>\n",
              "    <tr>\n",
              "      <th>7</th>\n",
              "      <td>B-place</td>\n",
              "      <td>0.814264</td>\n",
              "    </tr>\n",
              "    <tr>\n",
              "      <th>8</th>\n",
              "      <td>B-etime</td>\n",
              "      <td>0.826087</td>\n",
              "    </tr>\n",
              "    <tr>\n",
              "      <th>9</th>\n",
              "      <td>I-etime</td>\n",
              "      <td>0.842748</td>\n",
              "    </tr>\n",
              "    <tr>\n",
              "      <th>10</th>\n",
              "      <td>B-fname</td>\n",
              "      <td>0.655246</td>\n",
              "    </tr>\n",
              "    <tr>\n",
              "      <th>11</th>\n",
              "      <td>I-fname</td>\n",
              "      <td>0.784071</td>\n",
              "    </tr>\n",
              "    <tr>\n",
              "      <th>12</th>\n",
              "      <td>I-organizer</td>\n",
              "      <td>0.735238</td>\n",
              "    </tr>\n",
              "    <tr>\n",
              "      <th>13</th>\n",
              "      <td>I-place</td>\n",
              "      <td>0.713043</td>\n",
              "    </tr>\n",
              "    <tr>\n",
              "      <th>0</th>\n",
              "      <td>AVG_MICRO</td>\n",
              "      <td>0.762399</td>\n",
              "    </tr>\n",
              "    <tr>\n",
              "      <th>0</th>\n",
              "      <td>AVG_MACRO</td>\n",
              "      <td>0.726184</td>\n",
              "    </tr>\n",
              "  </tbody>\n",
              "</table>\n",
              "</div>"
            ],
            "text/plain": [
              "            Level  F1-Score\n",
              "0       B-trigger  0.876149\n",
              "1       I-trigger  0.610039\n",
              "2   B-participant  0.759517\n",
              "3   I-participant  0.507463\n",
              "4     B-organizer  0.715789\n",
              "5        B-target  0.611399\n",
              "6        I-target  0.715517\n",
              "7         B-place  0.814264\n",
              "8         B-etime  0.826087\n",
              "9         I-etime  0.842748\n",
              "10        B-fname  0.655246\n",
              "11        I-fname  0.784071\n",
              "12    I-organizer  0.735238\n",
              "13        I-place  0.713043\n",
              "0       AVG_MICRO  0.762399\n",
              "0       AVG_MACRO  0.726184"
            ]
          },
          "metadata": {
            "tags": []
          },
          "execution_count": 16
        }
      ]
    },
    {
      "cell_type": "code",
      "metadata": {
        "id": "_XFt6XHoPgfv"
      },
      "source": [
        "from tqdm.notebook import tqdm"
      ],
      "execution_count": null,
      "outputs": []
    },
    {
      "cell_type": "code",
      "metadata": {
        "id": "V1uTDY8oUXoD",
        "colab": {
          "base_uri": "https://localhost:8080/",
          "height": 304,
          "referenced_widgets": [
            "d9f13223dd0044669047cee5eb08e463",
            "629e4f625530454bb8aea382f361550a",
            "19762d2ac50344578c53ee3ca049dd26",
            "5c3218202833418f93c72d09e29db1cd",
            "7a4f7970000143ca943ca35baa91de5e",
            "cd335654ec814c609ada739c2269efb4",
            "9a746c07fa3049f0b04aaf08ef4aa97b",
            "3ea68053fb294d45a5a3e057a1d44919"
          ]
        },
        "outputId": "c4fa4516-201c-4fa3-b561-efe6d411194c"
      },
      "source": [
        "res = []\n",
        "for i in tqdm(range(len(validation[\"sentences\"]))):\n",
        "  res.append(model.predict([validation[\"sentences\"][i]]))"
      ],
      "execution_count": null,
      "outputs": [
        {
          "output_type": "display_data",
          "data": {
            "application/vnd.jupyter.widget-view+json": {
              "model_id": "d9f13223dd0044669047cee5eb08e463",
              "version_minor": 0,
              "version_major": 2
            },
            "text/plain": [
              "HBox(children=(FloatProgress(value=0.0, max=488.0), HTML(value='')))"
            ]
          },
          "metadata": {
            "tags": []
          }
        },
        {
          "output_type": "stream",
          "text": [
            "/usr/local/lib/python3.7/dist-packages/NERDA/preprocessing.py:75: UserWarning: Sentence #0 length 218 exceeds max_len 213 and has been truncated\n",
            "  warnings.warn(msg)\n",
            "/usr/local/lib/python3.7/dist-packages/NERDA/preprocessing.py:75: UserWarning: Sentence #0 length 257 exceeds max_len 213 and has been truncated\n",
            "  warnings.warn(msg)\n",
            "/usr/local/lib/python3.7/dist-packages/NERDA/preprocessing.py:75: UserWarning: Sentence #0 length 214 exceeds max_len 213 and has been truncated\n",
            "  warnings.warn(msg)\n",
            "/usr/local/lib/python3.7/dist-packages/NERDA/preprocessing.py:75: UserWarning: Sentence #0 length 272 exceeds max_len 213 and has been truncated\n",
            "  warnings.warn(msg)\n",
            "/usr/local/lib/python3.7/dist-packages/NERDA/preprocessing.py:75: UserWarning: Sentence #0 length 239 exceeds max_len 213 and has been truncated\n",
            "  warnings.warn(msg)\n",
            "/usr/local/lib/python3.7/dist-packages/NERDA/preprocessing.py:75: UserWarning: Sentence #0 length 212 exceeds max_len 213 and has been truncated\n",
            "  warnings.warn(msg)\n",
            "/usr/local/lib/python3.7/dist-packages/NERDA/preprocessing.py:75: UserWarning: Sentence #0 length 362 exceeds max_len 213 and has been truncated\n",
            "  warnings.warn(msg)\n"
          ],
          "name": "stderr"
        },
        {
          "output_type": "stream",
          "text": [
            "\n"
          ],
          "name": "stdout"
        }
      ]
    },
    {
      "cell_type": "code",
      "metadata": {
        "id": "JnSt2KBtUt-W"
      },
      "source": [
        "import pickle\n",
        "\n",
        "with open(\"./ModelResults/\" + transformer + \".pkl\", \"wb\") as fout:\n",
        "  pickle.dump(res, fout)"
      ],
      "execution_count": null,
      "outputs": []
    },
    {
      "cell_type": "code",
      "metadata": {
        "colab": {
          "base_uri": "https://localhost:8080/",
          "height": 304,
          "referenced_widgets": [
            "29d504e6c81e4d7eac51f31ea4fca85b",
            "6794f4b1dc354be0b75c60e08888bc89",
            "3a77209ef49446fb8d1043286ef4e796",
            "4086f7fce95140719ebbb6ab9ac42dc5",
            "686bd28012ac40d48e0a3bbc2d8ed31a",
            "987fd3aa9f3340d5ad01313ccac3ead3",
            "97046bde4a80428981dafab5519c10b5",
            "f77cd40e98254721939996283904c95e"
          ]
        },
        "id": "NRiUMSwR4uyD",
        "outputId": "aaa1fb53-852b-4298-a853-dc74774f485d"
      },
      "source": [
        "with open(\"submission.txt\", \"w+\") as fin:\n",
        "  for i in tqdm(range(len(validation[\"sentences\"]))):\n",
        "    preds = model.predict([validation[\"sentences\"][i]])\n",
        "    offCount = 0\n",
        "    for j in range(len(validation[\"sentences\"][i])):\n",
        "      if validation[\"sentences\"][i][j] != \"SAMPLE_START\":\n",
        "        if j - offCount < len(preds[0]):\n",
        "          fin.write(validation[\"sentences\"][i][j] + \"\\t\" + preds[0][j - offCount] + \"\\n\")\n",
        "        else:\n",
        "          fin.write(validation[\"sentences\"][i][j] + \"\\t\" + \"O\" + \"\\n\")\n",
        "      else:\n",
        "        fin.write(\"SAMPLE_START\\tO\\n\")\n",
        "        offCount += 1"
      ],
      "execution_count": null,
      "outputs": [
        {
          "output_type": "display_data",
          "data": {
            "application/vnd.jupyter.widget-view+json": {
              "model_id": "29d504e6c81e4d7eac51f31ea4fca85b",
              "version_minor": 0,
              "version_major": 2
            },
            "text/plain": [
              "HBox(children=(FloatProgress(value=0.0, max=488.0), HTML(value='')))"
            ]
          },
          "metadata": {
            "tags": []
          }
        },
        {
          "output_type": "stream",
          "text": [
            "/usr/local/lib/python3.7/dist-packages/NERDA/preprocessing.py:75: UserWarning: Sentence #0 length 218 exceeds max_len 213 and has been truncated\n",
            "  warnings.warn(msg)\n",
            "/usr/local/lib/python3.7/dist-packages/NERDA/preprocessing.py:75: UserWarning: Sentence #0 length 257 exceeds max_len 213 and has been truncated\n",
            "  warnings.warn(msg)\n",
            "/usr/local/lib/python3.7/dist-packages/NERDA/preprocessing.py:75: UserWarning: Sentence #0 length 214 exceeds max_len 213 and has been truncated\n",
            "  warnings.warn(msg)\n",
            "/usr/local/lib/python3.7/dist-packages/NERDA/preprocessing.py:75: UserWarning: Sentence #0 length 272 exceeds max_len 213 and has been truncated\n",
            "  warnings.warn(msg)\n",
            "/usr/local/lib/python3.7/dist-packages/NERDA/preprocessing.py:75: UserWarning: Sentence #0 length 239 exceeds max_len 213 and has been truncated\n",
            "  warnings.warn(msg)\n",
            "/usr/local/lib/python3.7/dist-packages/NERDA/preprocessing.py:75: UserWarning: Sentence #0 length 212 exceeds max_len 213 and has been truncated\n",
            "  warnings.warn(msg)\n",
            "/usr/local/lib/python3.7/dist-packages/NERDA/preprocessing.py:75: UserWarning: Sentence #0 length 362 exceeds max_len 213 and has been truncated\n",
            "  warnings.warn(msg)\n"
          ],
          "name": "stderr"
        },
        {
          "output_type": "stream",
          "text": [
            "\n"
          ],
          "name": "stdout"
        }
      ]
    },
    {
      "cell_type": "code",
      "metadata": {
        "id": "Y5XHrqEw7_od"
      },
      "source": [
        "with open(\"submission.txt\", \"r\") as fin:\n",
        "  with open(\"submissionFinal.txt\", \"w+\") as fout:\n",
        "    for line in fin.readlines()[1:]:\n",
        "      if len(line.split()) == 2:\n",
        "        fout.write(line)\n",
        "      else:\n",
        "        fout.write(\"[SEP]\\tO\\n\")"
      ],
      "execution_count": null,
      "outputs": []
    }
  ]
}