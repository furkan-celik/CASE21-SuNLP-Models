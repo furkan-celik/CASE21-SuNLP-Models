{
  "nbformat": 4,
  "nbformat_minor": 0,
  "metadata": {
    "accelerator": "GPU",
    "colab": {
      "name": "Subtask 1 CNN.ipynb",
      "provenance": [],
      "collapsed_sections": [],
      "toc_visible": true
    },
    "kernelspec": {
      "display_name": "Python 3",
      "name": "python3"
    }
  },
  "cells": [
    {
      "cell_type": "markdown",
      "metadata": {
        "id": "4SaLcrXxACDU"
      },
      "source": [
        "## NEPTUNE"
      ]
    },
    {
      "cell_type": "code",
      "metadata": {
        "colab": {
          "base_uri": "https://localhost:8080/"
        },
        "id": "JykERcAj_nKU",
        "outputId": "79b76b10-45df-4656-81b1-ea9b7643264b"
      },
      "source": [
        "\n",
        "!pip install neptune-client==0.9.1\n",
        "!pip install neptune-tensorflow-keras==0.9.1"
      ],
      "execution_count": null,
      "outputs": [
        {
          "output_type": "stream",
          "text": [
            "Collecting neptune-client==0.9.1\n",
            "\u001b[?25l  Downloading https://files.pythonhosted.org/packages/b6/25/757d8828a31dba3e684ac2bbc29b5fee54ec1d5961333c5ba18fb5dcf67f/neptune-client-0.9.1.tar.gz (209kB)\n",
            "\u001b[K     |████████████████████████████████| 215kB 35.0MB/s \n",
            "\u001b[?25hCollecting bravado\n",
            "  Downloading https://files.pythonhosted.org/packages/21/ed/03b0c36b5bcafbe2938ed222f9a164a6c0367ce99a9d2d502e462853571d/bravado-11.0.3-py2.py3-none-any.whl\n",
            "Requirement already satisfied: click>=7.0 in /usr/local/lib/python3.7/dist-packages (from neptune-client==0.9.1) (8.0.0)\n",
            "Collecting future>=0.17.1\n",
            "\u001b[?25l  Downloading https://files.pythonhosted.org/packages/45/0b/38b06fd9b92dc2b68d58b75f900e97884c45bedd2ff83203d933cf5851c9/future-0.18.2.tar.gz (829kB)\n",
            "\u001b[K     |████████████████████████████████| 829kB 34.6MB/s \n",
            "\u001b[?25hRequirement already satisfied: oauthlib>=2.1.0 in /usr/local/lib/python3.7/dist-packages (from neptune-client==0.9.1) (3.1.0)\n",
            "Requirement already satisfied: pandas in /usr/local/lib/python3.7/dist-packages (from neptune-client==0.9.1) (1.1.5)\n",
            "Requirement already satisfied: Pillow>=1.1.6 in /usr/local/lib/python3.7/dist-packages (from neptune-client==0.9.1) (7.1.2)\n",
            "Collecting PyJWT\n",
            "  Downloading https://files.pythonhosted.org/packages/3f/32/d5d3cab27fee7f6b22d7cd7507547ae45d52e26030fa77d1f83d0526c6e5/PyJWT-2.1.0-py3-none-any.whl\n",
            "Requirement already satisfied: requests>=2.20.0 in /usr/local/lib/python3.7/dist-packages (from neptune-client==0.9.1) (2.23.0)\n",
            "Requirement already satisfied: requests-oauthlib>=1.0.0 in /usr/local/lib/python3.7/dist-packages (from neptune-client==0.9.1) (1.3.0)\n",
            "Requirement already satisfied: six>=1.12.0 in /usr/local/lib/python3.7/dist-packages (from neptune-client==0.9.1) (1.15.0)\n",
            "Collecting websocket-client>=0.35.0\n",
            "\u001b[?25l  Downloading https://files.pythonhosted.org/packages/f7/0c/d52a2a63512a613817846d430d16a8fbe5ea56dd889e89c68facf6b91cb6/websocket_client-0.59.0-py2.py3-none-any.whl (67kB)\n",
            "\u001b[K     |████████████████████████████████| 71kB 10.2MB/s \n",
            "\u001b[?25hCollecting GitPython>=2.0.8\n",
            "\u001b[?25l  Downloading https://files.pythonhosted.org/packages/27/da/6f6224fdfc47dab57881fe20c0d1bc3122be290198ba0bf26a953a045d92/GitPython-3.1.17-py3-none-any.whl (166kB)\n",
            "\u001b[K     |████████████████████████████████| 174kB 48.8MB/s \n",
            "\u001b[?25hRequirement already satisfied: packaging in /usr/local/lib/python3.7/dist-packages (from neptune-client==0.9.1) (20.9)\n",
            "Requirement already satisfied: urllib3 in /usr/local/lib/python3.7/dist-packages (from neptune-client==0.9.1) (1.24.3)\n",
            "Requirement already satisfied: pyyaml in /usr/local/lib/python3.7/dist-packages (from bravado->neptune-client==0.9.1) (3.13)\n",
            "Requirement already satisfied: typing-extensions in /usr/local/lib/python3.7/dist-packages (from bravado->neptune-client==0.9.1) (3.7.4.3)\n",
            "Collecting monotonic\n",
            "  Downloading https://files.pythonhosted.org/packages/9a/67/7e8406a29b6c45be7af7740456f7f37025f0506ae2e05fb9009a53946860/monotonic-1.6-py2.py3-none-any.whl\n",
            "Requirement already satisfied: msgpack in /usr/local/lib/python3.7/dist-packages (from bravado->neptune-client==0.9.1) (1.0.2)\n",
            "Requirement already satisfied: python-dateutil in /usr/local/lib/python3.7/dist-packages (from bravado->neptune-client==0.9.1) (2.8.1)\n",
            "Collecting simplejson\n",
            "\u001b[?25l  Downloading https://files.pythonhosted.org/packages/a8/04/377418ac1e530ce2a196b54c6552c018fdf1fe776718053efb1f216bffcd/simplejson-3.17.2-cp37-cp37m-manylinux2010_x86_64.whl (128kB)\n",
            "\u001b[K     |████████████████████████████████| 133kB 53.1MB/s \n",
            "\u001b[?25hCollecting bravado-core>=5.16.1\n",
            "\u001b[?25l  Downloading https://files.pythonhosted.org/packages/76/11/18e9d28a156c33f2d5f15a5e155dc7130250acb0a569255a2b6b307b596d/bravado_core-5.17.0-py2.py3-none-any.whl (67kB)\n",
            "\u001b[K     |████████████████████████████████| 71kB 9.8MB/s \n",
            "\u001b[?25hRequirement already satisfied: pytz>=2017.2 in /usr/local/lib/python3.7/dist-packages (from pandas->neptune-client==0.9.1) (2018.9)\n",
            "Requirement already satisfied: numpy>=1.15.4 in /usr/local/lib/python3.7/dist-packages (from pandas->neptune-client==0.9.1) (1.19.5)\n",
            "Requirement already satisfied: idna<3,>=2.5 in /usr/local/lib/python3.7/dist-packages (from requests>=2.20.0->neptune-client==0.9.1) (2.10)\n",
            "Requirement already satisfied: certifi>=2017.4.17 in /usr/local/lib/python3.7/dist-packages (from requests>=2.20.0->neptune-client==0.9.1) (2020.12.5)\n",
            "Requirement already satisfied: chardet<4,>=3.0.2 in /usr/local/lib/python3.7/dist-packages (from requests>=2.20.0->neptune-client==0.9.1) (3.0.4)\n",
            "Collecting gitdb<5,>=4.0.1\n",
            "\u001b[?25l  Downloading https://files.pythonhosted.org/packages/ea/e8/f414d1a4f0bbc668ed441f74f44c116d9816833a48bf81d22b697090dba8/gitdb-4.0.7-py3-none-any.whl (63kB)\n",
            "\u001b[K     |████████████████████████████████| 71kB 11.8MB/s \n",
            "\u001b[?25hRequirement already satisfied: pyparsing>=2.0.2 in /usr/local/lib/python3.7/dist-packages (from packaging->neptune-client==0.9.1) (2.4.7)\n",
            "Collecting jsonref\n",
            "  Downloading https://files.pythonhosted.org/packages/07/92/f8e4ac824b14af77e613984e480fa818397c72d4141fc466decb26752749/jsonref-0.2-py3-none-any.whl\n",
            "Requirement already satisfied: jsonschema[format]>=2.5.1 in /usr/local/lib/python3.7/dist-packages (from bravado-core>=5.16.1->bravado->neptune-client==0.9.1) (2.6.0)\n",
            "Collecting swagger-spec-validator>=2.0.1\n",
            "  Downloading https://files.pythonhosted.org/packages/09/de/e78cefbf5838b434b63a789264b79821cb2267f1498fbed23ef8590133e4/swagger_spec_validator-2.7.3-py2.py3-none-any.whl\n",
            "Collecting smmap<5,>=3.0.1\n",
            "  Downloading https://files.pythonhosted.org/packages/68/ee/d540eb5e5996eb81c26ceffac6ee49041d473bc5125f2aa995cf51ec1cf1/smmap-4.0.0-py2.py3-none-any.whl\n",
            "Collecting rfc3987; extra == \"format\"\n",
            "  Downloading https://files.pythonhosted.org/packages/65/d4/f7407c3d15d5ac779c3dd34fbbc6ea2090f77bd7dd12f207ccf881551208/rfc3987-1.3.8-py2.py3-none-any.whl\n",
            "Collecting strict-rfc3339; extra == \"format\"\n",
            "  Downloading https://files.pythonhosted.org/packages/56/e4/879ef1dbd6ddea1c77c0078cd59b503368b0456bcca7d063a870ca2119d3/strict-rfc3339-0.7.tar.gz\n",
            "Collecting webcolors; extra == \"format\"\n",
            "  Downloading https://files.pythonhosted.org/packages/12/05/3350559de9714b202e443a9e6312937341bd5f79f4e4f625744295e7dd17/webcolors-1.11.1-py3-none-any.whl\n",
            "Building wheels for collected packages: neptune-client, future, strict-rfc3339\n",
            "  Building wheel for neptune-client (setup.py) ... \u001b[?25l\u001b[?25hdone\n",
            "  Created wheel for neptune-client: filename=neptune_client-0.9.1-py2.py3-none-any.whl size=371716 sha256=0f7de2222cbd713fd67860f500fa022c876578465e7d8d839b6d4e9884c7479e\n",
            "  Stored in directory: /root/.cache/pip/wheels/6e/d4/60/21005f18273566da0463587bed8c69cce7f300a404edf26df8\n",
            "  Building wheel for future (setup.py) ... \u001b[?25l\u001b[?25hdone\n",
            "  Created wheel for future: filename=future-0.18.2-cp37-none-any.whl size=491058 sha256=765ac148b63be8c39e7979b0723436e487be70cc5290e016b33a5ec7bc23135a\n",
            "  Stored in directory: /root/.cache/pip/wheels/8b/99/a0/81daf51dcd359a9377b110a8a886b3895921802d2fc1b2397e\n",
            "  Building wheel for strict-rfc3339 (setup.py) ... \u001b[?25l\u001b[?25hdone\n",
            "  Created wheel for strict-rfc3339: filename=strict_rfc3339-0.7-cp37-none-any.whl size=18121 sha256=b66007056f8d22a1c2858925de7062e4d6b8b75e392b34523c8987747a181ca6\n",
            "  Stored in directory: /root/.cache/pip/wheels/bb/af/c9/b6e9fb5f9b2470e4ed2a7241c9ab3a8cdd3bc8555ae02ca2e6\n",
            "Successfully built neptune-client future strict-rfc3339\n",
            "Installing collected packages: monotonic, simplejson, jsonref, swagger-spec-validator, bravado-core, bravado, future, PyJWT, websocket-client, smmap, gitdb, GitPython, neptune-client, rfc3987, strict-rfc3339, webcolors\n",
            "  Found existing installation: future 0.16.0\n",
            "    Uninstalling future-0.16.0:\n",
            "      Successfully uninstalled future-0.16.0\n",
            "Successfully installed GitPython-3.1.17 PyJWT-2.1.0 bravado-11.0.3 bravado-core-5.17.0 future-0.18.2 gitdb-4.0.7 jsonref-0.2 monotonic-1.6 neptune-client-0.9.1 rfc3987-1.3.8 simplejson-3.17.2 smmap-4.0.0 strict-rfc3339-0.7 swagger-spec-validator-2.7.3 webcolors-1.11.1 websocket-client-0.59.0\n",
            "Collecting neptune-tensorflow-keras==0.9.1\n",
            "  Downloading https://files.pythonhosted.org/packages/05/df/933e00d1c5092d81e399d7becfce119fafabae2f255f071fcfd325048862/neptune-tensorflow-keras-0.9.1.tar.gz\n",
            "Requirement already satisfied: neptune-client>=0.5.1 in /usr/local/lib/python3.7/dist-packages (from neptune-tensorflow-keras==0.9.1) (0.9.1)\n",
            "Requirement already satisfied: tensorflow in /usr/local/lib/python3.7/dist-packages (from neptune-tensorflow-keras==0.9.1) (2.4.1)\n",
            "Requirement already satisfied: future>=0.17.1 in /usr/local/lib/python3.7/dist-packages (from neptune-client>=0.5.1->neptune-tensorflow-keras==0.9.1) (0.18.2)\n",
            "Requirement already satisfied: click>=7.0 in /usr/local/lib/python3.7/dist-packages (from neptune-client>=0.5.1->neptune-tensorflow-keras==0.9.1) (8.0.0)\n",
            "Requirement already satisfied: oauthlib>=2.1.0 in /usr/local/lib/python3.7/dist-packages (from neptune-client>=0.5.1->neptune-tensorflow-keras==0.9.1) (3.1.0)\n",
            "Requirement already satisfied: pandas in /usr/local/lib/python3.7/dist-packages (from neptune-client>=0.5.1->neptune-tensorflow-keras==0.9.1) (1.1.5)\n",
            "Requirement already satisfied: bravado in /usr/local/lib/python3.7/dist-packages (from neptune-client>=0.5.1->neptune-tensorflow-keras==0.9.1) (11.0.3)\n",
            "Requirement already satisfied: Pillow>=1.1.6 in /usr/local/lib/python3.7/dist-packages (from neptune-client>=0.5.1->neptune-tensorflow-keras==0.9.1) (7.1.2)\n",
            "Requirement already satisfied: requests-oauthlib>=1.0.0 in /usr/local/lib/python3.7/dist-packages (from neptune-client>=0.5.1->neptune-tensorflow-keras==0.9.1) (1.3.0)\n",
            "Requirement already satisfied: requests>=2.20.0 in /usr/local/lib/python3.7/dist-packages (from neptune-client>=0.5.1->neptune-tensorflow-keras==0.9.1) (2.23.0)\n",
            "Requirement already satisfied: websocket-client>=0.35.0 in /usr/local/lib/python3.7/dist-packages (from neptune-client>=0.5.1->neptune-tensorflow-keras==0.9.1) (0.59.0)\n",
            "Requirement already satisfied: packaging in /usr/local/lib/python3.7/dist-packages (from neptune-client>=0.5.1->neptune-tensorflow-keras==0.9.1) (20.9)\n",
            "Requirement already satisfied: urllib3 in /usr/local/lib/python3.7/dist-packages (from neptune-client>=0.5.1->neptune-tensorflow-keras==0.9.1) (1.24.3)\n",
            "Requirement already satisfied: six>=1.12.0 in /usr/local/lib/python3.7/dist-packages (from neptune-client>=0.5.1->neptune-tensorflow-keras==0.9.1) (1.15.0)\n",
            "Requirement already satisfied: GitPython>=2.0.8 in /usr/local/lib/python3.7/dist-packages (from neptune-client>=0.5.1->neptune-tensorflow-keras==0.9.1) (3.1.17)\n",
            "Requirement already satisfied: PyJWT in /usr/local/lib/python3.7/dist-packages (from neptune-client>=0.5.1->neptune-tensorflow-keras==0.9.1) (2.1.0)\n",
            "Requirement already satisfied: grpcio~=1.32.0 in /usr/local/lib/python3.7/dist-packages (from tensorflow->neptune-tensorflow-keras==0.9.1) (1.32.0)\n",
            "Requirement already satisfied: opt-einsum~=3.3.0 in /usr/local/lib/python3.7/dist-packages (from tensorflow->neptune-tensorflow-keras==0.9.1) (3.3.0)\n",
            "Requirement already satisfied: numpy~=1.19.2 in /usr/local/lib/python3.7/dist-packages (from tensorflow->neptune-tensorflow-keras==0.9.1) (1.19.5)\n",
            "Requirement already satisfied: typing-extensions~=3.7.4 in /usr/local/lib/python3.7/dist-packages (from tensorflow->neptune-tensorflow-keras==0.9.1) (3.7.4.3)\n",
            "Requirement already satisfied: absl-py~=0.10 in /usr/local/lib/python3.7/dist-packages (from tensorflow->neptune-tensorflow-keras==0.9.1) (0.12.0)\n",
            "Requirement already satisfied: astunparse~=1.6.3 in /usr/local/lib/python3.7/dist-packages (from tensorflow->neptune-tensorflow-keras==0.9.1) (1.6.3)\n",
            "Requirement already satisfied: wheel~=0.35 in /usr/local/lib/python3.7/dist-packages (from tensorflow->neptune-tensorflow-keras==0.9.1) (0.36.2)\n",
            "Requirement already satisfied: tensorboard~=2.4 in /usr/local/lib/python3.7/dist-packages (from tensorflow->neptune-tensorflow-keras==0.9.1) (2.4.1)\n",
            "Requirement already satisfied: wrapt~=1.12.1 in /usr/local/lib/python3.7/dist-packages (from tensorflow->neptune-tensorflow-keras==0.9.1) (1.12.1)\n",
            "Requirement already satisfied: termcolor~=1.1.0 in /usr/local/lib/python3.7/dist-packages (from tensorflow->neptune-tensorflow-keras==0.9.1) (1.1.0)\n",
            "Requirement already satisfied: tensorflow-estimator<2.5.0,>=2.4.0 in /usr/local/lib/python3.7/dist-packages (from tensorflow->neptune-tensorflow-keras==0.9.1) (2.4.0)\n",
            "Requirement already satisfied: keras-preprocessing~=1.1.2 in /usr/local/lib/python3.7/dist-packages (from tensorflow->neptune-tensorflow-keras==0.9.1) (1.1.2)\n",
            "Requirement already satisfied: google-pasta~=0.2 in /usr/local/lib/python3.7/dist-packages (from tensorflow->neptune-tensorflow-keras==0.9.1) (0.2.0)\n",
            "Requirement already satisfied: gast==0.3.3 in /usr/local/lib/python3.7/dist-packages (from tensorflow->neptune-tensorflow-keras==0.9.1) (0.3.3)\n",
            "Requirement already satisfied: protobuf>=3.9.2 in /usr/local/lib/python3.7/dist-packages (from tensorflow->neptune-tensorflow-keras==0.9.1) (3.12.4)\n",
            "Requirement already satisfied: flatbuffers~=1.12.0 in /usr/local/lib/python3.7/dist-packages (from tensorflow->neptune-tensorflow-keras==0.9.1) (1.12)\n",
            "Requirement already satisfied: h5py~=2.10.0 in /usr/local/lib/python3.7/dist-packages (from tensorflow->neptune-tensorflow-keras==0.9.1) (2.10.0)\n",
            "Requirement already satisfied: python-dateutil>=2.7.3 in /usr/local/lib/python3.7/dist-packages (from pandas->neptune-client>=0.5.1->neptune-tensorflow-keras==0.9.1) (2.8.1)\n",
            "Requirement already satisfied: pytz>=2017.2 in /usr/local/lib/python3.7/dist-packages (from pandas->neptune-client>=0.5.1->neptune-tensorflow-keras==0.9.1) (2018.9)\n",
            "Requirement already satisfied: bravado-core>=5.16.1 in /usr/local/lib/python3.7/dist-packages (from bravado->neptune-client>=0.5.1->neptune-tensorflow-keras==0.9.1) (5.17.0)\n",
            "Requirement already satisfied: msgpack in /usr/local/lib/python3.7/dist-packages (from bravado->neptune-client>=0.5.1->neptune-tensorflow-keras==0.9.1) (1.0.2)\n",
            "Requirement already satisfied: monotonic in /usr/local/lib/python3.7/dist-packages (from bravado->neptune-client>=0.5.1->neptune-tensorflow-keras==0.9.1) (1.6)\n",
            "Requirement already satisfied: pyyaml in /usr/local/lib/python3.7/dist-packages (from bravado->neptune-client>=0.5.1->neptune-tensorflow-keras==0.9.1) (3.13)\n",
            "Requirement already satisfied: simplejson in /usr/local/lib/python3.7/dist-packages (from bravado->neptune-client>=0.5.1->neptune-tensorflow-keras==0.9.1) (3.17.2)\n",
            "Requirement already satisfied: chardet<4,>=3.0.2 in /usr/local/lib/python3.7/dist-packages (from requests>=2.20.0->neptune-client>=0.5.1->neptune-tensorflow-keras==0.9.1) (3.0.4)\n",
            "Requirement already satisfied: certifi>=2017.4.17 in /usr/local/lib/python3.7/dist-packages (from requests>=2.20.0->neptune-client>=0.5.1->neptune-tensorflow-keras==0.9.1) (2020.12.5)\n",
            "Requirement already satisfied: idna<3,>=2.5 in /usr/local/lib/python3.7/dist-packages (from requests>=2.20.0->neptune-client>=0.5.1->neptune-tensorflow-keras==0.9.1) (2.10)\n",
            "Requirement already satisfied: pyparsing>=2.0.2 in /usr/local/lib/python3.7/dist-packages (from packaging->neptune-client>=0.5.1->neptune-tensorflow-keras==0.9.1) (2.4.7)\n",
            "Requirement already satisfied: gitdb<5,>=4.0.1 in /usr/local/lib/python3.7/dist-packages (from GitPython>=2.0.8->neptune-client>=0.5.1->neptune-tensorflow-keras==0.9.1) (4.0.7)\n",
            "Requirement already satisfied: google-auth<2,>=1.6.3 in /usr/local/lib/python3.7/dist-packages (from tensorboard~=2.4->tensorflow->neptune-tensorflow-keras==0.9.1) (1.30.0)\n",
            "Requirement already satisfied: werkzeug>=0.11.15 in /usr/local/lib/python3.7/dist-packages (from tensorboard~=2.4->tensorflow->neptune-tensorflow-keras==0.9.1) (2.0.0)\n",
            "Requirement already satisfied: setuptools>=41.0.0 in /usr/local/lib/python3.7/dist-packages (from tensorboard~=2.4->tensorflow->neptune-tensorflow-keras==0.9.1) (56.1.0)\n",
            "Requirement already satisfied: google-auth-oauthlib<0.5,>=0.4.1 in /usr/local/lib/python3.7/dist-packages (from tensorboard~=2.4->tensorflow->neptune-tensorflow-keras==0.9.1) (0.4.4)\n",
            "Requirement already satisfied: tensorboard-plugin-wit>=1.6.0 in /usr/local/lib/python3.7/dist-packages (from tensorboard~=2.4->tensorflow->neptune-tensorflow-keras==0.9.1) (1.8.0)\n",
            "Requirement already satisfied: markdown>=2.6.8 in /usr/local/lib/python3.7/dist-packages (from tensorboard~=2.4->tensorflow->neptune-tensorflow-keras==0.9.1) (3.3.4)\n",
            "Requirement already satisfied: jsonref in /usr/local/lib/python3.7/dist-packages (from bravado-core>=5.16.1->bravado->neptune-client>=0.5.1->neptune-tensorflow-keras==0.9.1) (0.2)\n",
            "Requirement already satisfied: jsonschema[format]>=2.5.1 in /usr/local/lib/python3.7/dist-packages (from bravado-core>=5.16.1->bravado->neptune-client>=0.5.1->neptune-tensorflow-keras==0.9.1) (2.6.0)\n",
            "Requirement already satisfied: swagger-spec-validator>=2.0.1 in /usr/local/lib/python3.7/dist-packages (from bravado-core>=5.16.1->bravado->neptune-client>=0.5.1->neptune-tensorflow-keras==0.9.1) (2.7.3)\n",
            "Requirement already satisfied: smmap<5,>=3.0.1 in /usr/local/lib/python3.7/dist-packages (from gitdb<5,>=4.0.1->GitPython>=2.0.8->neptune-client>=0.5.1->neptune-tensorflow-keras==0.9.1) (4.0.0)\n",
            "Requirement already satisfied: rsa<5,>=3.1.4; python_version >= \"3.6\" in /usr/local/lib/python3.7/dist-packages (from google-auth<2,>=1.6.3->tensorboard~=2.4->tensorflow->neptune-tensorflow-keras==0.9.1) (4.7.2)\n",
            "Requirement already satisfied: cachetools<5.0,>=2.0.0 in /usr/local/lib/python3.7/dist-packages (from google-auth<2,>=1.6.3->tensorboard~=2.4->tensorflow->neptune-tensorflow-keras==0.9.1) (4.2.2)\n",
            "Requirement already satisfied: pyasn1-modules>=0.2.1 in /usr/local/lib/python3.7/dist-packages (from google-auth<2,>=1.6.3->tensorboard~=2.4->tensorflow->neptune-tensorflow-keras==0.9.1) (0.2.8)\n",
            "Requirement already satisfied: importlib-metadata; python_version < \"3.8\" in /usr/local/lib/python3.7/dist-packages (from markdown>=2.6.8->tensorboard~=2.4->tensorflow->neptune-tensorflow-keras==0.9.1) (4.0.1)\n",
            "Requirement already satisfied: rfc3987; extra == \"format\" in /usr/local/lib/python3.7/dist-packages (from jsonschema[format]>=2.5.1->bravado-core>=5.16.1->bravado->neptune-client>=0.5.1->neptune-tensorflow-keras==0.9.1) (1.3.8)\n",
            "Requirement already satisfied: webcolors; extra == \"format\" in /usr/local/lib/python3.7/dist-packages (from jsonschema[format]>=2.5.1->bravado-core>=5.16.1->bravado->neptune-client>=0.5.1->neptune-tensorflow-keras==0.9.1) (1.11.1)\n",
            "Requirement already satisfied: strict-rfc3339; extra == \"format\" in /usr/local/lib/python3.7/dist-packages (from jsonschema[format]>=2.5.1->bravado-core>=5.16.1->bravado->neptune-client>=0.5.1->neptune-tensorflow-keras==0.9.1) (0.7)\n",
            "Requirement already satisfied: pyasn1>=0.1.3 in /usr/local/lib/python3.7/dist-packages (from rsa<5,>=3.1.4; python_version >= \"3.6\"->google-auth<2,>=1.6.3->tensorboard~=2.4->tensorflow->neptune-tensorflow-keras==0.9.1) (0.4.8)\n",
            "Requirement already satisfied: zipp>=0.5 in /usr/local/lib/python3.7/dist-packages (from importlib-metadata; python_version < \"3.8\"->markdown>=2.6.8->tensorboard~=2.4->tensorflow->neptune-tensorflow-keras==0.9.1) (3.4.1)\n",
            "Building wheels for collected packages: neptune-tensorflow-keras\n",
            "  Building wheel for neptune-tensorflow-keras (setup.py) ... \u001b[?25l\u001b[?25hdone\n",
            "  Created wheel for neptune-tensorflow-keras: filename=neptune_tensorflow_keras-0.9.1-cp37-none-any.whl size=9270 sha256=c0865ec706f4a7e0c2fb40d7e4d11c55c475a4671543e530a73a701919c942de\n",
            "  Stored in directory: /root/.cache/pip/wheels/9c/02/15/b441a43f5c53d0d66baf16cb2c94ead4890c4f8e62d3b22193\n",
            "Successfully built neptune-tensorflow-keras\n",
            "Installing collected packages: neptune-tensorflow-keras\n",
            "Successfully installed neptune-tensorflow-keras-0.9.1\n"
          ],
          "name": "stdout"
        }
      ]
    },
    {
      "cell_type": "code",
      "metadata": {
        "colab": {
          "base_uri": "https://localhost:8080/"
        },
        "id": "rWcngegk__Q7",
        "outputId": "ac0ef14e-964b-4514-c44a-8322f323b710"
      },
      "source": [
        "import neptune.new as neptune\n",
        "\n",
        "run = neptune.init(project='', api_token='')"
      ],
      "execution_count": null,
      "outputs": [
        {
          "output_type": "stream",
          "text": [
            "https://app.neptune.ai/despdair/Subtask-1/e/SUB-63\n"
          ],
          "name": "stdout"
        }
      ]
    },
    {
      "cell_type": "code",
      "metadata": {
        "id": "5ZXL94hj__l2"
      },
      "source": [
        "from neptune.new.integrations.tensorflow_keras import NeptuneCallback\n",
        "\n",
        "neptune_cbk = NeptuneCallback(run=run, base_namespace='metrics')"
      ],
      "execution_count": null,
      "outputs": []
    },
    {
      "cell_type": "markdown",
      "metadata": {
        "id": "QSSuGyigAFwd"
      },
      "source": [
        "## DATA PROCESSING"
      ]
    },
    {
      "cell_type": "code",
      "metadata": {
        "colab": {
          "base_uri": "https://localhost:8080/"
        },
        "id": "6rYxzeeBJ28r",
        "outputId": "04ce52a1-f91d-4ec3-cdef-ea508e1be1df"
      },
      "source": [
        "from google.colab import drive\n",
        "drive.mount('/content/drive')"
      ],
      "execution_count": null,
      "outputs": [
        {
          "output_type": "stream",
          "text": [
            "Mounted at /content/drive\n"
          ],
          "name": "stdout"
        }
      ]
    },
    {
      "cell_type": "code",
      "metadata": {
        "colab": {
          "base_uri": "https://localhost:8080/"
        },
        "id": "BjrHKtwEH-NO",
        "outputId": "3afb4c31-e936-4592-a73e-4bafdf8a90c2"
      },
      "source": [
        "!pip install tensorflow_addons"
      ],
      "execution_count": null,
      "outputs": [
        {
          "output_type": "stream",
          "text": [
            "Collecting tensorflow_addons\n",
            "\u001b[?25l  Downloading https://files.pythonhosted.org/packages/66/4b/e893d194e626c24b3df2253066aa418f46a432fdb68250cde14bf9bb0700/tensorflow_addons-0.13.0-cp37-cp37m-manylinux2010_x86_64.whl (679kB)\n",
            "\r\u001b[K     |▌                               | 10kB 22.9MB/s eta 0:00:01\r\u001b[K     |█                               | 20kB 28.6MB/s eta 0:00:01\r\u001b[K     |█▌                              | 30kB 34.0MB/s eta 0:00:01\r\u001b[K     |██                              | 40kB 29.0MB/s eta 0:00:01\r\u001b[K     |██▍                             | 51kB 29.8MB/s eta 0:00:01\r\u001b[K     |███                             | 61kB 32.1MB/s eta 0:00:01\r\u001b[K     |███▍                            | 71kB 33.8MB/s eta 0:00:01\r\u001b[K     |███▉                            | 81kB 31.9MB/s eta 0:00:01\r\u001b[K     |████▍                           | 92kB 33.2MB/s eta 0:00:01\r\u001b[K     |████▉                           | 102kB 31.8MB/s eta 0:00:01\r\u001b[K     |█████▎                          | 112kB 31.8MB/s eta 0:00:01\r\u001b[K     |█████▉                          | 122kB 31.8MB/s eta 0:00:01\r\u001b[K     |██████▎                         | 133kB 31.8MB/s eta 0:00:01\r\u001b[K     |██████▊                         | 143kB 31.8MB/s eta 0:00:01\r\u001b[K     |███████▎                        | 153kB 31.8MB/s eta 0:00:01\r\u001b[K     |███████▊                        | 163kB 31.8MB/s eta 0:00:01\r\u001b[K     |████████▏                       | 174kB 31.8MB/s eta 0:00:01\r\u001b[K     |████████▊                       | 184kB 31.8MB/s eta 0:00:01\r\u001b[K     |█████████▏                      | 194kB 31.8MB/s eta 0:00:01\r\u001b[K     |█████████▋                      | 204kB 31.8MB/s eta 0:00:01\r\u001b[K     |██████████▏                     | 215kB 31.8MB/s eta 0:00:01\r\u001b[K     |██████████▋                     | 225kB 31.8MB/s eta 0:00:01\r\u001b[K     |███████████                     | 235kB 31.8MB/s eta 0:00:01\r\u001b[K     |███████████▋                    | 245kB 31.8MB/s eta 0:00:01\r\u001b[K     |████████████                    | 256kB 31.8MB/s eta 0:00:01\r\u001b[K     |████████████▌                   | 266kB 31.8MB/s eta 0:00:01\r\u001b[K     |█████████████                   | 276kB 31.8MB/s eta 0:00:01\r\u001b[K     |█████████████▌                  | 286kB 31.8MB/s eta 0:00:01\r\u001b[K     |██████████████                  | 296kB 31.8MB/s eta 0:00:01\r\u001b[K     |██████████████▌                 | 307kB 31.8MB/s eta 0:00:01\r\u001b[K     |███████████████                 | 317kB 31.8MB/s eta 0:00:01\r\u001b[K     |███████████████▍                | 327kB 31.8MB/s eta 0:00:01\r\u001b[K     |████████████████                | 337kB 31.8MB/s eta 0:00:01\r\u001b[K     |████████████████▍               | 348kB 31.8MB/s eta 0:00:01\r\u001b[K     |████████████████▉               | 358kB 31.8MB/s eta 0:00:01\r\u001b[K     |█████████████████▍              | 368kB 31.8MB/s eta 0:00:01\r\u001b[K     |█████████████████▉              | 378kB 31.8MB/s eta 0:00:01\r\u001b[K     |██████████████████▎             | 389kB 31.8MB/s eta 0:00:01\r\u001b[K     |██████████████████▉             | 399kB 31.8MB/s eta 0:00:01\r\u001b[K     |███████████████████▎            | 409kB 31.8MB/s eta 0:00:01\r\u001b[K     |███████████████████▊            | 419kB 31.8MB/s eta 0:00:01\r\u001b[K     |████████████████████▎           | 430kB 31.8MB/s eta 0:00:01\r\u001b[K     |████████████████████▊           | 440kB 31.8MB/s eta 0:00:01\r\u001b[K     |█████████████████████▏          | 450kB 31.8MB/s eta 0:00:01\r\u001b[K     |█████████████████████▊          | 460kB 31.8MB/s eta 0:00:01\r\u001b[K     |██████████████████████▏         | 471kB 31.8MB/s eta 0:00:01\r\u001b[K     |██████████████████████▋         | 481kB 31.8MB/s eta 0:00:01\r\u001b[K     |███████████████████████▏        | 491kB 31.8MB/s eta 0:00:01\r\u001b[K     |███████████████████████▋        | 501kB 31.8MB/s eta 0:00:01\r\u001b[K     |████████████████████████        | 512kB 31.8MB/s eta 0:00:01\r\u001b[K     |████████████████████████▋       | 522kB 31.8MB/s eta 0:00:01\r\u001b[K     |█████████████████████████       | 532kB 31.8MB/s eta 0:00:01\r\u001b[K     |█████████████████████████▌      | 542kB 31.8MB/s eta 0:00:01\r\u001b[K     |██████████████████████████      | 552kB 31.8MB/s eta 0:00:01\r\u001b[K     |██████████████████████████▌     | 563kB 31.8MB/s eta 0:00:01\r\u001b[K     |███████████████████████████     | 573kB 31.8MB/s eta 0:00:01\r\u001b[K     |███████████████████████████▌    | 583kB 31.8MB/s eta 0:00:01\r\u001b[K     |████████████████████████████    | 593kB 31.8MB/s eta 0:00:01\r\u001b[K     |████████████████████████████▍   | 604kB 31.8MB/s eta 0:00:01\r\u001b[K     |█████████████████████████████   | 614kB 31.8MB/s eta 0:00:01\r\u001b[K     |█████████████████████████████▍  | 624kB 31.8MB/s eta 0:00:01\r\u001b[K     |█████████████████████████████▉  | 634kB 31.8MB/s eta 0:00:01\r\u001b[K     |██████████████████████████████▍ | 645kB 31.8MB/s eta 0:00:01\r\u001b[K     |██████████████████████████████▉ | 655kB 31.8MB/s eta 0:00:01\r\u001b[K     |███████████████████████████████▎| 665kB 31.8MB/s eta 0:00:01\r\u001b[K     |███████████████████████████████▉| 675kB 31.8MB/s eta 0:00:01\r\u001b[K     |████████████████████████████████| 686kB 31.8MB/s \n",
            "\u001b[?25hRequirement already satisfied: typeguard>=2.7 in /usr/local/lib/python3.7/dist-packages (from tensorflow_addons) (2.7.1)\n",
            "Installing collected packages: tensorflow-addons\n",
            "Successfully installed tensorflow-addons-0.13.0\n"
          ],
          "name": "stdout"
        }
      ]
    },
    {
      "cell_type": "code",
      "metadata": {
        "id": "uFPEFCJ_GJFf"
      },
      "source": [
        "import pandas as pd\n",
        "import matplotlib.pyplot as plt\n",
        "import tensorflow as tf\n",
        "import numpy as np\n",
        "import tensorflow_addons as tfa\n",
        "import tensorflow_hub as hub"
      ],
      "execution_count": null,
      "outputs": []
    },
    {
      "cell_type": "code",
      "metadata": {
        "colab": {
          "base_uri": "https://localhost:8080/",
          "height": 238
        },
        "id": "dqCXEA87KyUB",
        "outputId": "bd81cceb-2724-424c-fadc-117a907984e5"
      },
      "source": [
        "trainDfEng =  pd.read_json(\"./en-train.json\", lines = True)\n",
        "trainDfEng.head()"
      ],
      "execution_count": null,
      "outputs": [
        {
          "output_type": "stream",
          "text": [
            "Error occurred during asynchronous operation processing: Invalid point for string series: monitoring/stdout : Text longer than 1000 characters was truncated\n",
            "Error occurred during asynchronous operation processing: Invalid point for string series: monitoring/stdout : Text longer than 1000 characters was truncated\n"
          ],
          "name": "stderr"
        },
        {
          "output_type": "execute_result",
          "data": {
            "text/html": [
              "<div>\n",
              "<style scoped>\n",
              "    .dataframe tbody tr th:only-of-type {\n",
              "        vertical-align: middle;\n",
              "    }\n",
              "\n",
              "    .dataframe tbody tr th {\n",
              "        vertical-align: top;\n",
              "    }\n",
              "\n",
              "    .dataframe thead th {\n",
              "        text-align: right;\n",
              "    }\n",
              "</style>\n",
              "<table border=\"1\" class=\"dataframe\">\n",
              "  <thead>\n",
              "    <tr style=\"text-align: right;\">\n",
              "      <th></th>\n",
              "      <th>id</th>\n",
              "      <th>text</th>\n",
              "      <th>label</th>\n",
              "    </tr>\n",
              "  </thead>\n",
              "  <tbody>\n",
              "    <tr>\n",
              "      <th>0</th>\n",
              "      <td>100000</td>\n",
              "      <td>Schools 'need to adopt green approach'\\nPUBLIS...</td>\n",
              "      <td>0</td>\n",
              "    </tr>\n",
              "    <tr>\n",
              "      <th>1</th>\n",
              "      <td>100001</td>\n",
              "      <td>IN SCHOOL\\nKerber, defending Graf’s record, ge...</td>\n",
              "      <td>0</td>\n",
              "    </tr>\n",
              "    <tr>\n",
              "      <th>2</th>\n",
              "      <td>100002</td>\n",
              "      <td>Microsoft launches Xbox Music on Web for free\\...</td>\n",
              "      <td>0</td>\n",
              "    </tr>\n",
              "    <tr>\n",
              "      <th>3</th>\n",
              "      <td>100003</td>\n",
              "      <td>PUBLISHED : Sunday, 20 February, 2000, 12:00am...</td>\n",
              "      <td>0</td>\n",
              "    </tr>\n",
              "    <tr>\n",
              "      <th>4</th>\n",
              "      <td>100004</td>\n",
              "      <td>Stocks to bounce back: fund managers\\nTNN | Se...</td>\n",
              "      <td>0</td>\n",
              "    </tr>\n",
              "  </tbody>\n",
              "</table>\n",
              "</div>"
            ],
            "text/plain": [
              "       id                                               text  label\n",
              "0  100000  Schools 'need to adopt green approach'\\nPUBLIS...      0\n",
              "1  100001  IN SCHOOL\\nKerber, defending Graf’s record, ge...      0\n",
              "2  100002  Microsoft launches Xbox Music on Web for free\\...      0\n",
              "3  100003  PUBLISHED : Sunday, 20 February, 2000, 12:00am...      0\n",
              "4  100004  Stocks to bounce back: fund managers\\nTNN | Se...      0"
            ]
          },
          "metadata": {
            "tags": []
          },
          "execution_count": 7
        }
      ]
    },
    {
      "cell_type": "code",
      "metadata": {
        "colab": {
          "base_uri": "https://localhost:8080/",
          "height": 204
        },
        "id": "DGWioV48p9PP",
        "outputId": "b8963529-ecaf-45ad-d890-f86f68baa848"
      },
      "source": [
        "testData = pd.read_json(\"./test.json\", lines = True)\n",
        "testData.head()"
      ],
      "execution_count": null,
      "outputs": [
        {
          "output_type": "execute_result",
          "data": {
            "text/html": [
              "<div>\n",
              "<style scoped>\n",
              "    .dataframe tbody tr th:only-of-type {\n",
              "        vertical-align: middle;\n",
              "    }\n",
              "\n",
              "    .dataframe tbody tr th {\n",
              "        vertical-align: top;\n",
              "    }\n",
              "\n",
              "    .dataframe thead th {\n",
              "        text-align: right;\n",
              "    }\n",
              "</style>\n",
              "<table border=\"1\" class=\"dataframe\">\n",
              "  <thead>\n",
              "    <tr style=\"text-align: right;\">\n",
              "      <th></th>\n",
              "      <th>id</th>\n",
              "      <th>text</th>\n",
              "    </tr>\n",
              "  </thead>\n",
              "  <tbody>\n",
              "    <tr>\n",
              "      <th>0</th>\n",
              "      <td>109324</td>\n",
              "      <td>Beijing to build city's tallest building - Peo...</td>\n",
              "    </tr>\n",
              "    <tr>\n",
              "      <th>1</th>\n",
              "      <td>109325</td>\n",
              "      <td>Freezing in the office? Here are some fashiona...</td>\n",
              "    </tr>\n",
              "    <tr>\n",
              "      <th>2</th>\n",
              "      <td>109326</td>\n",
              "      <td>UAS reopening put off by a week\\nTNN | Sep 29,...</td>\n",
              "    </tr>\n",
              "    <tr>\n",
              "      <th>3</th>\n",
              "      <td>109327</td>\n",
              "      <td>Millennium gets back to basics\\nPUBLISHED : We...</td>\n",
              "    </tr>\n",
              "    <tr>\n",
              "      <th>4</th>\n",
              "      <td>109328</td>\n",
              "      <td>Pakistan's Supreme Court dismisses appeals aga...</td>\n",
              "    </tr>\n",
              "  </tbody>\n",
              "</table>\n",
              "</div>"
            ],
            "text/plain": [
              "       id                                               text\n",
              "0  109324  Beijing to build city's tallest building - Peo...\n",
              "1  109325  Freezing in the office? Here are some fashiona...\n",
              "2  109326  UAS reopening put off by a week\\nTNN | Sep 29,...\n",
              "3  109327  Millennium gets back to basics\\nPUBLISHED : We...\n",
              "4  109328  Pakistan's Supreme Court dismisses appeals aga..."
            ]
          },
          "metadata": {
            "tags": []
          },
          "execution_count": 8
        }
      ]
    },
    {
      "cell_type": "code",
      "metadata": {
        "id": "wKv-lRt-48_y"
      },
      "source": [
        "trainDfEng.drop_duplicates(subset= \"text\",inplace= True)"
      ],
      "execution_count": null,
      "outputs": []
    },
    {
      "cell_type": "code",
      "metadata": {
        "colab": {
          "base_uri": "https://localhost:8080/"
        },
        "id": "o5nxsIGt5JV6",
        "outputId": "b52e1659-b920-4efe-ab09-9a0cc8fbecc3"
      },
      "source": [
        "trainDfEng.shape"
      ],
      "execution_count": null,
      "outputs": [
        {
          "output_type": "execute_result",
          "data": {
            "text/plain": [
              "(9319, 3)"
            ]
          },
          "metadata": {
            "tags": []
          },
          "execution_count": 12
        }
      ]
    },
    {
      "cell_type": "code",
      "metadata": {
        "colab": {
          "base_uri": "https://localhost:8080/",
          "height": 333
        },
        "id": "hwrODgbmHFmm",
        "outputId": "0edc1b02-dfc6-44ad-a6e1-78311bc84962"
      },
      "source": [
        "plt.hist(trainDfEng[\"label\"])"
      ],
      "execution_count": null,
      "outputs": [
        {
          "output_type": "execute_result",
          "data": {
            "text/plain": [
              "(array([7407.,    0.,    0.,    0.,    0.,    0.,    0.,    0.,    0.,\n",
              "        1912.]),\n",
              " array([0. , 0.1, 0.2, 0.3, 0.4, 0.5, 0.6, 0.7, 0.8, 0.9, 1. ]),\n",
              " <a list of 10 Patch objects>)"
            ]
          },
          "metadata": {
            "tags": []
          },
          "execution_count": 13
        },
        {
          "output_type": "display_data",
          "data": {
            "image/png": "[encoded data removed]",
            "text/plain": [
              "<Figure size 432x288 with 1 Axes>"
            ]
          },
          "metadata": {
            "tags": [],
            "needs_background": "light"
          }
        }
      ]
    },
    {
      "cell_type": "code",
      "metadata": {
        "colab": {
          "base_uri": "https://localhost:8080/"
        },
        "id": "ECg6Xdp4HJMk",
        "outputId": "3f42836d-5833-4413-f096-507096475008"
      },
      "source": [
        "import nltk\n",
        "import re\n",
        "from nltk.corpus import stopwords\n",
        "from nltk import word_tokenize\n",
        "\n",
        "nltk.download(\"stopwords\")\n",
        "nltk.download(\"punkt\")\n",
        "nltk.download(\"wordnet\")\n",
        "\n",
        "stop_words = set(stopwords.words('english'))\n",
        "lemmatizer = nltk.stem.wordnet.WordNetLemmatizer()\n",
        "\n",
        "def clean(text, stem = False):\n",
        "    # Lowering letters\n",
        "    text = text.lower()\n",
        "    # Removing html tags\n",
        "    text = re.sub('<[^>]*>', '', text)\n",
        "    # Removing emails\n",
        "    text = re.sub('\\S*@\\S*\\s?', '', text)\n",
        "    # Removing urls\n",
        "    text = re.sub('https?://[A-Za-z0-9]','',text)\n",
        "    # Removing numbers\n",
        "    text = re.sub('[^a-zA-Z\"]',' ',text)\n",
        "    word_tokens = word_tokenize(text)    \n",
        "    filtered_sentence = []\n",
        "    for word_token in word_tokens:\n",
        "      if stem:\n",
        "        word_token = lemmatizer.lemmatize(word_token, \"v\")\n",
        "\n",
        "      filtered_sentence.append(word_token)\n",
        "    \n",
        "    # Joining words\n",
        "    text = (' '.join(filtered_sentence))\n",
        "    return text"
      ],
      "execution_count": null,
      "outputs": [
        {
          "output_type": "stream",
          "text": [
            "[nltk_data] Downloading package stopwords to /root/nltk_data...\n",
            "[nltk_data]   Unzipping corpora/stopwords.zip.\n",
            "[nltk_data] Downloading package punkt to /root/nltk_data...\n",
            "[nltk_data]   Unzipping tokenizers/punkt.zip.\n",
            "[nltk_data] Downloading package wordnet to /root/nltk_data...\n",
            "[nltk_data]   Unzipping corpora/wordnet.zip.\n"
          ],
          "name": "stdout"
        }
      ]
    },
    {
      "cell_type": "code",
      "metadata": {
        "colab": {
          "base_uri": "https://localhost:8080/"
        },
        "id": "ZO0qxYHaHSj_",
        "outputId": "71f971cb-3c87-4290-828a-c484b1db80ef"
      },
      "source": [
        "all_cleaned_texts = np.array([clean(text) for text in trainDfEng[\"text\"]])\n",
        "\n",
        "tokenizer = tf.keras.preprocessing.text.Tokenizer()\n",
        "tokenizer.fit_on_texts(all_cleaned_texts)\n",
        "\n",
        "all_encoded_texts = tokenizer.texts_to_sequences(all_cleaned_texts)\n",
        "all_encoded_texts = np.array(all_encoded_texts)\n",
        "\n",
        "maxlen = max([len(sent) for sent in all_encoded_texts])\n",
        "all_encoded_texts = tf.keras.preprocessing.sequence.pad_sequences(all_encoded_texts, maxlen= maxlen)"
      ],
      "execution_count": null,
      "outputs": [
        {
          "output_type": "stream",
          "text": [
            "/usr/local/lib/python3.7/dist-packages/ipykernel_launcher.py:7: VisibleDeprecationWarning: Creating an ndarray from ragged nested sequences (which is a list-or-tuple of lists-or-tuples-or ndarrays with different lengths or shapes) is deprecated. If you meant to do this, you must specify 'dtype=object' when creating the ndarray\n",
            "  import sys\n"
          ],
          "name": "stderr"
        }
      ]
    },
    {
      "cell_type": "code",
      "metadata": {
        "id": "M-u3xHHRHmQ8"
      },
      "source": [
        "def getEmbedding(mode = \"GN300\"):\n",
        "  import multiprocessing\n",
        "  import gensim\n",
        "  import gensim.downloader as api\n",
        "\n",
        "  if mode == \"customTrained\":\n",
        "    modelW2V = gensim.models.Word2Vec(all_cleaned_texts, size= 500, min_count = 2, window = 5, sg=0, iter = 10, workers= multiprocessing.cpu_count() - 1)\n",
        "  elif mode == \"GN300\":\n",
        "    word2vec = api.load(\"word2vec-google-news-300\")\n",
        "  else:\n",
        "    word2vec = hub.load(\"https://tfhub.dev/google/nnlm-en-dim128/2\")\n",
        "\n",
        "  num_words = len(list(tokenizer.word_index))\n",
        "\n",
        "  embedding_matrix = np.random.uniform(-1, 1, (num_words + 1, 300))\n",
        "  for word, i in tokenizer.word_index.items():\n",
        "      if i < num_words:\n",
        "        try:\n",
        "          embedding_vector = word2vec.get_vector(word)\n",
        "          if embedding_vector is not None:\n",
        "            embedding_matrix[i] = embedding_vector\n",
        "          else:\n",
        "            embedding_matrix[i] = np.zeros((300,))\n",
        "        except:\n",
        "          pass\n",
        "\n",
        "  embedding_matrix[num_words] = np.zeros((300,))\n",
        "  return embedding_matrix\n",
        "\n",
        "EMBED_MODE = \"NNLM\"\n",
        "\n",
        "embedding_matrix = getEmbedding(EMBED_MODE)"
      ],
      "execution_count": null,
      "outputs": []
    },
    {
      "cell_type": "code",
      "metadata": {
        "id": "Sxmk-bmlHofo"
      },
      "source": [
        "from sklearn.model_selection import train_test_split\n",
        "\n",
        "X_train, X_test, y_train, y_test = train_test_split(all_encoded_texts, trainDfEng[\"label\"], test_size=0.2, random_state=42)"
      ],
      "execution_count": null,
      "outputs": []
    },
    {
      "cell_type": "markdown",
      "metadata": {
        "id": "NIHIFD9aAKTT"
      },
      "source": [
        "## MODELS"
      ]
    },
    {
      "cell_type": "code",
      "metadata": {
        "id": "uXCQw9OffFLN"
      },
      "source": [
        "from sklearn.metrics import f1_score\n",
        "\n",
        "class MacroF1Callback(tf.keras.callbacks.Callback):\n",
        "  def on_epoch_end(self, epoch, logs=None):\n",
        "    y_pred = self.model.predict(X_train)\n",
        "\n",
        "    print(\"Train F1 Score: \", f1_score(y_train, y_pred > 0.5, average = \"macro\"))\n",
        "    \n",
        "    y_pred = self.model.predict(X_test)\n",
        "\n",
        "    print(\"Train F1 Score: \", f1_score(y_test, y_pred > 0.5, average = \"macro\"))"
      ],
      "execution_count": null,
      "outputs": []
    },
    {
      "cell_type": "code",
      "metadata": {
        "id": "7yBJyHLhHu12"
      },
      "source": [
        "TRAIN_EMBED = False\n",
        "DROPOUT = 0.5\n",
        "\n",
        "def get_model():\n",
        "  model = tf.keras.models.Sequential([\n",
        "                                      tf.keras.layers.Embedding(input_dim= embedding_matrix.shape[0],\n",
        "                                                                output_dim= embedding_matrix.shape[1],\n",
        "                                                                weights = [embedding_matrix],\n",
        "                                                                input_length= maxlen,\n",
        "                                                              trainable = TRAIN_EMBED),\n",
        "                                      tf.keras.layers.Conv1D(128, 3, activation= \"relu\", padding= \"same\"),\n",
        "                                      tf.keras.layers.GlobalMaxPool1D(),\n",
        "                                      tf.keras.layers.Dropout(DROPOUT),\n",
        "                                      tf.keras.layers.Dense(64, activation= \"relu\", kernel_regularizer= tf.keras.regularizers.l2(1e-4)),\n",
        "                                      tf.keras.layers.Dense(1, activation= \"sigmoid\")\n",
        "                                      ]\n",
        "  )\n",
        "\n",
        "  model.compile(loss='binary_crossentropy', \n",
        "              optimizer='Adam', \n",
        "              metrics=['accuracy', \"AUC\"])\n",
        "  \n",
        "  return model"
      ],
      "execution_count": null,
      "outputs": []
    },
    {
      "cell_type": "code",
      "metadata": {
        "colab": {
          "base_uri": "https://localhost:8080/"
        },
        "id": "hcmGPG-IX3dB",
        "outputId": "94864b5b-f871-4f74-ab75-b9bb3895a963"
      },
      "source": [
        "model = get_model()\n",
        "\n",
        "PARAMS = {\"train_embed\": TRAIN_EMBED, \"embedding\": EMBED_MODE, \"dropout\": DROPOUT, \"batch_size\": 16, \"weights\": 1}\n",
        "\n",
        "run[\"model_name\"] = \"CNN\"\n",
        "run[\"hyper-parameters\"] = PARAMS\n",
        "\n",
        "model.fit(X_train, y_train, validation_data= (X_test, y_test), batch_size= 16, epochs= 100, callbacks= [\n",
        "    tf.keras.callbacks.EarlyStopping(patience= 3, verbose = 1, monitor = \"val_auc\", mode= \"max\"), \n",
        "    tf.keras.callbacks.ModelCheckpoint(monitor = \"val_loss\", filepath = \"./modelcnn\", save_best_only = True, save_weights_only = True),\n",
        "    neptune_cbk\n",
        "])"
      ],
      "execution_count": null,
      "outputs": [
        {
          "output_type": "stream",
          "text": [
            "Epoch 1/100\n"
          ],
          "name": "stdout"
        },
        {
          "output_type": "stream",
          "text": [
            "Exception ignored in: <function CapturableResourceDeleter.__del__ at 0x7f8acb441320>\n",
            "Traceback (most recent call last):\n",
            "  File \"/usr/local/lib/python3.7/dist-packages/tensorflow/python/training/tracking/tracking.py\", line 208, in __del__\n",
            "    self._destroy_resource()\n",
            "  File \"/usr/local/lib/python3.7/dist-packages/tensorflow/python/eager/def_function.py\", line 828, in __call__\n",
            "    result = self._call(*args, **kwds)\n",
            "  File \"/usr/local/lib/python3.7/dist-packages/tensorflow/python/eager/def_function.py\", line 871, in _call\n",
            "    self._initialize(args, kwds, add_initializers_to=initializers)\n",
            "  File \"/usr/local/lib/python3.7/dist-packages/tensorflow/python/eager/def_function.py\", line 726, in _initialize\n",
            "    *args, **kwds))\n",
            "  File \"/usr/local/lib/python3.7/dist-packages/tensorflow/python/eager/function.py\", line 2969, in _get_concrete_function_internal_garbage_collected\n",
            "    graph_function, _ = self._maybe_define_function(args, kwargs)\n",
            "  File \"/usr/local/lib/python3.7/dist-packages/tensorflow/python/eager/function.py\", line 3361, in _maybe_define_function\n",
            "    graph_function = self._create_graph_function(args, kwargs)\n",
            "  File \"/usr/local/lib/python3.7/dist-packages/tensorflow/python/eager/function.py\", line 3206, in _create_graph_function\n",
            "    capture_by_value=self._capture_by_value),\n",
            "  File \"/usr/local/lib/python3.7/dist-packages/tensorflow/python/framework/func_graph.py\", line 990, in func_graph_from_py_func\n",
            "    func_outputs = python_func(*func_args, **func_kwargs)\n",
            "  File \"/usr/local/lib/python3.7/dist-packages/tensorflow/python/eager/def_function.py\", line 634, in wrapped_fn\n",
            "    out = weak_wrapped_fn().__wrapped__(*args, **kwds)\n",
            "  File \"/usr/local/lib/python3.7/dist-packages/tensorflow/python/saved_model/function_deserialization.py\", line 253, in restored_function_body\n",
            "    return _call_concrete_function(function, inputs)\n",
            "  File \"/usr/local/lib/python3.7/dist-packages/tensorflow/python/saved_model/function_deserialization.py\", line 75, in _call_concrete_function\n",
            "    result = function._call_flat(tensor_inputs, function._captured_inputs)  # pylint: disable=protected-access\n",
            "  File \"/usr/local/lib/python3.7/dist-packages/tensorflow/python/saved_model/load.py\", line 116, in _call_flat\n",
            "    cancellation_manager)\n",
            "  File \"/usr/local/lib/python3.7/dist-packages/tensorflow/python/eager/function.py\", line 1932, in _call_flat\n",
            "    flat_outputs = forward_function.call(ctx, args_with_tangents)\n",
            "  File \"/usr/local/lib/python3.7/dist-packages/tensorflow/python/eager/function.py\", line 589, in call\n",
            "    executor_type=executor_type)\n",
            "  File \"/usr/local/lib/python3.7/dist-packages/tensorflow/python/ops/functional_ops.py\", line 1206, in partitioned_call\n",
            "    f.add_to_graph(graph)\n",
            "  File \"/usr/local/lib/python3.7/dist-packages/tensorflow/python/eager/function.py\", line 505, in add_to_graph\n",
            "    g._add_function(self)\n",
            "  File \"/usr/local/lib/python3.7/dist-packages/tensorflow/python/framework/ops.py\", line 3396, in _add_function\n",
            "    gradient)\n",
            "tensorflow.python.framework.errors_impl.InvalidArgumentError: 'func' argument to TF_GraphCopyFunction cannot be null\n"
          ],
          "name": "stderr"
        },
        {
          "output_type": "stream",
          "text": [
            "466/466 [==============================] - 44s 23ms/step - loss: 0.6336 - accuracy: 0.7429 - auc: 0.5715 - val_loss: 0.3986 - val_accuracy: 0.8503 - val_auc: 0.8499\n",
            "Epoch 2/100\n",
            "466/466 [==============================] - 10s 21ms/step - loss: 0.4203 - accuracy: 0.8236 - auc: 0.7911 - val_loss: 0.3563 - val_accuracy: 0.8702 - val_auc: 0.8762\n",
            "Epoch 3/100\n",
            "466/466 [==============================] - 10s 21ms/step - loss: 0.3606 - accuracy: 0.8537 - auc: 0.8643 - val_loss: 0.3401 - val_accuracy: 0.8691 - val_auc: 0.8845\n",
            "Epoch 4/100\n",
            "466/466 [==============================] - 10s 22ms/step - loss: 0.3285 - accuracy: 0.8722 - auc: 0.8798 - val_loss: 0.3226 - val_accuracy: 0.8777 - val_auc: 0.8951\n",
            "Epoch 5/100\n",
            "466/466 [==============================] - 10s 22ms/step - loss: 0.3023 - accuracy: 0.8841 - auc: 0.8988 - val_loss: 0.3150 - val_accuracy: 0.8739 - val_auc: 0.8942\n",
            "Epoch 6/100\n",
            "466/466 [==============================] - 10s 22ms/step - loss: 0.2712 - accuracy: 0.8966 - auc: 0.9235 - val_loss: 0.3065 - val_accuracy: 0.8830 - val_auc: 0.8999\n",
            "Epoch 7/100\n",
            "466/466 [==============================] - 10s 22ms/step - loss: 0.2590 - accuracy: 0.9016 - auc: 0.9327 - val_loss: 0.3058 - val_accuracy: 0.8793 - val_auc: 0.8993\n",
            "Epoch 8/100\n",
            "466/466 [==============================] - 10s 21ms/step - loss: 0.2396 - accuracy: 0.9060 - auc: 0.9410 - val_loss: 0.3091 - val_accuracy: 0.8814 - val_auc: 0.9049\n",
            "Epoch 9/100\n",
            "466/466 [==============================] - 10s 21ms/step - loss: 0.2204 - accuracy: 0.9182 - auc: 0.9516 - val_loss: 0.2945 - val_accuracy: 0.8830 - val_auc: 0.9059\n",
            "Epoch 10/100\n",
            "466/466 [==============================] - 10s 21ms/step - loss: 0.2239 - accuracy: 0.9127 - auc: 0.9506 - val_loss: 0.3084 - val_accuracy: 0.8830 - val_auc: 0.9076\n",
            "Epoch 11/100\n",
            "466/466 [==============================] - 10s 21ms/step - loss: 0.1958 - accuracy: 0.9264 - auc: 0.9620 - val_loss: 0.2916 - val_accuracy: 0.8873 - val_auc: 0.9101\n",
            "Epoch 12/100\n",
            "466/466 [==============================] - 10s 21ms/step - loss: 0.1878 - accuracy: 0.9256 - auc: 0.9660 - val_loss: 0.3055 - val_accuracy: 0.8868 - val_auc: 0.9101\n",
            "Epoch 13/100\n",
            "466/466 [==============================] - 10s 21ms/step - loss: 0.1823 - accuracy: 0.9326 - auc: 0.9669 - val_loss: 0.3346 - val_accuracy: 0.8788 - val_auc: 0.9012\n",
            "Epoch 14/100\n",
            "466/466 [==============================] - 10s 21ms/step - loss: 0.1596 - accuracy: 0.9403 - auc: 0.9761 - val_loss: 0.3080 - val_accuracy: 0.8889 - val_auc: 0.9053\n",
            "Epoch 00014: early stopping\n"
          ],
          "name": "stdout"
        },
        {
          "output_type": "execute_result",
          "data": {
            "text/plain": [
              "<tensorflow.python.keras.callbacks.History at 0x7f8a4bad3a90>"
            ]
          },
          "metadata": {
            "tags": []
          },
          "execution_count": 21
        }
      ]
    },
    {
      "cell_type": "code",
      "metadata": {
        "colab": {
          "base_uri": "https://localhost:8080/"
        },
        "id": "F138JBIcI79l",
        "outputId": "702226bf-3bb1-40b1-bbd8-2d3de789806c"
      },
      "source": [
        "model.load_weights(\"./modelcnn\")"
      ],
      "execution_count": null,
      "outputs": [
        {
          "output_type": "execute_result",
          "data": {
            "text/plain": [
              "<tensorflow.python.training.tracking.util.CheckpointLoadStatus at 0x7f8a4bb5c150>"
            ]
          },
          "metadata": {
            "tags": []
          },
          "execution_count": 22
        }
      ]
    },
    {
      "cell_type": "code",
      "metadata": {
        "colab": {
          "base_uri": "https://localhost:8080/"
        },
        "id": "JqseD7eEI8cN",
        "outputId": "01c286e4-f749-45a8-8546-6fb5422959df"
      },
      "source": [
        "from sklearn.metrics import classification_report\n",
        "\n",
        "print(classification_report(y_test, model.predict(X_test) > 0.5, digits= 4))"
      ],
      "execution_count": null,
      "outputs": [
        {
          "output_type": "stream",
          "text": [
            "              precision    recall  f1-score   support\n",
            "\n",
            "           0     0.9036    0.9618    0.9318      1491\n",
            "           1     0.7942    0.5898    0.6769       373\n",
            "\n",
            "    accuracy                         0.8873      1864\n",
            "   macro avg     0.8489    0.7758    0.8043      1864\n",
            "weighted avg     0.8817    0.8873    0.8808      1864\n",
            "\n"
          ],
          "name": "stdout"
        }
      ]
    },
    {
      "cell_type": "code",
      "metadata": {
        "id": "lgcXirxWHgaf"
      },
      "source": [
        "from sklearn import metrics\n",
        "fpr, tpr, thresholds = metrics.roc_curve(y_test, model.predict(X_test))"
      ],
      "execution_count": null,
      "outputs": []
    },
    {
      "cell_type": "code",
      "metadata": {
        "colab": {
          "base_uri": "https://localhost:8080/"
        },
        "id": "VqH5c_YxKL7n",
        "outputId": "60b58574-0fe6-4243-dee0-42b1593d5d85"
      },
      "source": [
        "from sklearn.metrics import f1_score\n",
        "\n",
        "y_pred = model.predict(X_test)\n",
        "\n",
        "bestT = 0\n",
        "bestF1 = 0\n",
        "for t in thresholds:\n",
        "  f1 = f1_score(y_test, y_pred > t)\n",
        "  if f1 > bestF1:\n",
        "    bestF1 = f1\n",
        "    bestT = t\n",
        "\n",
        "print(\"Best threshold: \", bestT)\n",
        "print(classification_report(y_test, model.predict(X_test) > bestT))"
      ],
      "execution_count": null,
      "outputs": [
        {
          "output_type": "stream",
          "text": [
            "Best threshold:  0.40183583\n",
            "              precision    recall  f1-score   support\n",
            "\n",
            "           0       0.92      0.95      0.93      1491\n",
            "           1       0.78      0.65      0.71       373\n",
            "\n",
            "    accuracy                           0.89      1864\n",
            "   macro avg       0.85      0.80      0.82      1864\n",
            "weighted avg       0.89      0.89      0.89      1864\n",
            "\n"
          ],
          "name": "stdout"
        }
      ]
    },
    {
      "cell_type": "code",
      "metadata": {
        "colab": {
          "base_uri": "https://localhost:8080/"
        },
        "id": "dckRlgOuXDcr",
        "outputId": "36d2f867-8ee2-4fe2-88fe-1b127bb8e30f"
      },
      "source": [
        "y_pred = model.predict_proba(X_test)\n",
        "\n",
        "import pickle\n",
        "\n",
        "with open(\"./ModelResults/\" + \"CNN-NNLM-TRAINED\" + \".pkl\", \"wb\") as fout:\n",
        "  pickle.dump(y_pred, fout)"
      ],
      "execution_count": null,
      "outputs": [
        {
          "output_type": "stream",
          "text": [
            "/usr/local/lib/python3.7/dist-packages/tensorflow/python/keras/engine/sequential.py:425: UserWarning: `model.predict_proba()` is deprecated and will be removed after 2021-01-01. Please use `model.predict()` instead.\n",
            "  warnings.warn('`model.predict_proba()` is deprecated and '\n"
          ],
          "name": "stderr"
        }
      ]
    }
  ]
}