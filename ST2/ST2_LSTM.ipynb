{
  "nbformat": 4,
  "nbformat_minor": 0,
  "metadata": {
    "colab": {
      "name": "ST2 LSTM.ipynb",
      "provenance": [],
      "collapsed_sections": []
    },
    "kernelspec": {
      "name": "python3",
      "display_name": "Python 3"
    },
    "accelerator": "GPU"
  },
  "cells": [
    {
      "cell_type": "markdown",
      "metadata": {
        "id": "PNreWfk_ZKDa"
      },
      "source": [
        "# Imports"
      ]
    },
    {
      "cell_type": "code",
      "metadata": {
        "colab": {
          "base_uri": "https://localhost:8080/"
        },
        "id": "BjrHKtwEH-NO",
        "outputId": "cad246a8-7fec-4330-fc13-79d2fc7d3511"
      },
      "source": [
        "!pip install tensorflow_addons"
      ],
      "execution_count": null,
      "outputs": [
        {
          "output_type": "stream",
          "text": [
            "Collecting tensorflow_addons\n",
            "\u001b[?25l  Downloading https://files.pythonhosted.org/packages/74/e3/56d2fe76f0bb7c88ed9b2a6a557e25e83e252aec08f13de34369cd850a0b/tensorflow_addons-0.12.1-cp37-cp37m-manylinux2010_x86_64.whl (703kB)\n",
            "\r\u001b[K     |▌                               | 10kB 21.6MB/s eta 0:00:01\r\u001b[K     |█                               | 20kB 29.1MB/s eta 0:00:01\r\u001b[K     |█▍                              | 30kB 22.8MB/s eta 0:00:01\r\u001b[K     |█▉                              | 40kB 26.1MB/s eta 0:00:01\r\u001b[K     |██▎                             | 51kB 26.2MB/s eta 0:00:01\r\u001b[K     |██▉                             | 61kB 28.7MB/s eta 0:00:01\r\u001b[K     |███▎                            | 71kB 22.7MB/s eta 0:00:01\r\u001b[K     |███▊                            | 81kB 23.9MB/s eta 0:00:01\r\u001b[K     |████▏                           | 92kB 23.1MB/s eta 0:00:01\r\u001b[K     |████▋                           | 102kB 23.0MB/s eta 0:00:01\r\u001b[K     |█████▏                          | 112kB 23.0MB/s eta 0:00:01\r\u001b[K     |█████▋                          | 122kB 23.0MB/s eta 0:00:01\r\u001b[K     |██████                          | 133kB 23.0MB/s eta 0:00:01\r\u001b[K     |██████▌                         | 143kB 23.0MB/s eta 0:00:01\r\u001b[K     |███████                         | 153kB 23.0MB/s eta 0:00:01\r\u001b[K     |███████▌                        | 163kB 23.0MB/s eta 0:00:01\r\u001b[K     |████████                        | 174kB 23.0MB/s eta 0:00:01\r\u001b[K     |████████▍                       | 184kB 23.0MB/s eta 0:00:01\r\u001b[K     |████████▉                       | 194kB 23.0MB/s eta 0:00:01\r\u001b[K     |█████████▎                      | 204kB 23.0MB/s eta 0:00:01\r\u001b[K     |█████████▉                      | 215kB 23.0MB/s eta 0:00:01\r\u001b[K     |██████████▎                     | 225kB 23.0MB/s eta 0:00:01\r\u001b[K     |██████████▊                     | 235kB 23.0MB/s eta 0:00:01\r\u001b[K     |███████████▏                    | 245kB 23.0MB/s eta 0:00:01\r\u001b[K     |███████████▋                    | 256kB 23.0MB/s eta 0:00:01\r\u001b[K     |████████████▏                   | 266kB 23.0MB/s eta 0:00:01\r\u001b[K     |████████████▋                   | 276kB 23.0MB/s eta 0:00:01\r\u001b[K     |█████████████                   | 286kB 23.0MB/s eta 0:00:01\r\u001b[K     |█████████████▌                  | 296kB 23.0MB/s eta 0:00:01\r\u001b[K     |██████████████                  | 307kB 23.0MB/s eta 0:00:01\r\u001b[K     |██████████████▍                 | 317kB 23.0MB/s eta 0:00:01\r\u001b[K     |███████████████                 | 327kB 23.0MB/s eta 0:00:01\r\u001b[K     |███████████████▍                | 337kB 23.0MB/s eta 0:00:01\r\u001b[K     |███████████████▉                | 348kB 23.0MB/s eta 0:00:01\r\u001b[K     |████████████████▎               | 358kB 23.0MB/s eta 0:00:01\r\u001b[K     |████████████████▊               | 368kB 23.0MB/s eta 0:00:01\r\u001b[K     |█████████████████▎              | 378kB 23.0MB/s eta 0:00:01\r\u001b[K     |█████████████████▊              | 389kB 23.0MB/s eta 0:00:01\r\u001b[K     |██████████████████▏             | 399kB 23.0MB/s eta 0:00:01\r\u001b[K     |██████████████████▋             | 409kB 23.0MB/s eta 0:00:01\r\u001b[K     |███████████████████             | 419kB 23.0MB/s eta 0:00:01\r\u001b[K     |███████████████████▋            | 430kB 23.0MB/s eta 0:00:01\r\u001b[K     |████████████████████            | 440kB 23.0MB/s eta 0:00:01\r\u001b[K     |████████████████████▌           | 450kB 23.0MB/s eta 0:00:01\r\u001b[K     |█████████████████████           | 460kB 23.0MB/s eta 0:00:01\r\u001b[K     |█████████████████████▍          | 471kB 23.0MB/s eta 0:00:01\r\u001b[K     |██████████████████████          | 481kB 23.0MB/s eta 0:00:01\r\u001b[K     |██████████████████████▍         | 491kB 23.0MB/s eta 0:00:01\r\u001b[K     |██████████████████████▉         | 501kB 23.0MB/s eta 0:00:01\r\u001b[K     |███████████████████████▎        | 512kB 23.0MB/s eta 0:00:01\r\u001b[K     |███████████████████████▊        | 522kB 23.0MB/s eta 0:00:01\r\u001b[K     |████████████████████████▎       | 532kB 23.0MB/s eta 0:00:01\r\u001b[K     |████████████████████████▊       | 542kB 23.0MB/s eta 0:00:01\r\u001b[K     |█████████████████████████▏      | 552kB 23.0MB/s eta 0:00:01\r\u001b[K     |█████████████████████████▋      | 563kB 23.0MB/s eta 0:00:01\r\u001b[K     |██████████████████████████      | 573kB 23.0MB/s eta 0:00:01\r\u001b[K     |██████████████████████████▋     | 583kB 23.0MB/s eta 0:00:01\r\u001b[K     |███████████████████████████     | 593kB 23.0MB/s eta 0:00:01\r\u001b[K     |███████████████████████████▌    | 604kB 23.0MB/s eta 0:00:01\r\u001b[K     |████████████████████████████    | 614kB 23.0MB/s eta 0:00:01\r\u001b[K     |████████████████████████████▍   | 624kB 23.0MB/s eta 0:00:01\r\u001b[K     |████████████████████████████▉   | 634kB 23.0MB/s eta 0:00:01\r\u001b[K     |█████████████████████████████▍  | 645kB 23.0MB/s eta 0:00:01\r\u001b[K     |█████████████████████████████▉  | 655kB 23.0MB/s eta 0:00:01\r\u001b[K     |██████████████████████████████▎ | 665kB 23.0MB/s eta 0:00:01\r\u001b[K     |██████████████████████████████▊ | 675kB 23.0MB/s eta 0:00:01\r\u001b[K     |███████████████████████████████▏| 686kB 23.0MB/s eta 0:00:01\r\u001b[K     |███████████████████████████████▊| 696kB 23.0MB/s eta 0:00:01\r\u001b[K     |████████████████████████████████| 706kB 23.0MB/s \n",
            "\u001b[?25hRequirement already satisfied: typeguard>=2.7 in /usr/local/lib/python3.7/dist-packages (from tensorflow_addons) (2.7.1)\n",
            "Installing collected packages: tensorflow-addons\n",
            "Successfully installed tensorflow-addons-0.12.1\n"
          ],
          "name": "stdout"
        }
      ]
    },
    {
      "cell_type": "code",
      "metadata": {
        "colab": {
          "base_uri": "https://localhost:8080/"
        },
        "id": "JykERcAj_nKU",
        "outputId": "e402d6a7-304d-4823-dc63-6e35b68da401"
      },
      "source": [
        "!pip install neptune-client==0.9.0\n",
        "!pip install neptune-tensorflow-keras==0.9.1"
      ],
      "execution_count": null,
      "outputs": [
        {
          "output_type": "stream",
          "text": [
            "Collecting neptune-client==0.9.0\n",
            "\u001b[?25l  Downloading https://files.pythonhosted.org/packages/49/c8/45961816173b75c66edd9ea242b3fae38a56974f219a6b492e2b25f9ca7d/neptune-client-0.9.0.tar.gz (206kB)\n",
            "\u001b[K     |████████████████████████████████| 215kB 26.9MB/s \n",
            "\u001b[?25hCollecting bravado\n",
            "  Downloading https://files.pythonhosted.org/packages/21/ed/03b0c36b5bcafbe2938ed222f9a164a6c0367ce99a9d2d502e462853571d/bravado-11.0.3-py2.py3-none-any.whl\n",
            "Requirement already satisfied: click>=7.0 in /usr/local/lib/python3.7/dist-packages (from neptune-client==0.9.0) (7.1.2)\n",
            "Collecting future>=0.17.1\n",
            "\u001b[?25l  Downloading https://files.pythonhosted.org/packages/45/0b/38b06fd9b92dc2b68d58b75f900e97884c45bedd2ff83203d933cf5851c9/future-0.18.2.tar.gz (829kB)\n",
            "\u001b[K     |████████████████████████████████| 829kB 43.7MB/s \n",
            "\u001b[?25hRequirement already satisfied: oauthlib>=2.1.0 in /usr/local/lib/python3.7/dist-packages (from neptune-client==0.9.0) (3.1.0)\n",
            "Requirement already satisfied: pandas in /usr/local/lib/python3.7/dist-packages (from neptune-client==0.9.0) (1.1.5)\n",
            "Requirement already satisfied: Pillow>=1.1.6 in /usr/local/lib/python3.7/dist-packages (from neptune-client==0.9.0) (7.1.2)\n",
            "Collecting PyJWT\n",
            "  Downloading https://files.pythonhosted.org/packages/3f/32/d5d3cab27fee7f6b22d7cd7507547ae45d52e26030fa77d1f83d0526c6e5/PyJWT-2.1.0-py3-none-any.whl\n",
            "Requirement already satisfied: requests>=2.20.0 in /usr/local/lib/python3.7/dist-packages (from neptune-client==0.9.0) (2.23.0)\n",
            "Requirement already satisfied: requests-oauthlib>=1.0.0 in /usr/local/lib/python3.7/dist-packages (from neptune-client==0.9.0) (1.3.0)\n",
            "Requirement already satisfied: six>=1.12.0 in /usr/local/lib/python3.7/dist-packages (from neptune-client==0.9.0) (1.15.0)\n",
            "Collecting websocket-client>=0.35.0\n",
            "\u001b[?25l  Downloading https://files.pythonhosted.org/packages/f7/0c/d52a2a63512a613817846d430d16a8fbe5ea56dd889e89c68facf6b91cb6/websocket_client-0.59.0-py2.py3-none-any.whl (67kB)\n",
            "\u001b[K     |████████████████████████████████| 71kB 11.3MB/s \n",
            "\u001b[?25hCollecting GitPython>=2.0.8\n",
            "\u001b[?25l  Downloading https://files.pythonhosted.org/packages/a6/99/98019716955ba243657daedd1de8f3a88ca1f5b75057c38e959db22fb87b/GitPython-3.1.14-py3-none-any.whl (159kB)\n",
            "\u001b[K     |████████████████████████████████| 163kB 51.7MB/s \n",
            "\u001b[?25hRequirement already satisfied: packaging in /usr/local/lib/python3.7/dist-packages (from neptune-client==0.9.0) (20.9)\n",
            "Requirement already satisfied: urllib3 in /usr/local/lib/python3.7/dist-packages (from neptune-client==0.9.0) (1.24.3)\n",
            "Collecting monotonic\n",
            "  Downloading https://files.pythonhosted.org/packages/9a/67/7e8406a29b6c45be7af7740456f7f37025f0506ae2e05fb9009a53946860/monotonic-1.6-py2.py3-none-any.whl\n",
            "Collecting simplejson\n",
            "\u001b[?25l  Downloading https://files.pythonhosted.org/packages/a8/04/377418ac1e530ce2a196b54c6552c018fdf1fe776718053efb1f216bffcd/simplejson-3.17.2-cp37-cp37m-manylinux2010_x86_64.whl (128kB)\n",
            "\u001b[K     |████████████████████████████████| 133kB 54.1MB/s \n",
            "\u001b[?25hRequirement already satisfied: typing-extensions in /usr/local/lib/python3.7/dist-packages (from bravado->neptune-client==0.9.0) (3.7.4.3)\n",
            "Requirement already satisfied: pyyaml in /usr/local/lib/python3.7/dist-packages (from bravado->neptune-client==0.9.0) (3.13)\n",
            "Collecting bravado-core>=5.16.1\n",
            "\u001b[?25l  Downloading https://files.pythonhosted.org/packages/76/11/18e9d28a156c33f2d5f15a5e155dc7130250acb0a569255a2b6b307b596d/bravado_core-5.17.0-py2.py3-none-any.whl (67kB)\n",
            "\u001b[K     |████████████████████████████████| 71kB 11.3MB/s \n",
            "\u001b[?25hRequirement already satisfied: python-dateutil in /usr/local/lib/python3.7/dist-packages (from bravado->neptune-client==0.9.0) (2.8.1)\n",
            "Requirement already satisfied: msgpack in /usr/local/lib/python3.7/dist-packages (from bravado->neptune-client==0.9.0) (1.0.2)\n",
            "Requirement already satisfied: pytz>=2017.2 in /usr/local/lib/python3.7/dist-packages (from pandas->neptune-client==0.9.0) (2018.9)\n",
            "Requirement already satisfied: numpy>=1.15.4 in /usr/local/lib/python3.7/dist-packages (from pandas->neptune-client==0.9.0) (1.19.5)\n",
            "Requirement already satisfied: certifi>=2017.4.17 in /usr/local/lib/python3.7/dist-packages (from requests>=2.20.0->neptune-client==0.9.0) (2020.12.5)\n",
            "Requirement already satisfied: chardet<4,>=3.0.2 in /usr/local/lib/python3.7/dist-packages (from requests>=2.20.0->neptune-client==0.9.0) (3.0.4)\n",
            "Requirement already satisfied: idna<3,>=2.5 in /usr/local/lib/python3.7/dist-packages (from requests>=2.20.0->neptune-client==0.9.0) (2.10)\n",
            "Collecting gitdb<5,>=4.0.1\n",
            "\u001b[?25l  Downloading https://files.pythonhosted.org/packages/ea/e8/f414d1a4f0bbc668ed441f74f44c116d9816833a48bf81d22b697090dba8/gitdb-4.0.7-py3-none-any.whl (63kB)\n",
            "\u001b[K     |████████████████████████████████| 71kB 11.7MB/s \n",
            "\u001b[?25hRequirement already satisfied: pyparsing>=2.0.2 in /usr/local/lib/python3.7/dist-packages (from packaging->neptune-client==0.9.0) (2.4.7)\n",
            "Collecting swagger-spec-validator>=2.0.1\n",
            "  Downloading https://files.pythonhosted.org/packages/09/de/e78cefbf5838b434b63a789264b79821cb2267f1498fbed23ef8590133e4/swagger_spec_validator-2.7.3-py2.py3-none-any.whl\n",
            "Requirement already satisfied: jsonschema[format]>=2.5.1 in /usr/local/lib/python3.7/dist-packages (from bravado-core>=5.16.1->bravado->neptune-client==0.9.0) (2.6.0)\n",
            "Collecting jsonref\n",
            "  Downloading https://files.pythonhosted.org/packages/07/92/f8e4ac824b14af77e613984e480fa818397c72d4141fc466decb26752749/jsonref-0.2-py3-none-any.whl\n",
            "Collecting smmap<5,>=3.0.1\n",
            "  Downloading https://files.pythonhosted.org/packages/68/ee/d540eb5e5996eb81c26ceffac6ee49041d473bc5125f2aa995cf51ec1cf1/smmap-4.0.0-py2.py3-none-any.whl\n",
            "Collecting rfc3987; extra == \"format\"\n",
            "  Downloading https://files.pythonhosted.org/packages/65/d4/f7407c3d15d5ac779c3dd34fbbc6ea2090f77bd7dd12f207ccf881551208/rfc3987-1.3.8-py2.py3-none-any.whl\n",
            "Collecting webcolors; extra == \"format\"\n",
            "  Downloading https://files.pythonhosted.org/packages/12/05/3350559de9714b202e443a9e6312937341bd5f79f4e4f625744295e7dd17/webcolors-1.11.1-py3-none-any.whl\n",
            "Collecting strict-rfc3339; extra == \"format\"\n",
            "  Downloading https://files.pythonhosted.org/packages/56/e4/879ef1dbd6ddea1c77c0078cd59b503368b0456bcca7d063a870ca2119d3/strict-rfc3339-0.7.tar.gz\n",
            "Building wheels for collected packages: neptune-client, future, strict-rfc3339\n",
            "  Building wheel for neptune-client (setup.py) ... \u001b[?25l\u001b[?25hdone\n",
            "  Created wheel for neptune-client: filename=neptune_client-0.9.0-py2.py3-none-any.whl size=366639 sha256=6b76a29253414a122de057192f9e554aaffc1a0af5bfb7b0c6478664def2eebd\n",
            "  Stored in directory: /root/.cache/pip/wheels/3f/5f/98/005b3b33f8a2f8f233bb133bf2630e622c512041ee3227f578\n",
            "  Building wheel for future (setup.py) ... \u001b[?25l\u001b[?25hdone\n",
            "  Created wheel for future: filename=future-0.18.2-cp37-none-any.whl size=491058 sha256=8ec15da3dda584b1623ae25fbe7a44fe5803e82705379478f8c0bc40189d3c4a\n",
            "  Stored in directory: /root/.cache/pip/wheels/8b/99/a0/81daf51dcd359a9377b110a8a886b3895921802d2fc1b2397e\n",
            "  Building wheel for strict-rfc3339 (setup.py) ... \u001b[?25l\u001b[?25hdone\n",
            "  Created wheel for strict-rfc3339: filename=strict_rfc3339-0.7-cp37-none-any.whl size=18121 sha256=2fcb9649c71501b26a0f2686fd077dcc17cb1d78d15a4f4c8c64e24bc5e7db43\n",
            "  Stored in directory: /root/.cache/pip/wheels/bb/af/c9/b6e9fb5f9b2470e4ed2a7241c9ab3a8cdd3bc8555ae02ca2e6\n",
            "Successfully built neptune-client future strict-rfc3339\n",
            "Installing collected packages: monotonic, simplejson, swagger-spec-validator, jsonref, bravado-core, bravado, future, PyJWT, websocket-client, smmap, gitdb, GitPython, neptune-client, rfc3987, webcolors, strict-rfc3339\n",
            "  Found existing installation: future 0.16.0\n",
            "    Uninstalling future-0.16.0:\n",
            "      Successfully uninstalled future-0.16.0\n",
            "Successfully installed GitPython-3.1.14 PyJWT-2.1.0 bravado-11.0.3 bravado-core-5.17.0 future-0.18.2 gitdb-4.0.7 jsonref-0.2 monotonic-1.6 neptune-client-0.9.0 rfc3987-1.3.8 simplejson-3.17.2 smmap-4.0.0 strict-rfc3339-0.7 swagger-spec-validator-2.7.3 webcolors-1.11.1 websocket-client-0.59.0\n",
            "Collecting neptune-tensorflow-keras==0.9.1\n",
            "  Downloading https://files.pythonhosted.org/packages/05/df/933e00d1c5092d81e399d7becfce119fafabae2f255f071fcfd325048862/neptune-tensorflow-keras-0.9.1.tar.gz\n",
            "Requirement already satisfied: neptune-client>=0.5.1 in /usr/local/lib/python3.7/dist-packages (from neptune-tensorflow-keras==0.9.1) (0.9.0)\n",
            "Requirement already satisfied: tensorflow in /usr/local/lib/python3.7/dist-packages (from neptune-tensorflow-keras==0.9.1) (2.4.1)\n",
            "Requirement already satisfied: requests>=2.20.0 in /usr/local/lib/python3.7/dist-packages (from neptune-client>=0.5.1->neptune-tensorflow-keras==0.9.1) (2.23.0)\n",
            "Requirement already satisfied: websocket-client>=0.35.0 in /usr/local/lib/python3.7/dist-packages (from neptune-client>=0.5.1->neptune-tensorflow-keras==0.9.1) (0.59.0)\n",
            "Requirement already satisfied: pandas in /usr/local/lib/python3.7/dist-packages (from neptune-client>=0.5.1->neptune-tensorflow-keras==0.9.1) (1.1.5)\n",
            "Requirement already satisfied: PyJWT in /usr/local/lib/python3.7/dist-packages (from neptune-client>=0.5.1->neptune-tensorflow-keras==0.9.1) (2.1.0)\n",
            "Requirement already satisfied: future>=0.17.1 in /usr/local/lib/python3.7/dist-packages (from neptune-client>=0.5.1->neptune-tensorflow-keras==0.9.1) (0.18.2)\n",
            "Requirement already satisfied: six>=1.12.0 in /usr/local/lib/python3.7/dist-packages (from neptune-client>=0.5.1->neptune-tensorflow-keras==0.9.1) (1.15.0)\n",
            "Requirement already satisfied: Pillow>=1.1.6 in /usr/local/lib/python3.7/dist-packages (from neptune-client>=0.5.1->neptune-tensorflow-keras==0.9.1) (7.1.2)\n",
            "Requirement already satisfied: bravado in /usr/local/lib/python3.7/dist-packages (from neptune-client>=0.5.1->neptune-tensorflow-keras==0.9.1) (11.0.3)\n",
            "Requirement already satisfied: urllib3 in /usr/local/lib/python3.7/dist-packages (from neptune-client>=0.5.1->neptune-tensorflow-keras==0.9.1) (1.24.3)\n",
            "Requirement already satisfied: packaging in /usr/local/lib/python3.7/dist-packages (from neptune-client>=0.5.1->neptune-tensorflow-keras==0.9.1) (20.9)\n",
            "Requirement already satisfied: click>=7.0 in /usr/local/lib/python3.7/dist-packages (from neptune-client>=0.5.1->neptune-tensorflow-keras==0.9.1) (7.1.2)\n",
            "Requirement already satisfied: oauthlib>=2.1.0 in /usr/local/lib/python3.7/dist-packages (from neptune-client>=0.5.1->neptune-tensorflow-keras==0.9.1) (3.1.0)\n",
            "Requirement already satisfied: GitPython>=2.0.8 in /usr/local/lib/python3.7/dist-packages (from neptune-client>=0.5.1->neptune-tensorflow-keras==0.9.1) (3.1.14)\n",
            "Requirement already satisfied: requests-oauthlib>=1.0.0 in /usr/local/lib/python3.7/dist-packages (from neptune-client>=0.5.1->neptune-tensorflow-keras==0.9.1) (1.3.0)\n",
            "Requirement already satisfied: protobuf>=3.9.2 in /usr/local/lib/python3.7/dist-packages (from tensorflow->neptune-tensorflow-keras==0.9.1) (3.12.4)\n",
            "Requirement already satisfied: termcolor~=1.1.0 in /usr/local/lib/python3.7/dist-packages (from tensorflow->neptune-tensorflow-keras==0.9.1) (1.1.0)\n",
            "Requirement already satisfied: absl-py~=0.10 in /usr/local/lib/python3.7/dist-packages (from tensorflow->neptune-tensorflow-keras==0.9.1) (0.12.0)\n",
            "Requirement already satisfied: flatbuffers~=1.12.0 in /usr/local/lib/python3.7/dist-packages (from tensorflow->neptune-tensorflow-keras==0.9.1) (1.12)\n",
            "Requirement already satisfied: wheel~=0.35 in /usr/local/lib/python3.7/dist-packages (from tensorflow->neptune-tensorflow-keras==0.9.1) (0.36.2)\n",
            "Requirement already satisfied: numpy~=1.19.2 in /usr/local/lib/python3.7/dist-packages (from tensorflow->neptune-tensorflow-keras==0.9.1) (1.19.5)\n",
            "Requirement already satisfied: grpcio~=1.32.0 in /usr/local/lib/python3.7/dist-packages (from tensorflow->neptune-tensorflow-keras==0.9.1) (1.32.0)\n",
            "Requirement already satisfied: keras-preprocessing~=1.1.2 in /usr/local/lib/python3.7/dist-packages (from tensorflow->neptune-tensorflow-keras==0.9.1) (1.1.2)\n",
            "Requirement already satisfied: h5py~=2.10.0 in /usr/local/lib/python3.7/dist-packages (from tensorflow->neptune-tensorflow-keras==0.9.1) (2.10.0)\n",
            "Requirement already satisfied: tensorflow-estimator<2.5.0,>=2.4.0 in /usr/local/lib/python3.7/dist-packages (from tensorflow->neptune-tensorflow-keras==0.9.1) (2.4.0)\n",
            "Requirement already satisfied: typing-extensions~=3.7.4 in /usr/local/lib/python3.7/dist-packages (from tensorflow->neptune-tensorflow-keras==0.9.1) (3.7.4.3)\n",
            "Requirement already satisfied: astunparse~=1.6.3 in /usr/local/lib/python3.7/dist-packages (from tensorflow->neptune-tensorflow-keras==0.9.1) (1.6.3)\n",
            "Requirement already satisfied: wrapt~=1.12.1 in /usr/local/lib/python3.7/dist-packages (from tensorflow->neptune-tensorflow-keras==0.9.1) (1.12.1)\n",
            "Requirement already satisfied: gast==0.3.3 in /usr/local/lib/python3.7/dist-packages (from tensorflow->neptune-tensorflow-keras==0.9.1) (0.3.3)\n",
            "Requirement already satisfied: opt-einsum~=3.3.0 in /usr/local/lib/python3.7/dist-packages (from tensorflow->neptune-tensorflow-keras==0.9.1) (3.3.0)\n",
            "Requirement already satisfied: google-pasta~=0.2 in /usr/local/lib/python3.7/dist-packages (from tensorflow->neptune-tensorflow-keras==0.9.1) (0.2.0)\n",
            "Requirement already satisfied: tensorboard~=2.4 in /usr/local/lib/python3.7/dist-packages (from tensorflow->neptune-tensorflow-keras==0.9.1) (2.4.1)\n",
            "Requirement already satisfied: chardet<4,>=3.0.2 in /usr/local/lib/python3.7/dist-packages (from requests>=2.20.0->neptune-client>=0.5.1->neptune-tensorflow-keras==0.9.1) (3.0.4)\n",
            "Requirement already satisfied: certifi>=2017.4.17 in /usr/local/lib/python3.7/dist-packages (from requests>=2.20.0->neptune-client>=0.5.1->neptune-tensorflow-keras==0.9.1) (2020.12.5)\n",
            "Requirement already satisfied: idna<3,>=2.5 in /usr/local/lib/python3.7/dist-packages (from requests>=2.20.0->neptune-client>=0.5.1->neptune-tensorflow-keras==0.9.1) (2.10)\n",
            "Requirement already satisfied: python-dateutil>=2.7.3 in /usr/local/lib/python3.7/dist-packages (from pandas->neptune-client>=0.5.1->neptune-tensorflow-keras==0.9.1) (2.8.1)\n",
            "Requirement already satisfied: pytz>=2017.2 in /usr/local/lib/python3.7/dist-packages (from pandas->neptune-client>=0.5.1->neptune-tensorflow-keras==0.9.1) (2018.9)\n",
            "Requirement already satisfied: monotonic in /usr/local/lib/python3.7/dist-packages (from bravado->neptune-client>=0.5.1->neptune-tensorflow-keras==0.9.1) (1.6)\n",
            "Requirement already satisfied: simplejson in /usr/local/lib/python3.7/dist-packages (from bravado->neptune-client>=0.5.1->neptune-tensorflow-keras==0.9.1) (3.17.2)\n",
            "Requirement already satisfied: pyyaml in /usr/local/lib/python3.7/dist-packages (from bravado->neptune-client>=0.5.1->neptune-tensorflow-keras==0.9.1) (3.13)\n",
            "Requirement already satisfied: msgpack in /usr/local/lib/python3.7/dist-packages (from bravado->neptune-client>=0.5.1->neptune-tensorflow-keras==0.9.1) (1.0.2)\n",
            "Requirement already satisfied: bravado-core>=5.16.1 in /usr/local/lib/python3.7/dist-packages (from bravado->neptune-client>=0.5.1->neptune-tensorflow-keras==0.9.1) (5.17.0)\n",
            "Requirement already satisfied: pyparsing>=2.0.2 in /usr/local/lib/python3.7/dist-packages (from packaging->neptune-client>=0.5.1->neptune-tensorflow-keras==0.9.1) (2.4.7)\n",
            "Requirement already satisfied: gitdb<5,>=4.0.1 in /usr/local/lib/python3.7/dist-packages (from GitPython>=2.0.8->neptune-client>=0.5.1->neptune-tensorflow-keras==0.9.1) (4.0.7)\n",
            "Requirement already satisfied: setuptools in /usr/local/lib/python3.7/dist-packages (from protobuf>=3.9.2->tensorflow->neptune-tensorflow-keras==0.9.1) (56.1.0)\n",
            "Requirement already satisfied: werkzeug>=0.11.15 in /usr/local/lib/python3.7/dist-packages (from tensorboard~=2.4->tensorflow->neptune-tensorflow-keras==0.9.1) (1.0.1)\n",
            "Requirement already satisfied: google-auth<2,>=1.6.3 in /usr/local/lib/python3.7/dist-packages (from tensorboard~=2.4->tensorflow->neptune-tensorflow-keras==0.9.1) (1.28.1)\n",
            "Requirement already satisfied: markdown>=2.6.8 in /usr/local/lib/python3.7/dist-packages (from tensorboard~=2.4->tensorflow->neptune-tensorflow-keras==0.9.1) (3.3.4)\n",
            "Requirement already satisfied: google-auth-oauthlib<0.5,>=0.4.1 in /usr/local/lib/python3.7/dist-packages (from tensorboard~=2.4->tensorflow->neptune-tensorflow-keras==0.9.1) (0.4.4)\n",
            "Requirement already satisfied: tensorboard-plugin-wit>=1.6.0 in /usr/local/lib/python3.7/dist-packages (from tensorboard~=2.4->tensorflow->neptune-tensorflow-keras==0.9.1) (1.8.0)\n",
            "Requirement already satisfied: jsonschema[format]>=2.5.1 in /usr/local/lib/python3.7/dist-packages (from bravado-core>=5.16.1->bravado->neptune-client>=0.5.1->neptune-tensorflow-keras==0.9.1) (2.6.0)\n",
            "Requirement already satisfied: jsonref in /usr/local/lib/python3.7/dist-packages (from bravado-core>=5.16.1->bravado->neptune-client>=0.5.1->neptune-tensorflow-keras==0.9.1) (0.2)\n",
            "Requirement already satisfied: swagger-spec-validator>=2.0.1 in /usr/local/lib/python3.7/dist-packages (from bravado-core>=5.16.1->bravado->neptune-client>=0.5.1->neptune-tensorflow-keras==0.9.1) (2.7.3)\n",
            "Requirement already satisfied: smmap<5,>=3.0.1 in /usr/local/lib/python3.7/dist-packages (from gitdb<5,>=4.0.1->GitPython>=2.0.8->neptune-client>=0.5.1->neptune-tensorflow-keras==0.9.1) (4.0.0)\n",
            "Requirement already satisfied: pyasn1-modules>=0.2.1 in /usr/local/lib/python3.7/dist-packages (from google-auth<2,>=1.6.3->tensorboard~=2.4->tensorflow->neptune-tensorflow-keras==0.9.1) (0.2.8)\n",
            "Requirement already satisfied: cachetools<5.0,>=2.0.0 in /usr/local/lib/python3.7/dist-packages (from google-auth<2,>=1.6.3->tensorboard~=2.4->tensorflow->neptune-tensorflow-keras==0.9.1) (4.2.1)\n",
            "Requirement already satisfied: rsa<5,>=3.1.4; python_version >= \"3.6\" in /usr/local/lib/python3.7/dist-packages (from google-auth<2,>=1.6.3->tensorboard~=2.4->tensorflow->neptune-tensorflow-keras==0.9.1) (4.7.2)\n",
            "Requirement already satisfied: importlib-metadata; python_version < \"3.8\" in /usr/local/lib/python3.7/dist-packages (from markdown>=2.6.8->tensorboard~=2.4->tensorflow->neptune-tensorflow-keras==0.9.1) (3.10.1)\n",
            "Requirement already satisfied: strict-rfc3339; extra == \"format\" in /usr/local/lib/python3.7/dist-packages (from jsonschema[format]>=2.5.1->bravado-core>=5.16.1->bravado->neptune-client>=0.5.1->neptune-tensorflow-keras==0.9.1) (0.7)\n",
            "Requirement already satisfied: webcolors; extra == \"format\" in /usr/local/lib/python3.7/dist-packages (from jsonschema[format]>=2.5.1->bravado-core>=5.16.1->bravado->neptune-client>=0.5.1->neptune-tensorflow-keras==0.9.1) (1.11.1)\n",
            "Requirement already satisfied: rfc3987; extra == \"format\" in /usr/local/lib/python3.7/dist-packages (from jsonschema[format]>=2.5.1->bravado-core>=5.16.1->bravado->neptune-client>=0.5.1->neptune-tensorflow-keras==0.9.1) (1.3.8)\n",
            "Requirement already satisfied: pyasn1<0.5.0,>=0.4.6 in /usr/local/lib/python3.7/dist-packages (from pyasn1-modules>=0.2.1->google-auth<2,>=1.6.3->tensorboard~=2.4->tensorflow->neptune-tensorflow-keras==0.9.1) (0.4.8)\n",
            "Requirement already satisfied: zipp>=0.5 in /usr/local/lib/python3.7/dist-packages (from importlib-metadata; python_version < \"3.8\"->markdown>=2.6.8->tensorboard~=2.4->tensorflow->neptune-tensorflow-keras==0.9.1) (3.4.1)\n",
            "Building wheels for collected packages: neptune-tensorflow-keras\n",
            "  Building wheel for neptune-tensorflow-keras (setup.py) ... \u001b[?25l\u001b[?25hdone\n",
            "  Created wheel for neptune-tensorflow-keras: filename=neptune_tensorflow_keras-0.9.1-cp37-none-any.whl size=9270 sha256=f65c875078689a4b61bd23bbc9fee9a3e23198b08b775d8c1b013cce2ceed240\n",
            "  Stored in directory: /root/.cache/pip/wheels/9c/02/15/b441a43f5c53d0d66baf16cb2c94ead4890c4f8e62d3b22193\n",
            "Successfully built neptune-tensorflow-keras\n",
            "Installing collected packages: neptune-tensorflow-keras\n",
            "Successfully installed neptune-tensorflow-keras-0.9.1\n"
          ],
          "name": "stdout"
        }
      ]
    },
    {
      "cell_type": "code",
      "metadata": {
        "colab": {
          "base_uri": "https://localhost:8080/"
        },
        "id": "rWcngegk__Q7",
        "outputId": "d1f8ca88-dbae-43fa-e576-b2f4e92f0f47"
      },
      "source": [
        "import neptune.new as neptune\n",
        "\n",
        "run = neptune.init(project='', api_token='')"
      ],
      "execution_count": null,
      "outputs": [
        {
          "output_type": "stream",
          "text": [
            "WARNING: There is a new version of neptune-client 0.9.1 (installed: 0.9.0).\n"
          ],
          "name": "stderr"
        },
        {
          "output_type": "stream",
          "text": [
            "https://app.neptune.ai/despdair/Subtask-2/e/SUB2-100\n"
          ],
          "name": "stdout"
        }
      ]
    },
    {
      "cell_type": "code",
      "metadata": {
        "id": "5ZXL94hj__l2"
      },
      "source": [
        "from neptune.new.integrations.tensorflow_keras import NeptuneCallback\n",
        "\n",
        "neptune_cbk = NeptuneCallback(run=run, base_namespace='metrics')"
      ],
      "execution_count": null,
      "outputs": []
    },
    {
      "cell_type": "code",
      "metadata": {
        "id": "uFPEFCJ_GJFf"
      },
      "source": [
        "import pandas as pd\n",
        "import matplotlib.pyplot as plt\n",
        "import tensorflow as tf\n",
        "import numpy as np\n",
        "import tensorflow_addons as tfa\n",
        "import gensim.downloader as api\n",
        "import tensorflow_hub as hub"
      ],
      "execution_count": null,
      "outputs": []
    },
    {
      "cell_type": "code",
      "metadata": {
        "colab": {
          "base_uri": "https://localhost:8080/"
        },
        "id": "4olZwoHlYpCJ",
        "outputId": "975cc795-7651-472e-e179-69c87809c2e1"
      },
      "source": [
        "from google.colab import drive\n",
        "drive.mount('/content/drive')"
      ],
      "execution_count": null,
      "outputs": [
        {
          "output_type": "stream",
          "text": [
            "Mounted at /content/drive\n"
          ],
          "name": "stdout"
        }
      ]
    },
    {
      "cell_type": "code",
      "metadata": {
        "colab": {
          "base_uri": "https://localhost:8080/",
          "height": 204
        },
        "id": "tpA49CZlGXyN",
        "outputId": "8c8dd5ab-c2f8-4a12-be65-b208931b1c65"
      },
      "source": [
        "trainDfEng = pd.read_json(\"./en-train.json\", lines = True)\n",
        "trainDfEng.head()"
      ],
      "execution_count": null,
      "outputs": [
        {
          "output_type": "execute_result",
          "data": {
            "text/html": [
              "<div>\n",
              "<style scoped>\n",
              "    .dataframe tbody tr th:only-of-type {\n",
              "        vertical-align: middle;\n",
              "    }\n",
              "\n",
              "    .dataframe tbody tr th {\n",
              "        vertical-align: top;\n",
              "    }\n",
              "\n",
              "    .dataframe thead th {\n",
              "        text-align: right;\n",
              "    }\n",
              "</style>\n",
              "<table border=\"1\" class=\"dataframe\">\n",
              "  <thead>\n",
              "    <tr style=\"text-align: right;\">\n",
              "      <th></th>\n",
              "      <th>id</th>\n",
              "      <th>label</th>\n",
              "      <th>sentence</th>\n",
              "    </tr>\n",
              "  </thead>\n",
              "  <tbody>\n",
              "    <tr>\n",
              "      <th>0</th>\n",
              "      <td>66133</td>\n",
              "      <td>0</td>\n",
              "      <td>He had also made headlines for kidnapping his ...</td>\n",
              "    </tr>\n",
              "    <tr>\n",
              "      <th>1</th>\n",
              "      <td>62058</td>\n",
              "      <td>0</td>\n",
              "      <td>___\\n8:15 p.m.</td>\n",
              "    </tr>\n",
              "    <tr>\n",
              "      <th>2</th>\n",
              "      <td>66742</td>\n",
              "      <td>0</td>\n",
              "      <td>Usually, it takes eight to nine months.</td>\n",
              "    </tr>\n",
              "    <tr>\n",
              "      <th>3</th>\n",
              "      <td>71549</td>\n",
              "      <td>0</td>\n",
              "      <td>Terming the situation pathetic, Jairam said he...</td>\n",
              "    </tr>\n",
              "    <tr>\n",
              "      <th>4</th>\n",
              "      <td>83223</td>\n",
              "      <td>0</td>\n",
              "      <td>'The freedom of the press depends on the right...</td>\n",
              "    </tr>\n",
              "  </tbody>\n",
              "</table>\n",
              "</div>"
            ],
            "text/plain": [
              "      id  label                                           sentence\n",
              "0  66133      0  He had also made headlines for kidnapping his ...\n",
              "1  62058      0                                     ___\\n8:15 p.m.\n",
              "2  66742      0            Usually, it takes eight to nine months.\n",
              "3  71549      0  Terming the situation pathetic, Jairam said he...\n",
              "4  83223      0  'The freedom of the press depends on the right..."
            ]
          },
          "metadata": {
            "tags": []
          },
          "execution_count": 7
        }
      ]
    },
    {
      "cell_type": "code",
      "metadata": {
        "id": "uk5jUVpZioKM",
        "colab": {
          "base_uri": "https://localhost:8080/",
          "height": 204
        },
        "outputId": "ad8f5024-145a-466b-f788-e79c4622049d"
      },
      "source": [
        "testDf = pd.read_json(\"./test.json\", lines = True)\n",
        "testDf.head()"
      ],
      "execution_count": null,
      "outputs": [
        {
          "output_type": "execute_result",
          "data": {
            "text/html": [
              "<div>\n",
              "<style scoped>\n",
              "    .dataframe tbody tr th:only-of-type {\n",
              "        vertical-align: middle;\n",
              "    }\n",
              "\n",
              "    .dataframe tbody tr th {\n",
              "        vertical-align: top;\n",
              "    }\n",
              "\n",
              "    .dataframe thead th {\n",
              "        text-align: right;\n",
              "    }\n",
              "</style>\n",
              "<table border=\"1\" class=\"dataframe\">\n",
              "  <thead>\n",
              "    <tr style=\"text-align: right;\">\n",
              "      <th></th>\n",
              "      <th>id</th>\n",
              "      <th>sentence</th>\n",
              "    </tr>\n",
              "  </thead>\n",
              "  <tbody>\n",
              "    <tr>\n",
              "      <th>0</th>\n",
              "      <td>64573</td>\n",
              "      <td>A child ran around in a T-shirt that read: New...</td>\n",
              "    </tr>\n",
              "    <tr>\n",
              "      <th>1</th>\n",
              "      <td>81433</td>\n",
              "      <td>\"BJP is not confident of winning Assembly elec...</td>\n",
              "    </tr>\n",
              "    <tr>\n",
              "      <th>2</th>\n",
              "      <td>74797</td>\n",
              "      <td>Sources agreed that there was a backlog in thi...</td>\n",
              "    </tr>\n",
              "    <tr>\n",
              "      <th>3</th>\n",
              "      <td>75687</td>\n",
              "      <td>As Step II , the Congress appears to have emba...</td>\n",
              "    </tr>\n",
              "    <tr>\n",
              "      <th>4</th>\n",
              "      <td>81126</td>\n",
              "      <td>How Chinese goods became a victim of Pakistani...</td>\n",
              "    </tr>\n",
              "  </tbody>\n",
              "</table>\n",
              "</div>"
            ],
            "text/plain": [
              "      id                                           sentence\n",
              "0  64573  A child ran around in a T-shirt that read: New...\n",
              "1  81433  \"BJP is not confident of winning Assembly elec...\n",
              "2  74797  Sources agreed that there was a backlog in thi...\n",
              "3  75687  As Step II , the Congress appears to have emba...\n",
              "4  81126  How Chinese goods became a victim of Pakistani..."
            ]
          },
          "metadata": {
            "tags": []
          },
          "execution_count": 8
        }
      ]
    },
    {
      "cell_type": "code",
      "metadata": {
        "id": "YrlCjMFRDdhN"
      },
      "source": [
        "trainDfEng.drop_duplicates(subset= \"sentence\",inplace= True)"
      ],
      "execution_count": null,
      "outputs": []
    },
    {
      "cell_type": "code",
      "metadata": {
        "colab": {
          "base_uri": "https://localhost:8080/",
          "height": 333
        },
        "id": "hwrODgbmHFmm",
        "outputId": "79d2170e-cecf-4569-cb28-7a4cace41465"
      },
      "source": [
        "plt.hist(trainDfEng[\"label\"])"
      ],
      "execution_count": null,
      "outputs": [
        {
          "output_type": "execute_result",
          "data": {
            "text/plain": [
              "(array([18372.,     0.,     0.,     0.,     0.,     0.,     0.,     0.,\n",
              "            0.,  4210.]),\n",
              " array([0. , 0.1, 0.2, 0.3, 0.4, 0.5, 0.6, 0.7, 0.8, 0.9, 1. ]),\n",
              " <a list of 10 Patch objects>)"
            ]
          },
          "metadata": {
            "tags": []
          },
          "execution_count": 10
        },
        {
          "output_type": "display_data",
          "data": {
            "image/png": "[encoded data removed]",
            "text/plain": [
              "<Figure size 432x288 with 1 Axes>"
            ]
          },
          "metadata": {
            "tags": [],
            "needs_background": "light"
          }
        }
      ]
    },
    {
      "cell_type": "markdown",
      "metadata": {
        "id": "gq6JsIa7Znv0"
      },
      "source": [
        "# Preprocessing"
      ]
    },
    {
      "cell_type": "code",
      "metadata": {
        "colab": {
          "base_uri": "https://localhost:8080/"
        },
        "id": "ECg6Xdp4HJMk",
        "outputId": "b044e9b7-7919-4e20-9c89-97b40bb6553d"
      },
      "source": [
        "import nltk\n",
        "import re\n",
        "from nltk.corpus import stopwords\n",
        "from nltk import word_tokenize\n",
        "\n",
        "nltk.download(\"stopwords\")\n",
        "nltk.download(\"punkt\")\n",
        "nltk.download(\"wordnet\")\n",
        "\n",
        "stop_words = set(stopwords.words('english'))\n",
        "lemmatizer = nltk.stem.wordnet.WordNetLemmatizer()\n",
        "\n",
        "def clean(text, stem = False):\n",
        "    # Lowering letters\n",
        "    text = text.lower()\n",
        "    # Removing html tags\n",
        "    text = re.sub('<[^>]*>', '', text)\n",
        "    # Removing emails\n",
        "    text = re.sub('\\S*@\\S*\\s?', '', text)\n",
        "    # Removing urls\n",
        "    text = re.sub('https?://[A-Za-z0-9]','',text)\n",
        "    # Removing numbers\n",
        "    text = re.sub('[^a-zA-Z\"]',' ',text)\n",
        "    word_tokens = word_tokenize(text)    \n",
        "    filtered_sentence = []\n",
        "    for word_token in word_tokens:\n",
        "      if stem:\n",
        "        word_token = lemmatizer.lemmatize(word_token, \"v\")\n",
        "        \n",
        "      filtered_sentence.append(word_token)\n",
        "    \n",
        "    # Joining words\n",
        "    text = (' '.join(filtered_sentence))\n",
        "    return text"
      ],
      "execution_count": null,
      "outputs": [
        {
          "output_type": "stream",
          "text": [
            "[nltk_data] Downloading package stopwords to /root/nltk_data...\n",
            "[nltk_data]   Unzipping corpora/stopwords.zip.\n",
            "[nltk_data] Downloading package punkt to /root/nltk_data...\n",
            "[nltk_data]   Unzipping tokenizers/punkt.zip.\n",
            "[nltk_data] Downloading package wordnet to /root/nltk_data...\n",
            "[nltk_data]   Unzipping corpora/wordnet.zip.\n"
          ],
          "name": "stdout"
        }
      ]
    },
    {
      "cell_type": "code",
      "metadata": {
        "colab": {
          "base_uri": "https://localhost:8080/"
        },
        "id": "ZO0qxYHaHSj_",
        "outputId": "cc8f72d8-ff71-4994-8412-4f38b8852fdc"
      },
      "source": [
        "all_cleaned_texts = np.array([clean(text) for text in trainDfEng[\"sentence\"]])\n",
        "\n",
        "tokenizer = tf.keras.preprocessing.text.Tokenizer()\n",
        "tokenizer.fit_on_texts(all_cleaned_texts)\n",
        "\n",
        "all_encoded_texts = tokenizer.texts_to_sequences(all_cleaned_texts)\n",
        "all_encoded_texts = np.array(all_encoded_texts)\n",
        "\n",
        "maxlen = max([len(sent) for sent in all_encoded_texts])\n",
        "all_encoded_texts = tf.keras.preprocessing.sequence.pad_sequences(all_encoded_texts, maxlen= maxlen)"
      ],
      "execution_count": null,
      "outputs": [
        {
          "output_type": "stream",
          "text": [
            "/usr/local/lib/python3.7/dist-packages/ipykernel_launcher.py:7: VisibleDeprecationWarning: Creating an ndarray from ragged nested sequences (which is a list-or-tuple of lists-or-tuples-or ndarrays with different lengths or shapes) is deprecated. If you meant to do this, you must specify 'dtype=object' when creating the ndarray\n",
            "  import sys\n"
          ],
          "name": "stderr"
        }
      ]
    },
    {
      "cell_type": "code",
      "metadata": {
        "colab": {
          "base_uri": "https://localhost:8080/"
        },
        "id": "m4XD9WjOGZrY",
        "outputId": "ee5768c9-d129-457e-b0fb-bc92c11f90e5"
      },
      "source": [
        "!wget http://nlp.stanford.edu/data/glove.6B.zip\n",
        "!unzip -q glove.6B.zip"
      ],
      "execution_count": null,
      "outputs": [
        {
          "output_type": "stream",
          "text": [
            "--2021-05-11 16:30:34--  http://nlp.stanford.edu/data/glove.6B.zip\n",
            "Resolving nlp.stanford.edu (nlp.stanford.edu)... 171.64.67.140\n",
            "Connecting to nlp.stanford.edu (nlp.stanford.edu)|171.64.67.140|:80... connected.\n",
            "HTTP request sent, awaiting response... 302 Found\n",
            "Location: https://nlp.stanford.edu/data/glove.6B.zip [following]\n",
            "--2021-05-11 16:30:34--  https://nlp.stanford.edu/data/glove.6B.zip\n",
            "Connecting to nlp.stanford.edu (nlp.stanford.edu)|171.64.67.140|:443... connected.\n",
            "HTTP request sent, awaiting response... 301 Moved Permanently\n",
            "Location: http://downloads.cs.stanford.edu/nlp/data/glove.6B.zip [following]\n",
            "--2021-05-11 16:30:34--  http://downloads.cs.stanford.edu/nlp/data/glove.6B.zip\n",
            "Resolving downloads.cs.stanford.edu (downloads.cs.stanford.edu)... 171.64.64.22\n",
            "Connecting to downloads.cs.stanford.edu (downloads.cs.stanford.edu)|171.64.64.22|:80... connected.\n",
            "HTTP request sent, awaiting response... 200 OK\n",
            "Length: 862182613 (822M) [application/zip]\n",
            "Saving to: ‘glove.6B.zip’\n",
            "\n",
            "glove.6B.zip        100%[===================>] 822.24M  4.01MB/s    in 3m 5s   \n",
            "\n",
            "2021-05-11 16:33:40 (4.45 MB/s) - ‘glove.6B.zip’ saved [862182613/862182613]\n",
            "\n"
          ],
          "name": "stdout"
        }
      ]
    },
    {
      "cell_type": "code",
      "metadata": {
        "id": "M-u3xHHRHmQ8",
        "colab": {
          "base_uri": "https://localhost:8080/"
        },
        "outputId": "6360f471-35c7-49ae-a553-aecf72731873"
      },
      "source": [
        "def getEmbedding(mode = \"GN300\"):\n",
        "  import multiprocessing\n",
        "  import gensim\n",
        "  import gensim.downloader as api\n",
        "  import os\n",
        "\n",
        "  if mode == \"customTrained\":\n",
        "    modelW2V = gensim.models.Word2Vec(all_cleaned_texts, size= 300, min_count = 2, window = 5, sg=0, iter = 10, workers= multiprocessing.cpu_count() - 1)\n",
        "  elif mode == \"GN300\":\n",
        "    word2vec = api.load(\"word2vec-google-news-300\")\n",
        "  elif mode == \"glove\":\n",
        "    path_to_glove_file = os.path.join(\n",
        "        \"./glove.6B.300d.txt\"\n",
        "    )\n",
        "\n",
        "    word2vec = {}\n",
        "    with open(path_to_glove_file) as f:\n",
        "        for line in f:\n",
        "            word, coefs = line.split(maxsplit=1)\n",
        "            coefs = np.fromstring(coefs, \"f\", sep=\" \")\n",
        "            word2vec[word] = coefs\n",
        "\n",
        "    print(\"Found %s word vectors.\" % len(word2vec))\n",
        "  else:\n",
        "    word2vec = hub.load(\"https://tfhub.dev/google/nnlm-en-dim128/2\")\n",
        "\n",
        "  num_words = len(list(tokenizer.word_index))\n",
        "\n",
        "  embedding_matrix = np.random.uniform(-1, 1, (num_words + 1, 300))\n",
        "  for word, i in tokenizer.word_index.items():\n",
        "      if i < num_words:\n",
        "        try:\n",
        "          embedding_vector = word2vec.get_vector(word)\n",
        "          if embedding_vector is not None:\n",
        "            embedding_matrix[i] = embedding_vector\n",
        "          else:\n",
        "            embedding_matrix[i] = np.zeros((300,))\n",
        "        except:\n",
        "          pass\n",
        "\n",
        "  embedding_matrix[num_words] = np.zeros((300,))\n",
        "  return embedding_matrix\n",
        "\n",
        "EMBED_MODE = \"glove\"\n",
        "\n",
        "embedding_matrix = getEmbedding(EMBED_MODE)"
      ],
      "execution_count": null,
      "outputs": [
        {
          "output_type": "stream",
          "text": [
            "Found 400000 word vectors.\n"
          ],
          "name": "stdout"
        }
      ]
    },
    {
      "cell_type": "code",
      "metadata": {
        "id": "Sxmk-bmlHofo"
      },
      "source": [
        "from sklearn.model_selection import train_test_split\n",
        "\n",
        "X_train, X_valid, y_train, y_valid = train_test_split(all_encoded_texts, trainDfEng[\"label\"], test_size=0.2, random_state=42)\n",
        "# X_train = all_encoded_texts\n",
        "# y_train = trainDfEng[\"label\"]"
      ],
      "execution_count": null,
      "outputs": []
    },
    {
      "cell_type": "code",
      "metadata": {
        "id": "GdGZabFCisxG",
        "colab": {
          "base_uri": "https://localhost:8080/"
        },
        "outputId": "5b621d2c-60c2-40c3-f8c2-c99a67714168"
      },
      "source": [
        "all_cleaned_texts = np.array([clean(text) for text in testDf[\"sentence\"]])\n",
        "\n",
        "# tokenizer = tf.keras.preprocessing.text.Tokenizer()\n",
        "# tokenizer.fit_on_texts(all_cleaned_texts)\n",
        "\n",
        "all_encoded_texts = tokenizer.texts_to_sequences(all_cleaned_texts)\n",
        "all_encoded_texts = np.array(all_encoded_texts)\n",
        "\n",
        "# maxlen = max([len(sent) for sent in all_encoded_texts])\n",
        "all_encoded_texts = tf.keras.preprocessing.sequence.pad_sequences(all_encoded_texts, maxlen= maxlen)"
      ],
      "execution_count": null,
      "outputs": [
        {
          "output_type": "stream",
          "text": [
            "/usr/local/lib/python3.7/dist-packages/ipykernel_launcher.py:7: VisibleDeprecationWarning: Creating an ndarray from ragged nested sequences (which is a list-or-tuple of lists-or-tuples-or ndarrays with different lengths or shapes) is deprecated. If you meant to do this, you must specify 'dtype=object' when creating the ndarray\n",
            "  import sys\n"
          ],
          "name": "stderr"
        }
      ]
    },
    {
      "cell_type": "code",
      "metadata": {
        "id": "NeTK8pA-jGbq"
      },
      "source": [
        "X_test = all_encoded_texts"
      ],
      "execution_count": null,
      "outputs": []
    },
    {
      "cell_type": "markdown",
      "metadata": {
        "id": "q3aHG4wtZl_l"
      },
      "source": [
        "# Model"
      ]
    },
    {
      "cell_type": "code",
      "metadata": {
        "id": "PWpnHC9maipc"
      },
      "source": [
        "DROPOUT = 0.5\n",
        "SEQ_DROPOUT = 0"
      ],
      "execution_count": null,
      "outputs": []
    },
    {
      "cell_type": "code",
      "metadata": {
        "id": "7yBJyHLhHu12"
      },
      "source": [
        "model = tf.keras.models.Sequential([\n",
        "                                    tf.keras.layers.Embedding(input_dim= embedding_matrix.shape[0],\n",
        "                                                              output_dim= embedding_matrix.shape[1],\n",
        "                                                              weights = [embedding_matrix],\n",
        "                                                              input_length= maxlen,\n",
        "                                                             trainable = True),\n",
        "                                    tf.keras.layers.Bidirectional(tf.keras.layers.LSTM(maxlen, dropout= DROPOUT, recurrent_dropout = SEQ_DROPOUT)),\n",
        "                                    tf.keras.layers.Dropout(0.5),\n",
        "                                    tf.keras.layers.Dense(16, activation='relu'),\n",
        "                                    tf.keras.layers.Dropout(0.5),\n",
        "                                    tf.keras.layers.Dense(1, activation='sigmoid')\n",
        "                                    ]\n",
        ")"
      ],
      "execution_count": null,
      "outputs": []
    },
    {
      "cell_type": "code",
      "metadata": {
        "id": "ZwSMz4OxHxEv"
      },
      "source": [
        "model.compile(loss='binary_crossentropy', \n",
        "              optimizer=tf.keras.optimizers.Adam(), \n",
        "              metrics=['accuracy', \"AUC\"])"
      ],
      "execution_count": null,
      "outputs": []
    },
    {
      "cell_type": "code",
      "metadata": {
        "id": "X_qDwr7JaYgb"
      },
      "source": [
        "run[\"model_name\"] = \"LSTM\"\n",
        "run[\"hyper-parameters\"] = {\"train_embed\": True, \"embedding\": embedMode, \"dropout\": DROPOUT, \"sequantial_dropout\": SEQ_DROPOUT, \"batch_size\": 16, \"weights\": 1}"
      ],
      "execution_count": null,
      "outputs": []
    },
    {
      "cell_type": "code",
      "metadata": {
        "colab": {
          "base_uri": "https://localhost:8080/"
        },
        "id": "MggQiiXvIHFL",
        "outputId": "15db2e51-ae9a-4d60-e287-d99148a46797"
      },
      "source": [
        "model.fit(X_train, y_train, validation_data= (X_valid, y_valid), batch_size= 16, epochs= 100, callbacks= [\n",
        "    tf.keras.callbacks.EarlyStopping(patience= 3, verbose = 1, monitor = \"val_auc\", mode= \"max\"), \n",
        "    tf.keras.callbacks.ModelCheckpoint(monitor = \"val_loss\", filepath = \"./model\", save_best_only = True, save_weights_only = True),\n",
        "    neptune_cbk\n",
        "])"
      ],
      "execution_count": null,
      "outputs": [
        {
          "output_type": "stream",
          "text": [
            "Epoch 1/100\n",
            "1130/1130 [==============================] - 130s 113ms/step - loss: 0.4719 - accuracy: 0.8136 - auc: 0.6500 - val_loss: 0.3270 - val_accuracy: 0.8738 - val_auc: 0.8616\n",
            "Epoch 2/100\n",
            "1130/1130 [==============================] - 126s 111ms/step - loss: 0.3170 - accuracy: 0.8715 - auc: 0.8830 - val_loss: 0.3097 - val_accuracy: 0.8906 - val_auc: 0.8975\n",
            "Epoch 3/100\n",
            "1130/1130 [==============================] - 125s 111ms/step - loss: 0.2542 - accuracy: 0.8951 - auc: 0.9304 - val_loss: 0.2871 - val_accuracy: 0.8955 - val_auc: 0.9105\n",
            "Epoch 4/100\n",
            "1130/1130 [==============================] - 125s 111ms/step - loss: 0.2104 - accuracy: 0.9068 - auc: 0.9540 - val_loss: 0.2733 - val_accuracy: 0.8957 - val_auc: 0.9175\n",
            "Epoch 5/100\n",
            "1130/1130 [==============================] - 126s 111ms/step - loss: 0.1733 - accuracy: 0.9312 - auc: 0.9699 - val_loss: 0.4400 - val_accuracy: 0.8889 - val_auc: 0.8858\n",
            "Epoch 6/100\n",
            "1130/1130 [==============================] - 125s 111ms/step - loss: 0.1355 - accuracy: 0.9491 - auc: 0.9801 - val_loss: 0.3392 - val_accuracy: 0.8920 - val_auc: 0.9032\n",
            "Epoch 7/100\n",
            "1130/1130 [==============================] - 125s 111ms/step - loss: 0.1186 - accuracy: 0.9533 - auc: 0.9851 - val_loss: 0.4836 - val_accuracy: 0.8891 - val_auc: 0.8804\n",
            "Epoch 00007: early stopping\n"
          ],
          "name": "stdout"
        },
        {
          "output_type": "execute_result",
          "data": {
            "text/plain": [
              "<tensorflow.python.keras.callbacks.History at 0x7fecc5dce650>"
            ]
          },
          "metadata": {
            "tags": []
          },
          "execution_count": 49
        }
      ]
    },
    {
      "cell_type": "code",
      "metadata": {
        "colab": {
          "base_uri": "https://localhost:8080/"
        },
        "id": "F138JBIcI79l",
        "outputId": "02422296-0ac9-4e75-a34d-eda3587c3664"
      },
      "source": [
        "model.load_weights(\"./model\")"
      ],
      "execution_count": null,
      "outputs": [
        {
          "output_type": "execute_result",
          "data": {
            "text/plain": [
              "<tensorflow.python.training.tracking.util.CheckpointLoadStatus at 0x7fec971eee50>"
            ]
          },
          "metadata": {
            "tags": []
          },
          "execution_count": 50
        }
      ]
    },
    {
      "cell_type": "code",
      "metadata": {
        "colab": {
          "base_uri": "https://localhost:8080/"
        },
        "id": "JqseD7eEI8cN",
        "outputId": "ebaafec5-73d6-4d0d-a601-91c6cd3b38d3"
      },
      "source": [
        "from sklearn.metrics import classification_report\n",
        "\n",
        "print(classification_report(y_valid, model.predict(X_valid) > 0.5, digits = 4))"
      ],
      "execution_count": null,
      "outputs": [
        {
          "output_type": "stream",
          "text": [
            "              precision    recall  f1-score   support\n",
            "\n",
            "           0     0.9295    0.9434    0.9364      3678\n",
            "           1     0.7347    0.6865    0.7098       839\n",
            "\n",
            "    accuracy                         0.8957      4517\n",
            "   macro avg     0.8321    0.8150    0.8231      4517\n",
            "weighted avg     0.8934    0.8957    0.8943      4517\n",
            "\n"
          ],
          "name": "stdout"
        }
      ]
    },
    {
      "cell_type": "code",
      "metadata": {
        "id": "-GakBjI6Z8Nd"
      },
      "source": [
        "y_pred = model.predict_proba(X_test)\n",
        "\n",
        "import pickle\n",
        "\n",
        "with open(\"./FinalPredictions/\" + \"LSTM-\" + embedMode + \"-TRAINED2\" + \".pkl\", \"wb\") as fout:\n",
        "  pickle.dump(y_pred, fout)"
      ],
      "execution_count": null,
      "outputs": []
    }
  ]
}