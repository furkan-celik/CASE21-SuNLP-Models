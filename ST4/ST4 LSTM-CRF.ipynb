{
  "nbformat": 4,
  "nbformat_minor": 0,
  "metadata": {
    "accelerator": "GPU",
    "colab": {
      "name": "Copy of BERT.ipynb",
      "provenance": [],
      "collapsed_sections": []
    },
    "kernelspec": {
      "display_name": "Python 3",
      "name": "python3"
    },
    "language_info": {
      "name": "python"
    }
  },
  "cells": [
    {
      "cell_type": "code",
      "metadata": {
        "id": "0zL3XdsPAG5V"
      },
      "source": [
        "import torch\n",
        "import torchvision"
      ],
      "execution_count": null,
      "outputs": []
    },
    {
      "cell_type": "code",
      "metadata": {
        "colab": {
          "base_uri": "https://localhost:8080/"
        },
        "id": "nNrY5a-5-H7d",
        "outputId": "930cea8f-d4f1-423f-da2b-e37f98aad04c"
      },
      "source": [
        "!pip install transformers"
      ],
      "execution_count": null,
      "outputs": [
        {
          "output_type": "stream",
          "text": [
            "Collecting transformers\n",
            "\u001b[?25l  Downloading https://files.pythonhosted.org/packages/b0/9e/5b80becd952d5f7250eaf8fc64b957077b12ccfe73e9c03d37146ab29712/transformers-4.6.0-py3-none-any.whl (2.3MB)\n",
            "\u001b[K     |████████████████████████████████| 2.3MB 12.2MB/s \n",
            "\u001b[?25hRequirement already satisfied: tqdm>=4.27 in /usr/local/lib/python3.7/dist-packages (from transformers) (4.41.1)\n",
            "Collecting sacremoses\n",
            "\u001b[?25l  Downloading https://files.pythonhosted.org/packages/75/ee/67241dc87f266093c533a2d4d3d69438e57d7a90abb216fa076e7d475d4a/sacremoses-0.0.45-py3-none-any.whl (895kB)\n",
            "\u001b[K     |████████████████████████████████| 901kB 34.4MB/s \n",
            "\u001b[?25hRequirement already satisfied: regex!=2019.12.17 in /usr/local/lib/python3.7/dist-packages (from transformers) (2019.12.20)\n",
            "Requirement already satisfied: filelock in /usr/local/lib/python3.7/dist-packages (from transformers) (3.0.12)\n",
            "Requirement already satisfied: numpy>=1.17 in /usr/local/lib/python3.7/dist-packages (from transformers) (1.19.5)\n",
            "Collecting tokenizers<0.11,>=0.10.1\n",
            "\u001b[?25l  Downloading https://files.pythonhosted.org/packages/ae/04/5b870f26a858552025a62f1649c20d29d2672c02ff3c3fb4c688ca46467a/tokenizers-0.10.2-cp37-cp37m-manylinux2010_x86_64.whl (3.3MB)\n",
            "\u001b[K     |████████████████████████████████| 3.3MB 35.4MB/s \n",
            "\u001b[?25hRequirement already satisfied: packaging in /usr/local/lib/python3.7/dist-packages (from transformers) (20.9)\n",
            "Requirement already satisfied: requests in /usr/local/lib/python3.7/dist-packages (from transformers) (2.23.0)\n",
            "Collecting huggingface-hub==0.0.8\n",
            "  Downloading https://files.pythonhosted.org/packages/a1/88/7b1e45720ecf59c6c6737ff332f41c955963090a18e72acbcbeac6b25e86/huggingface_hub-0.0.8-py3-none-any.whl\n",
            "Requirement already satisfied: importlib-metadata; python_version < \"3.8\" in /usr/local/lib/python3.7/dist-packages (from transformers) (4.0.1)\n",
            "Requirement already satisfied: joblib in /usr/local/lib/python3.7/dist-packages (from sacremoses->transformers) (1.0.1)\n",
            "Requirement already satisfied: click in /usr/local/lib/python3.7/dist-packages (from sacremoses->transformers) (8.0.0)\n",
            "Requirement already satisfied: six in /usr/local/lib/python3.7/dist-packages (from sacremoses->transformers) (1.15.0)\n",
            "Requirement already satisfied: pyparsing>=2.0.2 in /usr/local/lib/python3.7/dist-packages (from packaging->transformers) (2.4.7)\n",
            "Requirement already satisfied: certifi>=2017.4.17 in /usr/local/lib/python3.7/dist-packages (from requests->transformers) (2020.12.5)\n",
            "Requirement already satisfied: urllib3!=1.25.0,!=1.25.1,<1.26,>=1.21.1 in /usr/local/lib/python3.7/dist-packages (from requests->transformers) (1.24.3)\n",
            "Requirement already satisfied: idna<3,>=2.5 in /usr/local/lib/python3.7/dist-packages (from requests->transformers) (2.10)\n",
            "Requirement already satisfied: chardet<4,>=3.0.2 in /usr/local/lib/python3.7/dist-packages (from requests->transformers) (3.0.4)\n",
            "Requirement already satisfied: zipp>=0.5 in /usr/local/lib/python3.7/dist-packages (from importlib-metadata; python_version < \"3.8\"->transformers) (3.4.1)\n",
            "Requirement already satisfied: typing-extensions>=3.6.4; python_version < \"3.8\" in /usr/local/lib/python3.7/dist-packages (from importlib-metadata; python_version < \"3.8\"->transformers) (3.7.4.3)\n",
            "Installing collected packages: sacremoses, tokenizers, huggingface-hub, transformers\n",
            "Successfully installed huggingface-hub-0.0.8 sacremoses-0.0.45 tokenizers-0.10.2 transformers-4.6.0\n"
          ],
          "name": "stdout"
        }
      ]
    },
    {
      "cell_type": "code",
      "metadata": {
        "colab": {
          "base_uri": "https://localhost:8080/"
        },
        "id": "1W2-xgKJs8-5",
        "outputId": "3ecfe4ea-ccf9-491a-fb97-45c948e74cbd"
      },
      "source": [
        "!pip install pytorch-lightning"
      ],
      "execution_count": null,
      "outputs": [
        {
          "output_type": "stream",
          "text": [
            "Collecting pytorch-lightning\n",
            "\u001b[?25l  Downloading https://files.pythonhosted.org/packages/32/b9/59ce5be6679884579c276f5f208587c3312e8323bd7ce27be278b7af98b3/pytorch_lightning-1.3.2-py3-none-any.whl (805kB)\n",
            "\r\u001b[K     |▍                               | 10kB 14.9MB/s eta 0:00:01\r\u001b[K     |▉                               | 20kB 18.5MB/s eta 0:00:01\r\u001b[K     |█▏                              | 30kB 15.5MB/s eta 0:00:01\r\u001b[K     |█▋                              | 40kB 14.0MB/s eta 0:00:01\r\u001b[K     |██                              | 51kB 9.1MB/s eta 0:00:01\r\u001b[K     |██▍                             | 61kB 10.4MB/s eta 0:00:01\r\u001b[K     |██▉                             | 71kB 10.9MB/s eta 0:00:01\r\u001b[K     |███▎                            | 81kB 11.9MB/s eta 0:00:01\r\u001b[K     |███▋                            | 92kB 11.7MB/s eta 0:00:01\r\u001b[K     |████                            | 102kB 9.6MB/s eta 0:00:01\r\u001b[K     |████▌                           | 112kB 9.6MB/s eta 0:00:01\r\u001b[K     |████▉                           | 122kB 9.6MB/s eta 0:00:01\r\u001b[K     |█████▎                          | 133kB 9.6MB/s eta 0:00:01\r\u001b[K     |█████▊                          | 143kB 9.6MB/s eta 0:00:01\r\u001b[K     |██████                          | 153kB 9.6MB/s eta 0:00:01\r\u001b[K     |██████▌                         | 163kB 9.6MB/s eta 0:00:01\r\u001b[K     |███████                         | 174kB 9.6MB/s eta 0:00:01\r\u001b[K     |███████▎                        | 184kB 9.6MB/s eta 0:00:01\r\u001b[K     |███████▊                        | 194kB 9.6MB/s eta 0:00:01\r\u001b[K     |████████▏                       | 204kB 9.6MB/s eta 0:00:01\r\u001b[K     |████████▌                       | 215kB 9.6MB/s eta 0:00:01\r\u001b[K     |█████████                       | 225kB 9.6MB/s eta 0:00:01\r\u001b[K     |█████████▍                      | 235kB 9.6MB/s eta 0:00:01\r\u001b[K     |█████████▊                      | 245kB 9.6MB/s eta 0:00:01\r\u001b[K     |██████████▏                     | 256kB 9.6MB/s eta 0:00:01\r\u001b[K     |██████████▋                     | 266kB 9.6MB/s eta 0:00:01\r\u001b[K     |███████████                     | 276kB 9.6MB/s eta 0:00:01\r\u001b[K     |███████████▍                    | 286kB 9.6MB/s eta 0:00:01\r\u001b[K     |███████████▉                    | 296kB 9.6MB/s eta 0:00:01\r\u001b[K     |████████████▏                   | 307kB 9.6MB/s eta 0:00:01\r\u001b[K     |████████████▋                   | 317kB 9.6MB/s eta 0:00:01\r\u001b[K     |█████████████                   | 327kB 9.6MB/s eta 0:00:01\r\u001b[K     |█████████████▍                  | 337kB 9.6MB/s eta 0:00:01\r\u001b[K     |█████████████▉                  | 348kB 9.6MB/s eta 0:00:01\r\u001b[K     |██████████████▎                 | 358kB 9.6MB/s eta 0:00:01\r\u001b[K     |██████████████▋                 | 368kB 9.6MB/s eta 0:00:01\r\u001b[K     |███████████████                 | 378kB 9.6MB/s eta 0:00:01\r\u001b[K     |███████████████▌                | 389kB 9.6MB/s eta 0:00:01\r\u001b[K     |███████████████▉                | 399kB 9.6MB/s eta 0:00:01\r\u001b[K     |████████████████▎               | 409kB 9.6MB/s eta 0:00:01\r\u001b[K     |████████████████▊               | 419kB 9.6MB/s eta 0:00:01\r\u001b[K     |█████████████████               | 430kB 9.6MB/s eta 0:00:01\r\u001b[K     |█████████████████▌              | 440kB 9.6MB/s eta 0:00:01\r\u001b[K     |██████████████████              | 450kB 9.6MB/s eta 0:00:01\r\u001b[K     |██████████████████▎             | 460kB 9.6MB/s eta 0:00:01\r\u001b[K     |██████████████████▊             | 471kB 9.6MB/s eta 0:00:01\r\u001b[K     |███████████████████▏            | 481kB 9.6MB/s eta 0:00:01\r\u001b[K     |███████████████████▌            | 491kB 9.6MB/s eta 0:00:01\r\u001b[K     |████████████████████            | 501kB 9.6MB/s eta 0:00:01\r\u001b[K     |████████████████████▍           | 512kB 9.6MB/s eta 0:00:01\r\u001b[K     |████████████████████▊           | 522kB 9.6MB/s eta 0:00:01\r\u001b[K     |█████████████████████▏          | 532kB 9.6MB/s eta 0:00:01\r\u001b[K     |█████████████████████▌          | 542kB 9.6MB/s eta 0:00:01\r\u001b[K     |██████████████████████          | 552kB 9.6MB/s eta 0:00:01\r\u001b[K     |██████████████████████▍         | 563kB 9.6MB/s eta 0:00:01\r\u001b[K     |██████████████████████▊         | 573kB 9.6MB/s eta 0:00:01\r\u001b[K     |███████████████████████▏        | 583kB 9.6MB/s eta 0:00:01\r\u001b[K     |███████████████████████▋        | 593kB 9.6MB/s eta 0:00:01\r\u001b[K     |████████████████████████        | 604kB 9.6MB/s eta 0:00:01\r\u001b[K     |████████████████████████▍       | 614kB 9.6MB/s eta 0:00:01\r\u001b[K     |████████████████████████▉       | 624kB 9.6MB/s eta 0:00:01\r\u001b[K     |█████████████████████████▏      | 634kB 9.6MB/s eta 0:00:01\r\u001b[K     |█████████████████████████▋      | 645kB 9.6MB/s eta 0:00:01\r\u001b[K     |██████████████████████████      | 655kB 9.6MB/s eta 0:00:01\r\u001b[K     |██████████████████████████▍     | 665kB 9.6MB/s eta 0:00:01\r\u001b[K     |██████████████████████████▉     | 675kB 9.6MB/s eta 0:00:01\r\u001b[K     |███████████████████████████▎    | 686kB 9.6MB/s eta 0:00:01\r\u001b[K     |███████████████████████████▋    | 696kB 9.6MB/s eta 0:00:01\r\u001b[K     |████████████████████████████    | 706kB 9.6MB/s eta 0:00:01\r\u001b[K     |████████████████████████████▌   | 716kB 9.6MB/s eta 0:00:01\r\u001b[K     |████████████████████████████▉   | 727kB 9.6MB/s eta 0:00:01\r\u001b[K     |█████████████████████████████▎  | 737kB 9.6MB/s eta 0:00:01\r\u001b[K     |█████████████████████████████▊  | 747kB 9.6MB/s eta 0:00:01\r\u001b[K     |██████████████████████████████  | 757kB 9.6MB/s eta 0:00:01\r\u001b[K     |██████████████████████████████▌ | 768kB 9.6MB/s eta 0:00:01\r\u001b[K     |███████████████████████████████ | 778kB 9.6MB/s eta 0:00:01\r\u001b[K     |███████████████████████████████▎| 788kB 9.6MB/s eta 0:00:01\r\u001b[K     |███████████████████████████████▊| 798kB 9.6MB/s eta 0:00:01\r\u001b[K     |████████████████████████████████| 808kB 9.6MB/s \n",
            "\u001b[?25hRequirement already satisfied: torch>=1.4 in /usr/local/lib/python3.7/dist-packages (from pytorch-lightning) (1.8.1+cu101)\n",
            "Requirement already satisfied: numpy>=1.17.2 in /usr/local/lib/python3.7/dist-packages (from pytorch-lightning) (1.19.5)\n",
            "Collecting pyDeprecate==0.3.0\n",
            "  Downloading https://files.pythonhosted.org/packages/14/52/aa227a0884df71ed1957649085adf2b8bc2a1816d037c2f18b3078854516/pyDeprecate-0.3.0-py3-none-any.whl\n",
            "Requirement already satisfied: packaging in /usr/local/lib/python3.7/dist-packages (from pytorch-lightning) (20.9)\n",
            "Collecting future>=0.17.1\n",
            "\u001b[?25l  Downloading https://files.pythonhosted.org/packages/45/0b/38b06fd9b92dc2b68d58b75f900e97884c45bedd2ff83203d933cf5851c9/future-0.18.2.tar.gz (829kB)\n",
            "\u001b[K     |████████████████████████████████| 829kB 23.2MB/s \n",
            "\u001b[?25hCollecting torchmetrics>=0.2.0\n",
            "\u001b[?25l  Downloading https://files.pythonhosted.org/packages/3b/e8/513cd9d0b1c83dc14cd8f788d05cd6a34758d4fd7e4f9e5ecd5d7d599c95/torchmetrics-0.3.2-py3-none-any.whl (274kB)\n",
            "\u001b[K     |████████████████████████████████| 276kB 32.9MB/s \n",
            "\u001b[?25hRequirement already satisfied: tqdm>=4.41.0 in /usr/local/lib/python3.7/dist-packages (from pytorch-lightning) (4.41.1)\n",
            "Collecting fsspec[http]>=2021.4.0\n",
            "\u001b[?25l  Downloading https://files.pythonhosted.org/packages/bc/52/816d1a3a599176057bf29dfacb1f8fadb61d35fbd96cb1bab4aaa7df83c0/fsspec-2021.5.0-py3-none-any.whl (111kB)\n",
            "\u001b[K     |████████████████████████████████| 112kB 37.9MB/s \n",
            "\u001b[?25hCollecting PyYAML<=5.4.1,>=5.1\n",
            "\u001b[?25l  Downloading https://files.pythonhosted.org/packages/7a/a5/393c087efdc78091afa2af9f1378762f9821c9c1d7a22c5753fb5ac5f97a/PyYAML-5.4.1-cp37-cp37m-manylinux1_x86_64.whl (636kB)\n",
            "\u001b[K     |████████████████████████████████| 645kB 35.2MB/s \n",
            "\u001b[?25hRequirement already satisfied: tensorboard!=2.5.0,>=2.2.0 in /usr/local/lib/python3.7/dist-packages (from pytorch-lightning) (2.4.1)\n",
            "Requirement already satisfied: typing-extensions in /usr/local/lib/python3.7/dist-packages (from torch>=1.4->pytorch-lightning) (3.7.4.3)\n",
            "Requirement already satisfied: pyparsing>=2.0.2 in /usr/local/lib/python3.7/dist-packages (from packaging->pytorch-lightning) (2.4.7)\n",
            "Requirement already satisfied: requests; extra == \"http\" in /usr/local/lib/python3.7/dist-packages (from fsspec[http]>=2021.4.0->pytorch-lightning) (2.23.0)\n",
            "Collecting aiohttp; extra == \"http\"\n",
            "\u001b[?25l  Downloading https://files.pythonhosted.org/packages/88/c0/5890b4c8b04a79b7360e8fe4490feb0bb3ab179743f199f0e6220cebd568/aiohttp-3.7.4.post0-cp37-cp37m-manylinux2014_x86_64.whl (1.3MB)\n",
            "\u001b[K     |████████████████████████████████| 1.3MB 33.8MB/s \n",
            "\u001b[?25hRequirement already satisfied: werkzeug>=0.11.15 in /usr/local/lib/python3.7/dist-packages (from tensorboard!=2.5.0,>=2.2.0->pytorch-lightning) (2.0.0)\n",
            "Requirement already satisfied: markdown>=2.6.8 in /usr/local/lib/python3.7/dist-packages (from tensorboard!=2.5.0,>=2.2.0->pytorch-lightning) (3.3.4)\n",
            "Requirement already satisfied: google-auth<2,>=1.6.3 in /usr/local/lib/python3.7/dist-packages (from tensorboard!=2.5.0,>=2.2.0->pytorch-lightning) (1.30.0)\n",
            "Requirement already satisfied: six>=1.10.0 in /usr/local/lib/python3.7/dist-packages (from tensorboard!=2.5.0,>=2.2.0->pytorch-lightning) (1.15.0)\n",
            "Requirement already satisfied: google-auth-oauthlib<0.5,>=0.4.1 in /usr/local/lib/python3.7/dist-packages (from tensorboard!=2.5.0,>=2.2.0->pytorch-lightning) (0.4.4)\n",
            "Requirement already satisfied: tensorboard-plugin-wit>=1.6.0 in /usr/local/lib/python3.7/dist-packages (from tensorboard!=2.5.0,>=2.2.0->pytorch-lightning) (1.8.0)\n",
            "Requirement already satisfied: protobuf>=3.6.0 in /usr/local/lib/python3.7/dist-packages (from tensorboard!=2.5.0,>=2.2.0->pytorch-lightning) (3.12.4)\n",
            "Requirement already satisfied: absl-py>=0.4 in /usr/local/lib/python3.7/dist-packages (from tensorboard!=2.5.0,>=2.2.0->pytorch-lightning) (0.12.0)\n",
            "Requirement already satisfied: wheel>=0.26; python_version >= \"3\" in /usr/local/lib/python3.7/dist-packages (from tensorboard!=2.5.0,>=2.2.0->pytorch-lightning) (0.36.2)\n",
            "Requirement already satisfied: setuptools>=41.0.0 in /usr/local/lib/python3.7/dist-packages (from tensorboard!=2.5.0,>=2.2.0->pytorch-lightning) (56.1.0)\n",
            "Requirement already satisfied: grpcio>=1.24.3 in /usr/local/lib/python3.7/dist-packages (from tensorboard!=2.5.0,>=2.2.0->pytorch-lightning) (1.32.0)\n",
            "Requirement already satisfied: certifi>=2017.4.17 in /usr/local/lib/python3.7/dist-packages (from requests; extra == \"http\"->fsspec[http]>=2021.4.0->pytorch-lightning) (2020.12.5)\n",
            "Requirement already satisfied: urllib3!=1.25.0,!=1.25.1,<1.26,>=1.21.1 in /usr/local/lib/python3.7/dist-packages (from requests; extra == \"http\"->fsspec[http]>=2021.4.0->pytorch-lightning) (1.24.3)\n",
            "Requirement already satisfied: idna<3,>=2.5 in /usr/local/lib/python3.7/dist-packages (from requests; extra == \"http\"->fsspec[http]>=2021.4.0->pytorch-lightning) (2.10)\n",
            "Requirement already satisfied: chardet<4,>=3.0.2 in /usr/local/lib/python3.7/dist-packages (from requests; extra == \"http\"->fsspec[http]>=2021.4.0->pytorch-lightning) (3.0.4)\n",
            "Requirement already satisfied: attrs>=17.3.0 in /usr/local/lib/python3.7/dist-packages (from aiohttp; extra == \"http\"->fsspec[http]>=2021.4.0->pytorch-lightning) (21.2.0)\n",
            "Collecting yarl<2.0,>=1.0\n",
            "\u001b[?25l  Downloading https://files.pythonhosted.org/packages/f1/62/046834c5fc998c88ab2ef722f5d42122230a632212c8afa76418324f53ff/yarl-1.6.3-cp37-cp37m-manylinux2014_x86_64.whl (294kB)\n",
            "\u001b[K     |████████████████████████████████| 296kB 34.9MB/s \n",
            "\u001b[?25hCollecting multidict<7.0,>=4.5\n",
            "\u001b[?25l  Downloading https://files.pythonhosted.org/packages/7c/a6/4123b8165acbe773d1a8dc8e3f0d1edea16d29f7de018eda769abb56bd30/multidict-5.1.0-cp37-cp37m-manylinux2014_x86_64.whl (142kB)\n",
            "\u001b[K     |████████████████████████████████| 143kB 39.0MB/s \n",
            "\u001b[?25hCollecting async-timeout<4.0,>=3.0\n",
            "  Downloading https://files.pythonhosted.org/packages/e1/1e/5a4441be21b0726c4464f3f23c8b19628372f606755a9d2e46c187e65ec4/async_timeout-3.0.1-py3-none-any.whl\n",
            "Requirement already satisfied: importlib-metadata; python_version < \"3.8\" in /usr/local/lib/python3.7/dist-packages (from markdown>=2.6.8->tensorboard!=2.5.0,>=2.2.0->pytorch-lightning) (4.0.1)\n",
            "Requirement already satisfied: cachetools<5.0,>=2.0.0 in /usr/local/lib/python3.7/dist-packages (from google-auth<2,>=1.6.3->tensorboard!=2.5.0,>=2.2.0->pytorch-lightning) (4.2.2)\n",
            "Requirement already satisfied: pyasn1-modules>=0.2.1 in /usr/local/lib/python3.7/dist-packages (from google-auth<2,>=1.6.3->tensorboard!=2.5.0,>=2.2.0->pytorch-lightning) (0.2.8)\n",
            "Requirement already satisfied: rsa<5,>=3.1.4; python_version >= \"3.6\" in /usr/local/lib/python3.7/dist-packages (from google-auth<2,>=1.6.3->tensorboard!=2.5.0,>=2.2.0->pytorch-lightning) (4.7.2)\n",
            "Requirement already satisfied: requests-oauthlib>=0.7.0 in /usr/local/lib/python3.7/dist-packages (from google-auth-oauthlib<0.5,>=0.4.1->tensorboard!=2.5.0,>=2.2.0->pytorch-lightning) (1.3.0)\n",
            "Requirement already satisfied: zipp>=0.5 in /usr/local/lib/python3.7/dist-packages (from importlib-metadata; python_version < \"3.8\"->markdown>=2.6.8->tensorboard!=2.5.0,>=2.2.0->pytorch-lightning) (3.4.1)\n",
            "Requirement already satisfied: pyasn1<0.5.0,>=0.4.6 in /usr/local/lib/python3.7/dist-packages (from pyasn1-modules>=0.2.1->google-auth<2,>=1.6.3->tensorboard!=2.5.0,>=2.2.0->pytorch-lightning) (0.4.8)\n",
            "Requirement already satisfied: oauthlib>=3.0.0 in /usr/local/lib/python3.7/dist-packages (from requests-oauthlib>=0.7.0->google-auth-oauthlib<0.5,>=0.4.1->tensorboard!=2.5.0,>=2.2.0->pytorch-lightning) (3.1.0)\n",
            "Building wheels for collected packages: future\n",
            "  Building wheel for future (setup.py) ... \u001b[?25l\u001b[?25hdone\n",
            "  Created wheel for future: filename=future-0.18.2-cp37-none-any.whl size=491058 sha256=4bbc9d77fe1b1d07138953f370bc620bcf559ce6d1b9e843b0f523d30cb730f5\n",
            "  Stored in directory: /root/.cache/pip/wheels/8b/99/a0/81daf51dcd359a9377b110a8a886b3895921802d2fc1b2397e\n",
            "Successfully built future\n",
            "Installing collected packages: pyDeprecate, future, torchmetrics, multidict, yarl, async-timeout, aiohttp, fsspec, PyYAML, pytorch-lightning\n",
            "  Found existing installation: future 0.16.0\n",
            "    Uninstalling future-0.16.0:\n",
            "      Successfully uninstalled future-0.16.0\n",
            "  Found existing installation: PyYAML 3.13\n",
            "    Uninstalling PyYAML-3.13:\n",
            "      Successfully uninstalled PyYAML-3.13\n",
            "Successfully installed PyYAML-5.4.1 aiohttp-3.7.4.post0 async-timeout-3.0.1 fsspec-2021.5.0 future-0.18.2 multidict-5.1.0 pyDeprecate-0.3.0 pytorch-lightning-1.3.2 torchmetrics-0.3.2 yarl-1.6.3\n"
          ],
          "name": "stdout"
        }
      ]
    },
    {
      "cell_type": "code",
      "metadata": {
        "colab": {
          "base_uri": "https://localhost:8080/"
        },
        "id": "zAeZIhRXaRRv",
        "outputId": "7fd4f6d2-f7b4-461f-b7ce-b0b5654d86cb"
      },
      "source": [
        "!pip install torchmetrics"
      ],
      "execution_count": null,
      "outputs": [
        {
          "output_type": "stream",
          "text": [
            "Requirement already satisfied: torchmetrics in /usr/local/lib/python3.7/dist-packages (0.3.2)\n",
            "Requirement already satisfied: torch>=1.3.1 in /usr/local/lib/python3.7/dist-packages (from torchmetrics) (1.8.1+cu101)\n",
            "Requirement already satisfied: packaging in /usr/local/lib/python3.7/dist-packages (from torchmetrics) (20.9)\n",
            "Requirement already satisfied: typing-extensions in /usr/local/lib/python3.7/dist-packages (from torch>=1.3.1->torchmetrics) (3.7.4.3)\n",
            "Requirement already satisfied: numpy in /usr/local/lib/python3.7/dist-packages (from torch>=1.3.1->torchmetrics) (1.19.5)\n",
            "Requirement already satisfied: pyparsing>=2.0.2 in /usr/local/lib/python3.7/dist-packages (from packaging->torchmetrics) (2.4.7)\n"
          ],
          "name": "stdout"
        }
      ]
    },
    {
      "cell_type": "code",
      "metadata": {
        "id": "hExK9OhQtF2-"
      },
      "source": [
        "import pandas as pd\n",
        "import numpy as np\n",
        "import torch\n",
        "from sklearn.model_selection import train_test_split\n",
        "import transformers\n",
        "#import pytorch_lightning as pl\n",
        "import torchmetrics\n",
        "\n",
        "import seaborn as sns\n",
        "from pylab import rcParams\n",
        "import matplotlib.pyplot as plt\n",
        "from matplotlib import rc"
      ],
      "execution_count": null,
      "outputs": []
    },
    {
      "cell_type": "code",
      "metadata": {
        "colab": {
          "base_uri": "https://localhost:8080/"
        },
        "id": "5h_HE-WvtpWZ",
        "outputId": "06f182fb-167e-44d9-b5cb-d4b9cee9dddb"
      },
      "source": [
        "%matplotlib inline\n",
        "%config InlineBackend.figure_format = \"retina\"\n",
        "\n",
        "RANDOM_SEED = 42\n",
        "\n",
        "sns.set(style = \"whitegrid\", palette= \"muted\", font_scale= 1.2)\n",
        "rcParams[\"figure.figsize\"] = 12, 8\n",
        "\n",
        "np.random.seed(RANDOM_SEED)\n",
        "torch.manual_seed(RANDOM_SEED)"
      ],
      "execution_count": null,
      "outputs": [
        {
          "output_type": "execute_result",
          "data": {
            "text/plain": [
              "<torch._C.Generator at 0x7fd0726fb370>"
            ]
          },
          "metadata": {
            "tags": []
          },
          "execution_count": 6
        }
      ]
    },
    {
      "cell_type": "code",
      "metadata": {
        "colab": {
          "base_uri": "https://localhost:8080/"
        },
        "id": "SIf9TcPQ4w7v",
        "outputId": "6d917431-9eb9-4f1c-c975-ca82ab7c617c"
      },
      "source": [
        "!git clone git+https://github.com/furkan-celik/pytorch_lstmcrf"
      ],
      "execution_count": null,
      "outputs": [
        {
          "output_type": "stream",
          "text": [
            "Cloning into 'pytorch_lstmcrf'...\n",
            "remote: Enumerating objects: 717, done.\u001b[K\n",
            "remote: Counting objects: 100% (225/225), done.\u001b[K\n",
            "remote: Compressing objects: 100% (164/164), done.\u001b[K\n",
            "remote: Total 717 (delta 129), reused 145 (delta 61), pack-reused 492\u001b[K\n",
            "Receiving objects: 100% (717/717), 2.77 MiB | 11.14 MiB/s, done.\n",
            "Resolving deltas: 100% (407/407), done.\n"
          ],
          "name": "stdout"
        }
      ]
    },
    {
      "cell_type": "code",
      "metadata": {
        "colab": {
          "base_uri": "https://localhost:8080/",
          "height": 1000
        },
        "id": "DxO6gCfs7SFZ",
        "outputId": "daf2589b-859b-4077-f84f-f99b7fa7f633"
      },
      "source": [
        "# python > 3.6\n",
        "!conda create -n pt_lstmcrf python=3.6\n",
        "!conda activate pt_lstmcrf\n",
        "# kindly check https://pytorch.org for the suitable version of your machines\n",
        "!conda install pytorch torchvision cudatoolkit=10.0 -c pytorch -n pt_lstmcrf\n",
        "!pip install tqdm\n",
        "!pip install termcolor\n",
        "!pip install overrides\n",
        "!pip install allennlp ## required when we need to get the ELMo vectors\n",
        "!pip install transformers"
      ],
      "execution_count": null,
      "outputs": [
        {
          "output_type": "stream",
          "text": [
            "/bin/bash: conda: command not found\n",
            "/bin/bash: conda: command not found\n",
            "/bin/bash: conda: command not found\n",
            "Requirement already satisfied: tqdm in /usr/local/lib/python3.7/dist-packages (4.41.1)\n",
            "Requirement already satisfied: termcolor in /usr/local/lib/python3.7/dist-packages (1.1.0)\n",
            "Collecting overrides\n",
            "  Downloading https://files.pythonhosted.org/packages/db/52/1ee39040faa35ee9a609a4c7c95b017713f0b8d63399d5ecbaa6555a3cea/overrides-6.1.0-py3-none-any.whl\n",
            "Collecting typing-utils>=0.0.3\n",
            "  Downloading https://files.pythonhosted.org/packages/a9/d6/ed54e008ae5aa828b77089aa371e25cb1313271abebd18d20e650fe903b8/typing_utils-0.0.3-py3-none-any.whl\n",
            "Installing collected packages: typing-utils, overrides\n",
            "Successfully installed overrides-6.1.0 typing-utils-0.0.3\n",
            "Collecting allennlp\n",
            "\u001b[?25l  Downloading https://files.pythonhosted.org/packages/ed/eb/0c7ce6af0dfbc9c168a263a534e258447eff707c76df26356d4080900dd0/allennlp-2.4.0-py3-none-any.whl (625kB)\n",
            "\u001b[K     |████████████████████████████████| 634kB 7.4MB/s \n",
            "\u001b[?25hRequirement already satisfied: h5py in /usr/local/lib/python3.7/dist-packages (from allennlp) (2.10.0)\n",
            "Collecting sentencepiece\n",
            "\u001b[?25l  Downloading https://files.pythonhosted.org/packages/f5/99/e0808cb947ba10f575839c43e8fafc9cc44e4a7a2c8f79c60db48220a577/sentencepiece-0.1.95-cp37-cp37m-manylinux2014_x86_64.whl (1.2MB)\n",
            "\u001b[K     |████████████████████████████████| 1.2MB 11.3MB/s \n",
            "\u001b[?25hCollecting wandb<0.11.0,>=0.10.0\n",
            "\u001b[?25l  Downloading https://files.pythonhosted.org/packages/98/5f/45439b4767334b868e1c8c35b1b0ba3747d8c21be77b79f09eed7aa3c72b/wandb-0.10.30-py2.py3-none-any.whl (1.8MB)\n",
            "\u001b[K     |████████████████████████████████| 1.8MB 21.2MB/s \n",
            "\u001b[?25hCollecting boto3<2.0,>=1.14\n",
            "\u001b[?25l  Downloading https://files.pythonhosted.org/packages/6e/58/4b422e8ecb8d6775fa2c5ce97f2b52fd8931b3417106ac56fef5b4ed2d4e/boto3-1.17.76-py2.py3-none-any.whl (131kB)\n",
            "\u001b[K     |████████████████████████████████| 133kB 36.6MB/s \n",
            "\u001b[?25hRequirement already satisfied: filelock<3.1,>=3.0 in /usr/local/lib/python3.7/dist-packages (from allennlp) (3.0.12)\n",
            "Requirement already satisfied: huggingface-hub>=0.0.8 in /usr/local/lib/python3.7/dist-packages (from allennlp) (0.0.8)\n",
            "Requirement already satisfied: lmdb in /usr/local/lib/python3.7/dist-packages (from allennlp) (0.99)\n",
            "Collecting transformers<4.6,>=4.1\n",
            "\u001b[?25l  Downloading https://files.pythonhosted.org/packages/d8/b2/57495b5309f09fa501866e225c84532d1fd89536ea62406b2181933fb418/transformers-4.5.1-py3-none-any.whl (2.1MB)\n",
            "\u001b[K     |████████████████████████████████| 2.1MB 31.4MB/s \n",
            "\u001b[?25hRequirement already satisfied: torch<1.9.0,>=1.6.0 in /usr/local/lib/python3.7/dist-packages (from allennlp) (1.8.1+cu101)\n",
            "Requirement already satisfied: scipy in /usr/local/lib/python3.7/dist-packages (from allennlp) (1.4.1)\n",
            "Requirement already satisfied: torchvision<0.10.0,>=0.8.1 in /usr/local/lib/python3.7/dist-packages (from allennlp) (0.9.1+cu101)\n",
            "Requirement already satisfied: more-itertools in /usr/local/lib/python3.7/dist-packages (from allennlp) (8.7.0)\n",
            "Requirement already satisfied: requests>=2.18 in /usr/local/lib/python3.7/dist-packages (from allennlp) (2.23.0)\n",
            "Requirement already satisfied: nltk in /usr/local/lib/python3.7/dist-packages (from allennlp) (3.2.5)\n",
            "Requirement already satisfied: scikit-learn in /usr/local/lib/python3.7/dist-packages (from allennlp) (0.22.2.post1)\n",
            "Collecting jsonnet>=0.10.0; sys_platform != \"win32\"\n",
            "\u001b[?25l  Downloading https://files.pythonhosted.org/packages/42/40/6f16e5ac994b16fa71c24310f97174ce07d3a97b433275589265c6b94d2b/jsonnet-0.17.0.tar.gz (259kB)\n",
            "\u001b[K     |████████████████████████████████| 266kB 36.7MB/s \n",
            "\u001b[?25hCollecting overrides==3.1.0\n",
            "  Downloading https://files.pythonhosted.org/packages/ff/b1/10f69c00947518e6676bbd43e739733048de64b8dd998e9c2d5a71f44c5d/overrides-3.1.0.tar.gz\n",
            "Requirement already satisfied: numpy in /usr/local/lib/python3.7/dist-packages (from allennlp) (1.19.5)\n",
            "Requirement already satisfied: pytest in /usr/local/lib/python3.7/dist-packages (from allennlp) (3.6.4)\n",
            "Requirement already satisfied: tqdm>=4.19 in /usr/local/lib/python3.7/dist-packages (from allennlp) (4.41.1)\n",
            "Collecting tensorboardX>=1.2\n",
            "\u001b[?25l  Downloading https://files.pythonhosted.org/packages/07/84/46421bd3e0e89a92682b1a38b40efc22dafb6d8e3d947e4ceefd4a5fabc7/tensorboardX-2.2-py2.py3-none-any.whl (120kB)\n",
            "\u001b[K     |████████████████████████████████| 122kB 37.5MB/s \n",
            "\u001b[?25hRequirement already satisfied: spacy<3.1,>=2.1.0 in /usr/local/lib/python3.7/dist-packages (from allennlp) (2.2.4)\n",
            "Requirement already satisfied: six in /usr/local/lib/python3.7/dist-packages (from h5py->allennlp) (1.15.0)\n",
            "Collecting subprocess32>=3.5.3\n",
            "\u001b[?25l  Downloading https://files.pythonhosted.org/packages/32/c8/564be4d12629b912ea431f1a50eb8b3b9d00f1a0b1ceff17f266be190007/subprocess32-3.5.4.tar.gz (97kB)\n",
            "\u001b[K     |████████████████████████████████| 102kB 10.5MB/s \n",
            "\u001b[?25hRequirement already satisfied: python-dateutil>=2.6.1 in /usr/local/lib/python3.7/dist-packages (from wandb<0.11.0,>=0.10.0->allennlp) (2.8.1)\n",
            "Collecting shortuuid>=0.5.0\n",
            "  Downloading https://files.pythonhosted.org/packages/25/a6/2ecc1daa6a304e7f1b216f0896b26156b78e7c38e1211e9b798b4716c53d/shortuuid-1.0.1-py3-none-any.whl\n",
            "Requirement already satisfied: promise<3,>=2.0 in /usr/local/lib/python3.7/dist-packages (from wandb<0.11.0,>=0.10.0->allennlp) (2.3)\n",
            "Collecting configparser>=3.8.1\n",
            "  Downloading https://files.pythonhosted.org/packages/fd/01/ff260a18caaf4457eb028c96eeb405c4a230ca06c8ec9c1379f813caa52e/configparser-5.0.2-py3-none-any.whl\n",
            "Requirement already satisfied: protobuf>=3.12.0 in /usr/local/lib/python3.7/dist-packages (from wandb<0.11.0,>=0.10.0->allennlp) (3.12.4)\n",
            "Requirement already satisfied: PyYAML in /usr/local/lib/python3.7/dist-packages (from wandb<0.11.0,>=0.10.0->allennlp) (5.4.1)\n",
            "Collecting sentry-sdk>=0.4.0\n",
            "\u001b[?25l  Downloading https://files.pythonhosted.org/packages/1c/4a/a54b254f67d8f4052338d54ebe90126f200693440a93ef76d254d581e3ec/sentry_sdk-1.1.0-py2.py3-none-any.whl (131kB)\n",
            "\u001b[K     |████████████████████████████████| 133kB 38.2MB/s \n",
            "\u001b[?25hCollecting GitPython>=1.0.0\n",
            "\u001b[?25l  Downloading https://files.pythonhosted.org/packages/27/da/6f6224fdfc47dab57881fe20c0d1bc3122be290198ba0bf26a953a045d92/GitPython-3.1.17-py3-none-any.whl (166kB)\n",
            "\u001b[K     |████████████████████████████████| 174kB 30.4MB/s \n",
            "\u001b[?25hCollecting pathtools\n",
            "  Downloading https://files.pythonhosted.org/packages/e7/7f/470d6fcdf23f9f3518f6b0b76be9df16dcc8630ad409947f8be2eb0ed13a/pathtools-0.1.2.tar.gz\n",
            "Requirement already satisfied: psutil>=5.0.0 in /usr/local/lib/python3.7/dist-packages (from wandb<0.11.0,>=0.10.0->allennlp) (5.4.8)\n",
            "Collecting docker-pycreds>=0.4.0\n",
            "  Downloading https://files.pythonhosted.org/packages/f5/e8/f6bd1eee09314e7e6dee49cbe2c5e22314ccdb38db16c9fc72d2fa80d054/docker_pycreds-0.4.0-py2.py3-none-any.whl\n",
            "Requirement already satisfied: Click>=7.0 in /usr/local/lib/python3.7/dist-packages (from wandb<0.11.0,>=0.10.0->allennlp) (8.0.0)\n",
            "Collecting jmespath<1.0.0,>=0.7.1\n",
            "  Downloading https://files.pythonhosted.org/packages/07/cb/5f001272b6faeb23c1c9e0acc04d48eaaf5c862c17709d20e3469c6e0139/jmespath-0.10.0-py2.py3-none-any.whl\n",
            "Collecting s3transfer<0.5.0,>=0.4.0\n",
            "\u001b[?25l  Downloading https://files.pythonhosted.org/packages/63/d0/693477c688348654ddc21dcdce0817653a294aa43f41771084c25e7ff9c7/s3transfer-0.4.2-py2.py3-none-any.whl (79kB)\n",
            "\u001b[K     |████████████████████████████████| 81kB 8.3MB/s \n",
            "\u001b[?25hCollecting botocore<1.21.0,>=1.20.76\n",
            "\u001b[?25l  Downloading https://files.pythonhosted.org/packages/bd/eb/1bf881ea46013687789a7c0ee0d76ff709772f11952194814730022fcca5/botocore-1.20.76-py2.py3-none-any.whl (7.5MB)\n",
            "\u001b[K     |████████████████████████████████| 7.5MB 37.0MB/s \n",
            "\u001b[?25hRequirement already satisfied: importlib-metadata; python_version < \"3.8\" in /usr/local/lib/python3.7/dist-packages (from huggingface-hub>=0.0.8->allennlp) (4.0.1)\n",
            "Requirement already satisfied: tokenizers<0.11,>=0.10.1 in /usr/local/lib/python3.7/dist-packages (from transformers<4.6,>=4.1->allennlp) (0.10.2)\n",
            "Requirement already satisfied: packaging in /usr/local/lib/python3.7/dist-packages (from transformers<4.6,>=4.1->allennlp) (20.9)\n",
            "Requirement already satisfied: regex!=2019.12.17 in /usr/local/lib/python3.7/dist-packages (from transformers<4.6,>=4.1->allennlp) (2019.12.20)\n",
            "Requirement already satisfied: sacremoses in /usr/local/lib/python3.7/dist-packages (from transformers<4.6,>=4.1->allennlp) (0.0.45)\n",
            "Requirement already satisfied: typing-extensions in /usr/local/lib/python3.7/dist-packages (from torch<1.9.0,>=1.6.0->allennlp) (3.7.4.3)\n",
            "Requirement already satisfied: pillow>=4.1.1 in /usr/local/lib/python3.7/dist-packages (from torchvision<0.10.0,>=0.8.1->allennlp) (7.1.2)\n",
            "Requirement already satisfied: chardet<4,>=3.0.2 in /usr/local/lib/python3.7/dist-packages (from requests>=2.18->allennlp) (3.0.4)\n",
            "Requirement already satisfied: idna<3,>=2.5 in /usr/local/lib/python3.7/dist-packages (from requests>=2.18->allennlp) (2.10)\n",
            "Requirement already satisfied: certifi>=2017.4.17 in /usr/local/lib/python3.7/dist-packages (from requests>=2.18->allennlp) (2020.12.5)\n",
            "Requirement already satisfied: urllib3!=1.25.0,!=1.25.1,<1.26,>=1.21.1 in /usr/local/lib/python3.7/dist-packages (from requests>=2.18->allennlp) (1.24.3)\n",
            "Requirement already satisfied: joblib>=0.11 in /usr/local/lib/python3.7/dist-packages (from scikit-learn->allennlp) (1.0.1)\n",
            "Requirement already satisfied: pluggy<0.8,>=0.5 in /usr/local/lib/python3.7/dist-packages (from pytest->allennlp) (0.7.1)\n",
            "Requirement already satisfied: attrs>=17.4.0 in /usr/local/lib/python3.7/dist-packages (from pytest->allennlp) (21.2.0)\n",
            "Requirement already satisfied: setuptools in /usr/local/lib/python3.7/dist-packages (from pytest->allennlp) (56.1.0)\n",
            "Requirement already satisfied: py>=1.5.0 in /usr/local/lib/python3.7/dist-packages (from pytest->allennlp) (1.10.0)\n",
            "Requirement already satisfied: atomicwrites>=1.0 in /usr/local/lib/python3.7/dist-packages (from pytest->allennlp) (1.4.0)\n",
            "Requirement already satisfied: murmurhash<1.1.0,>=0.28.0 in /usr/local/lib/python3.7/dist-packages (from spacy<3.1,>=2.1.0->allennlp) (1.0.5)\n",
            "Requirement already satisfied: wasabi<1.1.0,>=0.4.0 in /usr/local/lib/python3.7/dist-packages (from spacy<3.1,>=2.1.0->allennlp) (0.8.2)\n",
            "Requirement already satisfied: catalogue<1.1.0,>=0.0.7 in /usr/local/lib/python3.7/dist-packages (from spacy<3.1,>=2.1.0->allennlp) (1.0.0)\n",
            "Requirement already satisfied: plac<1.2.0,>=0.9.6 in /usr/local/lib/python3.7/dist-packages (from spacy<3.1,>=2.1.0->allennlp) (1.1.3)\n",
            "Requirement already satisfied: preshed<3.1.0,>=3.0.2 in /usr/local/lib/python3.7/dist-packages (from spacy<3.1,>=2.1.0->allennlp) (3.0.5)\n",
            "Requirement already satisfied: cymem<2.1.0,>=2.0.2 in /usr/local/lib/python3.7/dist-packages (from spacy<3.1,>=2.1.0->allennlp) (2.0.5)\n",
            "Requirement already satisfied: blis<0.5.0,>=0.4.0 in /usr/local/lib/python3.7/dist-packages (from spacy<3.1,>=2.1.0->allennlp) (0.4.1)\n",
            "Requirement already satisfied: srsly<1.1.0,>=1.0.2 in /usr/local/lib/python3.7/dist-packages (from spacy<3.1,>=2.1.0->allennlp) (1.0.5)\n",
            "Requirement already satisfied: thinc==7.4.0 in /usr/local/lib/python3.7/dist-packages (from spacy<3.1,>=2.1.0->allennlp) (7.4.0)\n",
            "Collecting gitdb<5,>=4.0.1\n",
            "\u001b[?25l  Downloading https://files.pythonhosted.org/packages/ea/e8/f414d1a4f0bbc668ed441f74f44c116d9816833a48bf81d22b697090dba8/gitdb-4.0.7-py3-none-any.whl (63kB)\n",
            "\u001b[K     |████████████████████████████████| 71kB 8.8MB/s \n",
            "\u001b[?25hRequirement already satisfied: zipp>=0.5 in /usr/local/lib/python3.7/dist-packages (from importlib-metadata; python_version < \"3.8\"->huggingface-hub>=0.0.8->allennlp) (3.4.1)\n",
            "Requirement already satisfied: pyparsing>=2.0.2 in /usr/local/lib/python3.7/dist-packages (from packaging->transformers<4.6,>=4.1->allennlp) (2.4.7)\n",
            "Collecting smmap<5,>=3.0.1\n",
            "  Downloading https://files.pythonhosted.org/packages/68/ee/d540eb5e5996eb81c26ceffac6ee49041d473bc5125f2aa995cf51ec1cf1/smmap-4.0.0-py2.py3-none-any.whl\n",
            "Building wheels for collected packages: jsonnet, overrides, subprocess32, pathtools\n",
            "  Building wheel for jsonnet (setup.py) ... \u001b[?25l\u001b[?25hdone\n",
            "  Created wheel for jsonnet: filename=jsonnet-0.17.0-cp37-cp37m-linux_x86_64.whl size=3388727 sha256=59a50e9458dab9e6e9aeca054f89b3e6d9c943aa3db5276e288e0ad85ab6e1ee\n",
            "  Stored in directory: /root/.cache/pip/wheels/26/7a/37/7dbcc30a6b4efd17b91ad1f0128b7bbf84813bd4e1cfb8c1e3\n",
            "  Building wheel for overrides (setup.py) ... \u001b[?25l\u001b[?25hdone\n",
            "  Created wheel for overrides: filename=overrides-3.1.0-cp37-none-any.whl size=10174 sha256=8c685dc0ad1483dd1eff5d2a6aea503e8da3a11c224aa9d294422eb826075059\n",
            "  Stored in directory: /root/.cache/pip/wheels/5c/24/13/6ef8600e6f147c95e595f1289a86a3cc82ed65df57582c65a9\n",
            "  Building wheel for subprocess32 (setup.py) ... \u001b[?25l\u001b[?25hdone\n",
            "  Created wheel for subprocess32: filename=subprocess32-3.5.4-cp37-none-any.whl size=6489 sha256=bb42d95813ee23da9808b22a786a4377d403413a3e624a1c416a1003b53ccd5a\n",
            "  Stored in directory: /root/.cache/pip/wheels/68/39/1a/5e402bdfdf004af1786c8b853fd92f8c4a04f22aad179654d1\n",
            "  Building wheel for pathtools (setup.py) ... \u001b[?25l\u001b[?25hdone\n",
            "  Created wheel for pathtools: filename=pathtools-0.1.2-cp37-none-any.whl size=8786 sha256=fafbc8dfd27c5d1fb0f1cd99f2f4e7d7eb9f9cf22f2f5d3027bef11d27e98c96\n",
            "  Stored in directory: /root/.cache/pip/wheels/0b/04/79/c3b0c3a0266a3cb4376da31e5bfe8bba0c489246968a68e843\n",
            "Successfully built jsonnet overrides subprocess32 pathtools\n",
            "\u001b[31mERROR: botocore 1.20.76 has requirement urllib3<1.27,>=1.25.4, but you'll have urllib3 1.24.3 which is incompatible.\u001b[0m\n",
            "Installing collected packages: sentencepiece, subprocess32, shortuuid, configparser, sentry-sdk, smmap, gitdb, GitPython, pathtools, docker-pycreds, wandb, jmespath, botocore, s3transfer, boto3, transformers, jsonnet, overrides, tensorboardX, allennlp\n",
            "  Found existing installation: transformers 4.6.0\n",
            "    Uninstalling transformers-4.6.0:\n",
            "      Successfully uninstalled transformers-4.6.0\n",
            "  Found existing installation: overrides 6.1.0\n",
            "    Uninstalling overrides-6.1.0:\n",
            "      Successfully uninstalled overrides-6.1.0\n",
            "Successfully installed GitPython-3.1.17 allennlp-2.4.0 boto3-1.17.76 botocore-1.20.76 configparser-5.0.2 docker-pycreds-0.4.0 gitdb-4.0.7 jmespath-0.10.0 jsonnet-0.17.0 overrides-3.1.0 pathtools-0.1.2 s3transfer-0.4.2 sentencepiece-0.1.95 sentry-sdk-1.1.0 shortuuid-1.0.1 smmap-4.0.0 subprocess32-3.5.4 tensorboardX-2.2 transformers-4.5.1 wandb-0.10.30\n"
          ],
          "name": "stdout"
        },
        {
          "output_type": "display_data",
          "data": {
            "application/vnd.colab-display-data+json": {
              "pip_warning": {
                "packages": [
                  "transformers"
                ]
              }
            }
          },
          "metadata": {
            "tags": []
          }
        },
        {
          "output_type": "stream",
          "text": [
            "Requirement already satisfied: transformers in /usr/local/lib/python3.7/dist-packages (4.5.1)\n",
            "Requirement already satisfied: numpy>=1.17 in /usr/local/lib/python3.7/dist-packages (from transformers) (1.19.5)\n",
            "Requirement already satisfied: sacremoses in /usr/local/lib/python3.7/dist-packages (from transformers) (0.0.45)\n",
            "Requirement already satisfied: tokenizers<0.11,>=0.10.1 in /usr/local/lib/python3.7/dist-packages (from transformers) (0.10.2)\n",
            "Requirement already satisfied: importlib-metadata; python_version < \"3.8\" in /usr/local/lib/python3.7/dist-packages (from transformers) (4.0.1)\n",
            "Requirement already satisfied: packaging in /usr/local/lib/python3.7/dist-packages (from transformers) (20.9)\n",
            "Requirement already satisfied: tqdm>=4.27 in /usr/local/lib/python3.7/dist-packages (from transformers) (4.41.1)\n",
            "Requirement already satisfied: regex!=2019.12.17 in /usr/local/lib/python3.7/dist-packages (from transformers) (2019.12.20)\n",
            "Requirement already satisfied: requests in /usr/local/lib/python3.7/dist-packages (from transformers) (2.23.0)\n",
            "Requirement already satisfied: filelock in /usr/local/lib/python3.7/dist-packages (from transformers) (3.0.12)\n",
            "Requirement already satisfied: click in /usr/local/lib/python3.7/dist-packages (from sacremoses->transformers) (8.0.0)\n",
            "Requirement already satisfied: joblib in /usr/local/lib/python3.7/dist-packages (from sacremoses->transformers) (1.0.1)\n",
            "Requirement already satisfied: six in /usr/local/lib/python3.7/dist-packages (from sacremoses->transformers) (1.15.0)\n",
            "Requirement already satisfied: zipp>=0.5 in /usr/local/lib/python3.7/dist-packages (from importlib-metadata; python_version < \"3.8\"->transformers) (3.4.1)\n",
            "Requirement already satisfied: typing-extensions>=3.6.4; python_version < \"3.8\" in /usr/local/lib/python3.7/dist-packages (from importlib-metadata; python_version < \"3.8\"->transformers) (3.7.4.3)\n",
            "Requirement already satisfied: pyparsing>=2.0.2 in /usr/local/lib/python3.7/dist-packages (from packaging->transformers) (2.4.7)\n",
            "Requirement already satisfied: certifi>=2017.4.17 in /usr/local/lib/python3.7/dist-packages (from requests->transformers) (2020.12.5)\n",
            "Requirement already satisfied: urllib3!=1.25.0,!=1.25.1,<1.26,>=1.21.1 in /usr/local/lib/python3.7/dist-packages (from requests->transformers) (1.24.3)\n",
            "Requirement already satisfied: chardet<4,>=3.0.2 in /usr/local/lib/python3.7/dist-packages (from requests->transformers) (3.0.4)\n",
            "Requirement already satisfied: idna<3,>=2.5 in /usr/local/lib/python3.7/dist-packages (from requests->transformers) (2.10)\n"
          ],
          "name": "stdout"
        }
      ]
    },
    {
      "cell_type": "code",
      "metadata": {
        "id": "IPjAnLU-ewJv",
        "colab": {
          "base_uri": "https://localhost:8080/"
        },
        "outputId": "f7b3d36e-4cb7-4092-d8ac-5ab59c830cf9"
      },
      "source": [
        "from google.colab import drive\n",
        "drive.mount('/content/drive')"
      ],
      "execution_count": null,
      "outputs": [
        {
          "output_type": "stream",
          "text": [
            "Drive already mounted at /content/drive; to attempt to forcibly remount, call drive.mount(\"/content/drive\", force_remount=True).\n"
          ],
          "name": "stdout"
        }
      ]
    },
    {
      "cell_type": "markdown",
      "metadata": {
        "id": "Oea8zRb1kPuk"
      },
      "source": [
        "# Preprocessing & Data import"
      ]
    },
    {
      "cell_type": "code",
      "metadata": {
        "id": "jx59gVDuT9eZ"
      },
      "source": [
        "import copy\n",
        "\n",
        "sentences = []\n",
        "tags = []\n",
        "\n",
        "with open(\"./en-train.txt\", \"r+\") as inFile:\n",
        "  sentence = []\n",
        "  for line in inFile.readlines()[1:]:\n",
        "    if \"[SEP]\" in line:\n",
        "      sentence.append([\"[SEP]\",\"O\"])\n",
        "      sentences.append(copy.deepcopy(sentence))\n",
        "      sentence = []\n",
        "    elif len(line) > 0 and \"\\t\" in line:\n",
        "      sentence.append(line[:-1].split(\"\\t\"))\n",
        "      tags.append(line[:-1].split(\"\\t\")[1])\n",
        "  if sentence == []:\n",
        "    sentences.append(copy.deepcopy(sentence))"
      ],
      "execution_count": null,
      "outputs": []
    },
    {
      "cell_type": "code",
      "metadata": {
        "id": "VXmORsxJ0i6X"
      },
      "source": [
        "unique, counts = np.unique(tags, return_counts=True)"
      ],
      "execution_count": null,
      "outputs": []
    },
    {
      "cell_type": "code",
      "metadata": {
        "colab": {
          "base_uri": "https://localhost:8080/",
          "height": 579
        },
        "id": "DuDenGID0Yi7",
        "outputId": "2a44ef24-fc7c-4355-fd40-e06f1078458e"
      },
      "source": [
        "plt.bar(unique[:-1], height=counts[:-1])\n",
        "plt.xticks(rotation = 45)"
      ],
      "execution_count": null,
      "outputs": [
        {
          "output_type": "execute_result",
          "data": {
            "text/plain": [
              "([0, 1, 2, 3, 4, 5, 6, 7, 8, 9, 10, 11, 12, 13],\n",
              " <a list of 14 Text major ticklabel objects>)"
            ]
          },
          "metadata": {
            "tags": []
          },
          "execution_count": 33
        },
        {
          "output_type": "display_data",
          "data": {
            "image/png": "[encoded data removed]",
            "text/plain": [
              "<Figure size 864x576 with 1 Axes>"
            ]
          },
          "metadata": {
            "tags": [],
            "image/png": {
              "width": 727,
              "height": 528
            }
          }
        }
      ]
    },
    {
      "cell_type": "code",
      "metadata": {
        "id": "KblzVpkK4wIu"
      },
      "source": [
        "from sklearn.model_selection import train_test_split\n",
        "\n",
        "# train_sents, test_sents = train_test_split(sentences, test_size = 0.2, random_state = 42)\n",
        "train_sents, val_sents = train_test_split(sentences, test_size = 0.2, random_state = 42)"
      ],
      "execution_count": null,
      "outputs": []
    },
    {
      "cell_type": "code",
      "metadata": {
        "id": "BdBD3RTOcWQm"
      },
      "source": [
        "import copy\n",
        "\n",
        "sentences = []\n",
        "\n",
        "with open(\"./test.txt\", \"r+\") as inFile:\n",
        "# with open(\"/content/sample_test.txt\", \"r+\") as inFile:\n",
        "  sentence = []\n",
        "  for line in inFile.readlines():\n",
        "    if \"[SEP]\" in line:\n",
        "      sentence.append(\"[SEP]\")\n",
        "      sentences.append(copy.deepcopy(sentence))\n",
        "      sentence = []\n",
        "    elif len(line) > 0:\n",
        "      sentence.append(line[:-1].split(\"\\t\"))\n",
        "  if sentence != []:\n",
        "    sentences.append(copy.deepcopy(sentence))"
      ],
      "execution_count": null,
      "outputs": []
    },
    {
      "cell_type": "code",
      "metadata": {
        "id": "Js8se4wUdhPL"
      },
      "source": [
        "test_sents = sentences"
      ],
      "execution_count": null,
      "outputs": []
    },
    {
      "cell_type": "code",
      "metadata": {
        "id": "xIyPPCb-MK1f"
      },
      "source": [
        "import os\n",
        "os.mkdir(\"/content/pytorch_lstmcrf/data/CASE_DATA\")"
      ],
      "execution_count": null,
      "outputs": []
    },
    {
      "cell_type": "code",
      "metadata": {
        "id": "Gv6Mwsa85gze"
      },
      "source": [
        "with open(\"/content/pytorch_lstmcrf/data/CASE_DATA/train.txt\", \"w\") as fout:\n",
        "  for sent in train_sents:\n",
        "    for w, l in sent:\n",
        "      fout.write(str(w) + \" \" + str(l) + \"\\n\")\n",
        "    fout.write(\"\\n\")\n",
        "\n",
        "with open(\"/content/pytorch_lstmcrf/data/CASE_DATA/dev.txt\", \"w\") as fout:\n",
        "  for sent in val_sents:\n",
        "    for w, l in sent:\n",
        "      fout.write(str(w) + \" \" + str(l) + \"\\n\")\n",
        "    fout.write(\"\\n\")\n",
        "\n",
        "with open(\"/content/pytorch_lstmcrf/data/CASE_DATA/test.txt\", \"w\") as fout:\n",
        "  for sent in test_sents:\n",
        "    for w in sent:\n",
        "      fout.write(w[0] + \" \" + \"O\" + \"\\n\")\n",
        "    fout.write(\"\\n\")"
      ],
      "execution_count": null,
      "outputs": []
    },
    {
      "cell_type": "markdown",
      "metadata": {
        "id": "hSggnoDDkKwp"
      },
      "source": [
        "# Model"
      ]
    },
    {
      "cell_type": "code",
      "metadata": {
        "colab": {
          "base_uri": "https://localhost:8080/"
        },
        "id": "zH95QOFc72U4",
        "outputId": "a5e4668e-3278-4a68-c5ef-58f7d8ebad0f"
      },
      "source": [
        "%cd ./pytorch_lstmcrf/"
      ],
      "execution_count": null,
      "outputs": [
        {
          "output_type": "stream",
          "text": [
            "/content/pytorch_lstmcrf\n"
          ],
          "name": "stdout"
        }
      ]
    },
    {
      "cell_type": "code",
      "metadata": {
        "colab": {
          "base_uri": "https://localhost:8080/"
        },
        "id": "8BPpbj6I75TX",
        "outputId": "00b4c48f-13ba-44c6-97da-939f0aeaa828"
      },
      "source": [
        "!ls"
      ],
      "execution_count": null,
      "outputs": [
        {
          "output_type": "stream",
          "text": [
            "data\t\t  preprocess  trainer.py\n",
            "docs\t\t  README.md   transformers_predictor.py\n",
            "ner_predictor.py  src\t      transformers_trainer.py\n"
          ],
          "name": "stdout"
        }
      ]
    },
    {
      "cell_type": "markdown",
      "metadata": {
        "id": "HyIXyH8fjz37"
      },
      "source": [
        "use hidden_dim=0 for *-Linear-CRF model\n",
        "use hidden_dim=200 for *-BiLSTM-CRF model\n",
        "\n",
        "change embedder_type for different BERT embeddings"
      ]
    },
    {
      "cell_type": "code",
      "metadata": {
        "colab": {
          "background_save": true,
          "base_uri": "https://localhost:8080/"
        },
        "id": "smkNZiBi68rH",
        "outputId": "3443e508-5b85-410f-9101-e603c16a8133"
      },
      "source": [
        "!python ./transformers_trainer.py --device=cuda:0 --dataset=CASE_DATA --model_folder=robertaLstm163 --embedder_type=roberta-base --batch_size=16 --hidden_dim=200 --num_epochs=70"
      ],
      "execution_count": null,
      "outputs": [
        {
          "output_type": "stream",
          "text": [
            "2021-05-20 07:58:12.288446: I tensorflow/stream_executor/platform/default/dso_loader.cc:49] Successfully opened dynamic library libcudart.so.11.0\n",
            "device: cuda:0\n",
            "seed: 42\n",
            "dataset: CASE_DATA\n",
            "optimizer: adamw\n",
            "learning_rate: 2e-05\n",
            "momentum: 0.0\n",
            "l2: 1e-08\n",
            "lr_decay: 0\n",
            "batch_size: 16\n",
            "num_epochs: 70\n",
            "train_num: -1\n",
            "dev_num: -1\n",
            "test_num: -1\n",
            "max_no_incre: 30\n",
            "max_grad_norm: 1.0\n",
            "model_folder: robertaLstm163\n",
            "hidden_dim: 200\n",
            "dropout: 0.5\n",
            "embedder_type: roberta-base\n",
            "parallel_embedder: 0\n",
            "add_iobes_constraint: 0\n",
            "mode: train\n",
            "test_file: data/conll2003_sample/test.txt\n",
            "using GPU... 0\n",
            "\u001b[34m[Data Info] Tokenizing the instances using 'roberta-base' tokenizer\u001b[0m\n",
            "\u001b[34m[Data Info] Reading dataset from: \n",
            "data/CASE_DATA/train.txt\n",
            "data/CASE_DATA/dev.txt\n",
            "data/CASE_DATA/test.txt\u001b[0m\n",
            "[Data Info] Reading file: data/CASE_DATA/train.txt, labels will be converted to IOBES encoding\n",
            "[Data Info] Modify src/data/transformers_dataset.read_txt function if you have other requirements\n",
            "100% 88007/88007 [00:00<00:00, 631206.18it/s]\n",
            "number of sentences: 1952\n",
            "[Data Info] Using the training set to build label index\n",
            "#labels: 32\n",
            "label 2idx: {'<PAD>': 0, 'O': 1, 'B-trigger': 2, 'E-trigger': 3, 'B-participant': 4, 'I-participant': 5, 'E-participant': 6, 'S-participant': 7, 'S-organizer': 8, 'S-trigger': 9, 'B-target': 10, 'I-target': 11, 'E-target': 12, 'S-target': 13, 'S-place': 14, 'B-etime': 15, 'E-etime': 16, 'B-fname': 17, 'I-fname': 18, 'E-fname': 19, 'B-organizer': 20, 'I-organizer': 21, 'E-organizer': 22, 'S-fname': 23, 'B-place': 24, 'E-place': 25, 'S-etime': 26, 'I-etime': 27, 'I-trigger': 28, 'I-place': 29, '<START>': 30, '<STOP>': 31}\n",
            "[Data Info] Reading file: data/CASE_DATA/dev.txt, labels will be converted to IOBES encoding\n",
            "[Data Info] Modify src/data/transformers_dataset.read_txt function if you have other requirements\n",
            "100% 20990/20990 [00:00<00:00, 595401.46it/s]\n",
            "number of sentences: 488\n",
            "[Data Info] Reading file: data/CASE_DATA/test.txt, labels will be converted to IOBES encoding\n",
            "[Data Info] Modify src/data/transformers_dataset.read_txt function if you have other requirements\n",
            "100% 11956/11956 [00:00<00:00, 690845.58it/s]\n",
            "number of sentences: 224\n",
            "/usr/local/lib/python3.7/dist-packages/torch/utils/data/dataloader.py:477: UserWarning: This DataLoader will create 8 worker processes in total. Our suggested max number of worker in current system is 2, which is smaller than what this DataLoader is going to create. Please be aware that excessive worker creation might get DataLoader running slow or even freeze, lower the worker number to avoid potential slowness/freeze if necessary.\n",
            "  cpuset_checked))\n",
            "[Data Info] number of training instances: 122\n",
            "\u001b[31m[Model Info]: Working with transformers package from huggingface with roberta-base\u001b[0m\n",
            "\u001b[31m[Optimizer Info]: You should be aware that you are using the optimizer from huggingface.\u001b[0m\n",
            "\u001b[31m[Optimizer Info]: Change the optimier in transformers_util.py if you want to make some modifications.\u001b[0m\n",
            "\u001b[31m[Model Info] Loading pretrained language model roberta-base\u001b[0m\n",
            "[Model Info] Input size to LSTM: 768\n",
            "[Model Info] LSTM Hidden Size: 200\n",
            "\u001b[33mUsing AdamW optimizeer by HuggingFace with 2e-05 learning rate, eps: 1e-08, weight decay: 0.0, warmup_step: 0, \u001b[0m\n",
            "\u001b[31m[Optimizer Info] Modify the optimizer info as you need.\u001b[0m\n",
            "AdamW (\n",
            "Parameter Group 0\n",
            "    betas: (0.9, 0.999)\n",
            "    correct_bias: True\n",
            "    eps: 1e-08\n",
            "    initial_lr: 2e-05\n",
            "    lr: 2e-05\n",
            "    weight_decay: 0.0\n",
            "\n",
            "Parameter Group 1\n",
            "    betas: (0.9, 0.999)\n",
            "    correct_bias: True\n",
            "    eps: 1e-08\n",
            "    initial_lr: 2e-05\n",
            "    lr: 2e-05\n",
            "    weight_decay: 0.0\n",
            ")\n",
            "[Info] The model will be saved to: robertaLstm163.tar.gz\n",
            "\u001b[31m[Train Info] Start training, you have set to stop if performace not increase for 30 epochs\u001b[0m\n",
            "Epoch:   0% 0/70 [00:00<?, ?it/s]\n",
            "--training batch:   0% 0/122 [00:00<?, ?it/s]\u001b[A\n",
            "--training batch:   1% 1/122 [00:01<02:15,  1.12s/it]\u001b[A\n",
            "--training batch:   2% 2/122 [00:02<02:19,  1.16s/it]\u001b[A\n",
            "--training batch:   2% 3/122 [00:03<02:21,  1.19s/it]\u001b[A\n",
            "--training batch:   3% 4/122 [00:04<01:59,  1.01s/it]\u001b[A\n",
            "--training batch:   4% 5/122 [00:05<01:55,  1.01it/s]\u001b[A\n",
            "--training batch:   5% 6/122 [00:05<01:46,  1.09it/s]\u001b[A\n",
            "--training batch:   6% 7/122 [00:07<02:09,  1.12s/it]\u001b[A\n",
            "--training batch:   7% 8/122 [00:08<01:51,  1.02it/s]\u001b[A\n",
            "--training batch:   7% 9/122 [00:08<01:44,  1.08it/s]\u001b[A\n",
            "--training batch:   8% 10/122 [00:09<01:39,  1.13it/s]\u001b[A\n",
            "--training batch:   9% 11/122 [00:11<02:00,  1.08s/it]\u001b[A\n",
            "--training batch:  10% 12/122 [00:11<01:43,  1.07it/s]\u001b[A\n",
            "--training batch:  11% 13/122 [00:12<01:25,  1.28it/s]\u001b[A\n",
            "--training batch:  11% 14/122 [00:13<01:28,  1.22it/s]\u001b[A\n",
            "--training batch:  12% 15/122 [00:14<01:38,  1.08it/s]\u001b[A\n",
            "--training batch:  13% 16/122 [00:15<01:50,  1.04s/it]\u001b[A\n",
            "--training batch:  14% 17/122 [00:16<01:39,  1.06it/s]\u001b[A\n",
            "--training batch:  15% 18/122 [00:17<01:30,  1.15it/s]\u001b[A\n",
            "--training batch:  16% 19/122 [00:17<01:27,  1.18it/s]\u001b[A\n",
            "--training batch:  16% 20/122 [00:18<01:31,  1.11it/s]\u001b[A\n",
            "--training batch:  17% 21/122 [00:20<01:35,  1.05it/s]\u001b[A\n",
            "--training batch:  18% 22/122 [00:21<01:41,  1.01s/it]\u001b[A\n",
            "--training batch:  19% 23/122 [00:21<01:30,  1.09it/s]\u001b[A\n",
            "--training batch:  20% 24/122 [00:22<01:24,  1.17it/s]\u001b[A\n",
            "--training batch:  20% 25/122 [00:23<01:19,  1.23it/s]\u001b[A\n",
            "--training batch:  21% 26/122 [00:23<01:14,  1.29it/s]\u001b[A\n",
            "--training batch:  22% 27/122 [00:24<01:18,  1.22it/s]\u001b[A\n",
            "--training batch:  23% 28/122 [00:25<01:14,  1.26it/s]\u001b[A\n",
            "--training batch:  24% 29/122 [00:26<01:17,  1.20it/s]\u001b[A\n",
            "--training batch:  25% 30/122 [00:27<01:06,  1.38it/s]\u001b[A\n",
            "--training batch:  25% 31/122 [00:29<01:51,  1.23s/it]\u001b[A\n",
            "--training batch:  26% 32/122 [00:30<01:35,  1.06s/it]\u001b[A\n",
            "--training batch:  27% 33/122 [00:30<01:26,  1.03it/s]\u001b[A\n",
            "--training batch:  28% 34/122 [00:31<01:28,  1.01s/it]\u001b[A\n",
            "--training batch:  29% 35/122 [00:32<01:22,  1.06it/s]\u001b[A\n",
            "--training batch:  30% 36/122 [00:34<01:33,  1.09s/it]\u001b[A\n",
            "--training batch:  30% 37/122 [00:34<01:23,  1.01it/s]\u001b[A\n",
            "--training batch:  31% 38/122 [00:35<01:13,  1.14it/s]\u001b[A\n",
            "--training batch:  32% 39/122 [00:36<01:20,  1.03it/s]\u001b[A\n",
            "--training batch:  33% 40/122 [00:37<01:18,  1.05it/s]\u001b[A\n",
            "--training batch:  34% 41/122 [00:38<01:10,  1.15it/s]\u001b[A\n",
            "--training batch:  34% 42/122 [00:39<01:09,  1.16it/s]\u001b[A\n",
            "--training batch:  35% 43/122 [00:40<01:10,  1.13it/s]\u001b[A\n",
            "--training batch:  36% 44/122 [00:41<01:27,  1.12s/it]\u001b[A\n",
            "--training batch:  37% 45/122 [00:42<01:22,  1.07s/it]\u001b[A\n",
            "--training batch:  38% 46/122 [00:43<01:19,  1.05s/it]\u001b[A\n",
            "--training batch:  39% 47/122 [00:44<01:16,  1.02s/it]\u001b[A\n",
            "--training batch:  39% 48/122 [00:46<01:21,  1.11s/it]\u001b[A\n",
            "--training batch:  40% 49/122 [00:46<01:13,  1.01s/it]\u001b[A\n",
            "--training batch:  41% 50/122 [00:47<01:09,  1.04it/s]\u001b[A\n",
            "--training batch:  42% 51/122 [00:48<01:03,  1.12it/s]\u001b[A\n",
            "--training batch:  43% 52/122 [00:49<00:59,  1.17it/s]\u001b[A\n",
            "--training batch:  43% 53/122 [00:50<01:01,  1.11it/s]\u001b[A\n",
            "--training batch:  44% 54/122 [00:51<01:08,  1.01s/it]\u001b[A\n",
            "--training batch:  45% 55/122 [00:52<01:08,  1.02s/it]\u001b[A\n",
            "--training batch:  46% 56/122 [00:53<00:59,  1.11it/s]\u001b[A\n",
            "--training batch:  47% 57/122 [00:54<01:06,  1.03s/it]\u001b[A\n",
            "--training batch:  48% 58/122 [00:55<01:11,  1.11s/it]\u001b[A\n",
            "--training batch:  48% 59/122 [00:56<01:09,  1.10s/it]\u001b[A\n",
            "--training batch:  49% 60/122 [00:57<01:02,  1.00s/it]\u001b[A\n",
            "--training batch:  50% 61/122 [00:58<01:07,  1.11s/it]\u001b[A\n",
            "--training batch:  51% 62/122 [01:00<01:15,  1.26s/it]\u001b[A\n",
            "--training batch:  52% 63/122 [01:01<01:08,  1.16s/it]\u001b[A\n",
            "--training batch:  52% 64/122 [01:03<01:17,  1.33s/it]\u001b[A\n",
            "--training batch:  53% 65/122 [01:04<01:07,  1.18s/it]\u001b[A\n",
            "--training batch:  54% 66/122 [01:05<01:08,  1.23s/it]\u001b[A\n",
            "--training batch:  55% 67/122 [01:06<00:59,  1.09s/it]\u001b[A\n",
            "--training batch:  56% 68/122 [01:06<00:51,  1.05it/s]\u001b[A\n",
            "--training batch:  57% 69/122 [01:07<00:48,  1.09it/s]\u001b[A\n",
            "--training batch:  57% 70/122 [01:08<00:44,  1.16it/s]\u001b[A\n",
            "--training batch:  58% 71/122 [01:08<00:39,  1.28it/s]\u001b[A\n",
            "--training batch:  59% 72/122 [01:09<00:41,  1.21it/s]\u001b[A\n",
            "--training batch:  60% 73/122 [01:10<00:41,  1.17it/s]\u001b[A\n",
            "--training batch:  61% 74/122 [01:11<00:39,  1.21it/s]\u001b[A\n",
            "--training batch:  61% 75/122 [01:12<00:37,  1.24it/s]\u001b[A\n",
            "--training batch:  62% 76/122 [01:13<00:40,  1.13it/s]\u001b[A\n",
            "--training batch:  63% 77/122 [01:14<00:40,  1.10it/s]\u001b[A\n",
            "--training batch:  64% 78/122 [01:15<00:41,  1.07it/s]\u001b[A\n",
            "--training batch:  65% 79/122 [01:16<00:41,  1.04it/s]\u001b[A\n",
            "--training batch:  66% 80/122 [01:17<00:39,  1.06it/s]\u001b[A\n",
            "--training batch:  66% 81/122 [01:18<00:38,  1.07it/s]\u001b[A\n",
            "--training batch:  67% 82/122 [01:19<00:36,  1.10it/s]\u001b[A\n",
            "--training batch:  68% 83/122 [01:19<00:36,  1.07it/s]\u001b[A\n",
            "--training batch:  69% 84/122 [01:21<00:43,  1.14s/it]\u001b[A\n",
            "--training batch:  70% 85/122 [01:22<00:39,  1.07s/it]\u001b[A\n",
            "--training batch:  70% 86/122 [01:23<00:35,  1.01it/s]\u001b[A\n",
            "--training batch:  71% 87/122 [01:24<00:32,  1.07it/s]\u001b[A\n",
            "--training batch:  72% 88/122 [01:25<00:32,  1.06it/s]\u001b[A\n",
            "--training batch:  73% 89/122 [01:25<00:30,  1.08it/s]\u001b[A\n",
            "--training batch:  74% 90/122 [01:26<00:30,  1.06it/s]\u001b[A\n",
            "--training batch:  75% 91/122 [01:27<00:28,  1.07it/s]\u001b[A\n",
            "--training batch:  75% 92/122 [01:28<00:26,  1.14it/s]\u001b[A\n",
            "--training batch:  76% 93/122 [01:29<00:25,  1.12it/s]\u001b[A\n",
            "--training batch:  77% 94/122 [01:31<00:30,  1.08s/it]\u001b[A\n",
            "--training batch:  78% 95/122 [01:31<00:26,  1.02it/s]\u001b[A\n",
            "--training batch:  79% 96/122 [01:32<00:25,  1.02it/s]\u001b[A\n",
            "--training batch:  80% 97/122 [01:33<00:22,  1.12it/s]\u001b[A\n",
            "--training batch:  80% 98/122 [01:34<00:19,  1.20it/s]\u001b[A\n",
            "--training batch:  81% 99/122 [01:34<00:17,  1.30it/s]\u001b[A\n",
            "--training batch:  82% 100/122 [01:35<00:18,  1.18it/s]\u001b[A\n",
            "--training batch:  83% 101/122 [01:36<00:19,  1.10it/s]\u001b[A\n",
            "--training batch:  84% 102/122 [01:37<00:16,  1.20it/s]\u001b[A\n",
            "--training batch:  84% 103/122 [01:38<00:14,  1.30it/s]\u001b[A\n",
            "--training batch:  85% 104/122 [01:39<00:18,  1.01s/it]\u001b[A\n",
            "--training batch:  86% 105/122 [01:40<00:16,  1.01it/s]\u001b[A\n",
            "--training batch:  87% 106/122 [01:41<00:15,  1.02it/s]\u001b[A\n",
            "--training batch:  88% 107/122 [01:42<00:14,  1.01it/s]\u001b[A\n",
            "--training batch:  89% 108/122 [01:43<00:12,  1.08it/s]\u001b[A\n",
            "--training batch:  89% 109/122 [01:44<00:11,  1.11it/s]\u001b[A\n",
            "--training batch:  90% 110/122 [01:45<00:10,  1.15it/s]\u001b[A\n",
            "--training batch:  91% 111/122 [01:46<00:10,  1.08it/s]\u001b[A\n",
            "--training batch:  92% 112/122 [01:46<00:08,  1.14it/s]\u001b[A\n",
            "--training batch:  93% 113/122 [01:47<00:07,  1.16it/s]\u001b[A\n",
            "--training batch:  93% 114/122 [01:49<00:08,  1.11s/it]\u001b[A\n",
            "--training batch:  94% 115/122 [01:50<00:08,  1.15s/it]\u001b[A\n",
            "--training batch:  95% 116/122 [01:51<00:06,  1.10s/it]\u001b[A\n",
            "--training batch:  96% 117/122 [01:52<00:05,  1.11s/it]\u001b[A\n",
            "--training batch:  97% 118/122 [01:54<00:04,  1.23s/it]\u001b[A\n",
            "--training batch:  98% 119/122 [01:55<00:03,  1.16s/it]\u001b[A\n",
            "--training batch:  98% 120/122 [01:56<00:02,  1.10s/it]\u001b[A\n",
            "--training batch:  99% 121/122 [01:57<00:01,  1.06s/it]\u001b[A\n",
            "--training batch: 100% 122/122 [01:58<00:00,  1.03it/s]\n",
            "Epoch 1: 145807.21997, Time is 118.51s\n",
            "\n",
            "--evaluating batch:   0% 0/31 [00:00<?, ?it/s]\u001b[A\n",
            "--evaluating batch:   3% 1/31 [00:00<00:10,  2.77it/s]\u001b[A\n",
            "--evaluating batch:   6% 2/31 [00:00<00:09,  3.01it/s]\u001b[A\n",
            "--evaluating batch:  10% 3/31 [00:00<00:08,  3.43it/s]\u001b[A\n",
            "--evaluating batch:  13% 4/31 [00:01<00:07,  3.41it/s]\u001b[A\n",
            "--evaluating batch:  16% 5/31 [00:01<00:07,  3.68it/s]\u001b[A\n",
            "--evaluating batch:  19% 6/31 [00:01<00:07,  3.45it/s]\u001b[A\n",
            "--evaluating batch:  23% 7/31 [00:02<00:07,  3.16it/s]\u001b[A\n",
            "--evaluating batch:  26% 8/31 [00:02<00:06,  3.31it/s]\u001b[A\n",
            "--evaluating batch:  29% 9/31 [00:02<00:07,  2.86it/s]\u001b[A\n",
            "--evaluating batch:  32% 10/31 [00:03<00:06,  3.03it/s]\u001b[A\n",
            "--evaluating batch:  35% 11/31 [00:03<00:06,  3.07it/s]\u001b[A\n",
            "--evaluating batch:  39% 12/31 [00:03<00:06,  2.88it/s]\u001b[A\n",
            "--evaluating batch:  42% 13/31 [00:04<00:06,  2.92it/s]\u001b[A\n",
            "--evaluating batch:  45% 14/31 [00:04<00:05,  3.27it/s]\u001b[A\n",
            "--evaluating batch:  48% 15/31 [00:04<00:04,  3.41it/s]\u001b[A\n",
            "--evaluating batch:  52% 16/31 [00:04<00:04,  3.54it/s]\u001b[A\n",
            "--evaluating batch:  55% 17/31 [00:05<00:04,  3.41it/s]\u001b[A\n",
            "--evaluating batch:  58% 18/31 [00:05<00:03,  3.66it/s]\u001b[A\n",
            "--evaluating batch:  61% 19/31 [00:05<00:03,  3.46it/s]\u001b[A\n",
            "--evaluating batch:  65% 20/31 [00:05<00:03,  3.64it/s]\u001b[A\n",
            "--evaluating batch:  68% 21/31 [00:06<00:02,  3.75it/s]\u001b[A\n",
            "--evaluating batch:  71% 22/31 [00:06<00:02,  3.89it/s]\u001b[A\n",
            "--evaluating batch:  74% 23/31 [00:06<00:02,  3.73it/s]\u001b[A\n",
            "--evaluating batch:  77% 24/31 [00:06<00:01,  3.90it/s]\u001b[A\n",
            "--evaluating batch:  81% 25/31 [00:07<00:02,  3.00it/s]\u001b[A\n",
            "--evaluating batch:  84% 26/31 [00:07<00:01,  3.20it/s]\u001b[A\n",
            "--evaluating batch:  87% 27/31 [00:07<00:01,  3.53it/s]\u001b[A\n",
            "--evaluating batch:  90% 28/31 [00:08<00:01,  2.98it/s]\u001b[A\n",
            "--evaluating batch:  94% 29/31 [00:08<00:00,  3.17it/s]\u001b[A\n",
            "--evaluating batch:  97% 30/31 [00:09<00:00,  2.38it/s]\u001b[A\n",
            "--evaluating batch: 100% 31/31 [00:09<00:00,  3.18it/s]\n",
            "\u001b[34m[dev set Total] Prec.: 4.52, Rec.: 0.36, F1: 0.67\u001b[0m\n",
            "\n",
            "--evaluating batch:   0% 0/14 [00:00<?, ?it/s]\u001b[A\n",
            "--evaluating batch:   7% 1/14 [00:00<00:04,  2.64it/s]\u001b[A\n",
            "--evaluating batch:  14% 2/14 [00:00<00:04,  2.72it/s]\u001b[A\n",
            "--evaluating batch:  21% 3/14 [00:01<00:04,  2.49it/s]\u001b[A\n",
            "--evaluating batch:  29% 4/14 [00:01<00:03,  2.72it/s]\u001b[A\n",
            "--evaluating batch:  36% 5/14 [00:02<00:03,  2.41it/s]\u001b[A\n",
            "--evaluating batch:  43% 6/14 [00:02<00:02,  2.74it/s]\u001b[A\n",
            "--evaluating batch:  50% 7/14 [00:02<00:02,  2.67it/s]\u001b[A\n",
            "--evaluating batch:  57% 8/14 [00:03<00:02,  2.26it/s]\u001b[A\n",
            "--evaluating batch:  64% 9/14 [00:03<00:01,  2.61it/s]\u001b[A\n",
            "--evaluating batch:  71% 10/14 [00:03<00:01,  2.52it/s]\u001b[A\n",
            "--evaluating batch:  79% 11/14 [00:04<00:01,  2.39it/s]\u001b[A\n",
            "--evaluating batch:  86% 12/14 [00:04<00:00,  2.16it/s]\u001b[A\n",
            "--evaluating batch:  93% 13/14 [00:05<00:00,  2.36it/s]\u001b[A\n",
            "--evaluating batch: 100% 14/14 [00:05<00:00,  2.40it/s]\n",
            "\u001b[34m[test set Total] Prec.: 0.00, Rec.: 0.00, F1: 0.00\u001b[0m\n",
            "saving the best model...\n",
            "Epoch:   1% 1/70 [02:16<2:36:39, 136.22s/it]\n",
            "--training batch:   0% 0/122 [00:00<?, ?it/s]\u001b[A\n",
            "--training batch:   1% 1/122 [00:01<02:01,  1.00s/it]\u001b[A\n",
            "--training batch:   2% 2/122 [00:01<01:54,  1.05it/s]\u001b[A\n",
            "--training batch:   2% 3/122 [00:03<02:25,  1.22s/it]\u001b[A\n",
            "--training batch:   3% 4/122 [00:04<02:07,  1.08s/it]\u001b[A\n",
            "--training batch:   4% 5/122 [00:05<02:06,  1.08s/it]\u001b[A\n",
            "--training batch:   5% 6/122 [00:06<01:59,  1.03s/it]\u001b[A\n",
            "--training batch:   6% 7/122 [00:07<01:56,  1.01s/it]\u001b[A\n",
            "--training batch:   7% 8/122 [00:08<01:59,  1.05s/it]\u001b[A\n",
            "--training batch:   7% 9/122 [00:09<01:52,  1.00it/s]\u001b[A\n",
            "--training batch:   8% 10/122 [00:10<01:50,  1.02it/s]\u001b[A\n",
            "--training batch:   9% 11/122 [00:11<01:41,  1.09it/s]\u001b[A\n",
            "--training batch:  10% 12/122 [00:11<01:37,  1.13it/s]\u001b[A\n",
            "--training batch:  11% 13/122 [00:12<01:39,  1.09it/s]\u001b[A\n",
            "--training batch:  11% 14/122 [00:13<01:34,  1.14it/s]\u001b[A\n",
            "--training batch:  12% 15/122 [00:14<01:30,  1.18it/s]\u001b[A\n",
            "--training batch:  13% 16/122 [00:15<01:40,  1.06it/s]\u001b[A\n",
            "--training batch:  14% 17/122 [00:16<01:50,  1.05s/it]\u001b[A\n",
            "--training batch:  15% 18/122 [00:17<01:39,  1.04it/s]\u001b[A\n",
            "--training batch:  16% 19/122 [00:18<01:34,  1.09it/s]\u001b[A\n",
            "--training batch:  16% 20/122 [00:19<01:29,  1.14it/s]\u001b[A\n",
            "--training batch:  17% 21/122 [00:20<01:24,  1.20it/s]\u001b[A\n",
            "--training batch:  18% 22/122 [00:20<01:17,  1.30it/s]\u001b[A\n",
            "--training batch:  19% 23/122 [00:21<01:33,  1.06it/s]\u001b[A\n",
            "--training batch:  20% 24/122 [00:22<01:24,  1.15it/s]\u001b[A\n",
            "--training batch:  20% 25/122 [00:23<01:34,  1.03it/s]\u001b[A\n",
            "--training batch:  21% 26/122 [00:24<01:23,  1.15it/s]\u001b[A\n",
            "--training batch:  22% 27/122 [00:25<01:33,  1.01it/s]\u001b[A\n",
            "--training batch:  23% 28/122 [00:26<01:33,  1.01it/s]\u001b[A\n",
            "--training batch:  24% 29/122 [00:27<01:26,  1.07it/s]\u001b[A\n",
            "--training batch:  25% 30/122 [00:28<01:29,  1.02it/s]\u001b[A\n",
            "--training batch:  25% 31/122 [00:29<01:23,  1.09it/s]\u001b[A\n",
            "--training batch:  26% 32/122 [00:30<01:15,  1.19it/s]\u001b[A\n",
            "--training batch:  27% 33/122 [00:31<01:30,  1.01s/it]\u001b[A\n",
            "--training batch:  28% 34/122 [00:32<01:19,  1.11it/s]\u001b[A\n",
            "--training batch:  29% 35/122 [00:33<01:22,  1.06it/s]\u001b[A\n",
            "--training batch:  30% 36/122 [00:34<01:37,  1.14s/it]\u001b[A\n",
            "--training batch:  30% 37/122 [00:35<01:31,  1.08s/it]\u001b[A\n",
            "--training batch:  31% 38/122 [00:36<01:30,  1.08s/it]\u001b[A\n",
            "--training batch:  32% 39/122 [00:38<01:43,  1.25s/it]\u001b[A\n",
            "--training batch:  33% 40/122 [00:39<01:35,  1.17s/it]\u001b[A\n",
            "--training batch:  34% 41/122 [00:40<01:20,  1.01it/s]\u001b[A\n",
            "--training batch:  34% 42/122 [00:40<01:18,  1.02it/s]\u001b[A\n",
            "--training batch:  35% 43/122 [00:41<01:11,  1.10it/s]\u001b[A\n",
            "--training batch:  36% 44/122 [00:42<01:18,  1.01s/it]\u001b[A\n",
            "--training batch:  37% 45/122 [00:44<01:21,  1.06s/it]\u001b[A\n",
            "--training batch:  38% 46/122 [00:44<01:11,  1.07it/s]\u001b[A\n",
            "--training batch:  39% 47/122 [00:45<01:05,  1.15it/s]\u001b[A\n",
            "--training batch:  39% 48/122 [00:46<00:58,  1.27it/s]\u001b[A\n",
            "--training batch:  40% 49/122 [00:47<01:00,  1.21it/s]\u001b[A\n",
            "--training batch:  41% 50/122 [00:47<00:59,  1.21it/s]\u001b[A\n",
            "--training batch:  42% 51/122 [00:48<01:04,  1.10it/s]\u001b[A\n",
            "--training batch:  43% 52/122 [00:49<01:00,  1.15it/s]\u001b[A\n",
            "--training batch:  43% 53/122 [00:50<00:56,  1.22it/s]\u001b[A\n",
            "--training batch:  44% 54/122 [00:51<00:53,  1.28it/s]\u001b[A\n",
            "--training batch:  45% 55/122 [00:52<01:04,  1.05it/s]\u001b[A\n",
            "--training batch:  46% 56/122 [00:53<01:03,  1.04it/s]\u001b[ATraceback (most recent call last):\n",
            "  File \"./transformers_trainer.py\", line 244, in <module>\n",
            "    main()\n",
            "  File \"./transformers_trainer.py\", line 222, in main\n",
            "    train_model(conf, conf.num_epochs, train_dataloader, dev_dataloader, test_dataloader)\n",
            "  File \"./transformers_trainer.py\", line 118, in train_model\n",
            "    loss.backward()\n",
            "  File \"/usr/local/lib/python3.7/dist-packages/torch/tensor.py\", line 245, in backward\n",
            "    torch.autograd.backward(self, gradient, retain_graph, create_graph, inputs=inputs)\n",
            "  File \"/usr/local/lib/python3.7/dist-packages/torch/autograd/__init__.py\", line 147, in backward\n",
            "    allow_unreachable=True, accumulate_grad=True)  # allow_unreachable flag\n",
            "KeyboardInterrupt\n",
            "\n",
            "Epoch:   1% 1/70 [03:10<3:39:16, 190.67s/it]\n",
            "--training batch:  46% 56/122 [00:54<01:03,  1.04it/s]\n"
          ],
          "name": "stdout"
        }
      ]
    },
    {
      "cell_type": "code",
      "metadata": {
        "id": "XswOW_RozFWZ"
      },
      "source": [
        "with open(\"./results/robertaLstm16.results\", \"r\") as fin:\n",
        "  with open(\"./results/submission.txt\", \"w+\") as fout:\n",
        "    lines = fin.readlines()\n",
        "    for i in range(len(lines)):\n",
        "      line = lines[i]\n",
        "      words = line.split()\n",
        "      if len(words) > 1:\n",
        "        if (words[1] == \"[\" or words[1] == \"]\") and (lines[i + 1].strip() == \"\"):\n",
        "          words[1] = \"[SEP]\"\n",
        "        if \"S\" in words[3]:\n",
        "          words[3] = \"B\" + words[3][1:]\n",
        "        if \"E\" in words[3]:\n",
        "          words[3] = \"I\" + words[3][1:]\n",
        "        if words[1] == \"O\" and words[3] == \"O\":\n",
        "          words[1] = words[3] = \"\"\n",
        "        fout.write(words[1] + \"\\t\" + words[3] + \"\\n\")\n",
        "      else:\n",
        "        pass"
      ],
      "execution_count": null,
      "outputs": []
    },
    {
      "cell_type": "markdown",
      "metadata": {
        "id": "-HWeA2Kijlks"
      },
      "source": [
        "# Check Integrity of the submission file"
      ]
    },
    {
      "cell_type": "code",
      "metadata": {
        "id": "wx1F7aajZrYt"
      },
      "source": [
        "with open(\"/content/pytorch_lstmcrf/results/submission.txt\", \"r\") as subFile:\n",
        "  with open(\"./test.txt\", \"r+\") as testFile:\n",
        "    # with open(\"./submissionCorrected.txt\", \"r+\") as correctFile:\n",
        "      testString = \"\"\n",
        "      subString = \"\"\n",
        "      tags = []\n",
        "      testLines = testFile.readlines()\n",
        "      for i in range(len(testLines)):\n",
        "        line = testLines[i]\n",
        "        testString += line[:line.rfind(\"\\t\")].strip()\n",
        "        lineSub = subFile.readline()\n",
        "        subString += lineSub[:lineSub.rfind(\"\\t\")].strip()\n",
        "        tags += [lineSub[lineSub.rfind(\"\\t\"):].strip()]\n",
        "        if line[:line.find(\"\\t\")].strip() != lineSub[:lineSub.find(\"\\t\")].strip():\n",
        "          print(i, \"\\t\", line[:line.find(\"\\t\")].strip(), \"\\t\", lineSub[:lineSub.find(\"\\t\")].strip())"
      ],
      "execution_count": null,
      "outputs": []
    },
    {
      "cell_type": "code",
      "metadata": {
        "id": "R9tVN1O5wHth"
      },
      "source": [
        "testString"
      ],
      "execution_count": null,
      "outputs": []
    },
    {
      "cell_type": "code",
      "metadata": {
        "id": "ouNWOx_IwJA5"
      },
      "source": [
        "subString"
      ],
      "execution_count": null,
      "outputs": []
    },
    {
      "cell_type": "code",
      "metadata": {
        "colab": {
          "base_uri": "https://localhost:8080/"
        },
        "id": "vJVYFVmnMeBe",
        "outputId": "6c013528-772a-4fd7-8140-dd037659216b"
      },
      "source": [
        "np.unique(tags)"
      ],
      "execution_count": null,
      "outputs": [
        {
          "output_type": "execute_result",
          "data": {
            "text/plain": [
              "array(['', 'B-etime', 'B-fname', 'B-organizer', 'B-participant',\n",
              "       'B-place', 'B-target', 'B-trigger', 'I-etime', 'I-fname',\n",
              "       'I-organizer', 'I-participant', 'I-place', 'I-target', 'I-trigger',\n",
              "       'O'], dtype='<U13')"
            ]
          },
          "metadata": {
            "tags": []
          },
          "execution_count": 26
        }
      ]
    },
    {
      "cell_type": "code",
      "metadata": {
        "id": "lY-aRI__0FGf"
      },
      "source": [
        "testString == subString"
      ],
      "execution_count": null,
      "outputs": []
    }
  ]
}